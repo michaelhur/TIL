{
 "cells": [
  {
   "cell_type": "code",
   "execution_count": 1,
   "id": "f07ea0a3",
   "metadata": {},
   "outputs": [
    {
     "name": "stdout",
     "output_type": "stream",
     "text": [
      "Epoch 1/15\n",
      "480/480 [==============================] - 1s 1ms/step - loss: 0.6740 - accuracy: 0.8147 - val_loss: 0.1918 - val_accuracy: 0.9457\n",
      "Epoch 2/15\n",
      "480/480 [==============================] - 0s 912us/step - loss: 0.1754 - accuracy: 0.9493 - val_loss: 0.1296 - val_accuracy: 0.9632\n",
      "Epoch 3/15\n",
      "480/480 [==============================] - 0s 906us/step - loss: 0.1133 - accuracy: 0.9671 - val_loss: 0.1140 - val_accuracy: 0.9654\n",
      "Epoch 4/15\n",
      "480/480 [==============================] - 0s 997us/step - loss: 0.0854 - accuracy: 0.9744 - val_loss: 0.1006 - val_accuracy: 0.9705\n",
      "Epoch 5/15\n",
      "480/480 [==============================] - 0s 854us/step - loss: 0.0673 - accuracy: 0.9804 - val_loss: 0.0953 - val_accuracy: 0.9721\n",
      "Epoch 6/15\n",
      "480/480 [==============================] - 0s 900us/step - loss: 0.0574 - accuracy: 0.9823 - val_loss: 0.0955 - val_accuracy: 0.9722\n",
      "Epoch 7/15\n",
      "480/480 [==============================] - 0s 891us/step - loss: 0.0447 - accuracy: 0.9873 - val_loss: 0.0967 - val_accuracy: 0.9718\n",
      "Epoch 8/15\n",
      "480/480 [==============================] - 0s 1ms/step - loss: 0.0357 - accuracy: 0.9894 - val_loss: 0.0984 - val_accuracy: 0.9728\n",
      "Epoch 9/15\n",
      "480/480 [==============================] - 0s 868us/step - loss: 0.0302 - accuracy: 0.9910 - val_loss: 0.0986 - val_accuracy: 0.9744\n",
      "Epoch 10/15\n",
      "480/480 [==============================] - 0s 879us/step - loss: 0.0270 - accuracy: 0.9918 - val_loss: 0.0947 - val_accuracy: 0.9743\n",
      "Epoch 11/15\n",
      "480/480 [==============================] - 0s 915us/step - loss: 0.0203 - accuracy: 0.9941 - val_loss: 0.1084 - val_accuracy: 0.9720\n",
      "Epoch 12/15\n",
      "480/480 [==============================] - 0s 993us/step - loss: 0.0196 - accuracy: 0.9947 - val_loss: 0.0988 - val_accuracy: 0.9749\n",
      "Epoch 13/15\n",
      "480/480 [==============================] - 0s 972us/step - loss: 0.0155 - accuracy: 0.9953 - val_loss: 0.1130 - val_accuracy: 0.9726\n",
      "Epoch 14/15\n",
      "480/480 [==============================] - 0s 855us/step - loss: 0.0145 - accuracy: 0.9955 - val_loss: 0.1018 - val_accuracy: 0.9779\n",
      "Epoch 15/15\n",
      "480/480 [==============================] - 0s 911us/step - loss: 0.0109 - accuracy: 0.9974 - val_loss: 0.1198 - val_accuracy: 0.9727\n",
      "100/100 [==============================] - 0s 596us/step - loss: 0.1129 - accuracy: 0.9721\n",
      "Test Loss and Accuracy -> [0.11291385442018509, 0.972100019454956]\n"
     ]
    }
   ],
   "source": [
    "Nin = 784\n",
    "Nh_l = [100, 50]\n",
    "number_of_class = 10\n",
    "Nout = number_of_class\n",
    "\n",
    "# 분류 DNN 모델 구현 ########################\n",
    "import keras\n",
    "from keras import layers, models\n",
    "\n",
    "\n",
    "class DNN(models.Sequential):\n",
    "\tdef __init__(self, Nin, Nh_l, Nout):\n",
    "\t\tsuper().__init__()\n",
    "\t\t# 첫 번째 은닉층 : 784 in, 100 out & relu(sigmoid 사용시 역전파시 성능 저하)\n",
    "\t\tself.add(layers.Dense(Nh_l[0], activation='relu', input_shape=(Nin,), name='Hidden-1'))\n",
    "\t\t# 두 번쨰 은닉층 : 100 in, 50 out & relu\n",
    "\t\tself.add(layers.Dense(Nh_l[1], activation='relu', name='Hidden-2'))\n",
    "\t\t# softmax를 사용하여 출력 값들의 합이 1이 되도록 만들어 준다.\n",
    "\t\tself.add(layers.Dense(Nout, activation='softmax'))\n",
    "\t\t# 손실함수 : 교차 엔트로\n",
    "\t\tself.compile(loss='categorical_crossentropy',optimizer='adam',metrics=['accuracy'])\n",
    "\n",
    "\n",
    "# 데이터 입력\n",
    "from keras import datasets\n",
    "from keras.utils import np_utils\n",
    "\n",
    "(X_train, y_train), (X_test, y_test) = datasets.mnist.load_data()\n",
    "\n",
    "y_train = np_utils.to_categorical(y_train)\n",
    "y_test = np_utils.to_categorical(y_test)\n",
    "\n",
    "L, W, H = X_train.shape\n",
    "X_train = X_train.reshape(-1, W * H)\n",
    "X_test = X_test.reshape(-1, W * H)\n",
    "\n",
    "X_train = X_train / 255.0\n",
    "X_test = X_test / 255.0\n",
    "\n",
    "# DNN을 사용하여 학습을 한다.\n",
    "model = DNN(Nin, Nh_l, Nout)\n",
    "history = model.fit(X_train, y_train, epochs=15, batch_size=100, validation_split=0.2)\n",
    "performace_test = model.evaluate(X_test, y_test, batch_size=100)\n",
    "print('Test Loss and Accuracy ->', performace_test)"
   ]
  }
 ],
 "metadata": {
  "kernelspec": {
   "display_name": "Python 3",
   "language": "python",
   "name": "python3"
  },
  "language_info": {
   "codemirror_mode": {
    "name": "ipython",
    "version": 3
   },
   "file_extension": ".py",
   "mimetype": "text/x-python",
   "name": "python",
   "nbconvert_exporter": "python",
   "pygments_lexer": "ipython3",
   "version": "3.8.10"
  }
 },
 "nbformat": 4,
 "nbformat_minor": 5
}

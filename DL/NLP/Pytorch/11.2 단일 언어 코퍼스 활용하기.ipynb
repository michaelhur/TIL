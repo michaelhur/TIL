{
 "cells": [
  {
   "cell_type": "markdown",
   "id": "c165788b",
   "metadata": {},
   "source": [
    "번역 시스템을 훈련하려면 다량의 병렬 코퍼스가 필요합니다. 최소 300만 문장 pair가 있으면 완벽하지는 않지만 나름 쓸만한 번역기가 나옵니다. 하지만 인터넷에는 수치로 정의하기도 힘들 만큼 단일 언어 코퍼스가 널려있는데 반해, 병렬 코퍼스를 대량으로 얻기란 굉장히 어려운 일입니다.\n",
    "\n",
    "또한 단일 언어 코퍼스가 양이 많다보니 실제 우리가 사용하는 언어의 확률 분포에 더 가까울 수 있고, 따라서 더 나은 언어 모델을 학습할때 훨씬 유리합니다. 즉, 앞으로 소개할 기법들은 병렬 코퍼스 이외에도 추가적으로 다량의 단일 언어 코퍼스를 활용하여 해당 언어의 모델을 보완하는 것이 주 목적입니다."
   ]
  },
  {
   "cell_type": "markdown",
   "id": "e06b4e74",
   "metadata": {},
   "source": [
    " "
   ]
  },
  {
   "cell_type": "markdown",
   "id": "bc4ed5cb",
   "metadata": {},
   "source": [
    "### 언어 모델 앙상블"
   ]
  },
  {
   "cell_type": "markdown",
   "id": "dc16aee4",
   "metadata": {},
   "source": [
    "<br></br>\n",
    "![](./images/11-2-1-ensemble.jpg)\n",
    "<br></br>\n",
    "\n"
   ]
  },
  {
   "cell_type": "code",
   "execution_count": null,
   "id": "6b121a9e",
   "metadata": {},
   "outputs": [],
   "source": []
  }
 ],
 "metadata": {
  "kernelspec": {
   "display_name": "Python 3",
   "language": "python",
   "name": "python3"
  },
  "language_info": {
   "codemirror_mode": {
    "name": "ipython",
    "version": 3
   },
   "file_extension": ".py",
   "mimetype": "text/x-python",
   "name": "python",
   "nbconvert_exporter": "python",
   "pygments_lexer": "ipython3",
   "version": "3.8.10"
  }
 },
 "nbformat": 4,
 "nbformat_minor": 5
}

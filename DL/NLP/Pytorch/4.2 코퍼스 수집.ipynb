{
 "cells": [
  {
   "cell_type": "markdown",
   "id": "35caf4b3",
   "metadata": {},
   "source": [
    "### 코퍼스 수집"
   ]
  },
  {
   "cell_type": "markdown",
   "id": "02b93344",
   "metadata": {},
   "source": [
    "코퍼스를 구하는 방법은 여러가지가 있습니다.\n",
    "* 공개된 데이터\n",
    "* 데이터 구매\n",
    "\n",
    "이 포스트에서는 크롤링을 통한 수집을 주로 다루겠습니다. 다양한 웹사이트에서 크롤릥을 수행할 수 있는 만큼 다양한 **도메인**의 코퍼스를 모을 수 있습니다. 만약 특정 도메인만을 위한 자연어 처리 문제가 아니라면, 특정 도메인에 편향되지 않도록 최대한 다양한 도메인에서 코퍼스를 수집하는 것이 중요합니다."
   ]
  },
  {
   "cell_type": "markdown",
   "id": "a8f79da0",
   "metadata": {},
   "source": [
    " "
   ]
  },
  {
   "cell_type": "markdown",
   "id": "4c04cae4",
   "metadata": {},
   "source": [
    "### 단일 언어 코퍼스 수집"
   ]
  },
  {
   "cell_type": "markdown",
   "id": "2c9dda40",
   "metadata": {},
   "source": [
    "가장 손쉽게 구할 수 있는 종류의 코퍼스입니다. 하지만 필요에 따라 올바른 도메인의 코퍼스를 수집하여, 사용할 수 있는 형태로 가공하는 과정이 필요합니다.\n",
    "\n",
    "<br></br>\n",
    "![](./images/4-2-monolingual.jpg)\n",
    "<br></br>"
   ]
  },
  {
   "cell_type": "markdown",
   "id": "3dd919a0",
   "metadata": {},
   "source": [
    " "
   ]
  },
  {
   "cell_type": "markdown",
   "id": "da06fec7",
   "metadata": {},
   "source": [
    "### 다중 언어 코퍼스 수집"
   ]
  },
  {
   "attachments": {},
   "cell_type": "markdown",
   "id": "61870db3",
   "metadata": {},
   "source": [
    "자동 기계번역을 위한 병렬 코퍼스를 구하기란 단일 언어 코퍼스에 비해 상당히 어렵습니다.\n",
    "\n",
    "<br></br>\n",
    "![](./images/4-2-multilingual.jpg)\n",
    "<br></br>"
   ]
  }
 ],
 "metadata": {
  "kernelspec": {
   "display_name": "Python 3",
   "language": "python",
   "name": "python3"
  },
  "language_info": {
   "codemirror_mode": {
    "name": "ipython",
    "version": 3
   },
   "file_extension": ".py",
   "mimetype": "text/x-python",
   "name": "python",
   "nbconvert_exporter": "python",
   "pygments_lexer": "ipython3",
   "version": "3.8.10"
  }
 },
 "nbformat": 4,
 "nbformat_minor": 5
}

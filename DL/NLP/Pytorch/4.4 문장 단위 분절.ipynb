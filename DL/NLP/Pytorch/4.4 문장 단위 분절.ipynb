{
 "cells": [
  {
   "cell_type": "markdown",
   "id": "36ce9d57",
   "metadata": {},
   "source": [
    "보통 다루려는 문제들은 입력 단위가 **문장 단위**인 경우가 많습니다. 즉 대부분의 경우 한 라인에 한 문장만 있어야 합니다. 여러 문장이 한 라인에 있거나, 한 문장이 여러 라인에 걸쳐 있는 경우 문장 단위 분절이 필요합니다. \n",
    "\n",
    "단순히 마침표를 기준으로 문장 단위 분절을 수행한다면 **U.S.**와 같은 영어 약자나, **3.141592**와 같은 소수점 등 여러가지 문제에 마주칠 수 있습니다. 따라서 직접 분절해주는 모듈을 만들거나 알고리즘을 만들기보다는 널리 알려진 자연어 처리 툴킷인 **NLTK**에서 제공하는 분절 모듈을 이용하기를 권장합니다. 이 경우에도 완벽하게 처리하지는 못하며 일부 추가적인 전처리/ 후처리가 필요할 수 있습니다."
   ]
  },
  {
   "cell_type": "markdown",
   "id": "a18eeeb7",
   "metadata": {},
   "source": [
    "### 문장 단위 분절 예제"
   ]
  },
  {
   "cell_type": "markdown",
   "id": "a8a1f319",
   "metadata": {},
   "source": [
    "한 라인에 여러 문장이 들어있는 경우의 파이썬 스크립트 예제입니다.\n",
    "\n",
    "적용 전:\n",
    "\n",
    "```\n",
    "자연어처리는 인공지능의 한 줄기입니다. 시퀀스 투 시퀀스의 등장 이후로 딥러닝을 활용한 자연어처리는 새로운 전기를 맞이하게 되었습니다. 문장을 받아 단순히 수치로 나타내던 시절을 넘어, 원하는대로 문장을 만들어낼 수 있게 된 것입니다.\n",
    "```\n",
    "<br></br>\n",
    "\n",
    "```python\n",
    "import sys, fileinput, re\n",
    "from nltk.tokenize import sent_tokenize\n",
    "\n",
    "if __name__ == \"__main__\":\n",
    "    for line in fileinput.input():\n",
    "        if line.strip() != \"\":\n",
    "            line = re.sub(r\"([a-z])\\.[A-Z])\", r\"\\1. \\2\", line.strip())\n",
    "            \n",
    "            sentences = sent_tokenize(line.strip())\n",
    "            \n",
    "            for s in sentences:\n",
    "                if s!= \"\":\n",
    "                    sys.stdout.write(s + \"\\n\")\n",
    "```\n",
    "<br></br>\n",
    "\n",
    "적용 후:\n",
    "\n",
    "```\n",
    "자연어처리는 인공지능의 한 줄기입니다.\n",
    "시퀀스 투 스퀀스의 등장 이후로 딥러닝을 활용한 자연어처리는 새로운 전기를 맞이하게 되었습니다.\n",
    "문장을 받아 단순히 수치로 나타내던 시절을 넘어, 원하는대로 문장을 만들어낼 수 있게 된 것입니다.\n",
    "```"
   ]
  },
  {
   "cell_type": "markdown",
   "id": "b6138eb5",
   "metadata": {},
   "source": [
    " "
   ]
  },
  {
   "cell_type": "markdown",
   "id": "567ed773",
   "metadata": {},
   "source": [
    "### 문장 합치기 및 분절 예제"
   ]
  },
  {
   "cell_type": "markdown",
   "id": "203b9bf6",
   "metadata": {},
   "source": [
    "여러 라인에 걸쳐 한 문장이 들어 있는 경우에 대한 파이썬 스크립트 예제입니다.\n",
    "\n",
    "적용 전:\n",
    "\n",
    "```\n",
    "자연어처리는 인공지능의 한 줄기 입니다. 시퀀스 투 시퀀스의 등장 이후로 \\n\n",
    "딥러닝을 활용한 자연어처리는 새로운 전기를 맞이하게 되었습니다. 문장을 \\n\n",
    "받아 단순히 수치로 나타내던 시절을 넘어, 원하는대로 문장을 만들어낼 수 \\n\n",
    "있게 된 것입니다.\n",
    "```\n",
    "\n",
    "<br></br>\n",
    "\n",
    "```python\n",
    "import sys, fileinput\n",
    "from nltk.tokenize import sent_tokenize\n",
    "\n",
    "if __name__ == \"__main__\":\n",
    "    buf = []\n",
    "    \n",
    "    for line in fileinput.input():\n",
    "        if line.strip() != \"\":\n",
    "            buf += [line.strip()]\n",
    "            sentences = sent_tokenize(\" \".join(buf))\n",
    "            \n",
    "            if len(sentences) > 1:\n",
    "                buf = sentences[-1:]\n",
    "                \n",
    "                sys.stdout.write(\"\\n\".join(\\sentences[:-1]) + \"\\n\")\n",
    "                \n",
    "    sys.stdout.write(\" \".join(buf) + \"\\n\")\n",
    "```\n",
    "\n",
    "<br></br>\n",
    "\n",
    "```\n",
    "자연어처리는 인공지능의 한 줄기입니다.\n",
    "시퀀스 투 스퀀스의 등장 이후로 딥러닝을 활용한 자연어처리는 새로운 전기를 맞이하게 되었습니다.\n",
    "문장을 받아 단순히 수치로 나타내던 시절을 넘어, 원하는대로 문장을 만들어낼 수 있게 된 것입니다.\n",
    "```"
   ]
  }
 ],
 "metadata": {
  "kernelspec": {
   "display_name": "Python 3",
   "language": "python",
   "name": "python3"
  },
  "language_info": {
   "codemirror_mode": {
    "name": "ipython",
    "version": 3
   },
   "file_extension": ".py",
   "mimetype": "text/x-python",
   "name": "python",
   "nbconvert_exporter": "python",
   "pygments_lexer": "ipython3",
   "version": "3.8.10"
  }
 },
 "nbformat": 4,
 "nbformat_minor": 5
}

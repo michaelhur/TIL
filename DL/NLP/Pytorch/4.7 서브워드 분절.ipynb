{
 "cells": [
  {
   "cell_type": "markdown",
   "id": "580ebc34",
   "metadata": {},
   "source": [
    "**$BPE^{byte pair encoding}$** 알고리즘을 통한 서브워드 단위 분절은 현재 **필수 전처리 방법**으로 자리 잡았습니다.\n",
    "\n",
    "**서브워드 분절 기법**은 기본적으로 \"단어는 의미를 가진 더 작은 서브워드들의 조합으로 이루어진다\"는 가정하에 적용되는 알고리즘입니다. 적절한 서브워드를 발견하여 해당 단위로 쪼개어주면 어휘 수를 줄일 수 있고 희소성을 효과적으로 줄일 수 있습니다.\n",
    "\n",
    "<br></br>\n",
    "![](./images/4-7-1-subword.jpg)\n",
    "<br></br>\n",
    "\n",
    "희소성 감소 외에도, 서브워드 단위 분절로 얻는 가장 대표적은 효과는 **$UNK^{unknown}$** 토큰에 대한 효율적인 대처입니다. 자연어 생성을 포함한 대부분의 딥러닝 자연어 처리 알고리즘은 문장을 입력으로 받을때 단순히 단어들의 시퀀스로 받아드립니다. 따라서 UNK가 나타나면 이후의 언어 모델의 확률은 크게 망가지고, 적절한 문장의 임베딩 (인코딩)또는 생성이 어렵습니다. 특히 문장 생성의 경우 이전 단어를 기반으로 다음 단어를 예측하므로 더욱 어렵습니다.\n",
    "\n",
    "하지만 서부워드 단위 분절을 통해 *신조어*, *오타*와 같은 UNK에 대해 서브워드 단위나 문자 단위로 쪼개줌으로써 기존 훈련 데이터에서 보았던 토큰들의 조합으로 만들어버릴 수 있습니다. 즉 UNK 자체를 없앰으로써 효율적으로 UNK에 대처할 수 있고, 자연어 처리 알고리즘의 결과물 품질을 향상시킬수 있습니다."
   ]
  },
  {
   "cell_type": "markdown",
   "id": "c52b413e",
   "metadata": {},
   "source": [
    " "
   ]
  },
  {
   "cell_type": "markdown",
   "id": "bf920979",
   "metadata": {},
   "source": [
    "### 예제"
   ]
  },
  {
   "cell_type": "markdown",
   "id": "ec2f9760",
   "metadata": {},
   "source": [
    "BPE를 적용하면 원래의 *띄어쓰기 공백* 외에도 BPE 적용으로 인한 공백이 추가됩니다. 따라서 원래의 띄어쓰기와 BPE로 인한 띄어쓰기를 구분해야합니다.\n",
    "\n",
    "이때 특수 문자 **\\_**를 사용하여 기존의 띄어쓰기 또는 단어의 시작을 나타냅니다. 이를 통해 문장을 BPE 이전의 형태로 복구할 수 있습니다.\n",
    "\n",
    "다음은 한글 Mecab에 의해 분절된 원문입니다\n",
    "\n",
    "<br></br>\n",
    "![](./images/4-7-1-kor1.jpg)\n",
    "<br></br>\n",
    "\n",
    "한글 BPE 적용 후:\n",
    "\n",
    "<br></br>\n",
    "![](./images/4-7-1-kor2.jpg)\n",
    "<br></br>\n",
    "\n",
    "영문 원본:\n",
    "\n",
    "<br></br>\n",
    "![](./images/4-7-1-eng1.jpg)\n",
    "<br></br>\n",
    "\n",
    "영어 BPE 적용 후:\n",
    "\n",
    "<br></br>\n",
    "![](./images/4-7-1-eng2.jpg)\n",
    "<br></br>\n",
    "\n",
    "이와 같이 서브워드 분절에 의해 추가적으로 쪼개진 단어들은 적절한 서브워드의 형태로 나뉩니다.\n",
    "\n",
    "<br></br>\n",
    "![](./images/4-7-1-result.jpg)\n",
    "<br></br>\n"
   ]
  }
 ],
 "metadata": {
  "kernelspec": {
   "display_name": "Python 3",
   "language": "python",
   "name": "python3"
  },
  "language_info": {
   "codemirror_mode": {
    "name": "ipython",
    "version": 3
   },
   "file_extension": ".py",
   "mimetype": "text/x-python",
   "name": "python",
   "nbconvert_exporter": "python",
   "pygments_lexer": "ipython3",
   "version": "3.8.10"
  }
 },
 "nbformat": 4,
 "nbformat_minor": 5
}

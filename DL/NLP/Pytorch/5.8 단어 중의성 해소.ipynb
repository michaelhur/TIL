{
 "cells": [
  {
   "cell_type": "markdown",
   "id": "4d080a70",
   "metadata": {},
   "source": [
    "### 단어 중의성 해소"
   ]
  },
  {
   "cell_type": "markdown",
   "id": "55b33e3f",
   "metadata": {},
   "source": [
    "이번 포스트에서는 단어의 모호성에 대해 다룹니다. 하나의 단어는 여러가지 의미를 지닐 수 있습니다. 서로 비슷한 의미의 다의어인 경우에는 그 문제가 크지 않을 수 도 있습니다. 조금은 어색한 문장 표현이 될 수도 있지만, 큰 틀에서는 벗어나지 않기 떄문입니다.\n",
    "\n",
    "하지만 동형어의 경우 문제가 커집니다. \"차\"의 경우 \"tea\"로 해석되느냐 \"car\"로 해석되느냐에 따라 문장의 의미가 매우 달라질 것이기 떄문입니다. \n",
    "\n",
    "이처럼 단어가 주어졌을대 그 의미의 모호성을 없애고 해석하는 단어 중의성 해소는 매우 중요합니다.\n",
    "\n",
    "<br></br>\n",
    "![](./images/5-8-1-wsd.jpg)\n",
    "<br></br>"
   ]
  },
  {
   "cell_type": "markdown",
   "id": "1f143556",
   "metadata": {},
   "source": [
    " "
   ]
  },
  {
   "cell_type": "markdown",
   "id": "45ab0ede",
   "metadata": {},
   "source": [
    "### 시소러스 기반 중의성 해소: 레스크 알고리즘"
   ]
  },
  {
   "cell_type": "markdown",
   "id": "7ee406ec",
   "metadata": {},
   "source": [
    "레스크 알고리즘은 가장 간단한 사전 기반 중의성 해소 방법입니다. 주어진 문장에서 특정 단어의 의미를 명확히 할때 사용할 수 있습니다. 이를 위해 레스크 알고리즘은 간단한 가정을 하나 만듭니다. 문장 내에 같이 등장하는 단어들은 **공통 토픽**을 공유한다는 것입니다.\n",
    "\n",
    "<br></br>\n",
    "이 가정을 바탕으로 동작하는 레스크 알고리즘의 개요는 다음과 같습니다.\n",
    "1. 중의성을 해소하고자 하는 단어에 대한 사전 (주로 워드넷)의 의미별 설명과 주어진 문장 내에 등장하는 단어의 사전에서 의미별 설명 사이의 유사도를 구합니다.\n",
    "2. 유사도를 구하는 방법은 여러가지가 있지만 가장 간단한 방법은 겹치는 단어의 개수를 구하는 것입니다.\n",
    "3. 이후 문장내 단어들의 의미별 설명과 가장 유사도가 높은 의미를 선택합니다.\n",
    "<br></br>\n",
    "\n",
    "예를 들어 NLTK의 워드넷에서 \"bass\"를 검색해보면 다음과 같습니다."
   ]
  },
  {
   "cell_type": "code",
   "execution_count": 1,
   "id": "3f584b65",
   "metadata": {},
   "outputs": [
    {
     "name": "stdout",
     "output_type": "stream",
     "text": [
      "Synset('bass.n.01') the lowest part of the musical range\n",
      "Synset('bass.n.02') the lowest part in polyphonic music\n",
      "Synset('bass.n.03') an adult male singer with the lowest voice\n",
      "Synset('sea_bass.n.01') the lean flesh of a saltwater fish of the family Serranidae\n",
      "Synset('freshwater_bass.n.01') any of various North American freshwater fish with lean flesh (especially of the genus Micropterus)\n",
      "Synset('bass.n.06') the lowest adult male singing voice\n",
      "Synset('bass.n.07') the member with the lowest range of a family of musical instruments\n",
      "Synset('bass.n.08') nontechnical name for any of numerous edible marine and freshwater spiny-finned fishes\n",
      "Synset('bass.s.01') having or denoting a low vocal or instrumental range\n"
     ]
    }
   ],
   "source": [
    "from nltk.corpus import wordnet as wn\n",
    "\n",
    "for ss in wn.synsets(\"bass\"):\n",
    "    print(ss, ss.definition())"
   ]
  },
  {
   "cell_type": "markdown",
   "id": "136cd71b",
   "metadata": {},
   "source": [
    "레스크 알고리즘 수행을 위하여 간단하게 감싸 구현하겠습니다."
   ]
  },
  {
   "cell_type": "code",
   "execution_count": 4,
   "id": "3182a31f",
   "metadata": {},
   "outputs": [],
   "source": [
    "def lesk(sentence, word):\n",
    "    from nltk.wsd import lesk\n",
    "    \n",
    "    best_synset = lesk(sentence.split(), word)\n",
    "    print(best_synset, best_synset.definition())"
   ]
  },
  {
   "cell_type": "markdown",
   "id": "442c5705",
   "metadata": {},
   "source": [
    "다음과 같은 문장에서 \"bass\"가 의미하는 것은 \"물고기\"입니다."
   ]
  },
  {
   "cell_type": "code",
   "execution_count": 5,
   "id": "b917d710",
   "metadata": {},
   "outputs": [
    {
     "name": "stdout",
     "output_type": "stream",
     "text": [
      "Synset('sea_bass.n.01') the lean flesh of a saltwater fish of the family Serranidae\n"
     ]
    }
   ],
   "source": [
    "sentence = \"I went fishing last weekend and I got a bass and cooked it.\"\n",
    "word = \"bass\"\n",
    "lesk(sentence, word)"
   ]
  },
  {
   "cell_type": "markdown",
   "id": "017a0cf8",
   "metadata": {},
   "source": [
    "또한 다음 문장에서는 \"음악에서의 역할\"을 의미하는 것으로 추정됩니다."
   ]
  },
  {
   "cell_type": "code",
   "execution_count": 6,
   "id": "8b4ab9fd",
   "metadata": {},
   "outputs": [
    {
     "name": "stdout",
     "output_type": "stream",
     "text": [
      "Synset('bass.n.02') the lowest part in polyphonic music\n"
     ]
    }
   ],
   "source": [
    "sentence = \"I love the music from the speaker which has strong beat and bass.\"\n",
    "word = \"bass\"\n",
    "lesk(sentence, word)"
   ]
  },
  {
   "cell_type": "markdown",
   "id": "1dedfbaf",
   "metadata": {},
   "source": [
    "여기까지 보면 레스크 알고리즘은 비교적 잘 동작하는 것으로 보입니다. 하지만 비교적 정확하게 예측해낸 앞의 두 사례와는 달리 다음 문장에서는 전혀 다른 의미로 예측하는 것을 볼 수 있습니다."
   ]
  },
  {
   "cell_type": "code",
   "execution_count": 7,
   "id": "a090e8a1",
   "metadata": {},
   "outputs": [
    {
     "name": "stdout",
     "output_type": "stream",
     "text": [
      "Synset('sea_bass.n.01') the lean flesh of a saltwater fish of the family Serranidae\n"
     ]
    }
   ],
   "source": [
    "sentence = \"I think the bass is more important than guitar\"\n",
    "word = \"bass\"\n",
    "lesk(sentence, word)"
   ]
  },
  {
   "cell_type": "markdown",
   "id": "d71f0824",
   "metadata": {},
   "source": [
    "이처럼 레스크 알고리즘은 명확한 장단점을 지닙니다. 워드넷과 같이 잘 분류된 사전이 있다면 쉽고 빠르게 중의성 해소 문제를 해결할 수 있습니다. 하지만 사전의 단어 및 의미에 관한 설명에 크게 의존하게 되고, 설명이 부실하거나 주어진 문장에 큰 특징이 없을 경우 단어 중의성 해소 능력은 크게 떨어집니다. 또한 사전이 존재하지 않는 경우에는 레스크 알고리즘 자체의 수행이 어려울 수도 있습니다."
   ]
  }
 ],
 "metadata": {
  "kernelspec": {
   "display_name": "Python 3",
   "language": "python",
   "name": "python3"
  },
  "language_info": {
   "codemirror_mode": {
    "name": "ipython",
    "version": 3
   },
   "file_extension": ".py",
   "mimetype": "text/x-python",
   "name": "python",
   "nbconvert_exporter": "python",
   "pygments_lexer": "ipython3",
   "version": "3.8.10"
  }
 },
 "nbformat": 4,
 "nbformat_minor": 5
}

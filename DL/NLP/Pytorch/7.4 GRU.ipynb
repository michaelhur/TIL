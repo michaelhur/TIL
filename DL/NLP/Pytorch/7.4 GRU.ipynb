{
 "cells": [
  {
   "cell_type": "markdown",
   "id": "3be3a4be",
   "metadata": {},
   "source": [
    "**Gated Recurrent Unit** (GRU)는 LSTM의 간소화 버전입니다. 기존 LSTM이 복잡한 모델인데 비해 더 간단하면서도 성능이 비슷한 것이 특징입니다.\n",
    "\n",
    "GRU또한 Sigmoid $\\sigma$로 구성된 **Reset Gate $r_t$**와 **Update Gate $z_t$**가 있습니다. 마찬가지로 시그모이드 함수로 인해 게이트의 출력값은 0과 1 사이로 나오므로, 데이터의 흐름을 게이트를 열고 닫아 제어할 수 있습니다.\n",
    "\n",
    "기존 LSTM 대비 게이트의 숫자가 줄어들게 되고, 게이트의 파라미터들도 그만큼 줄어듭니다.\n",
    "\n",
    "<br></br>\n",
    "$$r_t = \\sigma(W_{ir}x_t + b_{ir} + W_{hr}h_{t-1} + b_{hr}) \\\\ \n",
    "z_t = \\sigma(W_{iz}x_t + b_{iz} + W_{hz}h_{t-1} + b_{hz}) \\\\\n",
    "n_t = tanh(W_{in}x_t + b_{in} + r_t(W_{hn}h_{t-1} + b_{hn}) \\\\\n",
    "h_t = (1-z_{t})n_{t} + z_{t}h_{t-1} $$\n",
    "<br></br>\n",
    "\n",
    "GRU는 LSTM대비 더 가벼운 몸집을 자랑하지만, 아직까지는 LSTM을 사용하는 빈도가 더 높습니다. 특별히 성능의 차이가 있다기 보다는, LSTM과 GRU의 학습률과 은닉 상태의 크기등 하이퍼파라미터가 다릅니다. 따라서 사용 모델에 따라 파라미터 셋팅을 다시 찾아내야 합니다. 연구자의 사용 경향에 따라 달라집니다.\n",
    "\n",
    "<br></br>\n",
    "![](./images/7-4-1-gru.jpg)\n",
    "<br></br>\n"
   ]
  },
  {
   "cell_type": "markdown",
   "id": "a9b949a5",
   "metadata": {},
   "source": [
    " "
   ]
  }
 ],
 "metadata": {
  "kernelspec": {
   "display_name": "Python 3",
   "language": "python",
   "name": "python3"
  },
  "language_info": {
   "codemirror_mode": {
    "name": "ipython",
    "version": 3
   },
   "file_extension": ".py",
   "mimetype": "text/x-python",
   "name": "python",
   "nbconvert_exporter": "python",
   "pygments_lexer": "ipython3",
   "version": "3.8.10"
  }
 },
 "nbformat": 4,
 "nbformat_minor": 5
}

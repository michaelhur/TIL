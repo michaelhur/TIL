{
 "cells": [
  {
   "cell_type": "markdown",
   "id": "a0f35548",
   "metadata": {},
   "source": [
    "#### 케라스에서 MNIST 데이터셋 적재하기"
   ]
  },
  {
   "cell_type": "markdown",
   "id": "39cf4b2a",
   "metadata": {},
   "source": [
    "* 머신 러닝에서 분류 문제의 범주 **(category)** 를 **class**\n",
    "* 데이터 포인트는 **sample**\n",
    "* 특정 샘플의 클래스는 **label** "
   ]
  },
  {
   "cell_type": "code",
   "execution_count": 1,
   "id": "ba2c707b",
   "metadata": {},
   "outputs": [],
   "source": [
    "from keras.datasets import mnist\n",
    "(train_images, train_labels), (test_images, test_labels) = mnist.load_data()"
   ]
  },
  {
   "cell_type": "code",
   "execution_count": 2,
   "id": "8e2e1b41",
   "metadata": {},
   "outputs": [
    {
     "data": {
      "text/plain": [
       "(60000, 28, 28)"
      ]
     },
     "execution_count": 2,
     "metadata": {},
     "output_type": "execute_result"
    }
   ],
   "source": [
    "train_images.shape"
   ]
  },
  {
   "cell_type": "code",
   "execution_count": 3,
   "id": "02aac238",
   "metadata": {},
   "outputs": [
    {
     "data": {
      "text/plain": [
       "60000"
      ]
     },
     "execution_count": 3,
     "metadata": {},
     "output_type": "execute_result"
    }
   ],
   "source": [
    "len(train_labels)"
   ]
  },
  {
   "cell_type": "code",
   "execution_count": 4,
   "id": "a2dbcf47",
   "metadata": {},
   "outputs": [
    {
     "data": {
      "text/plain": [
       "array([5, 0, 4, ..., 5, 6, 8], dtype=uint8)"
      ]
     },
     "execution_count": 4,
     "metadata": {},
     "output_type": "execute_result"
    }
   ],
   "source": [
    "train_labels"
   ]
  },
  {
   "cell_type": "code",
   "execution_count": 5,
   "id": "03abd191",
   "metadata": {},
   "outputs": [
    {
     "data": {
      "text/plain": [
       "(10000, 28, 28)"
      ]
     },
     "execution_count": 5,
     "metadata": {},
     "output_type": "execute_result"
    }
   ],
   "source": [
    "test_images.shape"
   ]
  },
  {
   "cell_type": "code",
   "execution_count": 6,
   "id": "107d9fce",
   "metadata": {},
   "outputs": [
    {
     "data": {
      "text/plain": [
       "10000"
      ]
     },
     "execution_count": 6,
     "metadata": {},
     "output_type": "execute_result"
    }
   ],
   "source": [
    "len(test_labels)"
   ]
  },
  {
   "cell_type": "code",
   "execution_count": 7,
   "id": "ca039e81",
   "metadata": {},
   "outputs": [
    {
     "data": {
      "text/plain": [
       "array([7, 2, 1, ..., 4, 5, 6], dtype=uint8)"
      ]
     },
     "execution_count": 7,
     "metadata": {},
     "output_type": "execute_result"
    }
   ],
   "source": [
    "test_labels"
   ]
  },
  {
   "cell_type": "markdown",
   "id": "5a4da445",
   "metadata": {},
   "source": [
    "#### 신경망 구조"
   ]
  },
  {
   "cell_type": "markdown",
   "id": "710b3fb7",
   "metadata": {},
   "source": [
    "작업 순서는:\n",
    "\n",
    "1. 훈련 데이터 `train_images`와 `train_labels`를 네트워크에 주입\n",
    "2. 네트워크는 이미지와 레이블을 연관시킬 수 있도록 학습\n",
    "3. test_images에 대한 예측을 요청"
   ]
  },
  {
   "cell_type": "code",
   "execution_count": 8,
   "id": "7d298c4c",
   "metadata": {},
   "outputs": [],
   "source": [
    "from keras import models\n",
    "from keras import layers\n",
    "\n",
    "network = models.Sequential()\n",
    "network.add(layers.Dense(28*28, activation = \"relu\", input_shape=(28 * 28, )))\n",
    "network.add(layers.Dense(10, activation = \"softmax\"))"
   ]
  },
  {
   "cell_type": "markdown",
   "id": "d4d2c534",
   "metadata": {},
   "source": [
    "신경망의 핵심 구성 요소는 일종의 데이터 처리 필터라고 생각할 수 있는 **layer**\n",
    "\n",
    "* 어떤 데이터가 들어가면 더 유용한 형태로 출력됨\n",
    "* 구체적으로 층은 주어진 문제에 더 의미있는 표현 **(representation)** 을 입력된 데이터로 부터 추출\n",
    "\n",
    "이 예시에서는 **완전 연결된 (fully connected)** 신경망 층인 Dense 층 2개가 연속되어있음\n",
    "\n",
    "* 두번째 층은 10개의 확률 점수가 들어있는 배열을 반환하는 **softmax**층"
   ]
  },
  {
   "cell_type": "markdown",
   "id": "d23ecac8",
   "metadata": {},
   "source": [
    " "
   ]
  },
  {
   "cell_type": "markdown",
   "id": "cd1426bb",
   "metadata": {},
   "source": [
    "#### 컴파일 단계"
   ]
  },
  {
   "cell_type": "markdown",
   "id": "b97b9ac8",
   "metadata": {},
   "source": [
    "신경망이 훈련 준비를 마치기 위해서 컴파일 단계에 포함될 3가지가 더 필요\n",
    "\n",
    "* 손실 함수 (**loss function**): 훈련 데이터에서 신경망의 성능을 측정하는 방법으로 네트쿼크가 옳은 방향으로 학습될 수 있도록 도와줌\n",
    "* 옵티마이저 (**optimizer**): 입력된 데이터와 손실 함수를 기반으로 네트워크를 업데이트하는 메커니즘\n",
    "* 모니터링 지표"
   ]
  },
  {
   "cell_type": "code",
   "execution_count": 9,
   "id": "b77ac96f",
   "metadata": {},
   "outputs": [],
   "source": [
    "network.compile(optimizer = \"rmsprop\",\n",
    "               loss = \"categorical_crossentropy\",\n",
    "               metrics = [\"accuracy\"])"
   ]
  },
  {
   "cell_type": "markdown",
   "id": "c140ebe8",
   "metadata": {},
   "source": [
    "#### 이미지 데이터 준비하기"
   ]
  },
  {
   "cell_type": "markdown",
   "id": "64bd63b1",
   "metadata": {},
   "source": [
    "훈련을 시작하기 전에 데이터를 네트쿼으케 맞는 크기로 바꾸고 모든 값을 0과 1 사이로 스케일을 조정함\n",
    "\n",
    "* 신경망은 입력 데이터의 스케일에 민감하여 적절한 데이터 전처리 과정이 필요함.\n",
    "* 이미지의 경우 보통 픽셀의 최댓값인 255로 나누어 사용\n",
    "\n",
    "예를 들면 이 예시에서는 [0, 255] 사이의 값인 uint8 타입의 (60000, 28, 28) 크기를 가진 배열로 저장되어 있음.\n",
    "\n",
    "* 이 데이터를 0과 1 사이의 값을 가지는 float32 타입의 (60000, 28 * 28) 크기의 배열로 바꿔줌"
   ]
  },
  {
   "cell_type": "code",
   "execution_count": 10,
   "id": "e45a51c3",
   "metadata": {},
   "outputs": [],
   "source": [
    "train_images = train_images.reshape((60000, 28 * 28))\n",
    "train_images = train_images.astype(\"float32\")/255\n",
    "\n",
    "test_images = test_images.reshape((10000, 28 * 28))\n",
    "test_images = test_images.astype(\"float32\")/255"
   ]
  },
  {
   "cell_type": "markdown",
   "id": "fc3969e1",
   "metadata": {},
   "source": [
    "#### 레이블 준비하기"
   ]
  },
  {
   "cell_type": "code",
   "execution_count": 11,
   "id": "ebfb4118",
   "metadata": {},
   "outputs": [],
   "source": [
    "from keras.utils import to_categorical\n",
    "\n",
    "train_labels = to_categorical(train_labels)\n",
    "test_labels = to_categorical(test_labels)"
   ]
  },
  {
   "cell_type": "markdown",
   "id": "eaa95a88",
   "metadata": {},
   "source": [
    "#### 모델 학습"
   ]
  },
  {
   "cell_type": "code",
   "execution_count": 12,
   "id": "af218680",
   "metadata": {},
   "outputs": [
    {
     "name": "stdout",
     "output_type": "stream",
     "text": [
      "Epoch 1/5\n",
      "469/469 [==============================] - 1s 1ms/step - loss: 0.4060 - accuracy: 0.8784\n",
      "Epoch 2/5\n",
      "469/469 [==============================] - 1s 1ms/step - loss: 0.0994 - accuracy: 0.9709\n",
      "Epoch 3/5\n",
      "469/469 [==============================] - 1s 1ms/step - loss: 0.0601 - accuracy: 0.9817\n",
      "Epoch 4/5\n",
      "469/469 [==============================] - 1s 1ms/step - loss: 0.0422 - accuracy: 0.9876\n",
      "Epoch 5/5\n",
      "469/469 [==============================] - 1s 1ms/step - loss: 0.0304 - accuracy: 0.9908\n"
     ]
    },
    {
     "data": {
      "text/plain": [
       "<tensorflow.python.keras.callbacks.History at 0x7f03ab8f0040>"
      ]
     },
     "execution_count": 12,
     "metadata": {},
     "output_type": "execute_result"
    }
   ],
   "source": [
    "network.fit(train_images, train_labels, epochs = 5, batch_size = 128)"
   ]
  },
  {
   "cell_type": "markdown",
   "id": "14a870d8",
   "metadata": {},
   "source": [
    "훈련하는 동안 2개의 정보가 출력됨\n",
    "\n",
    "* 훈련 데이터에 대한 네트워크의 손실 **loss**와 정확도 **acc**\n",
    "\n",
    "훈련 데이터에 대해 0.9909 (99.09%)의 정확도를 달성.\n",
    "\n",
    "* 이 모델이 테스트 데이터에도 잘 작동하는지 확인"
   ]
  },
  {
   "cell_type": "code",
   "execution_count": 13,
   "id": "65f669e2",
   "metadata": {},
   "outputs": [
    {
     "name": "stdout",
     "output_type": "stream",
     "text": [
      "313/313 [==============================] - 0s 924us/step - loss: 0.0645 - accuracy: 0.9810\n"
     ]
    }
   ],
   "source": [
    "test_loss, test_acc = network.evaluate(test_images, test_labels)"
   ]
  },
  {
   "cell_type": "code",
   "execution_count": 14,
   "id": "73d8d108",
   "metadata": {},
   "outputs": [
    {
     "name": "stdout",
     "output_type": "stream",
     "text": [
      "test_acc: 0.9810000061988831\n"
     ]
    }
   ],
   "source": [
    "print(\"test_acc:\", test_acc)"
   ]
  },
  {
   "cell_type": "markdown",
   "id": "a85d89c3",
   "metadata": {},
   "source": [
    "테스트 세트의 정확도는 98.22%로 훈련 세트 정확도보다 낮음.\n",
    "\n",
    "* 이 차이는 과대적합 **overfitting**때문\n",
    "* 이는 머신 러닝 모델이 훈련 데이터보다 새로운 데이터에서 성능이 낮아지는 경향을 말함"
   ]
  },
  {
   "cell_type": "markdown",
   "id": "93b1a393",
   "metadata": {},
   "source": [
    " "
   ]
  },
  {
   "cell_type": "markdown",
   "id": "c62c44a3",
   "metadata": {},
   "source": [
    "#### Put it all together"
   ]
  },
  {
   "cell_type": "code",
   "execution_count": 15,
   "id": "c78fefd2",
   "metadata": {},
   "outputs": [
    {
     "name": "stdout",
     "output_type": "stream",
     "text": [
      "Epoch 1/5\n",
      "469/469 [==============================] - 1s 1ms/step - loss: 0.4092 - accuracy: 0.8780\n",
      "Epoch 2/5\n",
      "469/469 [==============================] - 1s 1ms/step - loss: 0.1000 - accuracy: 0.9705\n",
      "Epoch 3/5\n",
      "469/469 [==============================] - 1s 1ms/step - loss: 0.0587 - accuracy: 0.9820\n",
      "Epoch 4/5\n",
      "469/469 [==============================] - 1s 1ms/step - loss: 0.0415 - accuracy: 0.9871\n",
      "Epoch 5/5\n",
      "469/469 [==============================] - 1s 1ms/step - loss: 0.0300 - accuracy: 0.9910\n",
      "313/313 [==============================] - 0s 952us/step - loss: 0.0629 - accuracy: 0.9820\n"
     ]
    },
    {
     "data": {
      "text/plain": [
       "[0.06285513937473297, 0.9819999933242798]"
      ]
     },
     "execution_count": 15,
     "metadata": {},
     "output_type": "execute_result"
    }
   ],
   "source": [
    "from keras import models\n",
    "from keras import layers\n",
    "from keras.datasets import mnist\n",
    "from keras.utils import to_categorical\n",
    "\n",
    "(train_images, train_labels), (test_images, test_labels) = mnist.load_data()\n",
    "\n",
    "train_images = train_images.reshape((60000, 28 * 28))\n",
    "train_images = train_images.astype(\"float32\")/255\n",
    "\n",
    "test_images = test_images.reshape((10000, 28 * 28))\n",
    "test_images = test_images.astype(\"float32\")/255\n",
    "\n",
    "train_labels = to_categorical(train_labels)\n",
    "test_labels = to_categorical(test_labels)\n",
    "\n",
    "network = models.Sequential()\n",
    "network.add(layers.Dense(28*28, activation = \"relu\", input_shape=(28 * 28, )))\n",
    "network.add(layers.Dense(10, activation = \"softmax\"))\n",
    "\n",
    "network.compile(optimizer = \"rmsprop\",\n",
    "               loss = \"categorical_crossentropy\",\n",
    "               metrics = [\"accuracy\"])\n",
    "\n",
    "network.fit(train_images, train_labels, epochs = 5, batch_size = 128)\n",
    "\n",
    "network.evaluate(test_images, test_labels)"
   ]
  },
  {
   "cell_type": "code",
   "execution_count": null,
   "id": "cd60153f",
   "metadata": {},
   "outputs": [],
   "source": []
  }
 ],
 "metadata": {
  "kernelspec": {
   "display_name": "Python 3",
   "language": "python",
   "name": "python3"
  },
  "language_info": {
   "codemirror_mode": {
    "name": "ipython",
    "version": 3
   },
   "file_extension": ".py",
   "mimetype": "text/x-python",
   "name": "python",
   "nbconvert_exporter": "python",
   "pygments_lexer": "ipython3",
   "version": "3.8.10"
  }
 },
 "nbformat": 4,
 "nbformat_minor": 5
}

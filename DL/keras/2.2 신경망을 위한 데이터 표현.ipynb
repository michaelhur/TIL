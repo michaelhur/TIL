{
 "cells": [
  {
   "cell_type": "markdown",
   "id": "c0ec182e",
   "metadata": {},
   "source": [
    "이전 예제에서는 다차원 넘파이 배열에 데이터를 저장하는 것을 배움. 최근의 머신 러닝 시스템은 일반적으로 텐서 **tensor**를 기본 데이터 구조로 사용함. 그렇다면 **tensor**란 무엇인가?\n",
    "\n",
    "* **tensor**는 데이터를 위한 **container**\n",
    "* 거의 항상 수치형 데이터를 다루므로 숫자를 위한 컨테이너"
   ]
  },
  {
   "cell_type": "markdown",
   "id": "a2703a4e",
   "metadata": {},
   "source": [
    " "
   ]
  },
  {
   "cell_type": "markdown",
   "id": "dc4d1964",
   "metadata": {},
   "source": [
    "### 2.2.1 Scalar (0D Tensor)"
   ]
  },
  {
   "cell_type": "markdown",
   "id": "4442578f",
   "metadata": {},
   "source": [
    "하나의 숫자만 담고있는 텐서를 **scalar** 또는 **0D tensor**라고 부름"
   ]
  },
  {
   "cell_type": "code",
   "execution_count": 1,
   "id": "e6ca3341",
   "metadata": {},
   "outputs": [
    {
     "name": "stdout",
     "output_type": "stream",
     "text": [
      "12\n",
      "0\n"
     ]
    }
   ],
   "source": [
    "import numpy as np\n",
    "x = np.array(12)\n",
    "print(x)\n",
    "print(x.ndim)"
   ]
  },
  {
   "cell_type": "markdown",
   "id": "2d9c4929",
   "metadata": {},
   "source": [
    " "
   ]
  },
  {
   "cell_type": "markdown",
   "id": "a1503a1d",
   "metadata": {},
   "source": [
    "### 2.2.2 Vector (1D Tensor)"
   ]
  },
  {
   "cell_type": "markdown",
   "id": "92580346",
   "metadata": {},
   "source": [
    "숫자의 배열을 **vector** 또는 **1D Tensor**라고 부름"
   ]
  },
  {
   "cell_type": "code",
   "execution_count": 2,
   "id": "553002c8",
   "metadata": {},
   "outputs": [
    {
     "name": "stdout",
     "output_type": "stream",
     "text": [
      "[12  3  6 14 17]\n",
      "1\n"
     ]
    }
   ],
   "source": [
    "x = np.array([12, 3, 6, 14, 17])\n",
    "print(x)\n",
    "print(x.ndim)"
   ]
  },
  {
   "cell_type": "markdown",
   "id": "ef8da93f",
   "metadata": {},
   "source": [
    "* 이 벡터는 5개의 원소를 가지고 있으므로 5차원 벡터라고 부름.\n",
    "* 5차원 **벡터**와 5D **텐서**는 다름. ** 혼동 금지**\n",
    "* 5D Vector: 1개의 축을 따라 5개의 차원을 가진 것\n",
    "* 5D Tensor: 5개의 축을 가진 것"
   ]
  },
  {
   "cell_type": "markdown",
   "id": "cdf3ba5c",
   "metadata": {},
   "source": [
    " "
   ]
  },
  {
   "cell_type": "markdown",
   "id": "db8679de",
   "metadata": {},
   "source": [
    "### 2.2.3 Matrix (2D Tensor)"
   ]
  },
  {
   "cell_type": "markdown",
   "id": "f1de26d3",
   "metadata": {},
   "source": [
    "벡터의 배열을 **행렬 (matrix)** 라고 부름.\n",
    "\n",
    "* 행렬에는 2개의 축이 있음\n",
    "* 보통 `row`와 `column` 이라고 부름"
   ]
  },
  {
   "cell_type": "code",
   "execution_count": 3,
   "id": "c546d091",
   "metadata": {},
   "outputs": [
    {
     "data": {
      "text/plain": [
       "2"
      ]
     },
     "execution_count": 3,
     "metadata": {},
     "output_type": "execute_result"
    }
   ],
   "source": [
    "x = np.array([[5, 78, 2, 34, 0],\n",
    "              [6, 79, 3, 35, 1],\n",
    "              [7, 80, 4, 36, 2]])\n",
    "x.ndim"
   ]
  },
  {
   "cell_type": "markdown",
   "id": "826361e0",
   "metadata": {},
   "source": [
    "첫번째 축에 놓여있는 원소를 `행` (row)라고 부르고, 두번째 축에 놓여있는 원소를 `열` (column)이라 부름\n",
    "\n",
    "* 앞의 예시에서는 x의 첫번째 행은 [5,78,2,34,0], 첫번째 열은 [5,6,7]"
   ]
  },
  {
   "cell_type": "markdown",
   "id": "7eaaa0de",
   "metadata": {},
   "source": [
    " "
   ]
  },
  {
   "cell_type": "markdown",
   "id": "1a9be7b6",
   "metadata": {},
   "source": [
    "### 2.2.4 3D Tesnor와 고차원 Tensor"
   ]
  },
  {
   "cell_type": "markdown",
   "id": "3c5184f5",
   "metadata": {},
   "source": [
    "이런 행렬 (matrix)를 하나의 새로운 배열로 합치면 숫자가 채워진 직육면체 형태로 해석할 수 있는 3D 텐서가 만들어 짐"
   ]
  },
  {
   "cell_type": "code",
   "execution_count": 4,
   "id": "3b99230a",
   "metadata": {
    "scrolled": true
   },
   "outputs": [
    {
     "data": {
      "text/plain": [
       "3"
      ]
     },
     "execution_count": 4,
     "metadata": {},
     "output_type": "execute_result"
    }
   ],
   "source": [
    "x = np.array([[[5, 78, 2, 34, 0],\n",
    "               [6, 79, 3, 35, 1],\n",
    "               [7, 80, 4, 36, 2]],\n",
    "              [[5, 78, 2, 34, 0],\n",
    "               [6, 79, 3, 35, 1],\n",
    "               [7, 80, 40, 36, 2]],\n",
    "              [[5, 78, 2, 34, 0], \n",
    "               [6, 79, 3, 35, 1],\n",
    "               [7, 80, 4, 36, 2]]])\n",
    "\n",
    "x.ndim"
   ]
  },
  {
   "cell_type": "markdown",
   "id": "7abfde03",
   "metadata": {},
   "source": [
    " "
   ]
  },
  {
   "cell_type": "markdown",
   "id": "c964f495",
   "metadata": {},
   "source": [
    "### 2.2.5 핵심 속성"
   ]
  },
  {
   "cell_type": "markdown",
   "id": "fefbec7a",
   "metadata": {},
   "source": [
    "텐서는 3개의 핵심 속성으로 정의됨\n",
    "\n",
    "* 축의 개수 (Rank): 3D Tensor에서는 3개의 축이 있고, Matrix에는 2개의 축이 있음\n",
    "* 크기 (Shape): 텐서의 각 축을 따라서 얼마나 많은 차원이 있는지 나타낸 tuple.\n",
    "    * 예를 들면 앞에 나온 행렬의 크기는 (3, 5), 3D Tensor의 크기는 (3, 3, 5)\n",
    "* 데이터 타입 (Type): 텐서에 포함된 데이터의 타입"
   ]
  },
  {
   "cell_type": "markdown",
   "id": "5f5a6ac4",
   "metadata": {},
   "source": [
    "MNIST를 다시 보면:"
   ]
  },
  {
   "cell_type": "code",
   "execution_count": 5,
   "id": "b2d833b5",
   "metadata": {},
   "outputs": [],
   "source": [
    "from keras.datasets import mnist\n",
    "(train_images, train_labels), (test_images, test_labels) = mnist.load_data()"
   ]
  },
  {
   "cell_type": "markdown",
   "id": "11cf7b57",
   "metadata": {},
   "source": [
    "ndim 으로 축의 개수를 확인:"
   ]
  },
  {
   "cell_type": "code",
   "execution_count": 6,
   "id": "200d994d",
   "metadata": {},
   "outputs": [
    {
     "name": "stdout",
     "output_type": "stream",
     "text": [
      "3\n"
     ]
    }
   ],
   "source": [
    "print(train_images.ndim)"
   ]
  },
  {
   "cell_type": "markdown",
   "id": "50baa407",
   "metadata": {},
   "source": [
    "배열의 크기:"
   ]
  },
  {
   "cell_type": "code",
   "execution_count": 7,
   "id": "a847230f",
   "metadata": {},
   "outputs": [
    {
     "name": "stdout",
     "output_type": "stream",
     "text": [
      "(60000, 28, 28)\n"
     ]
    }
   ],
   "source": [
    "print(train_images.shape)"
   ]
  },
  {
   "cell_type": "markdown",
   "id": "8d017ed4",
   "metadata": {},
   "source": [
    "배열의 데이터 타입:"
   ]
  },
  {
   "cell_type": "code",
   "execution_count": 8,
   "id": "e714ffe1",
   "metadata": {},
   "outputs": [
    {
     "name": "stdout",
     "output_type": "stream",
     "text": [
      "uint8\n"
     ]
    }
   ],
   "source": [
    "print(train_images.dtype)"
   ]
  },
  {
   "cell_type": "markdown",
   "id": "7a6b4d91",
   "metadata": {},
   "source": [
    "이 배열은 8비트 정수형 3D 텐서\n",
    "\n",
    "* 명확하게는 28 x 28 크기의 정수 행렬 6만개가 있는 배열\n",
    "* 각 행렬은 하나의 흑백 이미지고, 행렬의 각 원소는 0에서 255사이의 값을 가짐"
   ]
  },
  {
   "cell_type": "markdown",
   "id": "aa03757c",
   "metadata": {},
   "source": [
    "#### 다섯번째 이미지 출력하기"
   ]
  },
  {
   "cell_type": "code",
   "execution_count": 9,
   "id": "a16bb781",
   "metadata": {},
   "outputs": [
    {
     "data": {
      "text/plain": [
       "<function matplotlib.pyplot.show(close=None, block=None)>"
      ]
     },
     "execution_count": 9,
     "metadata": {},
     "output_type": "execute_result"
    },
    {
     "data": {
      "image/png": "[encoded data removed]",
      "text/plain": [
       "<Figure size 432x288 with 1 Axes>"
      ]
     },
     "metadata": {
      "needs_background": "light"
     },
     "output_type": "display_data"
    }
   ],
   "source": [
    "digit = train_images[4]\n",
    "\n",
    "import matplotlib.pyplot as plt\n",
    "plt.imshow(digit, cmap = plt.cm.binary)\n",
    "plt.show"
   ]
  },
  {
   "cell_type": "markdown",
   "id": "e3d999c6",
   "metadata": {},
   "source": [
    " "
   ]
  },
  {
   "cell_type": "markdown",
   "id": "34b95bf8",
   "metadata": {},
   "source": [
    "### 2.2.6 넘파이로 텐서 조작하기"
   ]
  },
  {
   "cell_type": "markdown",
   "id": "d056cf28",
   "metadata": {},
   "source": [
    "배열에 있는 특정 원소를 선택하는 것을 **slicing**이라고 함. 넘파이 배열에서 할 수 있는 슬라이싱 연산을 살펴보면:"
   ]
  },
  {
   "cell_type": "markdown",
   "id": "691b3961",
   "metadata": {},
   "source": [
    "11번째부터 101번째 숫자를 선택하여 (90, 28, 28) 크기의 배열을 만들기"
   ]
  },
  {
   "cell_type": "code",
   "execution_count": 10,
   "id": "87d242e5",
   "metadata": {},
   "outputs": [
    {
     "name": "stdout",
     "output_type": "stream",
     "text": [
      "(90, 28, 28)\n"
     ]
    }
   ],
   "source": [
    "my_slice = train_images[10:100]\n",
    "print(my_slice.shape)"
   ]
  },
  {
   "cell_type": "markdown",
   "id": "fe998cfe",
   "metadata": {},
   "source": [
    "동일하지만 더 자세한 표기법은 각 배열의 축을 따라 슬라이싱의 시작 인덱스와 마지막 인덱스를 지정하는 것:"
   ]
  },
  {
   "cell_type": "code",
   "execution_count": 11,
   "id": "0e66b85a",
   "metadata": {},
   "outputs": [
    {
     "name": "stdout",
     "output_type": "stream",
     "text": [
      "(90, 28, 28)\n"
     ]
    }
   ],
   "source": [
    "my_slic = train_images[10:100, :, :]\n",
    "print(my_slice.shape)"
   ]
  },
  {
   "cell_type": "code",
   "execution_count": 12,
   "id": "522a7716",
   "metadata": {},
   "outputs": [
    {
     "name": "stdout",
     "output_type": "stream",
     "text": [
      "(90, 28, 28)\n"
     ]
    }
   ],
   "source": [
    "my_slic = train_images[10:100, 0:28, 0:28]\n",
    "print(my_slice.shape)"
   ]
  },
  {
   "cell_type": "markdown",
   "id": "a7d72a7d",
   "metadata": {},
   "source": [
    " "
   ]
  },
  {
   "cell_type": "markdown",
   "id": "f7f652f2",
   "metadata": {},
   "source": [
    "### 2.2.7 배치 데이터"
   ]
  },
  {
   "cell_type": "markdown",
   "id": "982cfe4f",
   "metadata": {},
   "source": [
    "딥러닝에서 사용하는 모든 데이터 텐서의 첫번째 축(0번째 축)은 샘플 축 **sample axis (sample dimension)**\n",
    "\n",
    "딥러닝 모델은 한번에 전체 데이터셋을 처리하지 않음. 그 대신 데이터를 작은 **batch**로 나눔.\n",
    "\n",
    "* MNIST 숫자 데이터에서 크기가 128인 배치는 아래와 같음\n",
    "    * batch = train_images[:128]\n",
    "    * batch = train_images[128:256]\n",
    "    * batch = train_images[128 * n: 128 * (n+1)]\n",
    "    \n",
    "* 이런 배치 데이터를 다룰때는 첫번째축 (0번 축)을 **batch axis** 또는 **batch dimension** 이라고 부름"
   ]
  },
  {
   "cell_type": "markdown",
   "id": "267405ec",
   "metadata": {},
   "source": [
    " "
   ]
  },
  {
   "cell_type": "markdown",
   "id": "8845a8c7",
   "metadata": {},
   "source": [
    "### 2.2.9 벡터 데이터"
   ]
  },
  {
   "cell_type": "markdown",
   "id": "c6dc9f52",
   "metadata": {},
   "source": [
    "이런 데이터셋에서는 하나의 데이터 포인트가 벡터로 인코딩될 수 있으므로 배치 데이터는 2D 텐서로 인코딩 됨 (i.e. 벡터의 배열)\n",
    "\n",
    "* 첫번째 축은 **sample axis**\n",
    "* 두번째 축은 특성 축 **feature axis**\n",
    "\n",
    "예시\n",
    "* 사람의 나이, 우편 번호, 소득으로 구성된 인구 통계 데이터\n",
    "    * 각 사람은 3개의 값을 벡터로 구성\n",
    "    * 10만명이 포함된 전체 데이터셋은 (10000, 3) 크기의 텐서에 저장됨"
   ]
  },
  {
   "cell_type": "markdown",
   "id": "2b55a61f",
   "metadata": {},
   "source": [
    " "
   ]
  },
  {
   "cell_type": "markdown",
   "id": "9f7ce6a3",
   "metadata": {},
   "source": [
    "### 2.2.10 시계열 데이터 또는 시퀀스 데이터"
   ]
  },
  {
   "cell_type": "markdown",
   "id": "9187a501",
   "metadata": {},
   "source": [
    "데이터에서 시간또는 연속된 순서가 중요할 때는 시간 축을 포함하여 3D Tensor로 저장됨. 각 샘플은 벡터의 시퀀스로 인코딩 됨으로 배치 데이터는 3D텐서로 인코딩 됨."
   ]
  },
  {
   "attachments": {},
   "cell_type": "markdown",
   "id": "5638e107",
   "metadata": {},
   "source": [
    "![sequential.png](./images/2-2-10-sequential.png)"
   ]
  },
  {
   "cell_type": "markdown",
   "id": "d5f24bf1",
   "metadata": {},
   "source": [
    " "
   ]
  },
  {
   "cell_type": "markdown",
   "id": "9368831a",
   "metadata": {},
   "source": [
    "### 2.2.11 이미지 데이터"
   ]
  },
  {
   "cell_type": "markdown",
   "id": "2943a7b0",
   "metadata": {},
   "source": [
    "![image.png](./images/2-2-11-image.png)"
   ]
  },
  {
   "cell_type": "markdown",
   "id": "9bbea80a",
   "metadata": {},
   "source": [
    "이미지는 전형적으로 높이, 너비, 컬러 채널의 3차원으로 이루어짐.\n",
    "\n",
    "* MNIST처럼 흑백 이미지는 하나의 컬러 채널만을 가지고 있어 2D Tensor로 저장 가능\n",
    "* 하지만 관례적으로 3D로 저장됨\n",
    "* 흑백 이미지의 경우 컬러 채널의 차원 크기는 1\n",
    "* 256 x 256 크기의 **흑백** 이미지에 대한 128개의 배치는 **(128, 256, 256, 1)** 크기의 텐서에 저장\n",
    "* 256 x 256 크기의 **컬러** 이미지에 대한 128개의 배치는 **(128, 256, 256, 3)** 크기의 텐서에 \n",
    "\n",
    "이미지 텐서의 크기를 지정하는 방식은 **(sample, height, width, color_depth)**"
   ]
  },
  {
   "cell_type": "markdown",
   "id": "96a50776",
   "metadata": {},
   "source": [
    " "
   ]
  },
  {
   "cell_type": "markdown",
   "id": "68164d0c",
   "metadata": {},
   "source": [
    "### 2.2.12 비디오 데이터"
   ]
  },
  {
   "cell_type": "markdown",
   "id": "b42aa6ba",
   "metadata": {},
   "source": [
    "비디오 데이터는 현실에서 5D 텐서가 필요한 몇 안되는 데이터.\n",
    "\n",
    "* 비디오는 프레임의 연속이고 각 프레임은 하나의 컬러 이미지\n",
    "* 프레임은 (height, width, color_depth)\n",
    "* 프레임의 연속은 (frames, height, width, color_depth)\n",
    "* 여러 비디오의 배치는 (samples, frames, height, width, color_depth)"
   ]
  }
 ],
 "metadata": {
  "kernelspec": {
   "display_name": "Python 3",
   "language": "python",
   "name": "python3"
  },
  "language_info": {
   "codemirror_mode": {
    "name": "ipython",
    "version": 3
   },
   "file_extension": ".py",
   "mimetype": "text/x-python",
   "name": "python",
   "nbconvert_exporter": "python",
   "pygments_lexer": "ipython3",
   "version": "3.8.10"
  }
 },
 "nbformat": 4,
 "nbformat_minor": 5
}

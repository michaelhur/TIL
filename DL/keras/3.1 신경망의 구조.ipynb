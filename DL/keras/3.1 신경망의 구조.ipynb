{
 "cells": [
  {
   "cell_type": "markdown",
   "id": "269ba783",
   "metadata": {},
   "source": [
    "신경망 훈련에는 다음 요소들이 관련되어있다.\n",
    "\n",
    "* 네트워크 (모델)을 구성하는 **층 (Layer)**\n",
    "* **입력 데이터**와 상응하는 **타깃**\n",
    "* 학습에 사용할 *피드백 신호*를 정의하는 **손실 함수 (Loss Function)**\n",
    "* *학습 진행 방식*을 결정하는 **Optimizer**"
   ]
  },
  {
   "cell_type": "markdown",
   "id": "9e7778bd",
   "metadata": {},
   "source": [
    "연속된 층으로 구성된 네트워크가 입력 데이터를 예측으로 매핑\n",
    "* $x$ -> $\\hat{y}$\n",
    "\n",
    "손실 함수는 예측과 타깃을 비교하여 네트워크의 예측이 기댓값에 얼마나 잘 맞는지 측정하는 손실 값을 만듦\n",
    "\n",
    "옵티마이저는 손실 값을 사용하여 네트워크 가중치를 업데이트\n",
    "\n",
    "![](../images/3-1-Network.png)"
   ]
  },
  {
   "cell_type": "markdown",
   "id": "2dca9f1c",
   "metadata": {},
   "source": [
    " "
   ]
  },
  {
   "cell_type": "markdown",
   "id": "486a4b30",
   "metadata": {},
   "source": [
    "### Layer: 딥러닝의 구성 단위"
   ]
  },
  {
   "cell_type": "markdown",
   "id": "65e9b3cf",
   "metadata": {},
   "source": [
    "층은 하나 이상의 텐서를 입력으로 받아 하나 이상의 텐서를 출력하는 *데이터 처리 모듈*\n",
    "\n",
    "* Layer: Tensor -> Tensor\n",
    "\n",
    "때로는 층에 *상태*가 없지만 대부분의 경우 **가중치**를 가지게 됨\n",
    "\n",
    "* 가중치는 SGD에 의해 학습되는 하나 이상의 텐서\n",
    "* 가중치에 네트워크가 학습한 **지식**이 담겨있음"
   ]
  },
  {
   "cell_type": "markdown",
   "id": "79089eb5",
   "metadata": {},
   "source": [
    "층마다 적절한 Tensor 포맷과 데이터 처리 방식이 존재함\n",
    "\n",
    "* 2D Tensor **(samples, features)**: Fully Connected Layer 또는 Dense Layer에 의해 처리됨\n",
    "* 3D Tensor **(samples, timesteps, features)**: Recurrent Layer에 의해 처리됨\n",
    "* 4D Tensor: Convolution Layer에 의해 처리됨"
   ]
  },
  {
   "cell_type": "markdown",
   "id": "3e0e57c3",
   "metadata": {},
   "source": [
    "층을 딥러닝의 레고 블럭처럼 생각할 수 있음. 층 호환성 *Layer Compatibility*는 각 층이 특정 크기의 입력 텐서를 받르 특정 크기의 출력 텐서를 반환한다는 것.\n",
    "\n",
    "```python\n",
    "from keras import layers\n",
    "\n",
    "layer = layers.Dense(32, input_shape = (784,))\n",
    "```\n",
    "\n",
    "* 첫번째 차원이 784인 2D Tensor만 입력으로 받는 층을 만들었음\n",
    "* 이 층은 첫번째 차원 크기가 32로 변환된 텐서를 출력함\n",
    "* 이 층에는 32차원의 벡터를 입력으로 받는 하위 층이 연결되어야 함\n",
    "\n",
    "* *케라스*에서는 모델에 추가된 층을 자동으로 상위 층의 크기에 맞추어 주기때문에 호환성을 걱정하지 않아도 됨\n",
    "\n",
    "```python\n",
    "from keras import layers, models\n",
    "\n",
    "model = models.Sequential()\n",
    "model.add(layers.Dense(32, input_shape=(784,)))\n",
    "model.add(layers.Dense(10))\n",
    "```"
   ]
  },
  {
   "cell_type": "markdown",
   "id": "5cb83768",
   "metadata": {},
   "source": [
    " "
   ]
  },
  {
   "cell_type": "markdown",
   "id": "3b7e8a5d",
   "metadata": {},
   "source": [
    "### 모델: 층의 네트워크"
   ]
  },
  {
   "cell_type": "markdown",
   "id": "32fccc16",
   "metadata": {},
   "source": [
    "딥러닝 모델은 층으로 만든 비순환 유향 그래프 (Directed Acyclic Graph, DAG). 가장 일반적인 예는 하나의 입력을 하나의 출력으로 매핑하는 층을 순서대로 쌓는 것\n",
    "\n",
    "네트워크 구조는 가설 공간 **hypothesis space**를 정의함.\n",
    "* 네트워크 구조를 선택함으로써 **가능성 있는 공간**을 입력 데이터에서 출력 데이터로 매핑하는 일련의 특정 텐서 연산으로 제한하게 됨\n",
    "* 목표는 텐서 연산에 포함된 가중치 텐서의 좋은 값"
   ]
  },
  {
   "cell_type": "markdown",
   "id": "a41ee644",
   "metadata": {},
   "source": [
    " "
   ]
  },
  {
   "cell_type": "markdown",
   "id": "27048eac",
   "metadata": {},
   "source": [
    "### Loss Function & Optimizer"
   ]
  },
  {
   "cell_type": "markdown",
   "id": "c3c2f9a6",
   "metadata": {},
   "source": [
    "* Loss Function: 훈련하는 동안 *최소화*될 값. 주어진 목표에 대한 *성공 지표*\n",
    "* Optimizer: 특정 종류의 SGD를 구현하여 손실 함수를 기반으로 네트워크가 어떻게 업데이트 될지 결정\n",
    "\n",
    "여러 개의 출력을 내는 신경망은 여러 개의 손실 함수를 가질 수 있음\n",
    "* 출력당 1개씩\n",
    "* SGD는 하나의 스칼라 손실 값을 기준으로 함\n",
    "* 손실이 여러 개인 네트워크에서는 모든 손실이 하나의 스칼라로 합쳐짐\n",
    "\n",
    "문제에 맞는 **옳바른** Loss Function을 선택하는게 중요함. 전혀 관련이 없다면 원하지 않는 일을 하는 모델을 만들게 됨"
   ]
  }
 ],
 "metadata": {
  "kernelspec": {
   "display_name": "Python 3",
   "language": "python",
   "name": "python3"
  },
  "language_info": {
   "codemirror_mode": {
    "name": "ipython",
    "version": 3
   },
   "file_extension": ".py",
   "mimetype": "text/x-python",
   "name": "python",
   "nbconvert_exporter": "python",
   "pygments_lexer": "ipython3",
   "version": "3.8.10"
  }
 },
 "nbformat": 4,
 "nbformat_minor": 5
}

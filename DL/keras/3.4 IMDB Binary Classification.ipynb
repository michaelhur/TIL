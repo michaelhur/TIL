{
 "cells": [
  {
   "cell_type": "markdown",
   "id": "b7c4d40c",
   "metadata": {},
   "source": [
    "### IMDB Dataset"
   ]
  },
  {
   "cell_type": "markdown",
   "id": "929a64a8",
   "metadata": {},
   "source": [
    "* Internet Movie Database (IMDB)로부터 추출한 50,000개의 리뷰로 이루어진 데이터셋\n",
    "* 25,000개의 훈련 데이터와 25,000개의 테스트 데이터\n",
    "* 50% 긍정적 리뷰, 50% 부정적 리뷰"
   ]
  },
  {
   "cell_type": "markdown",
   "id": "54ee3257",
   "metadata": {},
   "source": [
    "##### IMDB 데이터셋 로드하기"
   ]
  },
  {
   "cell_type": "code",
   "execution_count": 1,
   "id": "d0b8dc29",
   "metadata": {},
   "outputs": [
    {
     "name": "stderr",
     "output_type": "stream",
     "text": [
      "<__array_function__ internals>:5: VisibleDeprecationWarning: Creating an ndarray from ragged nested sequences (which is a list-or-tuple of lists-or-tuples-or ndarrays with different lengths or shapes) is deprecated. If you meant to do this, you must specify 'dtype=object' when creating the ndarray\n",
      "/home/jhhur/anaconda3/envs/TIL2/lib/python3.8/site-packages/tensorflow/python/keras/datasets/imdb.py:159: VisibleDeprecationWarning: Creating an ndarray from ragged nested sequences (which is a list-or-tuple of lists-or-tuples-or ndarrays with different lengths or shapes) is deprecated. If you meant to do this, you must specify 'dtype=object' when creating the ndarray\n",
      "  x_train, y_train = np.array(xs[:idx]), np.array(labels[:idx])\n",
      "/home/jhhur/anaconda3/envs/TIL2/lib/python3.8/site-packages/tensorflow/python/keras/datasets/imdb.py:160: VisibleDeprecationWarning: Creating an ndarray from ragged nested sequences (which is a list-or-tuple of lists-or-tuples-or ndarrays with different lengths or shapes) is deprecated. If you meant to do this, you must specify 'dtype=object' when creating the ndarray\n",
      "  x_test, y_test = np.array(xs[idx:]), np.array(labels[idx:])\n"
     ]
    }
   ],
   "source": [
    "from keras.datasets import imdb\n",
    "\n",
    "(train_data, train_labels), (test_data, test_labels) = imdb.load_data(num_words = 10000)"
   ]
  },
  {
   "cell_type": "markdown",
   "id": "b8161392",
   "metadata": {},
   "source": [
    "* `num_word = 10000` 파라미터는 훈련 데이터에 가장 잘 나타나는 단어 1만개만 사용하겠다는 뜻\n",
    "* 드물게 나타나는 단어는 무시\n",
    "* `train_labels`와 `test_labels`는\n",
    "    * 0: 부정\n",
    "    * 1: 긍정"
   ]
  },
  {
   "cell_type": "markdown",
   "id": "d378a1b9",
   "metadata": {},
   "source": [
    "가장 자주 등장하는 1만개의 단어를 사용했기에 단어 인덱스는 9999를 넘지 않는다."
   ]
  },
  {
   "cell_type": "code",
   "execution_count": 2,
   "id": "5ded3727",
   "metadata": {},
   "outputs": [
    {
     "data": {
      "text/plain": [
       "9999"
      ]
     },
     "execution_count": 2,
     "metadata": {},
     "output_type": "execute_result"
    }
   ],
   "source": [
    "max([max(sequence) for sequence in train_data])"
   ]
  },
  {
   "cell_type": "markdown",
   "id": "c1122515",
   "metadata": {},
   "source": [
    "첫번째 리뷰 데이터를 원래 영어 단어로 바꿀려면:"
   ]
  },
  {
   "cell_type": "code",
   "execution_count": 3,
   "id": "14b6edc8",
   "metadata": {},
   "outputs": [
    {
     "data": {
      "text/plain": [
       "\"? this film was just brilliant casting location scenery story direction everyone's really suited the part they played and you could just imagine being there robert ? is an amazing actor and now the same being director ? father came from the same scottish island as myself so i loved the fact there was a real connection with this film the witty remarks throughout the film were great it was just brilliant so much that i bought the film as soon as it was released for ? and would recommend it to everyone to watch and the fly fishing was amazing really cried at the end it was so sad and you know what they say if you cry at a film it must have been good and this definitely was also ? to the two little boy's that played the ? of norman and paul they were just brilliant children are often left out of the ? list i think because the stars that play them all grown up are such a big profile for the whole film but these children are amazing and should be praised for what they have done don't you think the whole story was so lovely because it was true and was someone's life after all that was shared with us all\""
      ]
     },
     "execution_count": 3,
     "metadata": {},
     "output_type": "execute_result"
    }
   ],
   "source": [
    "word_index = imdb.get_word_index()\n",
    "reverse_word_index = dict([(value, key) for (key, value) in word_index.items()])\n",
    "decoded_review = ' '.join([reverse_word_index.get(i - 3, \"?\") for i in train_data[0]])\n",
    "\n",
    "decoded_review"
   ]
  },
  {
   "cell_type": "markdown",
   "id": "3cf7addc",
   "metadata": {},
   "source": [
    "* `word_index()`는 단어와 정수 인덱스를 매핑한 dictionary\n",
    "* 정수 인덱스와 단어를 매핑하도록 뒤집음\n",
    "* 리뷰를 디코딩함. 0, 1, 2는 `패딩`, `문서 시작`, `사전에 없음`을 위한 인덱스 임으로 3을 뺌."
   ]
  },
  {
   "cell_type": "markdown",
   "id": "c8d91b1f",
   "metadata": {},
   "source": [
    " "
   ]
  },
  {
   "cell_type": "markdown",
   "id": "fb1ff0ff",
   "metadata": {},
   "source": [
    "### 데이터 준비"
   ]
  },
  {
   "cell_type": "markdown",
   "id": "d87ea870",
   "metadata": {},
   "source": [
    "신경망에 숫자 리스트를 주입할 수 없다. 리스트를 텐서로 바꾸어 주입하여야 한다.\n",
    "1. 같은 길이가 되도록 리스트에 `Padding`을 추가하고 **(samples, sequence_length)** 크기의 정수 텐서로 변환한다.\n",
    "2. 리스트를 `One-hot encoding`하여 0과 1의 벡터로 변환한다.\n",
    "    * [3, 5] -> [0, 0, 0, 1, 0, 1, 0, 0, 0, 0, 0, 0, .... , 0 ]"
   ]
  },
  {
   "cell_type": "markdown",
   "id": "3fe900f9",
   "metadata": {},
   "source": [
    "##### 정수 시퀀스를 이진 행렬로 인코딩하기"
   ]
  },
  {
   "cell_type": "code",
   "execution_count": 4,
   "id": "1e02cbb2",
   "metadata": {},
   "outputs": [],
   "source": [
    "import numpy as np\n",
    "\n",
    "def vectorize_sequences(sequences, dimension = 10000):\n",
    "    results = np.zeros((len(sequences), dimension))\n",
    "    \n",
    "    for i, sequence in enumerate(sequences):\n",
    "        results[i, sequence]  = 1.\n",
    "    \n",
    "    return results\n",
    "\n",
    "x_train = vectorize_sequences(train_data)\n",
    "x_test = vectorize_sequences(test_data)"
   ]
  },
  {
   "cell_type": "markdown",
   "id": "6c1d5b9c",
   "metadata": {},
   "source": [
    "```python\n",
    "results = np.zeros((len(sequences), dimension))\n",
    "```\n",
    "\n",
    "* 크기가 (len(sequences), dimension))이고 모든 원소가 0인 행렬을 만든다\n",
    "\n",
    "\n",
    "```python\n",
    "results[i, sequence] = 1\n",
    "```\n",
    "\n",
    "* results[i]에서 특정 인덱스의 위치를 1로 만든다"
   ]
  },
  {
   "cell_type": "markdown",
   "id": "5d8dc8a7",
   "metadata": {},
   "source": [
    "샘플은 다음과 같이 나타난다.\n",
    "\n",
    "```python\n",
    ">>> x_train[0]\n",
    "array([0., 1., 1., ..., 0., 0., 0.])\n",
    "```"
   ]
  },
  {
   "cell_type": "markdown",
   "id": "574aaeee",
   "metadata": {},
   "source": [
    "Label 역시 쉽게 벡터로 바꿀 수 있다."
   ]
  },
  {
   "cell_type": "code",
   "execution_count": 5,
   "id": "591753e4",
   "metadata": {},
   "outputs": [],
   "source": [
    "y_train = np.asarray(train_labels).astype('float32')\n",
    "y_test = np.asarray(test_labels).astype('float32')"
   ]
  },
  {
   "cell_type": "markdown",
   "id": "1001ce33",
   "metadata": {},
   "source": [
    " "
   ]
  },
  {
   "cell_type": "markdown",
   "id": "27e7cb75",
   "metadata": {},
   "source": [
    "### 신경망 모델 만들기"
   ]
  },
  {
   "cell_type": "markdown",
   "id": "6458d173",
   "metadata": {},
   "source": [
    "입력 데이터는 `벡터`이고 레이블은 `스칼라` (0 또는 1) 이다. 이런 문제에 잘 작동하는 네트워크 종류는 *relu* 활성화 함수를 사용한 완전한 연결 층을 쌓는 것이다.\n",
    "\n",
    "`Dense(16, activation = 'relu')`\n",
    "\n",
    "* Dense Layer에 전달된 parameter (16)은 Hidden Unit 의 개수이다.\n",
    "* 하나의 은닉 유닛은 층이 나타내는 표현 공간에서 하나의 차원이 된다.\n",
    "* 16개의 은닉 유닛이 있다는 것은 가중치 행렬 W의 크기가 (input_dimension, 16)이라는 뜻\n",
    "    * `output = relu(dot(W, input) + b)\n",
    "* 입력 데이터와 W를 점곱하면 입력 데이터가 16차원으로 표현된 공간으로 투영된다.\n",
    "* 은닉 유닛을 늘리면 신경망이 더욱 복잡한 표현을 학습할 수 있지만 계산 비용이 커진다."
   ]
  },
  {
   "cell_type": "markdown",
   "id": "608747fb",
   "metadata": {},
   "source": [
    "Dense 층을 쌓을때는 **두가지** 구조적 결정이 필요하다.\n",
    "1. 얼마나 많은 층을 사용할 것인가?\n",
    "2. 각 층에 얼마나 많은 은닉 유닛을 사용할 것인가?\n",
    "\n",
    "이번 예제에서는 다음과 같은 구조를 사용한다.\n",
    "1. 16개의 은닉 유닛을 가진 2개의 은닉 층\n",
    "2. 현재 리뷰의 감정을 스칼라 값의 예측으로 출력하는 세번째 층\n",
    "\n",
    "중간에 있는 은닉 층은 활성화 함수로 `relu`를 사용하고 마지막 층은 확률을 출력하기 위하여 `시그모이드` 활성화 함수를 사용한다.\n",
    "\n",
    "`relu`는 음수를 0으로 만드는 함수이고, 시그모이드는 임의의 값을 [0, 1] 사이로 압축하므로 출력 값을 확률 처럼 해석할 수 있다.\n",
    "\n",
    "![relu function](../images/3-4-relu.png)\n",
    "![sigmoid function](../images/3-5-sigmoid.png)\n"
   ]
  },
  {
   "cell_type": "markdown",
   "id": "bb166a7d",
   "metadata": {},
   "source": [
    "##### 모델 정의하기"
   ]
  },
  {
   "cell_type": "markdown",
   "id": "08a17d6f",
   "metadata": {},
   "source": [
    "![network](../images/3-6-network.png)"
   ]
  },
  {
   "cell_type": "code",
   "execution_count": 6,
   "id": "d01d0db8",
   "metadata": {},
   "outputs": [],
   "source": [
    "from keras import models\n",
    "from keras import layers\n",
    "\n",
    "model = models.Sequential()\n",
    "model.add(layers.Dense(16, activation = 'relu', input_shape = (10000,)))\n",
    "model.add(layers.Dense(16, activation = 'relu'))\n",
    "model.add(layers.Dense(1, activation = 'sigmoid'))"
   ]
  },
  {
   "cell_type": "markdown",
   "id": "90f8dc43",
   "metadata": {},
   "source": [
    "마지막으로 손실 함수와 옵티마이저를 선택해야한다.\n",
    "* 이진 분류 문제이고 신경망의 출력이 확률이기 때문에 `binary_crossentropy` 손실이 적합하다.\n",
    "* 확률을 출력하는 모델을 사용할 때는 `crossentropy`가 최선의 선택이다.\n",
    "    * **Crossentropy**는 확률 분포 간의 차이를 측정함.\n",
    "    * 여기서는 원본 분포와 예측 분포 사이를 측정함.\n",
    "* 다음은 `rmsprop` 옵티마이저와 `binary_crossentropy` 손실 함수로 모델을 설정하는 단계이다."
   ]
  },
  {
   "cell_type": "markdown",
   "id": "883100d2",
   "metadata": {},
   "source": [
    " "
   ]
  },
  {
   "cell_type": "markdown",
   "id": "63c1bd50",
   "metadata": {},
   "source": [
    "##### 모델 컴파일하기"
   ]
  },
  {
   "cell_type": "code",
   "execution_count": 7,
   "id": "b1f74b9c",
   "metadata": {},
   "outputs": [],
   "source": [
    "model.compile(optimizer = 'rmsprop',\n",
    "              loss = 'binary_crossentropy',\n",
    "              metrics = ['accuracy'])"
   ]
  },
  {
   "cell_type": "markdown",
   "id": "666edd75",
   "metadata": {},
   "source": [
    "Keras에 `rmsprop`, `binary_crossentropy`, `accuracy`가 포함되어있기 때문에 옵티마이저, 손실 함수, 측정 지표를 지정하는게 가능하다. 만약 옵티마이저의 파라미터를 바꾸거나, 자신만의 손실 함수, 측정 함수를 전달해야 한다면 파이썬 클래스를 사용해서 객체를 직접 만들어 파라미터에 전달하면 된다.\n",
    "\n",
    "```python\n",
    "from keras import optimizers\n",
    "from keras import losses\n",
    "from keras import metrics\n",
    "\n",
    "model.compile(optimizer = optimizers.RMSprop(lr = 0.001),\n",
    "              loss = losses.binary_crossentropy,\n",
    "              metrics = [metrics.binary_accuracy])\n",
    "```"
   ]
  },
  {
   "cell_type": "markdown",
   "id": "46cd7eb5",
   "metadata": {},
   "source": [
    " "
   ]
  },
  {
   "cell_type": "markdown",
   "id": "56cc2fec",
   "metadata": {},
   "source": [
    "### 훈련 검증"
   ]
  },
  {
   "cell_type": "markdown",
   "id": "ce75d39d",
   "metadata": {},
   "source": [
    "훈련하는 동안 처음 본 데이터에 대한 모델의 정확도를 측정하기 위해서 훈련 데이터에서 일부를 때어내어 **검증 세트 (Validation Set)**을 만들어야 한다."
   ]
  },
  {
   "cell_type": "markdown",
   "id": "317fc9b1",
   "metadata": {},
   "source": [
    "##### 검증 세트 만들기"
   ]
  },
  {
   "cell_type": "code",
   "execution_count": 8,
   "id": "befe8865",
   "metadata": {},
   "outputs": [],
   "source": [
    "x_val = x_train[:10000]\n",
    "partial_x_train = x_train[10000:]\n",
    "\n",
    "y_val = y_train[:10000]\n",
    "partial_y_train = y_train[10000:]"
   ]
  },
  {
   "cell_type": "markdown",
   "id": "dfbbaddd",
   "metadata": {},
   "source": [
    "이제 모델을 *512개의 샘플씩 미니 배치를 만들어* 20번의 에포크 동안 훈련시킨다. 동시에 따로 떼어 놓은 1만개의 샘플에서 손실과 정확도를 측정할 것이다. 그러기 위해서는 **validation data**에 검증 데이터를 전달해야 한다."
   ]
  },
  {
   "cell_type": "markdown",
   "id": "ac74754a",
   "metadata": {},
   "source": [
    "##### 모델 훈련하기"
   ]
  },
  {
   "cell_type": "code",
   "execution_count": 9,
   "id": "4acf3e04",
   "metadata": {},
   "outputs": [
    {
     "name": "stdout",
     "output_type": "stream",
     "text": [
      "Epoch 1/20\n",
      "30/30 [==============================] - 1s 21ms/step - loss: 0.5956 - accuracy: 0.6998 - val_loss: 0.3910 - val_accuracy: 0.8751\n",
      "Epoch 2/20\n",
      "30/30 [==============================] - 0s 9ms/step - loss: 0.3366 - accuracy: 0.8995 - val_loss: 0.3139 - val_accuracy: 0.8833\n",
      "Epoch 3/20\n",
      "30/30 [==============================] - 0s 9ms/step - loss: 0.2403 - accuracy: 0.9270 - val_loss: 0.2846 - val_accuracy: 0.8887\n",
      "Epoch 4/20\n",
      "30/30 [==============================] - 0s 9ms/step - loss: 0.1840 - accuracy: 0.9434 - val_loss: 0.2874 - val_accuracy: 0.8856\n",
      "Epoch 5/20\n",
      "30/30 [==============================] - 0s 9ms/step - loss: 0.1490 - accuracy: 0.9568 - val_loss: 0.2771 - val_accuracy: 0.8906\n",
      "Epoch 6/20\n",
      "30/30 [==============================] - 0s 9ms/step - loss: 0.1186 - accuracy: 0.9665 - val_loss: 0.2898 - val_accuracy: 0.8871\n",
      "Epoch 7/20\n",
      "30/30 [==============================] - 0s 9ms/step - loss: 0.0992 - accuracy: 0.9727 - val_loss: 0.3030 - val_accuracy: 0.8847\n",
      "Epoch 8/20\n",
      "30/30 [==============================] - 0s 9ms/step - loss: 0.0809 - accuracy: 0.9798 - val_loss: 0.3239 - val_accuracy: 0.8820\n",
      "Epoch 9/20\n",
      "30/30 [==============================] - 0s 9ms/step - loss: 0.0695 - accuracy: 0.9838 - val_loss: 0.3645 - val_accuracy: 0.8737\n",
      "Epoch 10/20\n",
      "30/30 [==============================] - 0s 9ms/step - loss: 0.0556 - accuracy: 0.9877 - val_loss: 0.3712 - val_accuracy: 0.8802\n",
      "Epoch 11/20\n",
      "30/30 [==============================] - 0s 9ms/step - loss: 0.0439 - accuracy: 0.9916 - val_loss: 0.4254 - val_accuracy: 0.8754\n",
      "Epoch 12/20\n",
      "30/30 [==============================] - 0s 9ms/step - loss: 0.0387 - accuracy: 0.9922 - val_loss: 0.4449 - val_accuracy: 0.8752\n",
      "Epoch 13/20\n",
      "30/30 [==============================] - 0s 9ms/step - loss: 0.0288 - accuracy: 0.9944 - val_loss: 0.4547 - val_accuracy: 0.8733\n",
      "Epoch 14/20\n",
      "30/30 [==============================] - 0s 9ms/step - loss: 0.0215 - accuracy: 0.9968 - val_loss: 0.4924 - val_accuracy: 0.8722\n",
      "Epoch 15/20\n",
      "30/30 [==============================] - 0s 9ms/step - loss: 0.0173 - accuracy: 0.9974 - val_loss: 0.5251 - val_accuracy: 0.8716\n",
      "Epoch 16/20\n",
      "30/30 [==============================] - 0s 9ms/step - loss: 0.0127 - accuracy: 0.9988 - val_loss: 0.5546 - val_accuracy: 0.8692\n",
      "Epoch 17/20\n",
      "30/30 [==============================] - 0s 9ms/step - loss: 0.0129 - accuracy: 0.9975 - val_loss: 0.5935 - val_accuracy: 0.8701\n",
      "Epoch 18/20\n",
      "30/30 [==============================] - 0s 9ms/step - loss: 0.0074 - accuracy: 0.9993 - val_loss: 0.6232 - val_accuracy: 0.8674\n",
      "Epoch 19/20\n",
      "30/30 [==============================] - 0s 9ms/step - loss: 0.0052 - accuracy: 0.9998 - val_loss: 0.6978 - val_accuracy: 0.8665\n",
      "Epoch 20/20\n",
      "30/30 [==============================] - 0s 8ms/step - loss: 0.0056 - accuracy: 0.9995 - val_loss: 0.7033 - val_accuracy: 0.8677\n"
     ]
    }
   ],
   "source": [
    "history = model.fit(partial_x_train,\n",
    "                    partial_y_train,\n",
    "                    epochs = 20,\n",
    "                    batch_size = 512,\n",
    "                    validation_data = (x_val, y_val))"
   ]
  },
  {
   "cell_type": "markdown",
   "id": "3f754604",
   "metadata": {},
   "source": [
    "history 오브젝트에는 훈련하는 동안 발생한 모든 정보가 담겨있다. 이 딕셔너리는 훈련과 검증하는 동안 모니터링할 측정 지표당 하나씩 모두 4개의 항목을 담고 있다."
   ]
  },
  {
   "cell_type": "code",
   "execution_count": 10,
   "id": "b3519b61",
   "metadata": {},
   "outputs": [
    {
     "data": {
      "text/plain": [
       "dict_keys(['loss', 'accuracy', 'val_loss', 'val_accuracy'])"
      ]
     },
     "execution_count": 10,
     "metadata": {},
     "output_type": "execute_result"
    }
   ],
   "source": [
    "history_dict = history.history\n",
    "history_dict.keys()"
   ]
  },
  {
   "cell_type": "markdown",
   "id": "c119d554",
   "metadata": {},
   "source": [
    "##### 훈련과 검증 손실 그리기"
   ]
  },
  {
   "cell_type": "code",
   "execution_count": 11,
   "id": "6fbc8b28",
   "metadata": {},
   "outputs": [
    {
     "data": {
      "image/png": "[encoded data removed]",
      "text/plain": [
       "<Figure size 432x288 with 1 Axes>"
      ]
     },
     "metadata": {
      "needs_background": "light"
     },
     "output_type": "display_data"
    }
   ],
   "source": [
    "import matplotlib.pyplot as plt\n",
    "\n",
    "history_dict = history.history\n",
    "loss = history_dict['loss']\n",
    "val_loss = history_dict['val_loss']\n",
    "\n",
    "epochs = range(1, len(loss) + 1)\n",
    "\n",
    "plt.plot(epochs, loss, \"bo\", label = \"Training Loss\")\n",
    "plt.plot(epochs, val_loss, \"b\", label = \"Validation Loss\")\n",
    "plt.title('Training and validation loss')\n",
    "plt.xlabel('Epochs')\n",
    "plt.ylabel('Loss')\n",
    "plt.legend()\n",
    "\n",
    "plt.show()"
   ]
  },
  {
   "cell_type": "markdown",
   "id": "3f613da9",
   "metadata": {},
   "source": [
    "#### 훈련과 검증  정확도 그리기"
   ]
  },
  {
   "cell_type": "code",
   "execution_count": 12,
   "id": "119c1058",
   "metadata": {},
   "outputs": [
    {
     "data": {
      "image/png": "[encoded data removed]",
      "text/plain": [
       "<Figure size 432x288 with 1 Axes>"
      ]
     },
     "metadata": {
      "needs_background": "light"
     },
     "output_type": "display_data"
    }
   ],
   "source": [
    "plt.clf() ## 그래프 초기화\n",
    "\n",
    "acc = history_dict['accuracy']\n",
    "val_acc = history_dict['val_accuracy']\n",
    "\n",
    "plt.plot(epochs, acc, \"bo\", label = \"Training Acc\")\n",
    "plt.plot(epochs, val_acc, \"b\", label = \"Validation Acc\")\n",
    "plt.title('Training and validation Acc')\n",
    "plt.xlabel('Epochs')\n",
    "plt.ylabel('Acc')\n",
    "plt.legend()\n",
    "\n",
    "plt.show()"
   ]
  },
  {
   "cell_type": "markdown",
   "id": "86498aad",
   "metadata": {},
   "source": [
    "그래프에서 볼 수 있듯 *훈련 손실*은 에포크마다 감소하고 *훈련 정확도*는 증가한다. SGD를 사용했을때 반복마다 손실이 최소화되므로 기대했던 그래프이다. **검증** 손실과 정확도는 다르다. 네번째 에포크에서 그래프가 역전된다. 이는 훈련 세트에서 잘 작동하는 모델이 처음 보는 데이터에서는 잘 작동하지 않을 수 있다는 예시이다.\n",
    "\n",
    "* 정확한 용어로는 **overfitting**되었다고 표현한다."
   ]
  },
  {
   "cell_type": "markdown",
   "id": "29b4c5ca",
   "metadata": {},
   "source": [
    "##### 처음부터 다시 훈련하기"
   ]
  },
  {
   "cell_type": "code",
   "execution_count": 13,
   "id": "bdb1450a",
   "metadata": {
    "scrolled": true
   },
   "outputs": [
    {
     "name": "stdout",
     "output_type": "stream",
     "text": [
      "Epoch 1/4\n",
      "49/49 [==============================] - 1s 6ms/step - loss: 0.5553 - accuracy: 0.7625\n",
      "Epoch 2/4\n",
      "49/49 [==============================] - 0s 5ms/step - loss: 0.2839 - accuracy: 0.9082\n",
      "Epoch 3/4\n",
      "49/49 [==============================] - 0s 5ms/step - loss: 0.2097 - accuracy: 0.9272\n",
      "Epoch 4/4\n",
      "49/49 [==============================] - 0s 5ms/step - loss: 0.1644 - accuracy: 0.9446\n",
      "782/782 [==============================] - 1s 828us/step - loss: 0.3078 - accuracy: 0.8798\n"
     ]
    }
   ],
   "source": [
    "model = models.Sequential()\n",
    "model.add(layers.Dense(16, activation = 'relu', input_shape = (10000,)))\n",
    "model.add(layers.Dense(16, activation = 'relu'))\n",
    "model.add(layers.Dense(1, activation = 'sigmoid'))\n",
    "\n",
    "model.compile(optimizer = 'rmsprop',\n",
    "              loss = 'binary_crossentropy',\n",
    "              metrics = ['accuracy'])\n",
    "\n",
    "model.fit(x_train, y_train, epochs = 4, batch_size = 512)\n",
    "results = model.evaluate(x_test, y_test)"
   ]
  },
  {
   "cell_type": "markdown",
   "id": "c310e002",
   "metadata": {},
   "source": [
    " "
   ]
  },
  {
   "cell_type": "markdown",
   "id": "f3ff7230",
   "metadata": {},
   "source": [
    "### 훈련된 모델로 새로운 데이터 예측하기"
   ]
  },
  {
   "cell_type": "markdown",
   "id": "f292b1dd",
   "metadata": {},
   "source": [
    "모델을 훈련시킨 후에 실전에서 사용하고 싶을 것이다. predict 메소드를 사용해서 예측할 수 있다."
   ]
  },
  {
   "cell_type": "code",
   "execution_count": 14,
   "id": "b1a77731",
   "metadata": {},
   "outputs": [
    {
     "data": {
      "text/plain": [
       "array([[0.26225424],\n",
       "       [0.9999516 ],\n",
       "       [0.9573029 ],\n",
       "       ...,\n",
       "       [0.14002256],\n",
       "       [0.11108565],\n",
       "       [0.66763407]], dtype=float32)"
      ]
     },
     "execution_count": 14,
     "metadata": {},
     "output_type": "execute_result"
    }
   ],
   "source": [
    "model.predict(x_test)"
   ]
  },
  {
   "cell_type": "code",
   "execution_count": 15,
   "id": "8c5b7926",
   "metadata": {},
   "outputs": [
    {
     "data": {
      "text/plain": [
       "array([0., 1., 1., ..., 0., 0., 0.], dtype=float32)"
      ]
     },
     "execution_count": 15,
     "metadata": {},
     "output_type": "execute_result"
    }
   ],
   "source": [
    "y_test"
   ]
  },
  {
   "cell_type": "markdown",
   "id": "99b40421",
   "metadata": {},
   "source": [
    " "
   ]
  },
  {
   "cell_type": "markdown",
   "id": "a218d001",
   "metadata": {},
   "source": [
    "### 정리"
   ]
  },
  {
   "cell_type": "markdown",
   "id": "3681675c",
   "metadata": {},
   "source": [
    "* 원본 데이터를 신경망에 턴서로 주입하기 위해서는 전처리가 필요하다.\n",
    "* 출력 클래스가 2개인 이진 분류 문제에서는 네트워크는 `sigmoid` 활성화 함수를 가진 Dense 층으로 끝나야 한다.\n",
    "    * 이 신경망의 출력은 확률을 나타내는 0과 1 사이의 스칼라 값이다\n",
    "* 이진 분류 문제에서 Sigmoid 출력에 대해 사용할 손실 함수는 `binary_crossentropy`이다.\n",
    "* `rmsprop` 옵티마이저는 문제에 상관없이 일반적으로 좋은 선택이다."
   ]
  }
 ],
 "metadata": {
  "kernelspec": {
   "display_name": "Python 3",
   "language": "python",
   "name": "python3"
  },
  "language_info": {
   "codemirror_mode": {
    "name": "ipython",
    "version": 3
   },
   "file_extension": ".py",
   "mimetype": "text/x-python",
   "name": "python",
   "nbconvert_exporter": "python",
   "pygments_lexer": "ipython3",
   "version": "3.8.10"
  }
 },
 "nbformat": 4,
 "nbformat_minor": 5
}

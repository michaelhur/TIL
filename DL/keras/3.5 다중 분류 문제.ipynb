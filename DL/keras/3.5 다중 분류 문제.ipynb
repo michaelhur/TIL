{
 "cells": [
  {
   "cell_type": "markdown",
   "id": "2bed1b67",
   "metadata": {},
   "source": [
    "이번 포스트에서는 Reuter News Dataset을 사용하여 46개의 토픽으로 분류하는 신경망을 만들어 본다. 클래스가 많은 다중 분류 **multiclass classification**의 예시이다.\n",
    "\n",
    "* 더 정확히 하자면 단일 레이블 다중 분류 **single-label, multiclass classification** 문제이다.\n",
    "* 각 데이터 포인트가 여러개 범주에 속할 수 있다면 다중 레이블 다중 분류 **multi-label, multiclass classification** 문제가 된다."
   ]
  },
  {
   "cell_type": "markdown",
   "id": "1e554bba",
   "metadata": {},
   "source": [
    "### 로이터 데이터셋"
   ]
  },
  {
   "cell_type": "markdown",
   "id": "ccbadc45",
   "metadata": {},
   "source": [
    "1986년에 로이터가 공개한 이 데이터셋은 텍스트 분류를 위해 널리 사용된다. 46개의 토픽이 있으며 어떤 토픽은 다른 것에 비해 데이터가 많다. (불균형한 데이터). 각 토픽은 훈련 세트에 최소한 10개의 샘플을 가지고 있다."
   ]
  },
  {
   "cell_type": "markdown",
   "id": "ed7ebcfb",
   "metadata": {},
   "source": [
    "##### 데이터셋 로드하기"
   ]
  },
  {
   "cell_type": "code",
   "execution_count": 1,
   "id": "579aa21e",
   "metadata": {},
   "outputs": [
    {
     "name": "stderr",
     "output_type": "stream",
     "text": [
      "/home/jhhur/anaconda3/envs/TIL/lib/python3.8/site-packages/tensorflow/python/keras/datasets/reuters.py:148: VisibleDeprecationWarning: Creating an ndarray from ragged nested sequences (which is a list-or-tuple of lists-or-tuples-or ndarrays with different lengths or shapes) is deprecated. If you meant to do this, you must specify 'dtype=object' when creating the ndarray.\n",
      "  x_train, y_train = np.array(xs[:idx]), np.array(labels[:idx])\n",
      "/home/jhhur/anaconda3/envs/TIL/lib/python3.8/site-packages/tensorflow/python/keras/datasets/reuters.py:149: VisibleDeprecationWarning: Creating an ndarray from ragged nested sequences (which is a list-or-tuple of lists-or-tuples-or ndarrays with different lengths or shapes) is deprecated. If you meant to do this, you must specify 'dtype=object' when creating the ndarray.\n",
      "  x_test, y_test = np.array(xs[idx:]), np.array(labels[idx:])\n"
     ]
    }
   ],
   "source": [
    "from keras.datasets import reuters\n",
    "\n",
    "(train_data, train_labels), (test_data, test_labels) = reuters.load_data(num_words = 10000)"
   ]
  },
  {
   "cell_type": "markdown",
   "id": "c64673b2",
   "metadata": {},
   "source": [
    "이전 포스트인 IMDB 이진 분류 문제처럼 `num_words = 10000`를 사용하여  가장 자주 등장하는 단어 1만개로 제한한다.\n",
    "\n",
    "이 데이터 셋에는 8982개의 훈련 샘플과 2246개의 테스트 샘플이 있다.\n",
    "\n",
    "```python\n",
    ">>> len(train_data)\n",
    "8982\n",
    ">>> len(test_data)\n",
    "2246\n",
    "```\n",
    "\n",
    "또한 각 샘플은 정수 리스트이다. (단어 인덱스)\n",
    "\n",
    "```python\n",
    ">>> train_data[10]\n",
    "[1, 245, 273, ... , 17, 12]\n",
    "```\n",
    "\n",
    "샘플에 연결된 레이블은 토픽의 인덱스로 0과 45 사이의 정수이다.\n",
    "```python\n",
    ">>> train_label[10]\n",
    "3\n",
    "```"
   ]
  },
  {
   "cell_type": "markdown",
   "id": "ededf09b",
   "metadata": {},
   "source": [
    "##### 로이터 데이터셋을 텍스트로 디코딩하기"
   ]
  },
  {
   "cell_type": "code",
   "execution_count": 2,
   "id": "52edbc78",
   "metadata": {},
   "outputs": [
    {
     "data": {
      "text/plain": [
       "'? ? ? said as a result of its december acquisition of space co it expects earnings per share in 1987 of 1 15 to 1 30 dlrs per share up from 70 cts in 1986 the company said pretax net should rise to nine to 10 mln dlrs from six mln dlrs in 1986 and rental operation revenues to 19 to 22 mln dlrs from 12 5 mln dlrs it said cash flow per share this year should be 2 50 to three dlrs reuter 3'"
      ]
     },
     "execution_count": 2,
     "metadata": {},
     "output_type": "execute_result"
    }
   ],
   "source": [
    "word_index = reuters.get_word_index()\n",
    "reverse_word_index = dict([(value, key) for (key, value) in word_index.items()])\n",
    "decoded_newswire = \" \".join([reverse_word_index.get(i - 3, \"?\") for i in train_data[0]])\n",
    "\n",
    "decoded_newswire"
   ]
  },
  {
   "cell_type": "markdown",
   "id": "2fabeb6f",
   "metadata": {},
   "source": [
    " "
   ]
  },
  {
   "cell_type": "markdown",
   "id": "fec16699",
   "metadata": {},
   "source": [
    "### 데이터 준비"
   ]
  },
  {
   "cell_type": "markdown",
   "id": "5b84fd93",
   "metadata": {},
   "source": [
    "##### 데이터 인코딩하기"
   ]
  },
  {
   "cell_type": "code",
   "execution_count": 3,
   "id": "9c123dd9",
   "metadata": {},
   "outputs": [],
   "source": [
    "import numpy as np\n",
    "\n",
    "def vectorize_sequences(sequences, dimension = 10000):\n",
    "    results = np.zeros((len(sequences), dimension))\n",
    "    for i, sequence in enumerate(sequences):\n",
    "        results[i, sequence] = 1.\n",
    "    return results\n",
    "\n",
    "x_train = vectorize_sequences(train_data)\n",
    "x_test = vectorize_sequences(test_data)"
   ]
  },
  {
   "cell_type": "markdown",
   "id": "994f2ed8",
   "metadata": {},
   "source": [
    "두가지 방법으로 레이블을 벡터로 바꿀 수 있다.\n",
    "1. 레이블의 리스트를 정수 텐서로 변환하기\n",
    "2. One-hot encoding 사용하기\n",
    "\n",
    "원핫 인코딩이 범주형 데이터에 널리 사용되기 때문에 **범주형 인코딩 (categorical encoding)**이라고 불린다."
   ]
  },
  {
   "cell_type": "code",
   "execution_count": 4,
   "id": "44114aaf",
   "metadata": {},
   "outputs": [],
   "source": [
    "def to_one_hot(labels, dimension = 46):\n",
    "    results = np.zeros((len(labels), dimension))\n",
    "    for i, label in enumerate(labels):\n",
    "        results[i, label] = 1.\n",
    "    return results\n",
    "\n",
    "one_hot_train_labels = to_one_hot(train_labels)\n",
    "one_hot_test_labels = to_one_hot(test_labels)"
   ]
  },
  {
   "cell_type": "markdown",
   "id": "c8b6dedb",
   "metadata": {},
   "source": [
    "또는 Keras에 내장되어 있는 함수를 사용하여도 된다.\n",
    "\n",
    "```python\n",
    "from keras.utils.np_utils import to_categorical\n",
    "\n",
    "one_hot_train_labels = to_categorical(train_labels)\n",
    "one_hot_test_labels = to_categorical(test_labels)\n",
    "```"
   ]
  },
  {
   "cell_type": "markdown",
   "id": "4b4311d6",
   "metadata": {},
   "source": [
    " "
   ]
  },
  {
   "cell_type": "markdown",
   "id": "79ad2805",
   "metadata": {},
   "source": [
    "### 모델 구성"
   ]
  },
  {
   "cell_type": "markdown",
   "id": "0839abeb",
   "metadata": {},
   "source": [
    "IMDB 이진 분류 문제와 다르게 새로운 *제약*이 추가되었다. 출력 클래스의 개수가 2개에서 46개로 늘어났다. 출력 공간의 차원이 훨씬 커졌다는 뜻이다.\n",
    "\n",
    "Dense 층을 쌓으면 각 층은 이전 층의 출력에서 제공한 정보만 사용할 수 있다. 한 층이 분류 문제에 필요한 일부 정보를 누락하면 그 다음 층에서 이를 복원할 방법이 없다. 각 층은 잠재적으로 **정보의 병목(information bottleneck)**이 될 수 있다. IMDB에서 16차원을 가진 중간 층을 사용하였지만, 16차원은 46개의 클래스를 구분하기에 너무 제약이 많다.\n",
    "\n",
    "이번 예제에서는 더 규모가 큰 층인 64개의 히든 유닛을 사용할 것이다."
   ]
  },
  {
   "cell_type": "markdown",
   "id": "f1e2ea98",
   "metadata": {},
   "source": [
    "##### 모델 정의하기"
   ]
  },
  {
   "cell_type": "code",
   "execution_count": 5,
   "id": "81e63138",
   "metadata": {},
   "outputs": [],
   "source": [
    "from keras import models, layers\n",
    "\n",
    "model = models.Sequential()\n",
    "model.add(layers.Dense(64, activation = 'relu', input_shape = (10000,)))\n",
    "model.add(layers.Dense(64, activation = 'relu'))\n",
    "model.add(layers.Dense(46, activation = 'softmax'))"
   ]
  },
  {
   "cell_type": "markdown",
   "id": "96619fa1",
   "metadata": {},
   "source": [
    "이 구조에서 주목해야 할 점이 2가지 있다.\n",
    "\n",
    "1. 마지막 Dense 층의 크기가 46이다. 각 입력 샘플에 대해서 46차원의 벡터를 출력한다는 뜻. 각 원소는 각기 다른 출력 클래스이다.\n",
    "2. 마지막 층에 `softmax` 활성화 함수가 사용되었다. 각 입력 샘플마다 46개의 출력 클래스에 대한 확률 분포를 출력한다."
   ]
  },
  {
   "cell_type": "markdown",
   "id": "264d7ced",
   "metadata": {},
   "source": [
    "이런 문제에 사용할 최선의 손실 함수는 `categorical_crossentropy`이다.\n",
    "* 이 함수는 두 확률 분포 사이의 거리를 측정\n",
    "* 네트워크가 출력한 확률 분포와 진짜 레이블의 분포 사이의 거리 측정\n",
    "* 두 분포 사이의 거리를 최소화 하면 진짜 레이블에 가까운 출력이 가능"
   ]
  },
  {
   "cell_type": "markdown",
   "id": "fae1f8e4",
   "metadata": {},
   "source": [
    "##### 모델 컴파일"
   ]
  },
  {
   "cell_type": "code",
   "execution_count": 6,
   "id": "ea2cbb07",
   "metadata": {},
   "outputs": [],
   "source": [
    "model.compile(optimizer = 'rmsprop',\n",
    "              loss = 'categorical_crossentropy',\n",
    "              metrics = ['accuracy'])"
   ]
  },
  {
   "cell_type": "markdown",
   "id": "ecdace02",
   "metadata": {},
   "source": [
    " "
   ]
  },
  {
   "cell_type": "markdown",
   "id": "31b125d9",
   "metadata": {},
   "source": [
    "### 훈련 검증"
   ]
  },
  {
   "cell_type": "markdown",
   "id": "e197825a",
   "metadata": {},
   "source": [
    "##### 검증 세트 준비하기"
   ]
  },
  {
   "cell_type": "code",
   "execution_count": 7,
   "id": "7490f498",
   "metadata": {},
   "outputs": [],
   "source": [
    "x_val = x_train[:1000]\n",
    "partial_x_train = x_train[1000:]\n",
    "\n",
    "y_val = one_hot_train_labels[:1000]\n",
    "partial_y_train = one_hot_train_labels[1000:]"
   ]
  },
  {
   "cell_type": "markdown",
   "id": "840d9a36",
   "metadata": {},
   "source": [
    "##### 모델 훈련하기"
   ]
  },
  {
   "cell_type": "code",
   "execution_count": 8,
   "id": "166dca7d",
   "metadata": {},
   "outputs": [
    {
     "name": "stdout",
     "output_type": "stream",
     "text": [
      "Epoch 1/20\n",
      "16/16 [==============================] - 1s 20ms/step - loss: 3.2085 - accuracy: 0.4064 - val_loss: 1.8043 - val_accuracy: 0.6340\n",
      "Epoch 2/20\n",
      "16/16 [==============================] - 0s 7ms/step - loss: 1.5719 - accuracy: 0.6851 - val_loss: 1.3592 - val_accuracy: 0.7080\n",
      "Epoch 3/20\n",
      "16/16 [==============================] - 0s 8ms/step - loss: 1.1214 - accuracy: 0.7611 - val_loss: 1.1631 - val_accuracy: 0.7550\n",
      "Epoch 4/20\n",
      "16/16 [==============================] - 0s 7ms/step - loss: 0.8840 - accuracy: 0.8144 - val_loss: 1.0542 - val_accuracy: 0.7880\n",
      "Epoch 5/20\n",
      "16/16 [==============================] - 0s 8ms/step - loss: 0.6872 - accuracy: 0.8547 - val_loss: 0.9843 - val_accuracy: 0.8100\n",
      "Epoch 6/20\n",
      "16/16 [==============================] - 0s 7ms/step - loss: 0.5552 - accuracy: 0.8898 - val_loss: 0.9774 - val_accuracy: 0.7960\n",
      "Epoch 7/20\n",
      "16/16 [==============================] - 0s 7ms/step - loss: 0.4544 - accuracy: 0.9095 - val_loss: 0.9175 - val_accuracy: 0.8190\n",
      "Epoch 8/20\n",
      "16/16 [==============================] - 0s 7ms/step - loss: 0.3542 - accuracy: 0.9318 - val_loss: 0.9309 - val_accuracy: 0.8060\n",
      "Epoch 9/20\n",
      "16/16 [==============================] - 0s 7ms/step - loss: 0.2880 - accuracy: 0.9371 - val_loss: 0.9235 - val_accuracy: 0.8120\n",
      "Epoch 10/20\n",
      "16/16 [==============================] - 0s 7ms/step - loss: 0.2351 - accuracy: 0.9489 - val_loss: 0.9145 - val_accuracy: 0.8200\n",
      "Epoch 11/20\n",
      "16/16 [==============================] - 0s 7ms/step - loss: 0.1942 - accuracy: 0.9551 - val_loss: 0.9180 - val_accuracy: 0.8210\n",
      "Epoch 12/20\n",
      "16/16 [==============================] - 0s 7ms/step - loss: 0.1800 - accuracy: 0.9529 - val_loss: 0.9487 - val_accuracy: 0.8160\n",
      "Epoch 13/20\n",
      "16/16 [==============================] - 0s 7ms/step - loss: 0.1470 - accuracy: 0.9612 - val_loss: 0.9416 - val_accuracy: 0.8140\n",
      "Epoch 14/20\n",
      "16/16 [==============================] - 0s 7ms/step - loss: 0.1391 - accuracy: 0.9599 - val_loss: 1.0056 - val_accuracy: 0.8050\n",
      "Epoch 15/20\n",
      "16/16 [==============================] - 0s 7ms/step - loss: 0.1270 - accuracy: 0.9618 - val_loss: 1.0359 - val_accuracy: 0.8060\n",
      "Epoch 16/20\n",
      "16/16 [==============================] - 0s 7ms/step - loss: 0.1257 - accuracy: 0.9600 - val_loss: 1.0527 - val_accuracy: 0.7980\n",
      "Epoch 17/20\n",
      "16/16 [==============================] - 0s 7ms/step - loss: 0.1211 - accuracy: 0.9596 - val_loss: 1.0071 - val_accuracy: 0.8090\n",
      "Epoch 18/20\n",
      "16/16 [==============================] - 0s 7ms/step - loss: 0.1030 - accuracy: 0.9631 - val_loss: 1.0524 - val_accuracy: 0.8060\n",
      "Epoch 19/20\n",
      "16/16 [==============================] - 0s 7ms/step - loss: 0.1084 - accuracy: 0.9617 - val_loss: 1.0974 - val_accuracy: 0.7990\n",
      "Epoch 20/20\n",
      "16/16 [==============================] - 0s 5ms/step - loss: 0.1061 - accuracy: 0.9616 - val_loss: 1.0775 - val_accuracy: 0.7990\n"
     ]
    }
   ],
   "source": [
    "history = model.fit(partial_x_train,\n",
    "                    partial_y_train,\n",
    "                    epochs = 20,\n",
    "                    batch_size = 512,\n",
    "                    validation_data = (x_val, y_val))"
   ]
  },
  {
   "cell_type": "markdown",
   "id": "171e579c",
   "metadata": {},
   "source": [
    "##### 훈련과 검증 손실 그리기"
   ]
  },
  {
   "cell_type": "code",
   "execution_count": 9,
   "id": "5943197b",
   "metadata": {},
   "outputs": [
    {
     "data": {
      "image/png": "[encoded data removed]",
      "text/plain": [
       "<Figure size 432x288 with 1 Axes>"
      ]
     },
     "metadata": {
      "needs_background": "light"
     },
     "output_type": "display_data"
    }
   ],
   "source": [
    "import matplotlib.pyplot as plt\n",
    "\n",
    "loss = history.history['loss']\n",
    "val_loss = history.history['val_loss']\n",
    "\n",
    "epochs = range(1, len(loss)+1)\n",
    "\n",
    "plt.plot(epochs, loss, 'bo', label = \"Training Loss\")\n",
    "plt.plot(epochs, val_loss, 'b', label = \"Validation Loss\")\n",
    "plt.title(\"Training and Validation Loss\")\n",
    "plt.xlabel(\"Epochs\")\n",
    "plt.ylabel(\"Loss\")\n",
    "plt.legend()\n",
    "\n",
    "plt.show()"
   ]
  },
  {
   "cell_type": "code",
   "execution_count": 10,
   "id": "963003df",
   "metadata": {},
   "outputs": [
    {
     "data": {
      "image/png": "[encoded data removed]",
      "text/plain": [
       "<Figure size 432x288 with 1 Axes>"
      ]
     },
     "metadata": {
      "needs_background": "light"
     },
     "output_type": "display_data"
    }
   ],
   "source": [
    "import matplotlib.pyplot as plt\n",
    "\n",
    "acc = history.history['accuracy']\n",
    "val_acc = history.history['val_accuracy']\n",
    "\n",
    "epochs = range(1, len(acc)+1)\n",
    "\n",
    "plt.plot(epochs, acc, 'bo', label = \"Training acc\")\n",
    "plt.plot(epochs, val_acc, 'b', label = \"Validation acc\")\n",
    "plt.title(\"Training and Validation acc\")\n",
    "plt.xlabel(\"Epochs\")\n",
    "plt.ylabel(\"acc\")\n",
    "plt.legend()\n",
    "\n",
    "plt.show()"
   ]
  },
  {
   "cell_type": "markdown",
   "id": "48e47dcf",
   "metadata": {},
   "source": [
    "##### 처음부터 다시 훈련하기"
   ]
  },
  {
   "cell_type": "code",
   "execution_count": 11,
   "id": "d78a1a02",
   "metadata": {},
   "outputs": [
    {
     "name": "stdout",
     "output_type": "stream",
     "text": [
      "Epoch 1/9\n",
      "16/16 [==============================] - 0s 13ms/step - loss: 3.1092 - accuracy: 0.3965 - val_loss: 1.7400 - val_accuracy: 0.6730\n",
      "Epoch 2/9\n",
      "16/16 [==============================] - 0s 7ms/step - loss: 1.5049 - accuracy: 0.7043 - val_loss: 1.3022 - val_accuracy: 0.7030\n",
      "Epoch 3/9\n",
      "16/16 [==============================] - 0s 7ms/step - loss: 1.0688 - accuracy: 0.7765 - val_loss: 1.1229 - val_accuracy: 0.7590\n",
      "Epoch 4/9\n",
      "16/16 [==============================] - 0s 7ms/step - loss: 0.8287 - accuracy: 0.8292 - val_loss: 1.0413 - val_accuracy: 0.7610\n",
      "Epoch 5/9\n",
      "16/16 [==============================] - 0s 7ms/step - loss: 0.6459 - accuracy: 0.8652 - val_loss: 0.9639 - val_accuracy: 0.8020\n",
      "Epoch 6/9\n",
      "16/16 [==============================] - 0s 7ms/step - loss: 0.5364 - accuracy: 0.8854 - val_loss: 0.9260 - val_accuracy: 0.8070\n",
      "Epoch 7/9\n",
      "16/16 [==============================] - 0s 7ms/step - loss: 0.4340 - accuracy: 0.9093 - val_loss: 0.8961 - val_accuracy: 0.8210\n",
      "Epoch 8/9\n",
      "16/16 [==============================] - 0s 7ms/step - loss: 0.3660 - accuracy: 0.9240 - val_loss: 0.9162 - val_accuracy: 0.8120\n",
      "Epoch 9/9\n",
      "16/16 [==============================] - 0s 5ms/step - loss: 0.2901 - accuracy: 0.9421 - val_loss: 0.9431 - val_accuracy: 0.8040\n",
      "71/71 [==============================] - 0s 1ms/step - loss: 1.0149 - accuracy: 0.7814\n"
     ]
    }
   ],
   "source": [
    "model = models.Sequential()\n",
    "model.add(layers.Dense(64, activation = 'relu', input_shape = (10000,)))\n",
    "model.add(layers.Dense(64, activation = 'relu'))\n",
    "model.add(layers.Dense(46, activation = 'softmax'))\n",
    "\n",
    "model.compile(optimizer = 'rmsprop',\n",
    "              loss = 'categorical_crossentropy',\n",
    "              metrics = ['accuracy'])\n",
    "\n",
    "model.fit(partial_x_train,\n",
    "          partial_y_train,\n",
    "          epochs = 9,\n",
    "          batch_size = 512,\n",
    "          validation_data = (x_val, y_val))\n",
    "\n",
    "results = model.evaluate(x_test, one_hot_test_labels)"
   ]
  },
  {
   "cell_type": "code",
   "execution_count": 12,
   "id": "daaf129d",
   "metadata": {},
   "outputs": [
    {
     "data": {
      "text/plain": [
       "[1.0149332284927368, 0.7813891172409058]"
      ]
     },
     "execution_count": 12,
     "metadata": {},
     "output_type": "execute_result"
    }
   ],
   "source": [
    "results"
   ]
  },
  {
   "cell_type": "markdown",
   "id": "61981245",
   "metadata": {},
   "source": [
    "대략 78%의 정확도를 달성했다. 균형 잡힌 이진 분류 문제에서 완전히 무작위로 분류하면 대략 50%의 정확도를 달성한다. 이 문제는 불균형한 데이터셋을 사용하므로 무작위로 분류하면 18% 정도를 달성한다. 78%는 매우 좋은 결과인다."
   ]
  },
  {
   "cell_type": "markdown",
   "id": "eda9e824",
   "metadata": {},
   "source": [
    " "
   ]
  },
  {
   "cell_type": "markdown",
   "id": "04a499ed",
   "metadata": {},
   "source": [
    "### 새로운 데이터로 예측하기"
   ]
  },
  {
   "cell_type": "code",
   "execution_count": 13,
   "id": "4f2e5376",
   "metadata": {},
   "outputs": [],
   "source": [
    "predictions = model.predict(x_test)"
   ]
  },
  {
   "cell_type": "markdown",
   "id": "36e3c1dd",
   "metadata": {},
   "source": [
    "predictions의 각 항목은 길이가 46인 벡터\n",
    "\n",
    "```python\n",
    ">>> predictions[0].shape\n",
    "(46, )\n",
    "```\n",
    "\n",
    "이 벡터 원소의 합은 1\n",
    "```python\n",
    ">>> np.sum(predictions[0])\n",
    "1.0\n",
    "```\n",
    "\n",
    "가장 큰 값이 예측 클래스가 된다. 즉, 가장 확률이 높은 클래스이다.\n",
    "```python\n",
    ">>> np.argmax(predictions[0])\n",
    "3\n",
    "```"
   ]
  },
  {
   "cell_type": "markdown",
   "id": "ecdd7c9d",
   "metadata": {},
   "source": [
    "  "
   ]
  },
  {
   "cell_type": "markdown",
   "id": "7164bdb1",
   "metadata": {},
   "source": [
    "### 충분히 큰 중간 층을 두어야 하는 이유"
   ]
  },
  {
   "cell_type": "markdown",
   "id": "aad818b2",
   "metadata": {},
   "source": [
    "앞서 언급한 것처럼 마지막 출력이 46차원이기 때문에 중간 층의 히든 유닛이 46개보다 많이 적어서는 안된다. 46차원보다 훨씬 작은 중간층 (예를 들어 4차원)을 두면 정보의 병목이 어떻게 나오는지 알아보자"
   ]
  },
  {
   "cell_type": "code",
   "execution_count": 14,
   "id": "100079e3",
   "metadata": {},
   "outputs": [
    {
     "name": "stdout",
     "output_type": "stream",
     "text": [
      "Epoch 1/20\n",
      "63/63 [==============================] - 0s 4ms/step - loss: 3.5416 - accuracy: 0.0766 - val_loss: 2.8293 - val_accuracy: 0.2530\n",
      "Epoch 2/20\n",
      "63/63 [==============================] - 0s 3ms/step - loss: 2.5228 - accuracy: 0.2638 - val_loss: 1.8646 - val_accuracy: 0.3940\n",
      "Epoch 3/20\n",
      "63/63 [==============================] - 0s 3ms/step - loss: 1.5543 - accuracy: 0.5971 - val_loss: 1.4314 - val_accuracy: 0.6580\n",
      "Epoch 4/20\n",
      "63/63 [==============================] - 0s 3ms/step - loss: 1.1322 - accuracy: 0.7164 - val_loss: 1.3038 - val_accuracy: 0.6980\n",
      "Epoch 5/20\n",
      "63/63 [==============================] - 0s 2ms/step - loss: 0.9800 - accuracy: 0.7491 - val_loss: 1.2486 - val_accuracy: 0.7160\n",
      "Epoch 6/20\n",
      "63/63 [==============================] - 0s 3ms/step - loss: 0.8827 - accuracy: 0.7752 - val_loss: 1.2386 - val_accuracy: 0.7220\n",
      "Epoch 7/20\n",
      "63/63 [==============================] - 0s 3ms/step - loss: 0.7927 - accuracy: 0.7927 - val_loss: 1.2492 - val_accuracy: 0.7270\n",
      "Epoch 8/20\n",
      "63/63 [==============================] - 0s 3ms/step - loss: 0.7404 - accuracy: 0.8055 - val_loss: 1.3159 - val_accuracy: 0.7120\n",
      "Epoch 9/20\n",
      "63/63 [==============================] - 0s 3ms/step - loss: 0.6900 - accuracy: 0.8128 - val_loss: 1.3179 - val_accuracy: 0.7150\n",
      "Epoch 10/20\n",
      "63/63 [==============================] - 0s 3ms/step - loss: 0.6728 - accuracy: 0.8164 - val_loss: 1.3441 - val_accuracy: 0.7220\n",
      "Epoch 11/20\n",
      "63/63 [==============================] - 0s 3ms/step - loss: 0.5893 - accuracy: 0.8339 - val_loss: 1.3639 - val_accuracy: 0.7200\n",
      "Epoch 12/20\n",
      "63/63 [==============================] - 0s 3ms/step - loss: 0.5442 - accuracy: 0.8445 - val_loss: 1.3757 - val_accuracy: 0.7180\n",
      "Epoch 13/20\n",
      "63/63 [==============================] - 0s 3ms/step - loss: 0.5342 - accuracy: 0.8352 - val_loss: 1.4329 - val_accuracy: 0.7140\n",
      "Epoch 14/20\n",
      "63/63 [==============================] - 0s 3ms/step - loss: 0.5066 - accuracy: 0.8437 - val_loss: 1.4846 - val_accuracy: 0.7210\n",
      "Epoch 15/20\n",
      "63/63 [==============================] - 0s 3ms/step - loss: 0.4779 - accuracy: 0.8517 - val_loss: 1.5542 - val_accuracy: 0.7080\n",
      "Epoch 16/20\n",
      "63/63 [==============================] - 0s 3ms/step - loss: 0.4478 - accuracy: 0.8578 - val_loss: 1.5465 - val_accuracy: 0.7190\n",
      "Epoch 17/20\n",
      "63/63 [==============================] - 0s 3ms/step - loss: 0.4284 - accuracy: 0.8690 - val_loss: 1.6232 - val_accuracy: 0.7140\n",
      "Epoch 18/20\n",
      "63/63 [==============================] - 0s 3ms/step - loss: 0.3961 - accuracy: 0.8813 - val_loss: 1.7335 - val_accuracy: 0.7040\n",
      "Epoch 19/20\n",
      "63/63 [==============================] - 0s 3ms/step - loss: 0.3880 - accuracy: 0.8807 - val_loss: 1.8055 - val_accuracy: 0.7000\n",
      "Epoch 20/20\n",
      "63/63 [==============================] - 0s 2ms/step - loss: 0.3787 - accuracy: 0.8820 - val_loss: 1.8237 - val_accuracy: 0.7090\n"
     ]
    },
    {
     "data": {
      "text/plain": [
       "<tensorflow.python.keras.callbacks.History at 0x7fef1c8b41f0>"
      ]
     },
     "execution_count": 14,
     "metadata": {},
     "output_type": "execute_result"
    }
   ],
   "source": [
    "model = models.Sequential()\n",
    "model.add(layers.Dense(64, activation = 'relu', input_shape = (10000,)))\n",
    "model.add(layers.Dense(4, activation = 'relu'))\n",
    "model.add(layers.Dense(46, activation = 'softmax'))\n",
    "\n",
    "model.compile(optimizer = 'rmsprop',\n",
    "              loss = 'categorical_crossentropy',\n",
    "              metrics = ['accuracy'])\n",
    "\n",
    "model.fit(partial_x_train,\n",
    "          partial_y_train,\n",
    "          epochs = 20,\n",
    "          batch_size = 128,\n",
    "          validation_data = (x_val, y_val))\n"
   ]
  },
  {
   "cell_type": "markdown",
   "id": "89307fe3",
   "metadata": {},
   "source": [
    "검증 정확도는 71%로 약 7% 정도 감소했다. 이런 손실의 원인 대부분은 많은 정보를 중간층의 저차원 표현 공간으로 압축하려고 했기 때문. 이 네트워크는 필요한 정보 대부분을 4차원 표현 안에 구겨 넣었지만 전부를 넣지는 못하였다."
   ]
  }
 ],
 "metadata": {
  "kernelspec": {
   "display_name": "Python 3",
   "language": "python",
   "name": "python3"
  },
  "language_info": {
   "codemirror_mode": {
    "name": "ipython",
    "version": 3
   },
   "file_extension": ".py",
   "mimetype": "text/x-python",
   "name": "python",
   "nbconvert_exporter": "python",
   "pygments_lexer": "ipython3",
   "version": "3.8.10"
  }
 },
 "nbformat": 4,
 "nbformat_minor": 5
}

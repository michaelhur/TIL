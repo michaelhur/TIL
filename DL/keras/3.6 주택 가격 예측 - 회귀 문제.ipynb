{
 "cells": [
  {
   "cell_type": "markdown",
   "id": "4d222e58",
   "metadata": {},
   "source": [
    "이번 예제는 개별적인 레이블 대신 **연속적인 값**을 예측하는 **회귀 (Regression)** 문제입니다."
   ]
  },
  {
   "cell_type": "markdown",
   "id": "8311b292",
   "metadata": {},
   "source": [
    "### 보스턴 주택 가격 데이터셋"
   ]
  },
  {
   "cell_type": "markdown",
   "id": "b0ded626",
   "metadata": {},
   "source": [
    "1970년 중반 보스턴 외곽 지역의 범죄율, 지방세율 등 각종 데이터가 주어졌을때의 주택 가격의 중간 값을 예측하는 문제입니다. 이 예제는 [IMDB 이진 분류 문제](https://michaelhur.github.io/IMDB-Binary-Classification/)와 [로이터 뉴스 다중 분류 문제](https://michaelhur.github.io/Reuters-News-Classification/)와는 다르게 데이트 포인트가 적고 각 특성의 스케일이 서로 다릅니다. 어떤 특성은 0과 1 사이의 비율을 나타내고, 어떤 특성은 1과 12 사이의 값, 어떤 값은 1과 100 사이의 값을 가집니다."
   ]
  },
  {
   "cell_type": "markdown",
   "id": "e86529dc",
   "metadata": {},
   "source": [
    "##### 데이터셋 로드"
   ]
  },
  {
   "cell_type": "code",
   "execution_count": 1,
   "id": "5215f101",
   "metadata": {},
   "outputs": [],
   "source": [
    "from keras.datasets import boston_housing\n",
    "\n",
    "(train_data, train_targets), (test_data, test_targets) = boston_housing.load_data()"
   ]
  },
  {
   "cell_type": "markdown",
   "id": "693194dd",
   "metadata": {},
   "source": [
    "```python\n",
    ">>> train_data.shape\n",
    "(404, 13)\n",
    "```\n",
    "\n",
    "```python\n",
    ">>> test_data.shape\n",
    "(102, 13)\n",
    "```\n",
    "\n",
    "[IMDB 이진 분류 문제](https://michaelhur.github.io/IMDB-Binary-Classification/)와 [로이터 뉴스 다중 분류 문제](https://michaelhur.github.io/Reuters-News-Classification/)와는 다르게 404개의 훈련 샘플과 102개의 테스트 샘플만이 존재하고 각각 13개의 특성이 존재합니다.\n",
    "\n",
    "타깃은 주택의 중간 가격 (median)으로 천 달러 단위입니다.\n",
    "```python\n",
    "[15.2, 42.3, 50., ..., 19.4, 29.1]\n",
    "```"
   ]
  },
  {
   "cell_type": "markdown",
   "id": "f00812a6",
   "metadata": {},
   "source": [
    " "
   ]
  },
  {
   "cell_type": "markdown",
   "id": "06b8c9ff",
   "metadata": {},
   "source": [
    "### 데이터 준비"
   ]
  },
  {
   "cell_type": "markdown",
   "id": "c44913b2",
   "metadata": {},
   "source": [
    "상이한 스케일을 가진 값을 신경망에 주입하면 문제가 생깁니다. 특성의 스케일이 다르면 Global Minimum을 찾아가는 SGD의 경로가 스케일이 큰 특성에 영향을 많이 받습니다. 즉 학습을 더 어렵게 만듭니다. 이런 데이터를 다룰때 대표적인 방법은 특성별로 *정규화 (standardize)*하는 것입니다.\n",
    "* 각 특성에 대해서 특성의 평균을 빼고 표준 편차로 나누어줌 \n",
    "* 특성의 평균이 0에 맞추어지고 표준 편차가 1이 됨"
   ]
  },
  {
   "cell_type": "markdown",
   "id": "3755ba9d",
   "metadata": {},
   "source": [
    "##### 데이터 정규화 하기"
   ]
  },
  {
   "cell_type": "code",
   "execution_count": 2,
   "id": "2fbbfffa",
   "metadata": {},
   "outputs": [],
   "source": [
    "mean = train_data.mean(axis = 0)\n",
    "train_data -= mean\n",
    "std = train_data.std(axis = 0)\n",
    "train_data /= std\n",
    "\n",
    "test_data -= mean\n",
    "test_data /= std"
   ]
  },
  {
   "cell_type": "markdown",
   "id": "2ad2ceeb",
   "metadata": {},
   "source": [
    "테스트 데이터를 표준화할때 사용한 값 역시 훈련 데이터에서 계산한 값."
   ]
  },
  {
   "cell_type": "markdown",
   "id": "8e6e00f2",
   "metadata": {},
   "source": [
    " "
   ]
  },
  {
   "cell_type": "markdown",
   "id": "0e8d8989",
   "metadata": {},
   "source": [
    "### 모델 구성"
   ]
  },
  {
   "cell_type": "markdown",
   "id": "4b951784",
   "metadata": {},
   "source": [
    "샘플 개수가 적기 때문에 64개의 유닛을 가진 2개의 은닉 층으로 작은 네트워크를 구성하여 사용하겠습니다."
   ]
  },
  {
   "cell_type": "code",
   "execution_count": 3,
   "id": "66fcf6e1",
   "metadata": {},
   "outputs": [],
   "source": [
    "from keras import layers, models\n",
    "\n",
    "def build_model():\n",
    "    model = models.Sequential()\n",
    "    model.add(layers.Dense(64, activation = 'relu', input_shape = (train_data.shape[1],)))\n",
    "    model.add(layers.Dense(64, activation = 'relu'))\n",
    "    model.add(layers.Dense(1))\n",
    "    \n",
    "    model.compile(optimizer = 'rmsprop', loss = 'mse', metrics = ['mae'])\n",
    "    \n",
    "    return model"
   ]
  },
  {
   "cell_type": "markdown",
   "id": "4a27a3d7",
   "metadata": {},
   "source": [
    "이 네트워크의 마지막 층 `layer.Dense(1)`은 활성화 함수가 없습니다. 활성화 함수를 적용하면 출력 값의 범위를 *제한*하게 됩니다. 예를 들면, 마지막 층에 `sigmoid` 함수를 적용하면 네트워크의 최종 출력은 0과 1사이의 값을 예측하도록 학습됩니다.\n",
    "\n",
    "이 모델은 *평균 제곱 오차 (mean squared error)*을 손실 함수로 사용합니다. 예측과 타깃 사이 거리의 제곱을 계산합니다. 훈련하는 동안에는 **평균 절대 오차 (mean absolute error)**를 측정합니다. 이는 예측과 타깃 사이의 절대값입니다."
   ]
  },
  {
   "cell_type": "markdown",
   "id": "47378153",
   "metadata": {},
   "source": [
    " "
   ]
  },
  {
   "cell_type": "markdown",
   "id": "2ab666a8",
   "metadata": {},
   "source": [
    "### K-겹 검증을 사용한 훈련 검증 (K-fold cross validation)"
   ]
  },
  {
   "cell_type": "markdown",
   "id": "c39b3ec9",
   "metadata": {},
   "source": [
    "데이터 포인트가 많지 않기 때문에 검증 세트도 매우 작아집니다. 결국 검증 세트와 훈련 세트가 어떤 데이터 포인트가 선택되었는지에 따라 검증 점수가 달라집니다. 이런 상황에서 가장 좋은 방법은 *K-겹 교차 검증 (K-fold cross-validation)*을 사용하는 것입니다.\n",
    "* 데이터를 K개의 분할 (fold)로 나누고, K개의 모델을 만들어 각각 K-1개의 분할에서 훈련하고 나머지 분할에서 평가하는 방법\n",
    "* 모델의 검증 점수는 K개의 검증 점수 평균\n",
    "\n",
    "![](../images/3-7-Kfold.png)"
   ]
  },
  {
   "cell_type": "markdown",
   "id": "df4b5b67",
   "metadata": {},
   "source": [
    "##### K-fold cross-validation"
   ]
  },
  {
   "cell_type": "code",
   "execution_count": 4,
   "id": "8f8c37d5",
   "metadata": {},
   "outputs": [
    {
     "name": "stdout",
     "output_type": "stream",
     "text": [
      "처리중인 폴드 #: 0\n",
      "처리중인 폴드 #: 1\n",
      "처리중인 폴드 #: 2\n",
      "처리중인 폴드 #: 3\n"
     ]
    }
   ],
   "source": [
    "import numpy as np\n",
    "\n",
    "k = 4\n",
    "\n",
    "num_val_samples = len(train_data) // k\n",
    "num_epochs = 100\n",
    "all_scores = []\n",
    "\n",
    "for i in range(k):\n",
    "    print(\"처리중인 폴드 #:\", i)\n",
    "    val_data = train_data[i * num_val_samples: (i + 1) * num_val_samples]\n",
    "    val_targets = train_targets[i * num_val_samples: (i + 1) * num_val_samples]\n",
    "    \n",
    "    partial_train_data = np.concatenate([train_data[:i * num_val_samples],\n",
    "                                         train_data[(i + 1) * num_val_samples:]], axis = 0)\n",
    "    \n",
    "    partial_train_targets = np.concatenate([train_targets[:i * num_val_samples],\n",
    "                                           train_targets[(i + 1) * num_val_samples:]], axis = 0)\n",
    "    \n",
    "    model = build_model()\n",
    "    model.fit(partial_train_data, partial_train_targets, epochs = num_epochs, batch_size = 1, verbose = 0)\n",
    "    \n",
    "    val_mse, val_mae = model.evaluate(val_data, val_targets, verbose = 0)\n",
    "    all_scores.append(val_mae)"
   ]
  },
  {
   "cell_type": "markdown",
   "id": "0b90e100",
   "metadata": {},
   "source": [
    "```python\n",
    ">>> all_scores\n",
    "[3.1349971294403076, 2.878347158432007, 3.1985702514648438, 3.552551031112671]\n",
    "\n",
    ">>> np.mean(all_scores)\n",
    "3.1911163926124573\n",
    "```\n",
    "\n",
    "검증 세트가 다르므로 검증 점수가 2.8에서 3.5까지 변화가 큽니다. 평균값 (3.19)가 각각의 점수보다 훨씬 신뢰할 만합니다. 이것이 K-겹 교차 검증의 핵심입니다.\n",
    "\n",
    "이번에는 500 에포크동안 훈련 시켜보도록 하겠습니다."
   ]
  },
  {
   "cell_type": "code",
   "execution_count": 5,
   "id": "37a0463d",
   "metadata": {},
   "outputs": [
    {
     "name": "stdout",
     "output_type": "stream",
     "text": [
      "처리중인 폴드 #: 0\n",
      "처리중인 폴드 #: 1\n",
      "처리중인 폴드 #: 2\n",
      "처리중인 폴드 #: 3\n"
     ]
    }
   ],
   "source": [
    "k = 4\n",
    "\n",
    "num_val_samples = len(train_data) // k\n",
    "num_epochs = 500\n",
    "all_mae_histories = []\n",
    "\n",
    "for i in range(k):\n",
    "    print(\"처리중인 폴드 #:\", i)\n",
    "    val_data = train_data[i * num_val_samples: (i + 1) * num_val_samples]\n",
    "    val_targets = train_targets[i * num_val_samples: (i + 1) * num_val_samples]\n",
    "    \n",
    "    partial_train_data = np.concatenate([train_data[:i * num_val_samples],\n",
    "                                         train_data[(i + 1) * num_val_samples:]], axis = 0)\n",
    "    \n",
    "    partial_train_targets = np.concatenate([train_targets[:i * num_val_samples],\n",
    "                                           train_targets[(i + 1) * num_val_samples:]], axis = 0)\n",
    "    \n",
    "    model = build_model()\n",
    "    history = model.fit(partial_train_data, partial_train_targets,\n",
    "                        validation_data = (val_data, val_targets),\n",
    "                        epochs = num_epochs, batch_size = 1, verbose = 0)\n",
    "    \n",
    "    mae_history = history.history['val_mae']\n",
    "    all_mae_histories.append(mae_history)"
   ]
  },
  {
   "cell_type": "markdown",
   "id": "a9e88f53",
   "metadata": {},
   "source": [
    "모든 폴드에 대해 에포크의 MAE 점수 평균을 계산합니다"
   ]
  },
  {
   "cell_type": "code",
   "execution_count": 6,
   "id": "cf7c2e78",
   "metadata": {},
   "outputs": [],
   "source": [
    "average_mae_history = [np.mean([x[i] for x in all_mae_histories]) for i in range(num_epochs)]"
   ]
  },
  {
   "cell_type": "markdown",
   "id": "2413b199",
   "metadata": {},
   "source": [
    "그래프로 나타내면 다음과 같습니다."
   ]
  },
  {
   "cell_type": "code",
   "execution_count": 7,
   "id": "8da712cf",
   "metadata": {},
   "outputs": [
    {
     "data": {
      "image/png": "[encoded data removed]",
      "text/plain": [
       "<Figure size 432x288 with 1 Axes>"
      ]
     },
     "metadata": {
      "needs_background": "light"
     },
     "output_type": "display_data"
    }
   ],
   "source": [
    "import matplotlib.pyplot as plt\n",
    "\n",
    "plt.plot(range(1, len(average_mae_history) + 1), average_mae_history)\n",
    "plt.xlabel('Epochs')\n",
    "plt.ylabel('Validation MAE')\n",
    "plt.show()"
   ]
  },
  {
   "cell_type": "markdown",
   "id": "e598a157",
   "metadata": {},
   "source": [
    "그래프의 범위가 크고 변동이 심하기 때문에 보기가 힘듭니다. 부드러운 곡선을 얻기 위해 각 포인트를 이전 포인트의 *지수 이동 평균 exponential moving average*로 대체합니다."
   ]
  },
  {
   "cell_type": "code",
   "execution_count": 8,
   "id": "c7e94c16",
   "metadata": {
    "scrolled": true
   },
   "outputs": [
    {
     "data": {
      "image/png": "[encoded data removed]",
      "text/plain": [
       "<Figure size 432x288 with 1 Axes>"
      ]
     },
     "metadata": {
      "needs_background": "light"
     },
     "output_type": "display_data"
    }
   ],
   "source": [
    "def smooth_curve(points, factor = 0.5):\n",
    "    smoothed_points = []\n",
    "    \n",
    "    for point in points:\n",
    "        if smoothed_points:\n",
    "            previous = smoothed_points[-1]\n",
    "            smoothed_points.append(previous * factor + point * (1 - factor))\n",
    "            \n",
    "        else:\n",
    "            smoothed_points.append(point)\n",
    "            \n",
    "    return smoothed_points\n",
    "\n",
    "smooth_mae_history = smooth_curve(average_mae_history)\n",
    "\n",
    "plt.plot(range(1, len(smooth_mae_history) + 1), smooth_mae_history)\n",
    "plt.xlabel('Epochs')\n",
    "plt.ylabel('Validation MAE')\n",
    "plt.show()"
   ]
  },
  {
   "cell_type": "markdown",
   "id": "f9787458",
   "metadata": {},
   "source": [
    "검증 MAE가 약 80번째 에포크 이후에 줄어드는 것이 멈추었습니다."
   ]
  },
  {
   "cell_type": "markdown",
   "id": "99cdb087",
   "metadata": {},
   "source": [
    "##### 최종 모델 훈련"
   ]
  },
  {
   "cell_type": "code",
   "execution_count": 9,
   "id": "f3362615",
   "metadata": {},
   "outputs": [
    {
     "name": "stdout",
     "output_type": "stream",
     "text": [
      "4/4 [==============================] - 0s 628us/step - loss: 18.1663 - mae: 2.5927\n"
     ]
    }
   ],
   "source": [
    "model = build_model()\n",
    "model.fit(train_data, train_targets,\n",
    "          epochs = 80, batch_size = 16, verbose = 0)\n",
    "\n",
    "test_mse_score, test_mae_score = model.evaluate(test_data, test_targets)"
   ]
  },
  {
   "cell_type": "markdown",
   "id": "35a22e16",
   "metadata": {},
   "source": [
    "```python\n",
    ">>> test_mse_score\n",
    "10.024432182312012\n",
    "```"
   ]
  }
 ],
 "metadata": {
  "kernelspec": {
   "display_name": "Python 3",
   "language": "python",
   "name": "python3"
  },
  "language_info": {
   "codemirror_mode": {
    "name": "ipython",
    "version": 3
   },
   "file_extension": ".py",
   "mimetype": "text/x-python",
   "name": "python",
   "nbconvert_exporter": "python",
   "pygments_lexer": "ipython3",
   "version": "3.8.10"
  }
 },
 "nbformat": 4,
 "nbformat_minor": 5
}

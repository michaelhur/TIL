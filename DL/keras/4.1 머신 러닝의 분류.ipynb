{
 "cells": [
  {
   "cell_type": "markdown",
   "id": "57a3c59b",
   "metadata": {},
   "source": [
    " 머신 러닝은 아래의 4개의 커다란 범주 안에 속합니다."
   ]
  },
  {
   "cell_type": "markdown",
   "id": "2cac0e78",
   "metadata": {},
   "source": [
    " "
   ]
  },
  {
   "cell_type": "markdown",
   "id": "e41f1e73",
   "metadata": {},
   "source": [
    "### 지도 학습"
   ]
  },
  {
   "cell_type": "code",
   "execution_count": null,
   "id": "9b42168d",
   "metadata": {},
   "outputs": [],
   "source": []
  }
 ],
 "metadata": {
  "kernelspec": {
   "display_name": "Python 3",
   "language": "python",
   "name": "python3"
  },
  "language_info": {
   "codemirror_mode": {
    "name": "ipython",
    "version": 3
   },
   "file_extension": ".py",
   "mimetype": "text/x-python",
   "name": "python",
   "nbconvert_exporter": "python",
   "pygments_lexer": "ipython3",
   "version": "3.8.10"
  }
 },
 "nbformat": 4,
 "nbformat_minor": 5
}

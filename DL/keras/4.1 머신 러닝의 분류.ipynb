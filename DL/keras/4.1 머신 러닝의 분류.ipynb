{
 "cells": [
  {
   "cell_type": "markdown",
   "id": "57a3c59b",
   "metadata": {},
   "source": [
    " 머신 러닝은 아래의 4개의 커다란 범주 안에 속합니다."
   ]
  },
  {
   "cell_type": "markdown",
   "id": "eca9b761",
   "metadata": {},
   "source": [
    " "
   ]
  },
  {
   "cell_type": "markdown",
   "id": "9bd30a10",
   "metadata": {},
   "source": [
    "### 지도 학습"
   ]
  },
  {
   "cell_type": "markdown",
   "id": "ce5ad5ce",
   "metadata": {},
   "source": [
    "샘플 데이터가 주어지면 알고 있는 타깃에 입력 데이터를 매핑하는 방법을 학습합니다. 지도 학습은 대부분 분류와 회귀로 구성되지만 다음과 같은 변종도 있습니다\n",
    "\n",
    "* 시퀀시 생성 (Sequence Generation): 사진이 주어지면 이를 설명하는 캡션을 생성합니다.\n",
    "* 구문 트리 (Syntax Tree) 예측: 문장이 주어지면 분해된 구문 트리를 예측합니다.\n",
    "* 물체 감지 (Object Detection): 사진이 주어지면 사진 안의 특정 물체 주위에 경계 상자를 그립니다.\n",
    "* 이미지 분할 (Image Segmentation): 사진이 주어졌을때 픽셀 단위로 특정 물체에 마스킹합니다."
   ]
  },
  {
   "cell_type": "markdown",
   "id": "34f5d206",
   "metadata": {},
   "source": [
    " "
   ]
  },
  {
   "cell_type": "markdown",
   "id": "95ae428d",
   "metadata": {},
   "source": [
    "### 비지도 학습"
   ]
  },
  {
   "cell_type": "markdown",
   "id": "0799f774",
   "metadata": {},
   "source": [
    "어떤 타킷도 사용하지 않고 입력 데이터에 대한 흥미로운 패턴을 찾습니다.\n",
    "* 차원 축소 (Dimensionality Reduction)과 군집 (Clustering)이 가장 잘 알려진 범주입니다."
   ]
  },
  {
   "cell_type": "markdown",
   "id": "8fa390d2",
   "metadata": {},
   "source": [
    " "
   ]
  },
  {
   "cell_type": "markdown",
   "id": "a77e1d84",
   "metadata": {},
   "source": [
    "### 자기 지도 학습"
   ]
  },
  {
   "cell_type": "markdown",
   "id": "5b8d0b74",
   "metadata": {},
   "source": [
    "자기 지도 학습은 지도 학습의 특별한 경우입니다. 자기 지도 학습은 지도 학습이지만 사람이 만든 레이블을 사용하지 않습니다. 즉 학습 과정에 사람이 개입하지 않는 지도 학습이라고 볼 수 있습니다.\n",
    "* 오토인코더 (Autoencoder): 여기서 생성된 타깃은 수정하지 않은 원본 입력입니다. 같은 방식으로 지난 프레임이 주어졌을때 비디오의 다음 프레임을 예측하는 것이나, 이전 단어가 주어졌을 때 다음 단어를 예측하는 것이 자기 지도 학습의 예입니다."
   ]
  },
  {
   "cell_type": "markdown",
   "id": "4124a52e",
   "metadata": {},
   "source": [
    " "
   ]
  },
  {
   "cell_type": "markdown",
   "id": "c2bc3295",
   "metadata": {},
   "source": [
    "### 강화 학습"
   ]
  },
  {
   "cell_type": "markdown",
   "id": "965913ff",
   "metadata": {},
   "source": [
    "강화 학습에서 에이전트(agent)는 환경에 대한 정보를 받아 보상을 최대화하는 행동을 선택하도록 학습됩니다"
   ]
  },
  {
   "cell_type": "markdown",
   "id": "e275da15",
   "metadata": {},
   "source": [
    " "
   ]
  },
  {
   "cell_type": "markdown",
   "id": "2bd4f8e4",
   "metadata": {},
   "source": [
    "### 분류와 회귀에서 사용하는 용어"
   ]
  },
  {
   "cell_type": "markdown",
   "id": "487482b1",
   "metadata": {},
   "source": [
    "* **샘플 (입력)**: 모델에 주입될 하나의 데이터 포인트\n",
    "* **예측 (출력)**: 모델로부터 나오는 값\n",
    "* **타겟**: 정답. 외부 데이터 소스에 근거하여 모델이 완벽하게 예측해야 하는 값\n",
    "* **손실 값 (예측 오차)**: 모델의 예측과 타깃 사이의 거리를 측정한 값\n",
    "* **클래스**: 분류 문제에서 선택할 수 있는 가능한 레이블의 집합.\n",
    "    * 고양이와 강아지 사진을 분류할 때 클래스는 *고양이*와 *강아지* 2개입니다.\n",
    "* **레이블**: 분류 문제에서 클래스 할당의 구체적인 사례\n",
    "* **이진 분류**: 각 입력 샘플이 2개의 배타적인 범주로 구분되는 분류 작업\n",
    "* **다중 분류**: 각 입력 샘플이 2개 이상의 범주로 구분되는 분류 작업\n",
    "* **다중 레이블 분류**: 각 입력 샘플이 여러 개의 레이블에 할당될 수 있는 분류 작업\n",
    "* **스칼라 회귀**: 타깃이 연속적인 스칼라 값인 작업\n",
    "* **벡터 회귀**: 타깃이 연속적인 값의 집합인 작업 (이미지)\n",
    "* **미니 배치 (또는 배치)**: 모델에 의해 동시에 처리되는 소량의 샘플 묶음"
   ]
  }
 ],
 "metadata": {
  "kernelspec": {
   "display_name": "Python 3",
   "language": "python",
   "name": "python3"
  },
  "language_info": {
   "codemirror_mode": {
    "name": "ipython",
    "version": 3
   },
   "file_extension": ".py",
   "mimetype": "text/x-python",
   "name": "python",
   "nbconvert_exporter": "python",
   "pygments_lexer": "ipython3",
   "version": "3.8.10"
  }
 },
 "nbformat": 4,
 "nbformat_minor": 5
}

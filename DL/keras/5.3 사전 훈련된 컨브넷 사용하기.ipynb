{
 "cells": [
  {
   "cell_type": "code",
   "execution_count": 1,
   "id": "ddebab32",
   "metadata": {},
   "outputs": [],
   "source": [
    "import keras\n",
    "import tensorflow as tf\n",
    "\n",
    "# Memory Pre-configuration\n",
    "config = tf.compat.v1.ConfigProto(\n",
    "    gpu_options=tf.compat.v1.GPUOptions(\n",
    "        per_process_gpu_memory_fraction=0.9,\n",
    "        allow_growth = True\n",
    "    )\n",
    "    # device_count = {'GPU': 1}\n",
    ")\n",
    "session = tf.compat.v1.Session(config=config)\n",
    "tf.compat.v1.keras.backend.set_session(session)"
   ]
  },
  {
   "cell_type": "markdown",
   "id": "7533dca0",
   "metadata": {},
   "source": [
    "작은 이미지 데이터셋에 딥러닝을 적용하는 일반적이고 매우 효과적인 방법은 **사전 훈련된 네트워크**를 사용하는 것입니다. **사전 훈련된 네트워크 (Pretrained Network)**는 일반적으로 대량의 데이터셋에서 미리 훈련되어 저장된 네트워크입니다. 원본 데이터넷이 충분히 크고 일반적이라면 사전 훈련된 네트워크에 의해 학습된 특성의 계층 구조는 실제 세상에 대한 일반적인 모델로 효율적인 역할을 할 수 있습니다. \n",
    "\n",
    "여기에서는 1400만개의 레이블된 이미지와 1000개의 클래스로 이루어진 *ImageNet* 데이터셋에서 훈련된 대규모 컨브넷을 사용해 보겠습니다. ImageNet 데이터넷에는 다양한 종의 강아지와 고양이를 비롯하여 많은 동물 사진이 있습니다. 그래서 강아지와 고양이 분류 문제에 좋은 성능을 냅니다. VGG16은 간단하고 ImageNet 데이터넷에 널리 사용되는 컨브넷 구조입니다. \n",
    "\n",
    "사전 훈련된 네트워크를 사용하는 두가지 방법이 있습니다. **특성 추출 (feature extraction)**과 **미세 조정 (fine tuning)**입니다."
   ]
  },
  {
   "cell_type": "markdown",
   "id": "bfdfc3f5",
   "metadata": {},
   "source": [
    " "
   ]
  },
  {
   "cell_type": "markdown",
   "id": "8770c422",
   "metadata": {},
   "source": [
    "### 특성 추출"
   ]
  },
  {
   "cell_type": "markdown",
   "id": "745e2e51",
   "metadata": {},
   "source": [
    "특성 추출은 사전에 학습된 네트워크의 표현을 사용하여 새로운 샘플에서 흥미로운 특성을 뽑아내는 것입니다. 이런 특성을 사용하여 새로운 분류기를 처음부터 훈련합니다.\n",
    "\n",
    "컨브넷은 이미지 분류를 위해 두 부분으로 구성됩니다. 먼저 연속된 **합성곱과 풀링 층**으로 시작하여 **완전 연결 분류기**로 끝납니다. 첫 번째 부분을 모델의 합성곱 기반 층 **(convolutional base)**라고 부릅니다. 컨브넷의 경우 특성 추출은 사전에 훈련된 네트워크의 합성곱 기반 층을 선택하여 새로운 데이터를 통과시키고, 그 출력으로 새로운 분류기를 훈련합니다.\n",
    "\n",
    "<br></br>\n",
    "![](../images/5-3-feature.png)\n",
    "<br></br>\n",
    "\n",
    "\n",
    "왜 합성곱 층만 재사용할까요? 합성곱 층에 의해 학습된 표현이 더 일반적이어서 재사용이 가능하기 때문입니다. 컨브넷의 특성 맵은 사진에 대한 일반적인 콘셉트의 존재 여부를 기록한 맵입니다. 주어진 문제에 관계 없이 사용할 수 있습니다. 하지만 분류기에서 학습한 표현은 모델이 훈련된 클래스 집합에 특화되어 있습니다. 분류기는 전체 사진에 어떤 클래스가 존재할 확률에 관한 정보만 담고 있습니다. 더군다나 완전 연결 층은 입력 이미지에 있는 위치 정보를 가지고 있지 않습니다 객체 위치가 중요한 문제라면 완전 연결 층에서 만든 특성은 크게 쓸모 없습니다.\n",
    "\n",
    "특성 합성곱 층에서 추출한 표현의 일반성과 재활용성 수준은 모델에 있는 층의 깊이에 따라 다릅니다.\n",
    "* 모델의 하위 층은 *색깔*처럼 지역적이고 매우 일반적인 특성 맵을 추출합니다\n",
    "* 상위층은 *강아지 눈*처럼 추상적인 개념을 추출합니다\n",
    "* 새로운 데이터셋이 원본 모델이 훈련한 데이터셋과 많이 다르면 전체 합성곱 기반 층을 사용하는 것보다는 모델의 하위 층 몇개만 특성 추출에 사용하는 것이 좋습니다\n",
    "\n",
    "ImageNet의 클래스 집합에는 여러 종류의 강아지와 고양이를 포함하고 있습니다.\n",
    "* 이런 경우 원본 모델의 완전 연결 층에 있는 정보를 재사용하는 것이 도움이 됩니다.\n",
    "* 새로운 문제의 클래스가 원본 모델의 클래스 집합과 겹치지 않는 좀 더 일반 적인 경우 완전 연결 층을 사용하지 않습니다\n",
    "\n",
    "ImageNet 데이터셋에서 훈련된 VGG16 네트워크의 합성곱 기반 층을 사용하여 강아지와 고양이 이미지에서 유용한 특성을 추출한 후 이 특성으로 분류기를 훈련합니다."
   ]
  },
  {
   "cell_type": "markdown",
   "id": "1ee1b220",
   "metadata": {},
   "source": [
    "##### VGG16 합성곱 기반 층 만들기"
   ]
  },
  {
   "cell_type": "code",
   "execution_count": 2,
   "id": "7f4a31de",
   "metadata": {},
   "outputs": [],
   "source": [
    "from keras.applications import VGG16\n",
    "\n",
    "conv_base = VGG16(weights = 'imagenet',\n",
    "                  include_top = False,\n",
    "                  input_shape = (150, 150, 3))"
   ]
  },
  {
   "cell_type": "markdown",
   "id": "e1687940",
   "metadata": {},
   "source": [
    "VGG16 함수에 3개의 매개변수를 전달합니다\n",
    "* `weights`: 모델을 초기화할 가중치 체크포인트\n",
    "* `include_top`은 네트워크의 최상위 완전 연결 **분류기**를 포함할지 안할지 지정\n",
    "* input_shape: 네트워크에 주입할 이미지 테ㅐㄴ서의 크기"
   ]
  },
  {
   "cell_type": "code",
   "execution_count": 3,
   "id": "e56a79dc",
   "metadata": {},
   "outputs": [
    {
     "name": "stdout",
     "output_type": "stream",
     "text": [
      "Model: \"vgg16\"\n",
      "_________________________________________________________________\n",
      "Layer (type)                 Output Shape              Param #   \n",
      "=================================================================\n",
      "input_1 (InputLayer)         [(None, 150, 150, 3)]     0         \n",
      "_________________________________________________________________\n",
      "block1_conv1 (Conv2D)        (None, 150, 150, 64)      1792      \n",
      "_________________________________________________________________\n",
      "block1_conv2 (Conv2D)        (None, 150, 150, 64)      36928     \n",
      "_________________________________________________________________\n",
      "block1_pool (MaxPooling2D)   (None, 75, 75, 64)        0         \n",
      "_________________________________________________________________\n",
      "block2_conv1 (Conv2D)        (None, 75, 75, 128)       73856     \n",
      "_________________________________________________________________\n",
      "block2_conv2 (Conv2D)        (None, 75, 75, 128)       147584    \n",
      "_________________________________________________________________\n",
      "block2_pool (MaxPooling2D)   (None, 37, 37, 128)       0         \n",
      "_________________________________________________________________\n",
      "block3_conv1 (Conv2D)        (None, 37, 37, 256)       295168    \n",
      "_________________________________________________________________\n",
      "block3_conv2 (Conv2D)        (None, 37, 37, 256)       590080    \n",
      "_________________________________________________________________\n",
      "block3_conv3 (Conv2D)        (None, 37, 37, 256)       590080    \n",
      "_________________________________________________________________\n",
      "block3_pool (MaxPooling2D)   (None, 18, 18, 256)       0         \n",
      "_________________________________________________________________\n",
      "block4_conv1 (Conv2D)        (None, 18, 18, 512)       1180160   \n",
      "_________________________________________________________________\n",
      "block4_conv2 (Conv2D)        (None, 18, 18, 512)       2359808   \n",
      "_________________________________________________________________\n",
      "block4_conv3 (Conv2D)        (None, 18, 18, 512)       2359808   \n",
      "_________________________________________________________________\n",
      "block4_pool (MaxPooling2D)   (None, 9, 9, 512)         0         \n",
      "_________________________________________________________________\n",
      "block5_conv1 (Conv2D)        (None, 9, 9, 512)         2359808   \n",
      "_________________________________________________________________\n",
      "block5_conv2 (Conv2D)        (None, 9, 9, 512)         2359808   \n",
      "_________________________________________________________________\n",
      "block5_conv3 (Conv2D)        (None, 9, 9, 512)         2359808   \n",
      "_________________________________________________________________\n",
      "block5_pool (MaxPooling2D)   (None, 4, 4, 512)         0         \n",
      "=================================================================\n",
      "Total params: 14,714,688\n",
      "Trainable params: 14,714,688\n",
      "Non-trainable params: 0\n",
      "_________________________________________________________________\n"
     ]
    }
   ],
   "source": [
    "conv_base.summary()"
   ]
  },
  {
   "cell_type": "markdown",
   "id": "52c030e9",
   "metadata": {},
   "source": [
    "최종 특성 맵의 크기는 (4, 4, 512) 입니다. 이 특성 위에 완전 연결 층을 놓을 것 입니다. 이는 2가지 방식으로 가능합니다.\n",
    "\n",
    "1. 새로운 데이터넷에서 합성곱 기반 층을 실행하고 출력을 넘파이 배열로 디스크에 저장합니다. 그 다음 이 데이터를 독립된 완전 연결 분류기에 입력으로 사용합니다.\n",
    "    * 합성곱 연산은 전체 과정중에서 가장 비싼 부분입니다\n",
    "    * 이 방식은 모든 입력 이미지에 대해 합성곱 기반 층을 한번만 실행하면 되기에 빠르고 비용이 적게 듭니다.\n",
    "    * 하지만 데이터 증식을 사용할 수 없습니다\n",
    "    \n",
    "2. 준비한 모델 (conv_base) 위에 Dense층을 쌓아 확장합니다. 그 다음 입력 데이터에서 엔드-투-엔드로 전체 모델을 실행합니다. \n",
    "* 모델에 노출된 모든 입력 이미지가 매번 합성곱 기반층을 통과합니다.\n",
    "* 비용이 많이 듭니다.\n",
    "* 데이터 증식을 사용할 수 있습니다."
   ]
  },
  {
   "cell_type": "markdown",
   "id": "d64c45f0",
   "metadata": {},
   "source": [
    " "
   ]
  },
  {
   "cell_type": "markdown",
   "id": "904eb8a1",
   "metadata": {},
   "source": [
    "#### 데이터 증식을 사용하지 않는 빠른 특성 추출"
   ]
  },
  {
   "cell_type": "markdown",
   "id": "138349ec",
   "metadata": {},
   "source": [
    "##### 사전 훈련된 합성곱 기반 층을 사용한 특성 추출하기"
   ]
  },
  {
   "cell_type": "code",
   "execution_count": 4,
   "id": "ba87562b",
   "metadata": {},
   "outputs": [
    {
     "name": "stdout",
     "output_type": "stream",
     "text": [
      "Found 2000 images belonging to 2 classes.\n",
      "Found 1000 images belonging to 2 classes.\n",
      "Found 1000 images belonging to 2 classes.\n"
     ]
    }
   ],
   "source": [
    "import os\n",
    "import numpy as np\n",
    "from keras.preprocessing.image import ImageDataGenerator\n",
    "\n",
    "base_dir = './data/dogs_and_cats_small/'\n",
    "train_dir = os.path.join(base_dir, 'train')\n",
    "validation_dir = os.path.join(base_dir, 'validation')\n",
    "test_dir = os.path.join(base_dir, 'test')\n",
    "\n",
    "datagen = ImageDataGenerator(rescale = 1./255)\n",
    "batch_size = 20\n",
    "\n",
    "def extract_features(directory, sample_count):\n",
    "    \n",
    "    features = np.zeros(shape = (sample_count, 4, 4, 512))\n",
    "    labels = np.zeros(shape = (sample_count))\n",
    "    \n",
    "    generator = datagen.flow_from_directory(directory,\n",
    "                                            target_size = (150, 150),\n",
    "                                            batch_size = batch_size,\n",
    "                                            class_mode = 'binary')\n",
    "    \n",
    "    i = 0\n",
    "    \n",
    "    for input_batch, label_batch in generator:\n",
    "        features_batch = conv_base.predict(input_batch)\n",
    "        features[i * batch_size : (i+1) * batch_size] = features_batch\n",
    "        labels[i * batch_size : (i+1) * batch_size] = label_batch\n",
    "        \n",
    "        i += 1\n",
    "        \n",
    "        ## 제너레이터는 루프 안에서 무한하게 데이터를 만들어 내므로\n",
    "        ## 모든 이미지를 한번씩 처리하고 나면 중지합니다.\n",
    "        if i * batch_size >= sample_count:\n",
    "            break\n",
    "            \n",
    "    return features, labels\n",
    "\n",
    "train_features, train_labels = extract_features(train_dir, 2000)\n",
    "validation_features, validation_labels = extract_features(validation_dir, 1000)\n",
    "test_features, test_labels = extract_features(test_dir, 1000)"
   ]
  },
  {
   "cell_type": "markdown",
   "id": "7e773de8",
   "metadata": {},
   "source": [
    "추출된 특성의 크기는 (samples, 4, 4, 512)입니다. 완전 연결 분류기에 주입하기 위해서 먼저 (samples, 8192) 크기로 펼칩니다"
   ]
  },
  {
   "cell_type": "code",
   "execution_count": 5,
   "id": "c7c73f0a",
   "metadata": {},
   "outputs": [],
   "source": [
    "train_features = np.reshape(train_features, (2000, 4 * 4 * 512))\n",
    "validation_features  = np.reshape(validation_features, (1000, 4 * 4 * 512))\n",
    "test_features = np.reshape(test_features, (1000, 4 * 4 * 512))"
   ]
  },
  {
   "cell_type": "markdown",
   "id": "dfb4b79f",
   "metadata": {},
   "source": [
    "그러고 나서 완전 연결 분류기를 정의하고 (규제를 위해 드롭아웃을 사용합니다) 저장된 데이터와 레이블을 사용하여 훈련합니다."
   ]
  },
  {
   "cell_type": "markdown",
   "id": "ba0198de",
   "metadata": {},
   "source": [
    "##### 완전 연결 분류기를 정의하고 훈련하기"
   ]
  },
  {
   "cell_type": "code",
   "execution_count": 6,
   "id": "7752a8bc",
   "metadata": {},
   "outputs": [
    {
     "name": "stdout",
     "output_type": "stream",
     "text": [
      "Epoch 1/30\n",
      "100/100 [==============================] - 1s 4ms/step - loss: 0.6707 - acc: 0.6167 - val_loss: 0.4308 - val_acc: 0.8420\n",
      "Epoch 2/30\n",
      "100/100 [==============================] - 0s 2ms/step - loss: 0.4347 - acc: 0.7932 - val_loss: 0.3578 - val_acc: 0.8650\n",
      "Epoch 3/30\n",
      "100/100 [==============================] - 0s 2ms/step - loss: 0.3518 - acc: 0.8568 - val_loss: 0.3143 - val_acc: 0.8890\n",
      "Epoch 4/30\n",
      "100/100 [==============================] - 0s 2ms/step - loss: 0.2971 - acc: 0.8870 - val_loss: 0.2940 - val_acc: 0.8960\n",
      "Epoch 5/30\n",
      "100/100 [==============================] - 0s 2ms/step - loss: 0.2813 - acc: 0.8840 - val_loss: 0.2780 - val_acc: 0.8940\n",
      "Epoch 6/30\n",
      "100/100 [==============================] - 0s 2ms/step - loss: 0.2586 - acc: 0.9001 - val_loss: 0.2683 - val_acc: 0.8940\n",
      "Epoch 7/30\n",
      "100/100 [==============================] - 0s 2ms/step - loss: 0.2202 - acc: 0.9087 - val_loss: 0.2600 - val_acc: 0.9010\n",
      "Epoch 8/30\n",
      "100/100 [==============================] - 0s 2ms/step - loss: 0.2300 - acc: 0.9114 - val_loss: 0.2554 - val_acc: 0.8990\n",
      "Epoch 9/30\n",
      "100/100 [==============================] - 0s 2ms/step - loss: 0.2078 - acc: 0.9153 - val_loss: 0.2534 - val_acc: 0.9020\n",
      "Epoch 10/30\n",
      "100/100 [==============================] - 0s 2ms/step - loss: 0.1929 - acc: 0.9253 - val_loss: 0.2486 - val_acc: 0.8990\n",
      "Epoch 11/30\n",
      "100/100 [==============================] - 0s 2ms/step - loss: 0.1879 - acc: 0.9363 - val_loss: 0.2485 - val_acc: 0.9030\n",
      "Epoch 12/30\n",
      "100/100 [==============================] - 0s 2ms/step - loss: 0.1722 - acc: 0.9360 - val_loss: 0.2418 - val_acc: 0.9000\n",
      "Epoch 13/30\n",
      "100/100 [==============================] - 0s 2ms/step - loss: 0.1708 - acc: 0.9339 - val_loss: 0.2397 - val_acc: 0.9020\n",
      "Epoch 14/30\n",
      "100/100 [==============================] - 0s 2ms/step - loss: 0.1887 - acc: 0.9342 - val_loss: 0.2433 - val_acc: 0.8990\n",
      "Epoch 15/30\n",
      "100/100 [==============================] - 0s 2ms/step - loss: 0.1665 - acc: 0.9436 - val_loss: 0.2395 - val_acc: 0.9000\n",
      "Epoch 16/30\n",
      "100/100 [==============================] - 0s 2ms/step - loss: 0.1345 - acc: 0.9545 - val_loss: 0.2385 - val_acc: 0.9030\n",
      "Epoch 17/30\n",
      "100/100 [==============================] - 0s 2ms/step - loss: 0.1307 - acc: 0.9558 - val_loss: 0.2377 - val_acc: 0.9050\n",
      "Epoch 18/30\n",
      "100/100 [==============================] - 0s 2ms/step - loss: 0.1328 - acc: 0.9545 - val_loss: 0.2469 - val_acc: 0.8970\n",
      "Epoch 19/30\n",
      "100/100 [==============================] - 0s 2ms/step - loss: 0.1227 - acc: 0.9636 - val_loss: 0.2381 - val_acc: 0.9060\n",
      "Epoch 20/30\n",
      "100/100 [==============================] - 0s 2ms/step - loss: 0.1232 - acc: 0.9530 - val_loss: 0.2362 - val_acc: 0.9060\n",
      "Epoch 21/30\n",
      "100/100 [==============================] - 0s 2ms/step - loss: 0.1258 - acc: 0.9629 - val_loss: 0.2354 - val_acc: 0.9080\n",
      "Epoch 22/30\n",
      "100/100 [==============================] - 0s 2ms/step - loss: 0.1129 - acc: 0.9632 - val_loss: 0.2366 - val_acc: 0.9070\n",
      "Epoch 23/30\n",
      "100/100 [==============================] - 0s 2ms/step - loss: 0.1159 - acc: 0.9646 - val_loss: 0.2349 - val_acc: 0.9080\n",
      "Epoch 24/30\n",
      "100/100 [==============================] - 0s 2ms/step - loss: 0.1029 - acc: 0.9654 - val_loss: 0.2509 - val_acc: 0.9010\n",
      "Epoch 25/30\n",
      "100/100 [==============================] - 0s 2ms/step - loss: 0.1045 - acc: 0.9598 - val_loss: 0.2380 - val_acc: 0.9040\n",
      "Epoch 26/30\n",
      "100/100 [==============================] - 0s 2ms/step - loss: 0.0967 - acc: 0.9715 - val_loss: 0.2367 - val_acc: 0.9090\n",
      "Epoch 27/30\n",
      "100/100 [==============================] - 0s 2ms/step - loss: 0.0887 - acc: 0.9745 - val_loss: 0.2355 - val_acc: 0.9100\n",
      "Epoch 28/30\n",
      "100/100 [==============================] - 0s 2ms/step - loss: 0.0816 - acc: 0.9815 - val_loss: 0.2375 - val_acc: 0.9080\n",
      "Epoch 29/30\n",
      "100/100 [==============================] - 0s 2ms/step - loss: 0.0797 - acc: 0.9798 - val_loss: 0.2533 - val_acc: 0.9000\n",
      "Epoch 30/30\n",
      "100/100 [==============================] - 0s 2ms/step - loss: 0.0769 - acc: 0.9795 - val_loss: 0.2465 - val_acc: 0.9050\n"
     ]
    }
   ],
   "source": [
    "from keras import models\n",
    "from keras import layers\n",
    "from keras import optimizers\n",
    "\n",
    "model = models.Sequential()\n",
    "model.add(layers.Dense(256, activation = 'relu', input_dim = 4 * 4 * 512))\n",
    "model.add(layers.Dropout(0.5))\n",
    "model.add(layers.Dense(1, activation = 'sigmoid'))\n",
    "\n",
    "model.compile(optimizer = optimizers.RMSprop(lr = 2e-5),\n",
    "              loss = 'binary_crossentropy',\n",
    "              metrics = ['acc'])\n",
    "\n",
    "history = model.fit(train_features, train_labels,\n",
    "                    epochs = 30,\n",
    "                    batch_size = 20,\n",
    "                    validation_data = (validation_features, validation_labels))"
   ]
  },
  {
   "cell_type": "markdown",
   "id": "e89fcd00",
   "metadata": {},
   "source": [
    "2개의 Dense 층만 계산하면 되기때문에 훈련이 매우 빠릅니다."
   ]
  },
  {
   "cell_type": "markdown",
   "id": "3fce677e",
   "metadata": {},
   "source": [
    "##### 결과 그래프 그리기"
   ]
  },
  {
   "cell_type": "code",
   "execution_count": 7,
   "id": "511f0499",
   "metadata": {},
   "outputs": [
    {
     "data": {
      "image/png": "[encoded data removed]",
      "text/plain": [
       "<Figure size 432x288 with 1 Axes>"
      ]
     },
     "metadata": {
      "needs_background": "light"
     },
     "output_type": "display_data"
    },
    {
     "data": {
      "image/png": "[encoded data removed]",
      "text/plain": [
       "<Figure size 432x288 with 1 Axes>"
      ]
     },
     "metadata": {
      "needs_background": "light"
     },
     "output_type": "display_data"
    }
   ],
   "source": [
    "import matplotlib.pyplot as plt\n",
    "\n",
    "acc = history.history['acc']\n",
    "val_acc = history.history['val_acc']\n",
    "loss = history.history['loss']\n",
    "val_loss = history.history['val_loss']\n",
    "\n",
    "epochs = range(1, len(acc) + 1)\n",
    "\n",
    "plt.plot(epochs, acc, 'bo', label = 'Training Acc')\n",
    "plt.plot(epochs, val_acc, 'b', label = 'Validation Acc')\n",
    "plt.title('Training and Validation Accuracy')\n",
    "plt.legend()\n",
    "\n",
    "plt.figure()\n",
    "\n",
    "plt.plot(epochs, loss, 'bo', label = 'Training Loss')\n",
    "plt.plot(epochs, val_loss, 'b', label = 'Validation Loss')\n",
    "plt.title('Training and Validation Loss')\n",
    "plt.legend()\n",
    "\n",
    "plt.show()"
   ]
  },
  {
   "cell_type": "markdown",
   "id": "c4caff38",
   "metadata": {},
   "source": [
    "약 90%의 검증 정확도에 도달했습니다. 하지만 이 모델은 드롭아웃을 사용했음에도 불구하고 훈련을 시작하면서 거의 바로 과대적합이 시작되었습니다. 작은 이미지 데이터셋에서는 과대적합을 막기위해 필수적으로 데이터 증식을 사용해야합니다."
   ]
  },
  {
   "cell_type": "markdown",
   "id": "88baaf1a",
   "metadata": {},
   "source": [
    " "
   ]
  },
  {
   "cell_type": "markdown",
   "id": "2f18503b",
   "metadata": {},
   "source": [
    "#### 데이터 증식을 사용한 특성 추출"
   ]
  },
  {
   "cell_type": "markdown",
   "id": "7b796445",
   "metadata": {},
   "source": [
    "이제 특성 추출을 위해 두 번째로 언급한 방법을 살펴보겠습니다. 이 방법은 훨씬 느리고 비용이 많이 들지만 훈련하는 동안 데이터 증식 기법을 사용할 수 있습니다. **conv_base** 모델을 확장하고 입력 데이터를 사용하여 엔드-투-엔드로 실행합니다.\n",
    "\n",
    "모델은 층과 동일하게 작동하므로 층을 추가하듯이 Sequential 모델에 다른 모델을 추가할 수 있습니다."
   ]
  },
  {
   "cell_type": "markdown",
   "id": "0fbbf3a7",
   "metadata": {},
   "source": [
    "합성곱 기반 층 위에 완전 연결 분류기 추가하기"
   ]
  },
  {
   "cell_type": "code",
   "execution_count": 8,
   "id": "56235e90",
   "metadata": {},
   "outputs": [],
   "source": [
    "from keras import models\n",
    "from keras import layers\n",
    "\n",
    "model = models.Sequential()\n",
    "model.add(conv_base)\n",
    "model.add(layers.Flatten())\n",
    "model.add(layers.Dense(256, activation = 'relu'))\n",
    "model.add(layers.Dense(1, activation = 'sigmoid'))"
   ]
  },
  {
   "cell_type": "code",
   "execution_count": 9,
   "id": "acec1699",
   "metadata": {},
   "outputs": [
    {
     "name": "stdout",
     "output_type": "stream",
     "text": [
      "Model: \"sequential_1\"\n",
      "_________________________________________________________________\n",
      "Layer (type)                 Output Shape              Param #   \n",
      "=================================================================\n",
      "vgg16 (Functional)           (None, 4, 4, 512)         14714688  \n",
      "_________________________________________________________________\n",
      "flatten (Flatten)            (None, 8192)              0         \n",
      "_________________________________________________________________\n",
      "dense_2 (Dense)              (None, 256)               2097408   \n",
      "_________________________________________________________________\n",
      "dense_3 (Dense)              (None, 1)                 257       \n",
      "=================================================================\n",
      "Total params: 16,812,353\n",
      "Trainable params: 16,812,353\n",
      "Non-trainable params: 0\n",
      "_________________________________________________________________\n"
     ]
    }
   ],
   "source": [
    "model.summary()"
   ]
  },
  {
   "cell_type": "markdown",
   "id": "f3223ca6",
   "metadata": {},
   "source": [
    "VGG16의 합성곱 기반 층은 1400만개의 매우 많은 파라미터를 가지고 있습니다. 합성곱 기반 층 위에 추가한 분류기는 200만개의 파라미터를 가집니다.\n",
    "\n",
    "모델을 컴파일하고 훈련하기 전에 합성곱 기반 층을 **동결 (freeze)**하는 것이 매우 중요합니다. 하나 이상의 층을 **동결**한다는 것은 훈련하는 동안 가중치가 업데이트되지 않도록 막는다는 것입니다. 이렇게 하지 않으면 합성곱 기반 층에 의해 사전에 학습된 표현이 훈련하는 동안 수정될 것입니다."
   ]
  },
  {
   "cell_type": "markdown",
   "id": "8fda221e",
   "metadata": {},
   "source": [
    "##### 합성곱 기반 층 동결 시키기"
   ]
  },
  {
   "cell_type": "code",
   "execution_count": 10,
   "id": "c2df90a6",
   "metadata": {},
   "outputs": [],
   "source": [
    "conv_base.trainable = False"
   ]
  },
  {
   "cell_type": "markdown",
   "id": "2c05d4a1",
   "metadata": {},
   "source": [
    "이렇게 하면 추가한 2개의 Dense 층의 가중치만 훈련될 것입니다. 층마다 2개씩 (가중치 행렬과 편향 벡터) 총 4개의 텐서가 훈련됩니다."
   ]
  },
  {
   "cell_type": "markdown",
   "id": "371862e4",
   "metadata": {},
   "source": [
    "동결된 합성곱 기반 층과 함께 모델을 엔드-투-엔드로 훈련하기"
   ]
  },
  {
   "cell_type": "code",
   "execution_count": 11,
   "id": "2a4d57a7",
   "metadata": {},
   "outputs": [],
   "source": [
    "import os, shutil\n",
    "\n",
    "original_data_set_dir = './data/dogs_and_cats/train/'\n",
    "\n",
    "base_dir = './data/dogs_and_cats_small/'\n",
    "\n",
    "train_dir = os.path.join(base_dir, \"train\")\n",
    "validation_dir = os.path.join(base_dir, \"validation\")\n",
    "test_dir = os.path.join(base_dir, \"test\")\n",
    "\n",
    "train_cats_dir = os.path.join(train_dir, \"cats\")\n",
    "validation_cats_dir = os.path.join(validation_dir, \"cats\")\n",
    "test_cats_dir = os.path.join(test_dir, \"cats\")\n",
    "\n",
    "train_dogs_dir = os.path.join(train_dir, \"dogs\")\n",
    "validation_dogs_dir = os.path.join(validation_dir, \"dogs\")\n",
    "test_dogs_dir = os.path.join(test_dir, \"dogs\")   "
   ]
  },
  {
   "cell_type": "code",
   "execution_count": 12,
   "id": "ecd2254c",
   "metadata": {},
   "outputs": [
    {
     "name": "stdout",
     "output_type": "stream",
     "text": [
      "Found 2000 images belonging to 2 classes.\n",
      "Found 1000 images belonging to 2 classes.\n",
      "Epoch 1/30\n"
     ]
    },
    {
     "name": "stderr",
     "output_type": "stream",
     "text": [
      "/home/jhhur/anaconda3/envs/TIL/lib/python3.8/site-packages/tensorflow/python/keras/engine/training.py:1844: UserWarning: `Model.fit_generator` is deprecated and will be removed in a future version. Please use `Model.fit`, which supports generators.\n",
      "  warnings.warn('`Model.fit_generator` is deprecated and '\n"
     ]
    },
    {
     "name": "stdout",
     "output_type": "stream",
     "text": [
      "100/100 - 9s - loss: 0.5507 - acc: 0.7435 - val_loss: 0.4118 - val_acc: 0.8530\n",
      "Epoch 2/30\n",
      "100/100 - 9s - loss: 0.3904 - acc: 0.8495 - val_loss: 0.3272 - val_acc: 0.8870\n",
      "Epoch 3/30\n",
      "100/100 - 8s - loss: 0.3474 - acc: 0.8560 - val_loss: 0.2934 - val_acc: 0.8960\n",
      "Epoch 4/30\n",
      "100/100 - 8s - loss: 0.3263 - acc: 0.8680 - val_loss: 0.2801 - val_acc: 0.8930\n",
      "Epoch 5/30\n",
      "100/100 - 8s - loss: 0.3013 - acc: 0.8765 - val_loss: 0.2618 - val_acc: 0.9030\n",
      "Epoch 6/30\n",
      "100/100 - 8s - loss: 0.2797 - acc: 0.8835 - val_loss: 0.2562 - val_acc: 0.9020\n",
      "Epoch 7/30\n",
      "100/100 - 8s - loss: 0.2730 - acc: 0.8885 - val_loss: 0.2563 - val_acc: 0.9020\n",
      "Epoch 8/30\n",
      "100/100 - 8s - loss: 0.2628 - acc: 0.8960 - val_loss: 0.2541 - val_acc: 0.8990\n",
      "Epoch 9/30\n",
      "100/100 - 8s - loss: 0.2701 - acc: 0.8900 - val_loss: 0.2468 - val_acc: 0.9030\n",
      "Epoch 10/30\n",
      "100/100 - 8s - loss: 0.2527 - acc: 0.9005 - val_loss: 0.2507 - val_acc: 0.8990\n",
      "Epoch 11/30\n",
      "100/100 - 8s - loss: 0.2420 - acc: 0.9065 - val_loss: 0.2401 - val_acc: 0.9100\n",
      "Epoch 12/30\n",
      "100/100 - 9s - loss: 0.2423 - acc: 0.9035 - val_loss: 0.2391 - val_acc: 0.9050\n",
      "Epoch 13/30\n",
      "100/100 - 9s - loss: 0.2305 - acc: 0.9070 - val_loss: 0.2346 - val_acc: 0.9070\n",
      "Epoch 14/30\n",
      "100/100 - 8s - loss: 0.2234 - acc: 0.9150 - val_loss: 0.2322 - val_acc: 0.9050\n",
      "Epoch 15/30\n",
      "100/100 - 8s - loss: 0.2178 - acc: 0.9170 - val_loss: 0.2319 - val_acc: 0.9020\n",
      "Epoch 16/30\n",
      "100/100 - 8s - loss: 0.2241 - acc: 0.9145 - val_loss: 0.2330 - val_acc: 0.9020\n",
      "Epoch 17/30\n",
      "100/100 - 8s - loss: 0.2164 - acc: 0.9175 - val_loss: 0.2409 - val_acc: 0.9020\n",
      "Epoch 18/30\n",
      "100/100 - 8s - loss: 0.2091 - acc: 0.9175 - val_loss: 0.2361 - val_acc: 0.9070\n",
      "Epoch 19/30\n",
      "100/100 - 8s - loss: 0.2112 - acc: 0.9105 - val_loss: 0.2357 - val_acc: 0.9050\n",
      "Epoch 20/30\n",
      "100/100 - 8s - loss: 0.1992 - acc: 0.9160 - val_loss: 0.2296 - val_acc: 0.9050\n",
      "Epoch 21/30\n",
      "100/100 - 8s - loss: 0.1997 - acc: 0.9260 - val_loss: 0.2313 - val_acc: 0.9090\n",
      "Epoch 22/30\n",
      "100/100 - 8s - loss: 0.1994 - acc: 0.9180 - val_loss: 0.2500 - val_acc: 0.9010\n",
      "Epoch 23/30\n",
      "100/100 - 8s - loss: 0.2051 - acc: 0.9170 - val_loss: 0.2305 - val_acc: 0.9080\n",
      "Epoch 24/30\n",
      "100/100 - 8s - loss: 0.2002 - acc: 0.9170 - val_loss: 0.2293 - val_acc: 0.9070\n",
      "Epoch 25/30\n",
      "100/100 - 8s - loss: 0.2011 - acc: 0.9170 - val_loss: 0.2319 - val_acc: 0.9100\n",
      "Epoch 26/30\n",
      "100/100 - 8s - loss: 0.1905 - acc: 0.9245 - val_loss: 0.2377 - val_acc: 0.9080\n",
      "Epoch 27/30\n",
      "100/100 - 9s - loss: 0.1855 - acc: 0.9310 - val_loss: 0.2482 - val_acc: 0.8990\n",
      "Epoch 28/30\n",
      "100/100 - 8s - loss: 0.1898 - acc: 0.9200 - val_loss: 0.2288 - val_acc: 0.9070\n",
      "Epoch 29/30\n",
      "100/100 - 8s - loss: 0.1805 - acc: 0.9280 - val_loss: 0.2347 - val_acc: 0.9090\n",
      "Epoch 30/30\n",
      "100/100 - 9s - loss: 0.1736 - acc: 0.9325 - val_loss: 0.2345 - val_acc: 0.9060\n"
     ]
    }
   ],
   "source": [
    "from keras.preprocessing.image import ImageDataGenerator\n",
    "from keras import optimizers\n",
    "\n",
    "train_datagen = ImageDataGenerator(rescale = 1./255,\n",
    "                                   rotation_range = 20,\n",
    "                                   width_shift_range = 0.1,\n",
    "                                   height_shift_range = 0.1,\n",
    "                                   shear_range = 0.1,\n",
    "                                   zoom_range = 0.1,\n",
    "                                   horizontal_flip = True,\n",
    "                                   fill_mode = 'nearest')\n",
    "\n",
    "test_datagen = ImageDataGenerator(rescale = 1./255)\n",
    "\n",
    "train_generator = train_datagen.flow_from_directory(train_dir,\n",
    "                                                    target_size = (150, 150),\n",
    "                                                    batch_size = 20,\n",
    "                                                    class_mode = 'binary')\n",
    "\n",
    "validation_generator = test_datagen.flow_from_directory(validation_dir,\n",
    "                                                        target_size = (150, 150),\n",
    "                                                        batch_size = 20,\n",
    "                                                        class_mode = 'binary')\n",
    "\n",
    "model.compile(loss = 'binary_crossentropy',\n",
    "              optimizer = optimizers.RMSprop(lr = 2e-5),\n",
    "              metrics = ['acc'])\n",
    "\n",
    "history = model.fit_generator(train_generator,\n",
    "                              steps_per_epoch = 100,\n",
    "                              epochs = 30,\n",
    "                              validation_data = validation_generator,\n",
    "                              validation_steps = 50,\n",
    "                              verbose = 2)"
   ]
  },
  {
   "cell_type": "code",
   "execution_count": 13,
   "id": "712cc916",
   "metadata": {},
   "outputs": [],
   "source": [
    "model.save('cats_and_dogs_small_3.h5')"
   ]
  },
  {
   "cell_type": "code",
   "execution_count": 14,
   "id": "9083a8d3",
   "metadata": {},
   "outputs": [
    {
     "data": {
      "image/png": "[encoded data removed]",
      "text/plain": [
       "<Figure size 432x288 with 1 Axes>"
      ]
     },
     "metadata": {
      "needs_background": "light"
     },
     "output_type": "display_data"
    },
    {
     "data": {
      "image/png": "[encoded data removed]",
      "text/plain": [
       "<Figure size 432x288 with 1 Axes>"
      ]
     },
     "metadata": {
      "needs_background": "light"
     },
     "output_type": "display_data"
    }
   ],
   "source": [
    "acc = history.history['acc']\n",
    "val_acc = history.history['val_acc']\n",
    "loss = history.history['loss']\n",
    "val_loss = history.history['val_loss']\n",
    "\n",
    "epochs = range(1, len(acc) + 1)\n",
    "\n",
    "plt.plot(epochs, acc, \"bo\", label = \"Training Acc\")\n",
    "plt.plot(epochs, val_acc, \"b\", label = \"Validation Acc\")\n",
    "plt.title('Training and Validation Accuracy')\n",
    "plt.legend()\n",
    "\n",
    "plt.figure()\n",
    "\n",
    "plt.plot(epochs, loss, \"bo\", label = \"Training loss\")\n",
    "plt.plot(epochs, val_loss, \"b\", label = \"Validation loss\")\n",
    "plt.title('Training and Validation Loss')\n",
    "plt.legend()\n",
    "\n",
    "plt.show()"
   ]
  },
  {
   "cell_type": "markdown",
   "id": "78f2986a",
   "metadata": {},
   "source": [
    " "
   ]
  },
  {
   "cell_type": "markdown",
   "id": "79149bc1",
   "metadata": {},
   "source": [
    "### 미세 조정 (Fine Tuning)"
   ]
  },
  {
   "cell_type": "markdown",
   "id": "c5cf2768",
   "metadata": {},
   "source": [
    "모델을 재사용하는데 널리 사용되는 또 하나의 길법은 특성 추출을 보완하는 **미세 조정 (fine-tuning)**입니다. 미세 조정은 특성 추출에 사용했던 동결 모델의 상위 층 몇개를 동결에서 해제하고 모델에 새로 추가한 층과 함께 훈련하는 것입니다. 주어진 문제에 조금 더 밀접하게 재사용 모델의 표현을 일부 조정하기 때문에 **미세 조정**이라고 부릅니다.\n",
    "\n",
    "<br></br>\n",
    "![](../images/5-3-Finetune.png)\n",
    "<br></br>\n",
    "\n",
    "앞서 랜덤하게 초기화된 상단 분류기를 훈련하기 위해 VGG16의 합성곱 기반 층을 동결하였습니다. 같은 이유로 맨 위에 있는 분류기가 훈련된 후 합성곱 기반의 상위 층을 미세 조정할 수 있습니다. 분류기가 미리 훈련되지 않으면 훈련되는 동안 너무 큰 오차 신호가 네트워크에 전파됩니다. 이는 메시 조정될 층들이 사전에 학습할 표현들을 망가뜨리게 됩니다. 네트워크를 미세 조정하는 단계는 다음과 같습니다.\n",
    "\n",
    "1. 사전에 훈련된 기반 네트워크 위에 새로운 네트워크를 추가합니다\n",
    "2. 기반 네트워크를 동결합니다\n",
    "3. 새로 추가한 네트워크를 훈련합니다\n",
    "4. 기반 네트워크에서 일부 층의 동결을 해제합니다\n",
    "5. 동결을 해제한 층과 새로 추가한 층을 함께 훈련합니다\n",
    "\n",
    "처음 3개의 단계는 특성 추출할때 이미 완료했습니다. 네번재 단계부터 진행하겠습니다. conv_base의 동결을 해제하고 개별 층을 동결하겠습니다."
   ]
  },
  {
   "cell_type": "code",
   "execution_count": 15,
   "id": "01c494c8",
   "metadata": {},
   "outputs": [
    {
     "name": "stdout",
     "output_type": "stream",
     "text": [
      "Model: \"vgg16\"\n",
      "_________________________________________________________________\n",
      "Layer (type)                 Output Shape              Param #   \n",
      "=================================================================\n",
      "input_1 (InputLayer)         [(None, 150, 150, 3)]     0         \n",
      "_________________________________________________________________\n",
      "block1_conv1 (Conv2D)        (None, 150, 150, 64)      1792      \n",
      "_________________________________________________________________\n",
      "block1_conv2 (Conv2D)        (None, 150, 150, 64)      36928     \n",
      "_________________________________________________________________\n",
      "block1_pool (MaxPooling2D)   (None, 75, 75, 64)        0         \n",
      "_________________________________________________________________\n",
      "block2_conv1 (Conv2D)        (None, 75, 75, 128)       73856     \n",
      "_________________________________________________________________\n",
      "block2_conv2 (Conv2D)        (None, 75, 75, 128)       147584    \n",
      "_________________________________________________________________\n",
      "block2_pool (MaxPooling2D)   (None, 37, 37, 128)       0         \n",
      "_________________________________________________________________\n",
      "block3_conv1 (Conv2D)        (None, 37, 37, 256)       295168    \n",
      "_________________________________________________________________\n",
      "block3_conv2 (Conv2D)        (None, 37, 37, 256)       590080    \n",
      "_________________________________________________________________\n",
      "block3_conv3 (Conv2D)        (None, 37, 37, 256)       590080    \n",
      "_________________________________________________________________\n",
      "block3_pool (MaxPooling2D)   (None, 18, 18, 256)       0         \n",
      "_________________________________________________________________\n",
      "block4_conv1 (Conv2D)        (None, 18, 18, 512)       1180160   \n",
      "_________________________________________________________________\n",
      "block4_conv2 (Conv2D)        (None, 18, 18, 512)       2359808   \n",
      "_________________________________________________________________\n",
      "block4_conv3 (Conv2D)        (None, 18, 18, 512)       2359808   \n",
      "_________________________________________________________________\n",
      "block4_pool (MaxPooling2D)   (None, 9, 9, 512)         0         \n",
      "_________________________________________________________________\n",
      "block5_conv1 (Conv2D)        (None, 9, 9, 512)         2359808   \n",
      "_________________________________________________________________\n",
      "block5_conv2 (Conv2D)        (None, 9, 9, 512)         2359808   \n",
      "_________________________________________________________________\n",
      "block5_conv3 (Conv2D)        (None, 9, 9, 512)         2359808   \n",
      "_________________________________________________________________\n",
      "block5_pool (MaxPooling2D)   (None, 4, 4, 512)         0         \n",
      "=================================================================\n",
      "Total params: 14,714,688\n",
      "Trainable params: 0\n",
      "Non-trainable params: 14,714,688\n",
      "_________________________________________________________________\n"
     ]
    }
   ],
   "source": [
    "conv_base.summary()"
   ]
  },
  {
   "cell_type": "markdown",
   "id": "16680b5e",
   "metadata": {},
   "source": [
    "마지막 3개의 합성곱 층을 미세 조정하겠습니다. 즉 `block4_pool`까지 모든 층은 동결되고 `block5_conv1`, `block5_conv2`, `block5_conv3`층은 학습 대상이 됩니다.\n",
    "\n",
    "왜 더 많은 층을 미세 조정하지 않을까요?\n",
    "* 합성곱 기반 층에 잇는 하위 층들은 좀 더 일반적이고 재사용 가능한 특성들을 인코딩합니다. 반면 상위층은 좀 더 특화된 특성을 인코딩합니다. 새로운 문제에 재활용하도록 수정이 필요한 것은 구체적인 특성이므로 이들을 미세 조정하는 것이 유리합니다\n",
    "* 훈련해야 할 파라미터가 많을 수록 과대적합의 위험이 커집니다.\n",
    "\n",
    "그러므로 이런 상황에서는 합성곱 기반 층에서 최상위 2~3개 층만 미세 조정하는 것이 좋습니다"
   ]
  },
  {
   "cell_type": "markdown",
   "id": "80f027a8",
   "metadata": {},
   "source": [
    "##### 특정 층까지 모든 층 동결하기"
   ]
  },
  {
   "cell_type": "code",
   "execution_count": 16,
   "id": "3efda490",
   "metadata": {},
   "outputs": [],
   "source": [
    "conv_base.trainable = True\n",
    "\n",
    "set_trainable = False\n",
    "for layer in conv_base.layers:\n",
    "    if layer.name == 'block5_conv1':\n",
    "        set_trainable = True\n",
    "    if set_trainable:\n",
    "        layer.trainable = True\n",
    "    else:\n",
    "        layer.trainable = False"
   ]
  },
  {
   "cell_type": "markdown",
   "id": "e263d6a7",
   "metadata": {},
   "source": [
    "##### 모델 미세 조정하기"
   ]
  },
  {
   "cell_type": "code",
   "execution_count": 17,
   "id": "bb9bdbce",
   "metadata": {},
   "outputs": [
    {
     "name": "stdout",
     "output_type": "stream",
     "text": [
      "Epoch 1/100\n",
      "100/100 [==============================] - 9s 88ms/step - loss: 0.1907 - acc: 0.9216 - val_loss: 0.2198 - val_acc: 0.9130\n",
      "Epoch 2/100\n",
      "100/100 [==============================] - 8s 85ms/step - loss: 0.1605 - acc: 0.9314 - val_loss: 0.2252 - val_acc: 0.9200\n",
      "Epoch 3/100\n",
      "100/100 [==============================] - 8s 84ms/step - loss: 0.1470 - acc: 0.9340 - val_loss: 0.2421 - val_acc: 0.9030\n",
      "Epoch 4/100\n",
      "100/100 [==============================] - 9s 87ms/step - loss: 0.1062 - acc: 0.9589 - val_loss: 0.2134 - val_acc: 0.9270\n",
      "Epoch 5/100\n",
      "100/100 [==============================] - 8s 85ms/step - loss: 0.1029 - acc: 0.9629 - val_loss: 0.2938 - val_acc: 0.8890\n",
      "Epoch 6/100\n",
      "100/100 [==============================] - 8s 85ms/step - loss: 0.0845 - acc: 0.9661 - val_loss: 0.2174 - val_acc: 0.9230\n",
      "Epoch 7/100\n",
      "100/100 [==============================] - 8s 84ms/step - loss: 0.0813 - acc: 0.9669 - val_loss: 0.2192 - val_acc: 0.9200\n",
      "Epoch 8/100\n",
      "100/100 [==============================] - 8s 85ms/step - loss: 0.0716 - acc: 0.9728 - val_loss: 0.2553 - val_acc: 0.9110\n",
      "Epoch 9/100\n",
      "100/100 [==============================] - 9s 85ms/step - loss: 0.0762 - acc: 0.9752 - val_loss: 0.2329 - val_acc: 0.9180\n",
      "Epoch 10/100\n",
      "100/100 [==============================] - 8s 84ms/step - loss: 0.0635 - acc: 0.9771 - val_loss: 0.2077 - val_acc: 0.9320\n",
      "Epoch 11/100\n",
      "100/100 [==============================] - 9s 85ms/step - loss: 0.0519 - acc: 0.9816 - val_loss: 0.2070 - val_acc: 0.9370\n",
      "Epoch 12/100\n",
      "100/100 [==============================] - 8s 84ms/step - loss: 0.0455 - acc: 0.9810 - val_loss: 0.2263 - val_acc: 0.9310\n",
      "Epoch 13/100\n",
      "100/100 [==============================] - 8s 84ms/step - loss: 0.0365 - acc: 0.9875 - val_loss: 0.2175 - val_acc: 0.9280\n",
      "Epoch 14/100\n",
      "100/100 [==============================] - 9s 85ms/step - loss: 0.0363 - acc: 0.9860 - val_loss: 0.2553 - val_acc: 0.9200\n",
      "Epoch 15/100\n",
      "100/100 [==============================] - 8s 85ms/step - loss: 0.0356 - acc: 0.9871 - val_loss: 0.2276 - val_acc: 0.9270\n",
      "Epoch 16/100\n",
      "100/100 [==============================] - 8s 84ms/step - loss: 0.0348 - acc: 0.9875 - val_loss: 0.2982 - val_acc: 0.9120\n",
      "Epoch 17/100\n",
      "100/100 [==============================] - 8s 85ms/step - loss: 0.0399 - acc: 0.9871 - val_loss: 0.2291 - val_acc: 0.9340\n",
      "Epoch 18/100\n",
      "100/100 [==============================] - 9s 86ms/step - loss: 0.0303 - acc: 0.9906 - val_loss: 0.3601 - val_acc: 0.9010\n",
      "Epoch 19/100\n",
      "100/100 [==============================] - 8s 84ms/step - loss: 0.0273 - acc: 0.9902 - val_loss: 0.2986 - val_acc: 0.9080\n",
      "Epoch 20/100\n",
      "100/100 [==============================] - 8s 85ms/step - loss: 0.0287 - acc: 0.9887 - val_loss: 0.2616 - val_acc: 0.9240\n",
      "Epoch 21/100\n",
      "100/100 [==============================] - 8s 85ms/step - loss: 0.0126 - acc: 0.9977 - val_loss: 0.2597 - val_acc: 0.9340\n",
      "Epoch 22/100\n",
      "100/100 [==============================] - 8s 85ms/step - loss: 0.0273 - acc: 0.9923 - val_loss: 0.2498 - val_acc: 0.9270\n",
      "Epoch 23/100\n",
      "100/100 [==============================] - 9s 85ms/step - loss: 0.0190 - acc: 0.9947 - val_loss: 0.2391 - val_acc: 0.9270\n",
      "Epoch 24/100\n",
      "100/100 [==============================] - 9s 86ms/step - loss: 0.0149 - acc: 0.9945 - val_loss: 0.2380 - val_acc: 0.9270\n",
      "Epoch 25/100\n",
      "100/100 [==============================] - 9s 88ms/step - loss: 0.0104 - acc: 0.9975 - val_loss: 0.2585 - val_acc: 0.9320\n",
      "Epoch 26/100\n",
      "100/100 [==============================] - 8s 84ms/step - loss: 0.0212 - acc: 0.9932 - val_loss: 0.2474 - val_acc: 0.9350\n",
      "Epoch 27/100\n",
      "100/100 [==============================] - 8s 85ms/step - loss: 0.0116 - acc: 0.9974 - val_loss: 0.2616 - val_acc: 0.9310\n",
      "Epoch 28/100\n",
      "100/100 [==============================] - 8s 85ms/step - loss: 0.0109 - acc: 0.9951 - val_loss: 0.2765 - val_acc: 0.9320\n",
      "Epoch 29/100\n",
      "100/100 [==============================] - 8s 84ms/step - loss: 0.0086 - acc: 0.9970 - val_loss: 0.2852 - val_acc: 0.9300\n",
      "Epoch 30/100\n",
      "100/100 [==============================] - 9s 87ms/step - loss: 0.0120 - acc: 0.9961 - val_loss: 0.2876 - val_acc: 0.9300\n",
      "Epoch 31/100\n",
      "100/100 [==============================] - 9s 86ms/step - loss: 0.0177 - acc: 0.9937 - val_loss: 0.2865 - val_acc: 0.9300\n",
      "Epoch 32/100\n",
      "100/100 [==============================] - 8s 85ms/step - loss: 0.0148 - acc: 0.9951 - val_loss: 0.2951 - val_acc: 0.9290\n",
      "Epoch 33/100\n",
      "100/100 [==============================] - 8s 83ms/step - loss: 0.0139 - acc: 0.9943 - val_loss: 0.3882 - val_acc: 0.9150\n",
      "Epoch 34/100\n",
      "100/100 [==============================] - 8s 84ms/step - loss: 0.0094 - acc: 0.9962 - val_loss: 0.4550 - val_acc: 0.8980\n",
      "Epoch 35/100\n",
      "100/100 [==============================] - 8s 84ms/step - loss: 0.0155 - acc: 0.9925 - val_loss: 0.2738 - val_acc: 0.9300\n",
      "Epoch 36/100\n",
      "100/100 [==============================] - 9s 85ms/step - loss: 0.0083 - acc: 0.9974 - val_loss: 0.2954 - val_acc: 0.9320\n",
      "Epoch 37/100\n",
      "100/100 [==============================] - 8s 83ms/step - loss: 0.0072 - acc: 0.9973 - val_loss: 0.2792 - val_acc: 0.9320\n",
      "Epoch 38/100\n",
      "100/100 [==============================] - 8s 84ms/step - loss: 0.0045 - acc: 0.9995 - val_loss: 0.4263 - val_acc: 0.9140\n",
      "Epoch 39/100\n",
      "100/100 [==============================] - 8s 84ms/step - loss: 0.0053 - acc: 0.9981 - val_loss: 0.3254 - val_acc: 0.9300\n",
      "Epoch 40/100\n",
      "100/100 [==============================] - 8s 84ms/step - loss: 0.0060 - acc: 0.9972 - val_loss: 0.3343 - val_acc: 0.9230\n",
      "Epoch 41/100\n",
      "100/100 [==============================] - 8s 84ms/step - loss: 0.0095 - acc: 0.9962 - val_loss: 0.3186 - val_acc: 0.9360\n",
      "Epoch 42/100\n",
      "100/100 [==============================] - 9s 86ms/step - loss: 0.0037 - acc: 0.9978 - val_loss: 0.2960 - val_acc: 0.9400\n",
      "Epoch 43/100\n",
      "100/100 [==============================] - 9s 86ms/step - loss: 0.0067 - acc: 0.9991 - val_loss: 0.3066 - val_acc: 0.9320\n",
      "Epoch 44/100\n",
      "100/100 [==============================] - 9s 85ms/step - loss: 0.0054 - acc: 0.9983 - val_loss: 0.3146 - val_acc: 0.9300\n",
      "Epoch 45/100\n",
      "100/100 [==============================] - 9s 85ms/step - loss: 0.0082 - acc: 0.9981 - val_loss: 0.2884 - val_acc: 0.9360\n",
      "Epoch 46/100\n",
      "100/100 [==============================] - 8s 84ms/step - loss: 0.0041 - acc: 0.9978 - val_loss: 0.3124 - val_acc: 0.9270\n",
      "Epoch 47/100\n",
      "100/100 [==============================] - 8s 84ms/step - loss: 0.0045 - acc: 0.9980 - val_loss: 0.2849 - val_acc: 0.9360\n",
      "Epoch 48/100\n",
      "100/100 [==============================] - 9s 85ms/step - loss: 0.0031 - acc: 0.9989 - val_loss: 0.3173 - val_acc: 0.9300\n",
      "Epoch 49/100\n",
      "100/100 [==============================] - 8s 84ms/step - loss: 0.0048 - acc: 0.9985 - val_loss: 0.3131 - val_acc: 0.9270\n",
      "Epoch 50/100\n",
      "100/100 [==============================] - 8s 84ms/step - loss: 0.0057 - acc: 0.9968 - val_loss: 0.3652 - val_acc: 0.9150\n",
      "Epoch 51/100\n",
      "100/100 [==============================] - 8s 84ms/step - loss: 0.0030 - acc: 0.9992 - val_loss: 0.3380 - val_acc: 0.9260\n",
      "Epoch 52/100\n",
      "100/100 [==============================] - 8s 83ms/step - loss: 0.0026 - acc: 0.9992 - val_loss: 0.3213 - val_acc: 0.9330\n",
      "Epoch 53/100\n",
      "100/100 [==============================] - 8s 85ms/step - loss: 0.0030 - acc: 0.9998 - val_loss: 0.3683 - val_acc: 0.9280\n",
      "Epoch 54/100\n",
      "100/100 [==============================] - 8s 84ms/step - loss: 0.0043 - acc: 0.9983 - val_loss: 0.3483 - val_acc: 0.9310\n",
      "Epoch 55/100\n",
      "100/100 [==============================] - 8s 83ms/step - loss: 0.0060 - acc: 0.9978 - val_loss: 0.3780 - val_acc: 0.9310\n",
      "Epoch 56/100\n",
      "100/100 [==============================] - 8s 84ms/step - loss: 0.0025 - acc: 0.9985 - val_loss: 0.3874 - val_acc: 0.9290\n",
      "Epoch 57/100\n",
      "100/100 [==============================] - 9s 85ms/step - loss: 0.0060 - acc: 0.9977 - val_loss: 0.4663 - val_acc: 0.9140\n",
      "Epoch 58/100\n",
      "100/100 [==============================] - 8s 84ms/step - loss: 0.0088 - acc: 0.9960 - val_loss: 0.3424 - val_acc: 0.9310\n",
      "Epoch 59/100\n",
      "100/100 [==============================] - 8s 84ms/step - loss: 0.0039 - acc: 0.9988 - val_loss: 0.4947 - val_acc: 0.9110\n",
      "Epoch 60/100\n",
      "100/100 [==============================] - 8s 84ms/step - loss: 0.0050 - acc: 0.9987 - val_loss: 0.3714 - val_acc: 0.9230\n",
      "Epoch 61/100\n",
      "100/100 [==============================] - 8s 83ms/step - loss: 0.0039 - acc: 0.9985 - val_loss: 0.5689 - val_acc: 0.9100\n"
     ]
    },
    {
     "name": "stdout",
     "output_type": "stream",
     "text": [
      "Epoch 62/100\n",
      "100/100 [==============================] - 8s 85ms/step - loss: 0.0042 - acc: 0.9974 - val_loss: 0.3994 - val_acc: 0.9280\n",
      "Epoch 63/100\n",
      "100/100 [==============================] - 9s 86ms/step - loss: 0.0038 - acc: 0.9992 - val_loss: 0.4014 - val_acc: 0.9260\n",
      "Epoch 64/100\n",
      "100/100 [==============================] - 9s 89ms/step - loss: 0.0047 - acc: 0.9974 - val_loss: 0.3319 - val_acc: 0.9260\n",
      "Epoch 65/100\n",
      "100/100 [==============================] - 9s 86ms/step - loss: 0.0042 - acc: 0.9969 - val_loss: 0.3729 - val_acc: 0.9300\n",
      "Epoch 66/100\n",
      "100/100 [==============================] - 8s 84ms/step - loss: 9.7941e-04 - acc: 1.0000 - val_loss: 0.4169 - val_acc: 0.9270\n",
      "Epoch 67/100\n",
      "100/100 [==============================] - 9s 86ms/step - loss: 0.0029 - acc: 1.0000 - val_loss: 0.4554 - val_acc: 0.9280\n",
      "Epoch 68/100\n",
      "100/100 [==============================] - 9s 87ms/step - loss: 0.0270 - acc: 0.9914 - val_loss: 0.3918 - val_acc: 0.9350\n",
      "Epoch 69/100\n",
      "100/100 [==============================] - 9s 85ms/step - loss: 0.0054 - acc: 0.9979 - val_loss: 0.4272 - val_acc: 0.9340\n",
      "Epoch 70/100\n",
      "100/100 [==============================] - 8s 84ms/step - loss: 0.0014 - acc: 0.9996 - val_loss: 0.4468 - val_acc: 0.9260\n",
      "Epoch 71/100\n",
      "100/100 [==============================] - 8s 85ms/step - loss: 0.0023 - acc: 0.9995 - val_loss: 0.4051 - val_acc: 0.9260\n",
      "Epoch 72/100\n",
      "100/100 [==============================] - 9s 86ms/step - loss: 0.0028 - acc: 0.9991 - val_loss: 0.4022 - val_acc: 0.9280\n",
      "Epoch 73/100\n",
      "100/100 [==============================] - 8s 85ms/step - loss: 0.0010 - acc: 1.0000 - val_loss: 0.4131 - val_acc: 0.9250\n",
      "Epoch 74/100\n",
      "100/100 [==============================] - 9s 85ms/step - loss: 0.0032 - acc: 0.9996 - val_loss: 0.4225 - val_acc: 0.9280\n",
      "Epoch 75/100\n",
      "100/100 [==============================] - 8s 85ms/step - loss: 0.0203 - acc: 0.9977 - val_loss: 0.4311 - val_acc: 0.9240\n",
      "Epoch 76/100\n",
      "100/100 [==============================] - 8s 84ms/step - loss: 0.0062 - acc: 0.9983 - val_loss: 0.3984 - val_acc: 0.9310\n",
      "Epoch 77/100\n",
      "100/100 [==============================] - 9s 85ms/step - loss: 3.4777e-04 - acc: 1.0000 - val_loss: 0.3734 - val_acc: 0.9320\n",
      "Epoch 78/100\n",
      "100/100 [==============================] - 9s 88ms/step - loss: 0.0028 - acc: 0.9980 - val_loss: 0.3724 - val_acc: 0.9350\n",
      "Epoch 79/100\n",
      "100/100 [==============================] - 9s 86ms/step - loss: 9.3156e-04 - acc: 0.9998 - val_loss: 0.3826 - val_acc: 0.9330\n",
      "Epoch 80/100\n",
      "100/100 [==============================] - 9s 86ms/step - loss: 0.0011 - acc: 0.9996 - val_loss: 0.4168 - val_acc: 0.9330\n",
      "Epoch 81/100\n",
      "100/100 [==============================] - 8s 84ms/step - loss: 0.0027 - acc: 0.9993 - val_loss: 0.4410 - val_acc: 0.9360\n",
      "Epoch 82/100\n",
      "100/100 [==============================] - 8s 85ms/step - loss: 0.0017 - acc: 0.9997 - val_loss: 0.4094 - val_acc: 0.9370\n",
      "Epoch 83/100\n",
      "100/100 [==============================] - 8s 83ms/step - loss: 0.0020 - acc: 0.9994 - val_loss: 0.4255 - val_acc: 0.9340\n",
      "Epoch 84/100\n",
      "100/100 [==============================] - 9s 85ms/step - loss: 0.0023 - acc: 0.9991 - val_loss: 0.4800 - val_acc: 0.9210\n",
      "Epoch 85/100\n",
      "100/100 [==============================] - 9s 86ms/step - loss: 0.0010 - acc: 0.9997 - val_loss: 0.4351 - val_acc: 0.9260\n",
      "Epoch 86/100\n",
      "100/100 [==============================] - 9s 86ms/step - loss: 0.0025 - acc: 0.9993 - val_loss: 0.5064 - val_acc: 0.9190\n",
      "Epoch 87/100\n",
      "100/100 [==============================] - 9s 86ms/step - loss: 8.0380e-04 - acc: 1.0000 - val_loss: 0.4220 - val_acc: 0.9280\n",
      "Epoch 88/100\n",
      "100/100 [==============================] - 9s 86ms/step - loss: 0.0014 - acc: 0.9996 - val_loss: 0.4250 - val_acc: 0.9330\n",
      "Epoch 89/100\n",
      "100/100 [==============================] - 8s 85ms/step - loss: 7.5346e-04 - acc: 0.9999 - val_loss: 0.4604 - val_acc: 0.9280\n",
      "Epoch 90/100\n",
      "100/100 [==============================] - 8s 83ms/step - loss: 2.9438e-04 - acc: 1.0000 - val_loss: 0.7947 - val_acc: 0.9050\n",
      "Epoch 91/100\n",
      "100/100 [==============================] - 9s 85ms/step - loss: 0.0013 - acc: 1.0000 - val_loss: 0.4156 - val_acc: 0.9330\n",
      "Epoch 92/100\n",
      "100/100 [==============================] - 9s 90ms/step - loss: 0.0029 - acc: 0.9991 - val_loss: 0.6414 - val_acc: 0.9150\n",
      "Epoch 93/100\n",
      "100/100 [==============================] - 9s 85ms/step - loss: 0.0016 - acc: 1.0000 - val_loss: 0.4619 - val_acc: 0.9300\n",
      "Epoch 94/100\n",
      "100/100 [==============================] - 9s 86ms/step - loss: 0.0031 - acc: 0.9989 - val_loss: 0.4165 - val_acc: 0.9350\n",
      "Epoch 95/100\n",
      "100/100 [==============================] - 9s 87ms/step - loss: 0.0026 - acc: 0.9974 - val_loss: 0.4218 - val_acc: 0.9330\n",
      "Epoch 96/100\n",
      "100/100 [==============================] - 9s 89ms/step - loss: 7.5558e-04 - acc: 0.9998 - val_loss: 0.4579 - val_acc: 0.9340\n",
      "Epoch 97/100\n",
      "100/100 [==============================] - 8s 85ms/step - loss: 0.0021 - acc: 1.0000 - val_loss: 0.4422 - val_acc: 0.9350\n",
      "Epoch 98/100\n",
      "100/100 [==============================] - 8s 85ms/step - loss: 0.0020 - acc: 0.9999 - val_loss: 0.4341 - val_acc: 0.9330\n",
      "Epoch 99/100\n",
      "100/100 [==============================] - 9s 86ms/step - loss: 4.9243e-04 - acc: 0.9999 - val_loss: 0.4526 - val_acc: 0.9330\n",
      "Epoch 100/100\n",
      "100/100 [==============================] - 8s 84ms/step - loss: 0.0040 - acc: 0.9978 - val_loss: 0.4677 - val_acc: 0.9280\n"
     ]
    }
   ],
   "source": [
    "model.compile(loss = 'binary_crossentropy',\n",
    "              optimizer = optimizers.RMSprop(lr = 1e-5),\n",
    "              metrics = ['acc'])\n",
    "\n",
    "history = model.fit_generator(train_generator,\n",
    "                              steps_per_epoch = 100,\n",
    "                              epochs = 100,\n",
    "                              validation_data = validation_generator,\n",
    "                              validation_steps = 50)"
   ]
  },
  {
   "cell_type": "code",
   "execution_count": 18,
   "id": "63d4cf62",
   "metadata": {},
   "outputs": [],
   "source": [
    "model.save('cats_and_dogs_small_4.h5')"
   ]
  },
  {
   "cell_type": "code",
   "execution_count": 19,
   "id": "94f2e144",
   "metadata": {},
   "outputs": [
    {
     "data": {
      "image/png": "[encoded data removed]",
      "text/plain": [
       "<Figure size 432x288 with 1 Axes>"
      ]
     },
     "metadata": {
      "needs_background": "light"
     },
     "output_type": "display_data"
    },
    {
     "data": {
      "image/png": "[encoded data removed]",
      "text/plain": [
       "<Figure size 432x288 with 1 Axes>"
      ]
     },
     "metadata": {
      "needs_background": "light"
     },
     "output_type": "display_data"
    }
   ],
   "source": [
    "acc = history.history['acc']\n",
    "val_acc = history.history['val_acc']\n",
    "loss = history.history['loss']\n",
    "val_loss = history.history['val_loss']\n",
    "\n",
    "epochs = range(len(acc))\n",
    "\n",
    "plt.plot(epochs, acc, 'bo', label='Training acc')\n",
    "plt.plot(epochs, val_acc, 'b', label='Validation acc')\n",
    "plt.title('Training and validation accuracy')\n",
    "plt.legend()\n",
    "\n",
    "plt.figure()\n",
    "\n",
    "plt.plot(epochs, loss, 'bo', label='Training loss')\n",
    "plt.plot(epochs, val_loss, 'b', label='Validation loss')\n",
    "plt.title('Training and validation loss')\n",
    "plt.legend()\n",
    "\n",
    "plt.show()"
   ]
  },
  {
   "cell_type": "markdown",
   "id": "8e5275ed",
   "metadata": {},
   "source": [
    "그래프가 불규칙하게 보입니다. 그래프를 보기 쉽게 하기위해 **지수 이동 평균 (exponential moving average)**로 정확도와 손실 값을 부드럽게 표현합니다."
   ]
  },
  {
   "cell_type": "code",
   "execution_count": 20,
   "id": "d4d46da8",
   "metadata": {},
   "outputs": [
    {
     "data": {
      "image/png": "[encoded data removed]",
      "text/plain": [
       "<Figure size 432x288 with 1 Axes>"
      ]
     },
     "metadata": {
      "needs_background": "light"
     },
     "output_type": "display_data"
    },
    {
     "data": {
      "image/png": "[encoded data removed]",
      "text/plain": [
       "<Figure size 432x288 with 1 Axes>"
      ]
     },
     "metadata": {
      "needs_background": "light"
     },
     "output_type": "display_data"
    }
   ],
   "source": [
    "def smooth_curve(points, factor=0.9):\n",
    "    smoothed_points = []\n",
    "    for point in points:\n",
    "        if smoothed_points:\n",
    "            previous = smoothed_points[-1]\n",
    "            smoothed_points.append(previous * factor + point * (1 - factor))\n",
    "        else:\n",
    "            smoothed_points.append(point)\n",
    "        \n",
    "    return smoothed_points\n",
    "\n",
    "plt.plot(epochs, smooth_curve(acc), 'bo', label='Smoothed training acc')\n",
    "plt.plot(epochs, smooth_curve(val_acc), 'b', label='Smoothed validation acc')\n",
    "plt.title('Training and validation accuracy')\n",
    "plt.legend()\n",
    "\n",
    "plt.figure()\n",
    "\n",
    "plt.plot(epochs, smooth_curve(loss), 'bo', label='Smoothed training loss')\n",
    "plt.plot(epochs, smooth_curve(val_loss), 'b', label='Smoothed validation loss')\n",
    "plt.title('Training and validation loss')\n",
    "plt.legend()\n",
    "\n",
    "plt.show()"
   ]
  },
  {
   "cell_type": "markdown",
   "id": "b2acec7a",
   "metadata": {},
   "source": [
    "손실 곡선은 실제 어떤 향상을 얻지 못했습니다. 손실이 감소되지 않았는데 어떻게 정확도가 안정되거나 향상될 수 있을까요? 그래프는 개별적인 소실값의 평균을 그린 것입니다. 하지만 정확도에 영향을 미치는 것은 손실 값의 분포이지 평균이 아닙니다. 정확도는 모델이 예측한 클래스 확률이 어떤 임게 값을 넘었는지에 대한 결과이기 떄문입니다. 모델이 더 향상되더라도 평균 손실에 반영되지 않을 수 있습니다."
   ]
  },
  {
   "cell_type": "code",
   "execution_count": 21,
   "id": "be03481a",
   "metadata": {},
   "outputs": [
    {
     "name": "stdout",
     "output_type": "stream",
     "text": [
      "Found 1000 images belonging to 2 classes.\n"
     ]
    },
    {
     "name": "stderr",
     "output_type": "stream",
     "text": [
      "/home/jhhur/anaconda3/envs/TIL/lib/python3.8/site-packages/tensorflow/python/keras/engine/training.py:1877: UserWarning: `Model.evaluate_generator` is deprecated and will be removed in a future version. Please use `Model.evaluate`, which supports generators.\n",
      "  warnings.warn('`Model.evaluate_generator` is deprecated and '\n"
     ]
    },
    {
     "name": "stdout",
     "output_type": "stream",
     "text": [
      "test acc: 0.9279999732971191\n"
     ]
    }
   ],
   "source": [
    "test_generator = test_datagen.flow_from_directory(test_dir,\n",
    "                                                    target_size = (150, 150),\n",
    "                                                    batch_size = 20,\n",
    "                                                    class_mode = 'binary')\n",
    "\n",
    "test_loss, test_acc = model.evaluate_generator(test_generator, steps = 50)\n",
    "print('test acc:', test_acc)"
   ]
  },
  {
   "cell_type": "markdown",
   "id": "8772cdb7",
   "metadata": {},
   "source": [
    "약 93%의 정확도를 얻었습니다."
   ]
  },
  {
   "cell_type": "markdown",
   "id": "4dd403ac",
   "metadata": {},
   "source": [
    " "
   ]
  }
 ],
 "metadata": {
  "kernelspec": {
   "display_name": "Python 3",
   "language": "python",
   "name": "python3"
  },
  "language_info": {
   "codemirror_mode": {
    "name": "ipython",
    "version": 3
   },
   "file_extension": ".py",
   "mimetype": "text/x-python",
   "name": "python",
   "nbconvert_exporter": "python",
   "pygments_lexer": "ipython3",
   "version": "3.8.10"
  }
 },
 "nbformat": 4,
 "nbformat_minor": 5
}

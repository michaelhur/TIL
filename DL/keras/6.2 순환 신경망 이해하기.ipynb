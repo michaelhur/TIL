{
 "cells": [
  {
   "cell_type": "code",
   "execution_count": 1,
   "id": "7a990c5b",
   "metadata": {},
   "outputs": [],
   "source": [
    "import keras\n",
    "import tensorflow as tf\n",
    "\n",
    "# Memory Pre-configuration\n",
    "config = tf.compat.v1.ConfigProto(\n",
    "    gpu_options=tf.compat.v1.GPUOptions(\n",
    "        per_process_gpu_memory_fraction=0.8,\n",
    "        #allow_growth = True\n",
    "    )\n",
    "    # device_count = {'GPU': 1}\n",
    ")\n",
    "session = tf.compat.v1.Session(config=config)\n",
    "tf.compat.v1.keras.backend.set_session(session)\n",
    "\n",
    "#tf.compat.v1.disable_eager_execution()"
   ]
  },
  {
   "cell_type": "markdown",
   "id": "4ff17f09",
   "metadata": {},
   "source": [
    "완전 연결 네트워크나 컨브넷처럼 지금까지 본 신경망의 특징은 **메모리가 없다**는 점입니다.\n",
    "* 입력이 개별적으로 처리되며 입력간에 유지되는 상태가 없습니다\n",
    "* 이런 네트워크로 시퀀스나 시계열 데이터를 처리하려면 네트워크에 시퀀스 전체를 주입해야합니다\n",
    "* 이런 네트워크를 Feedforward Network라고 합니다\n",
    "\n",
    "반대로 사람이 문장을 읽는 것처럼 **이전에 나온 것을 기억하면서** 단어별로 처리할 수 있습니다.\n",
    "* 문장에 있는 의미를 자연스럽게 표현하도록 도와줍니다\n",
    "* 정보 처리를 위한 내부 모델을 유지하면서 점진적으로 정보를 처리합니다\n",
    "* 과거 정보를 사용하여 구축되며 새롭게 얻은 정보를 계속 업데이트합니다\n",
    "\n",
    "이를 극단적으로 단순화시킨 모델은 **순환 신경망 (Recurrent Neural Network, RNN)**입니다.\n",
    "* 시퀀스의 원소를 순회하면서 지금까지 처리한 정보를 **상태 (state)**에 저장합니다\n",
    "* RNN은 내부에 *루프 (loop)*를 가진 신경망의 한 종류입니다.\n",
    "* RNN의 상태는 2개의 다른 시퀀스를 처리하는 사이에 재설정됩니다.\n",
    "* 하나의 시퀀스가 여전히 하나의 데이터 포인트로 간주됩니다\n",
    "* 즉 네트워크에 하나의 입력을 주입하더라도 이 데이터 포인트는 한번에 처리되지 않습니다.\n",
    "* 대신 시퀀스의 원소를 차례대로 방문합니다\n",
    "\n",
    "<br></br>\n",
    "![](../images/6-2-rnn.png)\n",
    "<br></br>"
   ]
  },
  {
   "cell_type": "markdown",
   "id": "89a7a021",
   "metadata": {},
   "source": [
    "루프와 상태의 개념을 이해하기 위해 넘파이를 이용하여 RNN 정방향 계산을 구현해보겠습니다.\n",
    "* RNN은 크기가 (timesteps, input_featues)인 2D 텐서로 인코딩된 벡터의 시퀀스를 입력으로 받습니다\n",
    "* 시퀀스는 타임스텝에 따라 반복됩니다\n",
    "* 각 타임스텝 t에서 현재 상태와 (input_features,) 크기의 입력을 연결하여 출력합니다.\n",
    "* 그 다음 이 출력을 다음 스텝의 상태로 설정합니다.\n",
    "* 첫번째 타임스텝에서는 이전 출력이 정의되지 않으므로 현재 상태가 없습니다. \n",
    "* 이때는 네트워크의 **초기 상태 (initial state)**인 0 벡터로 상태를 초기화합니다."
   ]
  },
  {
   "cell_type": "markdown",
   "id": "b8e3af8e",
   "metadata": {},
   "source": [
    "Pseudocode로 표현하면 아래와 같습니다\n",
    "\n",
    "```python\n",
    "state_t = 0\n",
    "\n",
    "for input_t in input_sequence:\n",
    "    output_t = f(input_t, state_t)\n",
    "    state_t = output_t\n",
    "```\n",
    "\n",
    "f 함수는 입력과 상태를 출력으로 변환합니다. 좀 더 자세하게 표현하자면:\n",
    "\n",
    "```python\n",
    "state_t = 0\n",
    "for input_t in input_sequence:\n",
    "    output_t = activation(dot(W, input_t) + dot(U, state_t) + b)\n",
    "    state_t = output_t\n",
    "```\n",
    "\n",
    "이를 넘파이로 구현해보겠습니다."
   ]
  },
  {
   "cell_type": "markdown",
   "id": "f37f03ad",
   "metadata": {},
   "source": [
    "##### 넘파이로 구현한 간단한 RNN"
   ]
  },
  {
   "cell_type": "code",
   "execution_count": 2,
   "id": "179026d1",
   "metadata": {},
   "outputs": [],
   "source": [
    "import numpy as np\n",
    "\n",
    "timesteps = 100\n",
    "input_features = 32\n",
    "output_features = 64\n",
    "\n",
    "inputs = np.random.random((timesteps, input_features))\n",
    "\n",
    "state_t = np.zeros((output_features))\n",
    "\n",
    "W = np.random.random((output_features, input_features))\n",
    "U = np.random.random((output_features, output_features))\n",
    "b = np.random.random((output_features, ))\n",
    "\n",
    "successive_outputs = []\n",
    "\n",
    "for input_t in inputs:\n",
    "    output_t = np.tanh(np.dot(W, input_t) + np.dot(U, state_t) + b)\n",
    "    successive_outputs.append(output_t)\n",
    "    state_t = output_t\n",
    "    \n",
    "final_output_sequence = np.stack(successive_outputs, axis = 0)"
   ]
  },
  {
   "cell_type": "code",
   "execution_count": 3,
   "id": "26cc2188",
   "metadata": {},
   "outputs": [
    {
     "data": {
      "text/plain": [
       "array([[1.        , 0.99999999, 0.99999987, ..., 1.        , 0.99999996,\n",
       "        0.99999996],\n",
       "       [1.        , 1.        , 1.        , ..., 1.        , 1.        ,\n",
       "        1.        ],\n",
       "       [1.        , 1.        , 1.        , ..., 1.        , 1.        ,\n",
       "        1.        ],\n",
       "       ...,\n",
       "       [1.        , 1.        , 1.        , ..., 1.        , 1.        ,\n",
       "        1.        ],\n",
       "       [1.        , 1.        , 1.        , ..., 1.        , 1.        ,\n",
       "        1.        ],\n",
       "       [1.        , 1.        , 1.        , ..., 1.        , 1.        ,\n",
       "        1.        ]])"
      ]
     },
     "execution_count": 3,
     "metadata": {},
     "output_type": "execute_result"
    }
   ],
   "source": [
    "final_output_sequence"
   ]
  },
  {
   "cell_type": "markdown",
   "id": "b657825e",
   "metadata": {},
   "source": [
    "RNN은 반복할때 이전에 계산한 정보를 재사용하는 for 루프에 지나지 않습니다. 물론 이 정의에 맞는 RNN의 종류는 많습니다. RNN은 스텝 함수에 의해 특화됩니다.\n",
    "\n",
    "```python\n",
    "output_t = np.tanh(np.dot(W, input_t) + np.dot(U, state_t) + b)\n",
    "```\n",
    "\n",
    "<br></br>\n",
    "![](../images/6-2-rnn2.png)\n",
    "<br></br>"
   ]
  },
  {
   "cell_type": "markdown",
   "id": "443ebd80",
   "metadata": {},
   "source": [
    " "
   ]
  },
  {
   "cell_type": "markdown",
   "id": "d10ec8bb",
   "metadata": {},
   "source": [
    "### 케라스의 순환 층"
   ]
  },
  {
   "cell_type": "markdown",
   "id": "c0168bce",
   "metadata": {},
   "source": [
    "넘파이로 구현한 과정이 케라스의 SimpleRNN 층에 해당합니다.\n",
    "\n",
    "```python\n",
    "from keras.layers import SimpleRNN\n",
    "```\n",
    "\n",
    "SimpleRNN이 한가지 다른점은 하나의 시퀀스가 아니라 다른 케라스층과 마찬가지로 시퀀스 배치를 처리합니다.\n",
    "* (timesteps, input_features) 가 아닌 (batch_size, timesteps, input_features) 크기의 입력을 받습니다.\n",
    "\n",
    "SimpleRNN은 2가지 모드로 실행할 수 있습니다.\n",
    "1. 각 타임스텝의 출력을 모은 전체 시퀀스를 반환 (batch_size, timesteps, output_features)\n",
    "2. 입력 시퀀스에 대한 마지막 출력만 반환 (batch_size, output_features)"
   ]
  },
  {
   "cell_type": "markdown",
   "id": "ffed4e99",
   "metadata": {},
   "source": [
    "마지막 타임스텝의 출력만 얻는 모델:"
   ]
  },
  {
   "cell_type": "code",
   "execution_count": 4,
   "id": "af4db537",
   "metadata": {},
   "outputs": [
    {
     "name": "stdout",
     "output_type": "stream",
     "text": [
      "Model: \"sequential\"\n",
      "_________________________________________________________________\n",
      "Layer (type)                 Output Shape              Param #   \n",
      "=================================================================\n",
      "embedding (Embedding)        (None, None, 32)          320000    \n",
      "_________________________________________________________________\n",
      "simple_rnn (SimpleRNN)       (None, 32)                2080      \n",
      "=================================================================\n",
      "Total params: 322,080\n",
      "Trainable params: 322,080\n",
      "Non-trainable params: 0\n",
      "_________________________________________________________________\n"
     ]
    }
   ],
   "source": [
    "from keras.models import Sequential\n",
    "from keras.layers import Embedding, SimpleRNN\n",
    "\n",
    "model = Sequential()\n",
    "model.add(Embedding(10000, 32))\n",
    "model.add(SimpleRNN(32))\n",
    "model.summary()"
   ]
  },
  {
   "cell_type": "markdown",
   "id": "1d40443e",
   "metadata": {},
   "source": [
    "전체 상태 시퀀스를 반환하는 모델:"
   ]
  },
  {
   "cell_type": "code",
   "execution_count": 5,
   "id": "7824c6fa",
   "metadata": {},
   "outputs": [
    {
     "name": "stdout",
     "output_type": "stream",
     "text": [
      "Model: \"sequential_1\"\n",
      "_________________________________________________________________\n",
      "Layer (type)                 Output Shape              Param #   \n",
      "=================================================================\n",
      "embedding_1 (Embedding)      (None, None, 32)          320000    \n",
      "_________________________________________________________________\n",
      "simple_rnn_1 (SimpleRNN)     (None, None, 32)          2080      \n",
      "=================================================================\n",
      "Total params: 322,080\n",
      "Trainable params: 322,080\n",
      "Non-trainable params: 0\n",
      "_________________________________________________________________\n"
     ]
    }
   ],
   "source": [
    "model = Sequential()\n",
    "model.add(Embedding(10000,32))\n",
    "model.add(SimpleRNN(32, return_sequences = True))\n",
    "model.summary()"
   ]
  },
  {
   "cell_type": "markdown",
   "id": "65f2d8fc",
   "metadata": {},
   "source": [
    "네트워크의 표현력을 증가시키기 위해 여러 개의 순환 층을 차례대로 쌓는 것이 유용할때도 있습니다.\n",
    "* 이런 설정에서는 중간층들이 전체 출력 시퀀스를 반환하도록 해야합니다"
   ]
  },
  {
   "cell_type": "code",
   "execution_count": 6,
   "id": "7ac7014d",
   "metadata": {},
   "outputs": [
    {
     "name": "stdout",
     "output_type": "stream",
     "text": [
      "Model: \"sequential_2\"\n",
      "_________________________________________________________________\n",
      "Layer (type)                 Output Shape              Param #   \n",
      "=================================================================\n",
      "embedding_2 (Embedding)      (None, None, 32)          320000    \n",
      "_________________________________________________________________\n",
      "simple_rnn_2 (SimpleRNN)     (None, None, 32)          2080      \n",
      "_________________________________________________________________\n",
      "simple_rnn_3 (SimpleRNN)     (None, None, 32)          2080      \n",
      "_________________________________________________________________\n",
      "simple_rnn_4 (SimpleRNN)     (None, None, 32)          2080      \n",
      "_________________________________________________________________\n",
      "simple_rnn_5 (SimpleRNN)     (None, 32)                2080      \n",
      "=================================================================\n",
      "Total params: 328,320\n",
      "Trainable params: 328,320\n",
      "Non-trainable params: 0\n",
      "_________________________________________________________________\n"
     ]
    }
   ],
   "source": [
    "model = Sequential()\n",
    "model.add(Embedding(10000, 32))\n",
    "model.add(SimpleRNN(32, return_sequences = True))\n",
    "model.add(SimpleRNN(32, return_sequences = True))\n",
    "model.add(SimpleRNN(32, return_sequences = True))\n",
    "model.add(SimpleRNN(32))\n",
    "model.summary()"
   ]
  },
  {
   "cell_type": "markdown",
   "id": "3d99238c",
   "metadata": {},
   "source": [
    " "
   ]
  },
  {
   "cell_type": "markdown",
   "id": "cdf2d6b7",
   "metadata": {},
   "source": [
    "이제 IMDB 영화 리뷰 분류 문제에 적용해보겠습니다."
   ]
  },
  {
   "cell_type": "code",
   "execution_count": 7,
   "id": "fc07fe73",
   "metadata": {},
   "outputs": [
    {
     "name": "stdout",
     "output_type": "stream",
     "text": [
      "데이터 로딩...\n"
     ]
    },
    {
     "name": "stderr",
     "output_type": "stream",
     "text": [
      "<__array_function__ internals>:5: VisibleDeprecationWarning: Creating an ndarray from ragged nested sequences (which is a list-or-tuple of lists-or-tuples-or ndarrays with different lengths or shapes) is deprecated. If you meant to do this, you must specify 'dtype=object' when creating the ndarray\n",
      "/home/jhhur/anaconda3/envs/TIL/lib/python3.8/site-packages/tensorflow/python/keras/datasets/imdb.py:159: VisibleDeprecationWarning: Creating an ndarray from ragged nested sequences (which is a list-or-tuple of lists-or-tuples-or ndarrays with different lengths or shapes) is deprecated. If you meant to do this, you must specify 'dtype=object' when creating the ndarray\n",
      "  x_train, y_train = np.array(xs[:idx]), np.array(labels[:idx])\n",
      "/home/jhhur/anaconda3/envs/TIL/lib/python3.8/site-packages/tensorflow/python/keras/datasets/imdb.py:160: VisibleDeprecationWarning: Creating an ndarray from ragged nested sequences (which is a list-or-tuple of lists-or-tuples-or ndarrays with different lengths or shapes) is deprecated. If you meant to do this, you must specify 'dtype=object' when creating the ndarray\n",
      "  x_test, y_test = np.array(xs[idx:]), np.array(labels[idx:])\n"
     ]
    },
    {
     "name": "stdout",
     "output_type": "stream",
     "text": [
      "25000 훈련 시퀀스\n",
      "25000 테스트 시퀀스\n",
      "시퀀스 패딩 (samples x time)\n",
      "input_train 크기: (25000, 500)\n",
      "input_test 크기: (25000, 500)\n"
     ]
    }
   ],
   "source": [
    "from keras.datasets import imdb\n",
    "from keras.preprocessing import sequence\n",
    "\n",
    "## 특성으로 사용할 단어의 수\n",
    "max_features = 10000\n",
    "\n",
    "## 사용할 텍스트의 길이\n",
    "maxlen = 500\n",
    "batch = 32\n",
    "\n",
    "print(\"데이터 로딩...\")\n",
    "\n",
    "(input_train, y_train), (input_test, y_test) = imdb.load_data(num_words = max_features)\n",
    "\n",
    "print(len(input_train), \"훈련 시퀀스\")\n",
    "print(len(input_test), \"테스트 시퀀스\")\n",
    "\n",
    "print(\"시퀀스 패딩 (samples x time)\")\n",
    "\n",
    "input_train = sequence.pad_sequences(input_train, maxlen = maxlen)\n",
    "input_test = sequence.pad_sequences(input_test, maxlen = maxlen)\n",
    "\n",
    "print(\"input_train 크기:\", input_train.shape)\n",
    "print(\"input_test 크기:\", input_test.shape)"
   ]
  },
  {
   "cell_type": "markdown",
   "id": "c0a03b6e",
   "metadata": {},
   "source": [
    "Embedding 층과 SimpleRNN 층을 사용하여 간단한 순환 네트워크를 훈련시켜 보겠습니다."
   ]
  },
  {
   "cell_type": "markdown",
   "id": "104ce869",
   "metadata": {},
   "source": [
    "##### Embedding 층과 SimpleRNN 층을 사용한 모델 훈련하기"
   ]
  },
  {
   "cell_type": "code",
   "execution_count": 8,
   "id": "364e5751",
   "metadata": {},
   "outputs": [
    {
     "name": "stdout",
     "output_type": "stream",
     "text": [
      "Train on 20000 samples, validate on 5000 samples\n",
      "Epoch 1/10\n",
      "20000/20000 [==============================] - ETA: 0s - loss: 0.6535 - acc: 0.5983"
     ]
    },
    {
     "name": "stderr",
     "output_type": "stream",
     "text": [
      "/home/jhhur/anaconda3/envs/TIL/lib/python3.8/site-packages/tensorflow/python/keras/engine/training.py:2325: UserWarning: `Model.state_updates` will be removed in a future version. This property should not be used in TensorFlow 2.0, as `updates` are applied automatically.\n",
      "  warnings.warn('`Model.state_updates` will be removed in a future version. '\n"
     ]
    },
    {
     "name": "stdout",
     "output_type": "stream",
     "text": [
      "20000/20000 [==============================] - 14s 711us/sample - loss: 0.6535 - acc: 0.5983 - val_loss: 0.5294 - val_acc: 0.7336\n",
      "Epoch 2/10\n",
      "20000/20000 [==============================] - 14s 687us/sample - loss: 0.4026 - acc: 0.8295 - val_loss: 0.3882 - val_acc: 0.8374\n",
      "Epoch 3/10\n",
      "20000/20000 [==============================] - 14s 683us/sample - loss: 0.2925 - acc: 0.8826 - val_loss: 0.4067 - val_acc: 0.8136\n",
      "Epoch 4/10\n",
      "20000/20000 [==============================] - 14s 686us/sample - loss: 0.2249 - acc: 0.9137 - val_loss: 0.3752 - val_acc: 0.8406\n",
      "Epoch 5/10\n",
      "20000/20000 [==============================] - 14s 686us/sample - loss: 0.1440 - acc: 0.9498 - val_loss: 0.4512 - val_acc: 0.8114\n",
      "Epoch 6/10\n",
      "20000/20000 [==============================] - 14s 689us/sample - loss: 0.0882 - acc: 0.9719 - val_loss: 0.4833 - val_acc: 0.8180\n",
      "Epoch 7/10\n",
      "20000/20000 [==============================] - 14s 706us/sample - loss: 0.0538 - acc: 0.9840 - val_loss: 0.4943 - val_acc: 0.8352\n",
      "Epoch 8/10\n",
      "20000/20000 [==============================] - 14s 701us/sample - loss: 0.0309 - acc: 0.9915 - val_loss: 0.8454 - val_acc: 0.7552\n",
      "Epoch 9/10\n",
      "20000/20000 [==============================] - 14s 707us/sample - loss: 0.0226 - acc: 0.9941 - val_loss: 0.7598 - val_acc: 0.7656\n",
      "Epoch 10/10\n",
      "20000/20000 [==============================] - 14s 699us/sample - loss: 0.0181 - acc: 0.9948 - val_loss: 0.6785 - val_acc: 0.8316\n"
     ]
    }
   ],
   "source": [
    "from keras.layers import Dense\n",
    "\n",
    "model = Sequential()\n",
    "model.add(Embedding(max_features, 32))\n",
    "model.add(SimpleRNN(32))\n",
    "model.add(Dense(1, activation = \"sigmoid\"))\n",
    "\n",
    "model.compile(optimizer = 'rmsprop', loss = \"binary_crossentropy\", metrics = [\"acc\"])\n",
    "\n",
    "history = model.fit(input_train, y_train, epochs = 10, batch_size = 128, validation_split = 0.2)"
   ]
  },
  {
   "cell_type": "markdown",
   "id": "c9df58eb",
   "metadata": {},
   "source": [
    "이제 훈련과 검증과 손실과 정확도를 그래프로 그립니다"
   ]
  },
  {
   "cell_type": "markdown",
   "id": "c9a4de9c",
   "metadata": {},
   "source": [
    "##### 결과 그래프 그리기"
   ]
  },
  {
   "cell_type": "code",
   "execution_count": 9,
   "id": "818500ed",
   "metadata": {},
   "outputs": [
    {
     "data": {
      "image/png": "[encoded data removed]",
      "text/plain": [
       "<Figure size 432x288 with 1 Axes>"
      ]
     },
     "metadata": {
      "needs_background": "light"
     },
     "output_type": "display_data"
    },
    {
     "data": {
      "image/png": "[encoded data removed]",
      "text/plain": [
       "<Figure size 432x288 with 1 Axes>"
      ]
     },
     "metadata": {
      "needs_background": "light"
     },
     "output_type": "display_data"
    }
   ],
   "source": [
    "import matplotlib.pyplot as plt\n",
    "\n",
    "acc = history.history['acc']\n",
    "val_acc = history.history['val_acc']\n",
    "loss = history.history['loss']\n",
    "val_loss = history.history['val_loss']\n",
    "\n",
    "epochs = range(len(acc))\n",
    "\n",
    "plt.plot(epochs, acc, 'bo', label='Training acc')\n",
    "plt.plot(epochs, val_acc, 'b', label='Validation acc')\n",
    "plt.title('Training and validation accuracy')\n",
    "plt.legend()\n",
    "\n",
    "plt.figure()\n",
    "\n",
    "plt.plot(epochs, loss, 'bo', label='Training loss')\n",
    "plt.plot(epochs, val_loss, 'b', label='Validation loss')\n",
    "plt.title('Training and validation loss')\n",
    "plt.legend()\n",
    "\n",
    "plt.show()"
   ]
  },
  {
   "cell_type": "markdown",
   "id": "d95a5576",
   "metadata": {},
   "source": [
    "이 데이터를 사용한 첫번재 모델에서 얻은 테스트 정확도는 87%였습니다. 안타깝자기 간단한 순환 네트워크는 이 기준 모델보다 성능이 높지 않습니다. (약 85%의 검증 정확도). \n",
    "\n",
    "* 전체 시퀀스가 아니라 처음 500개의 단어만 입력에 사용했기 때문입니다. 이 RNN은 기준 모델보다 얻은 정보가 적습니다. \n",
    "* 다른 이유는 SimpleRNN이 텍스트처럼 긴 시퀀스를 처리하는데 적합하지 않기 때문입니다. \n",
    "\n",
    "더 잘 작동하는 다른 순환층이 있습니다."
   ]
  },
  {
   "cell_type": "markdown",
   "id": "c7692428",
   "metadata": {},
   "source": [
    " "
   ]
  },
  {
   "cell_type": "markdown",
   "id": "951e0f4e",
   "metadata": {},
   "source": [
    "### LSTM과 GRU 층 이해하기"
   ]
  },
  {
   "cell_type": "markdown",
   "id": "09eb1b38",
   "metadata": {},
   "source": [
    "`SimpleRNN`외에도 다른 순환 층이 있습니다.\n",
    "* LSTM\n",
    "* GRU\n",
    "\n",
    "SimpleRNN은 실전에서 쓰기에 너무 단순합니다. 이론적으로 시간 t에서 이전의 모든 타임스텝의 정보를 유지할 수 있습니다. 하지만 실제로는 긴 시간에 걸친 의존성은 학습할 수 없는 것이 문제입니다. 층이 많은 Feedforward Network에서 나타나는 것과 비슷한 현상인 **그래디언트 손실 현상 (Vanishing Gradient Problem)**때문입니다.\n",
    "\n",
    "* 역전파가 진행되는 동안 타임스텝마다 동일한 가중치를 사용하기 때문에 타임스텝이 길어질수록 그래디언트 값이 급격히 줄어들거나 급격히 증가할 수 있습니다.\n",
    "* 이 문제를 해결하기 위해 고안된 것이 LSTM과 GRU입니다."
   ]
  },
  {
   "cell_type": "markdown",
   "id": "411cbb41",
   "metadata": {},
   "source": [
    "LSTM (Long short-term memory)\n",
    "* 정보를 여러 타임스텝에 걸쳐 나르는 방법이 추가됨\n",
    "* 나중을 위해 정보를 저장함으로써 처리 과정에서 오래된 시그널이 점차 소실되는 것을 막아줌"
   ]
  },
  {
   "cell_type": "markdown",
   "id": "6dfa7120",
   "metadata": {},
   "source": [
    "<br></br>\n",
    "![](../images/6-2-lstm1.png)\n",
    "<br></br>\n",
    "\n",
    "SimpleRNN의 Cell입니다. \n",
    "* 가중치의 행렬 여러개가 나오므로 출력을 나타내는 문자 o로 셀에 있는 W와 U 행렬을 표현합니다 (Wo와 Uo)\n",
    "\n",
    "이 Cell에 타임스텝을 가로질러 정보를 나르는 데이터 흐름을 추가해봅시다.\n",
    "* 타임스텝 t에서 이 값을 이동 상태 c_t라고 부르겠습니다\n",
    "* 이 정보를 사용하여 셀이 다음과 같이 바뀝니다.\n",
    "* 입력 연결과 순환 연결 (state)로 부터 이 정보가 합성됩니다.\n",
    "* 가중치 행렬과 점곱한 후 편향을 더하고 활성화 함수를 적용합니다\n",
    "* 다음 타임스텝으로 전달될 상태로 변경시킵니다 (활성화 함수와 곱셈을 통하여)\n",
    "\n",
    "<br></br>\n",
    "![](../images/6-2-lstm2.png)\n",
    "<br></br>\n",
    "\n",
    "복잡한 부분은 데이터 흐름에서 다음 이동 상태 ($c_{t+1}$)가 계산되는 방식입니다.\n",
    "* 3개의 다른 변환이 관련되어 있습니다.\n",
    "* 3개 모두 SimpleRNN과 같은 형태를 가집니다\n",
    "* `y = activation(dot(state_t, U) + dot(input_t, W) + b)`\n",
    "* 3개의 변환 모두 자신만의 가중치 행렬을 가집니다 (i, f, k)\n",
    "\n",
    "```python\n",
    "output_t = activation(c_t) * activation(dot(input_t, W_o) + dot(state_t, U_o) + b_o)\n",
    "\n",
    "i_t = activation(dot(state_t, U_i) + dot(input_t, W_i) + b_i)\n",
    "f_t = activation(dot(state_t, U_f) + dot(input_t, W_f) + b_f)\n",
    "k_t = activation(dot(state_t, U_k) + dot(input_t, W_k) + b_k)\n",
    "```\n",
    "\n",
    "i_t, f_t, k_t를 결합하여 새로운 이동 상태 ($c_{t+1}$)를 구합니다\n",
    "\n",
    "```python\n",
    "c_t+1 = i_t * k_t + c_t * f_t\n",
    "```\n",
    "\n",
    "<br></br>\n",
    "![](../images/6-2-lstm3.png)\n",
    "<br></br>\n",
    "\n",
    "복잡해보이지만 연산이 하는 일을 해석하면 각 의미에 대한 통찰을 얻을 수 있습니다.\n",
    "* c_t과 f_t의 곱셈은 이동을 위한 데이터 흐름에서 관련이 적은 정보를 의도적으로 삭제한다고 볼 수 있습니다\n",
    "* i_t와 k_t는 현재에 대한 정보를 제동하고 이동 트랙을 새로운 정보로 업데이트합니다\n",
    "* 이런 해석때문에 f_t의 계산식을 **forget gate (삭제 게이트)**\n",
    "* i_t의 계산식을 **input gate (인풋 게이트)**라고 부릅니다\n",
    "* 가중치는 엔드-투-엔드 방식으로 학습됩니다\n",
    "* 이 과정은 훈련 반복마다 매번 새로 시작되며 연산들에 특정 목적을 부여하기가 힘듭니다\n",
    "* RNN의 사양 (**specification**)은 가설 공간을 결정합니다\n",
    "* 셀의 사양은 셀이 하는 일을 결정하지 않습니다.\n",
    "* 셀의 가중치에 달려있습니다\n",
    "* 같은 셀이더라도 다른 가중치를 가지는 경우 매운 다른 작업을 수행합니다"
   ]
  },
  {
   "cell_type": "markdown",
   "id": "7a8900f9",
   "metadata": {},
   "source": [
    " "
   ]
  },
  {
   "cell_type": "markdown",
   "id": "60de4fc2",
   "metadata": {},
   "source": [
    "### 케라스를 사용한 LSTM 예제"
   ]
  },
  {
   "cell_type": "markdown",
   "id": "b102bda7",
   "metadata": {},
   "source": [
    "##### 케라스에서 LSTM 층 사용하기"
   ]
  },
  {
   "cell_type": "code",
   "execution_count": 12,
   "id": "d55da6d7",
   "metadata": {},
   "outputs": [
    {
     "name": "stdout",
     "output_type": "stream",
     "text": [
      "WARNING:tensorflow:Layer lstm_2 will not use cuDNN kernel since it doesn't meet the cuDNN kernel criteria. It will use generic GPU kernel as fallback when running on GPU\n",
      "Train on 20000 samples, validate on 5000 samples\n",
      "Epoch 1/10\n",
      "20000/20000 [==============================] - ETA: 0s - loss: 0.5150 - accuracy: 0.7663"
     ]
    },
    {
     "name": "stderr",
     "output_type": "stream",
     "text": [
      "/home/jhhur/anaconda3/envs/TIL/lib/python3.8/site-packages/tensorflow/python/keras/engine/training.py:2325: UserWarning: `Model.state_updates` will be removed in a future version. This property should not be used in TensorFlow 2.0, as `updates` are applied automatically.\n",
      "  warnings.warn('`Model.state_updates` will be removed in a future version. '\n"
     ]
    },
    {
     "name": "stdout",
     "output_type": "stream",
     "text": [
      "20000/20000 [==============================] - 23s 1ms/sample - loss: 0.5150 - accuracy: 0.7663 - val_loss: 0.6246 - val_accuracy: 0.7440\n",
      "Epoch 2/10\n",
      "20000/20000 [==============================] - 23s 1ms/sample - loss: 0.3042 - accuracy: 0.8841 - val_loss: 0.2957 - val_accuracy: 0.8814\n",
      "Epoch 3/10\n",
      "20000/20000 [==============================] - 22s 1ms/sample - loss: 0.2377 - accuracy: 0.9117 - val_loss: 0.3987 - val_accuracy: 0.8170\n",
      "Epoch 4/10\n",
      "20000/20000 [==============================] - 22s 1ms/sample - loss: 0.2013 - accuracy: 0.9263 - val_loss: 0.3818 - val_accuracy: 0.8750\n",
      "Epoch 5/10\n",
      "20000/20000 [==============================] - 22s 1ms/sample - loss: 0.1792 - accuracy: 0.9348 - val_loss: 0.3631 - val_accuracy: 0.8798\n",
      "Epoch 6/10\n",
      "20000/20000 [==============================] - 22s 1ms/sample - loss: 0.1593 - accuracy: 0.9434 - val_loss: 0.3416 - val_accuracy: 0.8530\n",
      "Epoch 7/10\n",
      "20000/20000 [==============================] - 22s 1ms/sample - loss: 0.1469 - accuracy: 0.9487 - val_loss: 0.3192 - val_accuracy: 0.8798\n",
      "Epoch 8/10\n",
      "20000/20000 [==============================] - 22s 1ms/sample - loss: 0.1353 - accuracy: 0.9525 - val_loss: 0.5003 - val_accuracy: 0.8556\n",
      "Epoch 9/10\n",
      "20000/20000 [==============================] - 22s 1ms/sample - loss: 0.1243 - accuracy: 0.9555 - val_loss: 0.3735 - val_accuracy: 0.8868\n",
      "Epoch 10/10\n",
      "20000/20000 [==============================] - 22s 1ms/sample - loss: 0.1117 - accuracy: 0.9606 - val_loss: 0.4118 - val_accuracy: 0.8782\n"
     ]
    }
   ],
   "source": [
    "from keras.layers import LSTM\n",
    "\n",
    "model = Sequential()\n",
    "model.add(Embedding(max_features, 32))\n",
    "model.add(LSTM(32))\n",
    "model.add(Dense(1, activation='sigmoid'))\n",
    "\n",
    "model.compile(optimizer='rmsprop',\n",
    "              loss='binary_crossentropy',\n",
    "              metrics=['accuracy'])\n",
    "\n",
    "history = model.fit(input_train, y_train,\n",
    "                    epochs=10,\n",
    "                    batch_size=128,\n",
    "                    validation_split=0.2)"
   ]
  },
  {
   "cell_type": "code",
   "execution_count": 13,
   "id": "e603ee29",
   "metadata": {},
   "outputs": [
    {
     "data": {
      "image/png": "[encoded data removed]",
      "text/plain": [
       "<Figure size 432x288 with 1 Axes>"
      ]
     },
     "metadata": {
      "needs_background": "light"
     },
     "output_type": "display_data"
    },
    {
     "data": {
      "image/png": "[encoded data removed]",
      "text/plain": [
       "<Figure size 432x288 with 1 Axes>"
      ]
     },
     "metadata": {
      "needs_background": "light"
     },
     "output_type": "display_data"
    }
   ],
   "source": [
    "import matplotlib.pyplot as plt\n",
    "\n",
    "acc = history.history['accuracy']\n",
    "val_acc = history.history['val_accuracy']\n",
    "loss = history.history['loss']\n",
    "val_loss = history.history['val_loss']\n",
    "\n",
    "epochs = range(1, len(acc) + 1)\n",
    "\n",
    "plt.plot(epochs, acc, 'bo', label='Training acc')\n",
    "plt.plot(epochs, val_acc, 'b', label='Validation acc')\n",
    "plt.title('Training and validation accuracy')\n",
    "plt.legend()\n",
    "\n",
    "plt.figure()\n",
    "\n",
    "plt.plot(epochs, loss, 'bo', label='Training loss')\n",
    "plt.plot(epochs, val_loss, 'b', label='Validation loss')\n",
    "plt.title('Training and validation loss')\n",
    "plt.legend()\n",
    "\n",
    "plt.show()"
   ]
  },
  {
   "cell_type": "markdown",
   "id": "dfb53e7c",
   "metadata": {},
   "source": [
    "이번에는 88%의 검증 정확도를 달성했습니다. LSTM이 그래디언트 소실 문제로부터 덜 영향을 받기 때문입니다."
   ]
  }
 ],
 "metadata": {
  "kernelspec": {
   "display_name": "Python 3",
   "language": "python",
   "name": "python3"
  },
  "language_info": {
   "codemirror_mode": {
    "name": "ipython",
    "version": 3
   },
   "file_extension": ".py",
   "mimetype": "text/x-python",
   "name": "python",
   "nbconvert_exporter": "python",
   "pygments_lexer": "ipython3",
   "version": "3.8.10"
  }
 },
 "nbformat": 4,
 "nbformat_minor": 5
}

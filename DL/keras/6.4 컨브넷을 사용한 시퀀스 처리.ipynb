{
 "cells": [
  {
   "cell_type": "code",
   "execution_count": 1,
   "id": "ca8831f8",
   "metadata": {},
   "outputs": [],
   "source": [
    "import keras\n",
    "import tensorflow as tf\n",
    "\n",
    "# Memory Pre-configuration\n",
    "config = tf.compat.v1.ConfigProto(\n",
    "    gpu_options=tf.compat.v1.GPUOptions(\n",
    "        per_process_gpu_memory_fraction=0.9,\n",
    "        allow_growth = True\n",
    "    )\n",
    "    # device_count = {'GPU': 1}\n",
    ")\n",
    "session = tf.compat.v1.Session(config=config)\n",
    "tf.compat.v1.keras.backend.set_session(session)\n",
    "\n",
    "#tf.compat.v1.disable_eager_execution()"
   ]
  },
  {
   "cell_type": "markdown",
   "id": "38eb4535",
   "metadata": {},
   "source": [
    "우리는 컨브넷이 무엇인지 그리고 CV문제에 어떻게 잘 맞는지 배웠습니다.\n",
    "* 입력의 부분 패치에서 특성을 뽑아내어 구조적인 표현을 만들고 데이터를 효율적으로 사용하는 합성곱 연산의 능력때문입니다.\n",
    "* 시퀀스 처리에도 연관있습니다. 시간을 2D 이미지의 높이와 너비 같은 공간의 다룰 수 있습니다\n",
    "\n",
    "1D ConvNet은 특정 시퀀스 처리 문제에서 RNN과 견줄 만합니다. 일반적으로 계상 비용이 저렴합니다. 1D 컨브넷은 전형적으로 **팽창된 커널 (dilated kernel)**과 함께 사용됩니다."
   ]
  },
  {
   "cell_type": "markdown",
   "id": "8b123420",
   "metadata": {},
   "source": [
    " "
   ]
  },
  {
   "cell_type": "markdown",
   "id": "d17aa18f",
   "metadata": {},
   "source": [
    "### 시퀀스 데이터를 위한 1D 합성곱 이해하기"
   ]
  },
  {
   "cell_type": "markdown",
   "id": "3a2fea0a",
   "metadata": {},
   "source": [
    "2D 합성곱에서는 이미지 텐서에서 2D 패치를 추출하고 모든 패치에 동일한 변환을 적용합니다. 같은 방식으로 시퀀스에서 1D 패치 (부분 시퀀스)를 추출하여 1D 합성곱을 적용합니다.\n",
    "\n",
    "<br></br>\n",
    "![](../images/6-4-convnet.png)\n",
    "<br></br>\n",
    "\n",
    "이런 1D 합성곱 층은 시퀀스에 있는 지역 패턴을 인식할 수 있습니다. 동일한 변환이 시퀀스에 있는 모든 패치에 적용되기 때문에 특정 위치에서 학습한 패턴을 나중에 다른 위치에서 인식할 수 있습니다. 이는 1D 컨브넷에 **시간의 이동에 대한 이동 불변성 (translation invariant)**을 제공합니다. 예를 들어 크기 5인 윈도우를 사용하여 문자 시퀀스를 처리하는 1D ConvNet은 5개 이하의 단어나 단어의 부분을 학습합니다. 이 컨브넷은 이 단어가 입력 시퀀스의 어느 문장에 있더라도 인식할 수 있습니다. 따라서 문자 수준의 1D 컨브넷은 단어 형태학에 관해 학습할 수 있습니다."
   ]
  },
  {
   "cell_type": "markdown",
   "id": "49144047",
   "metadata": {},
   "source": [
    " "
   ]
  },
  {
   "cell_type": "markdown",
   "id": "e296db80",
   "metadata": {},
   "source": [
    "### 시퀀스 데이터를 위한 1D Pooling"
   ]
  },
  {
   "cell_type": "markdown",
   "id": "8afbe860",
   "metadata": {},
   "source": [
    "1D Pooling 연산은 2D Pooling 연산과 동일합니다. 입력에서 1D 패치를 추출하고 **최댓값**을 출력하거나 **평균값**을 출력합니다. 2D 컨브넷과 마찬가지로 1D 입력의 길이를 줄이기 위해 사용합니다. (서브샘플링 **subsampling**)"
   ]
  },
  {
   "cell_type": "markdown",
   "id": "fd24229a",
   "metadata": {},
   "source": [
    " "
   ]
  },
  {
   "cell_type": "markdown",
   "id": "50cd7224",
   "metadata": {},
   "source": [
    "### 1D ConvNet 구현"
   ]
  },
  {
   "cell_type": "markdown",
   "id": "dac3f807",
   "metadata": {},
   "source": [
    "* (samples, time, features) 크기의 3D 텐서를 입력받고 비슷한 형태의 3D 텐서를 반환합니다.\n",
    "* 합성곱 윈도우는 시간 축의 1D 윈도우입니다. (입력 텐서의 두번째 축)"
   ]
  },
  {
   "cell_type": "markdown",
   "id": "95d8b3fa",
   "metadata": {},
   "source": [
    "##### IMDB 데이터 전처리하기"
   ]
  },
  {
   "cell_type": "code",
   "execution_count": 2,
   "id": "d48d603d",
   "metadata": {},
   "outputs": [
    {
     "name": "stdout",
     "output_type": "stream",
     "text": [
      "데이터 로드...\n"
     ]
    },
    {
     "name": "stderr",
     "output_type": "stream",
     "text": [
      "<__array_function__ internals>:5: VisibleDeprecationWarning: Creating an ndarray from ragged nested sequences (which is a list-or-tuple of lists-or-tuples-or ndarrays with different lengths or shapes) is deprecated. If you meant to do this, you must specify 'dtype=object' when creating the ndarray\n",
      "/home/jhhur/anaconda3/envs/TIL/lib/python3.8/site-packages/tensorflow/python/keras/datasets/imdb.py:159: VisibleDeprecationWarning: Creating an ndarray from ragged nested sequences (which is a list-or-tuple of lists-or-tuples-or ndarrays with different lengths or shapes) is deprecated. If you meant to do this, you must specify 'dtype=object' when creating the ndarray\n",
      "  x_train, y_train = np.array(xs[:idx]), np.array(labels[:idx])\n",
      "/home/jhhur/anaconda3/envs/TIL/lib/python3.8/site-packages/tensorflow/python/keras/datasets/imdb.py:160: VisibleDeprecationWarning: Creating an ndarray from ragged nested sequences (which is a list-or-tuple of lists-or-tuples-or ndarrays with different lengths or shapes) is deprecated. If you meant to do this, you must specify 'dtype=object' when creating the ndarray\n",
      "  x_test, y_test = np.array(xs[idx:]), np.array(labels[idx:])\n"
     ]
    },
    {
     "name": "stdout",
     "output_type": "stream",
     "text": [
      "25000 훈련 시퀀스\n",
      "25000 테스트 시퀀스\n",
      "시퀀스 패딩 (samples x time)\n",
      "x_train 크기: (25000, 500)\n",
      "x_test 크기: (25000, 500)\n"
     ]
    }
   ],
   "source": [
    "from keras.datasets import imdb\n",
    "from keras.preprocessing import sequence\n",
    "\n",
    "max_features = 10000\n",
    "max_len = 500\n",
    "\n",
    "print(\"데이터 로드...\")\n",
    "(x_train, y_train), (x_test, y_test) = imdb.load_data(num_words = max_features)\n",
    "print(len(x_train), \"훈련 시퀀스\")\n",
    "print(len(x_test), \"테스트 시퀀스\")\n",
    "\n",
    "print(\"시퀀스 패딩 (samples x time)\")\n",
    "x_train = sequence.pad_sequences(x_train, maxlen = max_len)\n",
    "x_test = sequence.pad_sequences(x_test, maxlen = max_len)\n",
    "print(\"x_train 크기:\", x_train.shape)\n",
    "print(\"x_test 크기:\", x_test.shape)"
   ]
  },
  {
   "cell_type": "markdown",
   "id": "0419aafa",
   "metadata": {},
   "source": [
    "Conv1D와 MaxPooling1D 층을 쌓고 **전역 풀링 층 (GlobalAveragePooling1D 또는 GlobalMaxPooling1D)**이나 **Flatten 층**으로 마칩니다.\n",
    "* GlobalAveragePooling1D 또는 GlobalMaxPooling1D 층은 *(samples, timesteps, features)* 크기의 텐서를 입력받고 *(samples, features)* 크기의 텐서를 출력받습니다.\n",
    "* 즉 시간 축 전체에 풀링을 적용합니다\n",
    "* 이 구조는 3D 입력을 2D 출력으로 바꾸므로 분류나 회귀를 위해 하나 이상의 Dense 층을 추가할 수 있습니다"
   ]
  },
  {
   "cell_type": "markdown",
   "id": "f9d9c7be",
   "metadata": {},
   "source": [
    "##### IMDB 데이터에 1D 컨브넷을 훈련하고 평가하기"
   ]
  },
  {
   "cell_type": "code",
   "execution_count": 3,
   "id": "44b381e3",
   "metadata": {},
   "outputs": [
    {
     "name": "stdout",
     "output_type": "stream",
     "text": [
      "Model: \"sequential\"\n",
      "_________________________________________________________________\n",
      "Layer (type)                 Output Shape              Param #   \n",
      "=================================================================\n",
      "embedding (Embedding)        (None, 500, 128)          1280000   \n",
      "_________________________________________________________________\n",
      "conv1d (Conv1D)              (None, 494, 32)           28704     \n",
      "_________________________________________________________________\n",
      "max_pooling1d (MaxPooling1D) (None, 98, 32)            0         \n",
      "_________________________________________________________________\n",
      "conv1d_1 (Conv1D)            (None, 92, 32)            7200      \n",
      "_________________________________________________________________\n",
      "global_max_pooling1d (Global (None, 32)                0         \n",
      "_________________________________________________________________\n",
      "dense (Dense)                (None, 1)                 33        \n",
      "=================================================================\n",
      "Total params: 1,315,937\n",
      "Trainable params: 1,315,937\n",
      "Non-trainable params: 0\n",
      "_________________________________________________________________\n",
      "Epoch 1/10\n",
      "157/157 [==============================] - 4s 17ms/step - loss: 1.7576 - acc: 0.5009 - val_loss: 0.6895 - val_acc: 0.5430\n",
      "Epoch 2/10\n",
      "157/157 [==============================] - 2s 15ms/step - loss: 0.6794 - acc: 0.6133 - val_loss: 0.6746 - val_acc: 0.6324\n",
      "Epoch 3/10\n",
      "157/157 [==============================] - 2s 15ms/step - loss: 0.6496 - acc: 0.7312 - val_loss: 0.6478 - val_acc: 0.6222\n",
      "Epoch 4/10\n",
      "157/157 [==============================] - 2s 15ms/step - loss: 0.5999 - acc: 0.7822 - val_loss: 0.5668 - val_acc: 0.7522\n",
      "Epoch 5/10\n",
      "157/157 [==============================] - 2s 15ms/step - loss: 0.5019 - acc: 0.8256 - val_loss: 0.4458 - val_acc: 0.8216\n",
      "Epoch 6/10\n",
      "157/157 [==============================] - 2s 15ms/step - loss: 0.3873 - acc: 0.8556 - val_loss: 0.4064 - val_acc: 0.8428\n",
      "Epoch 7/10\n",
      "157/157 [==============================] - 2s 15ms/step - loss: 0.3193 - acc: 0.8841 - val_loss: 0.3977 - val_acc: 0.8522\n",
      "Epoch 8/10\n",
      "157/157 [==============================] - 3s 17ms/step - loss: 0.2815 - acc: 0.9010 - val_loss: 0.3807 - val_acc: 0.8646\n",
      "Epoch 9/10\n",
      "157/157 [==============================] - 3s 17ms/step - loss: 0.2558 - acc: 0.9117 - val_loss: 0.3925 - val_acc: 0.8662\n",
      "Epoch 10/10\n",
      "157/157 [==============================] - 3s 16ms/step - loss: 0.2319 - acc: 0.9214 - val_loss: 0.4043 - val_acc: 0.8702\n"
     ]
    }
   ],
   "source": [
    "from keras.models import Sequential\n",
    "from keras import layers\n",
    "from keras.optimizers import RMSprop\n",
    "\n",
    "model = Sequential()\n",
    "model.add(layers.Embedding(max_features, 128, input_length = max_len))\n",
    "model.add(layers.Conv1D(32, 7, activation = \"relu\"))\n",
    "model.add(layers.MaxPooling1D(5))\n",
    "model.add(layers.Conv1D(32, 7, activation = \"relu\"))\n",
    "model.add(layers.GlobalMaxPooling1D())\n",
    "model.add(layers.Dense(1))\n",
    "\n",
    "model.summary()\n",
    "\n",
    "model.compile(optimizer = RMSprop(lr = 1e-4),\n",
    "              loss = \"binary_crossentropy\",\n",
    "              metrics = ['acc'])\n",
    "\n",
    "history = model.fit(x_train, y_train, epochs = 10, batch_size = 128, validation_split = 0.2)"
   ]
  },
  {
   "cell_type": "code",
   "execution_count": 4,
   "id": "0b4aae90",
   "metadata": {},
   "outputs": [
    {
     "data": {
      "image/png": "[encoded data removed]",
      "text/plain": [
       "<Figure size 432x288 with 1 Axes>"
      ]
     },
     "metadata": {
      "needs_background": "light"
     },
     "output_type": "display_data"
    },
    {
     "data": {
      "image/png": "[encoded data removed]",
      "text/plain": [
       "<Figure size 432x288 with 1 Axes>"
      ]
     },
     "metadata": {
      "needs_background": "light"
     },
     "output_type": "display_data"
    }
   ],
   "source": [
    "import matplotlib.pyplot as plt\n",
    "\n",
    "acc = history.history['acc']\n",
    "val_acc = history.history['val_acc']\n",
    "loss = history.history['loss']\n",
    "val_loss = history.history['val_loss']\n",
    "\n",
    "epochs = range(1, len(acc) + 1)\n",
    "\n",
    "plt.plot(epochs, acc, 'bo', label='Training acc')\n",
    "plt.plot(epochs, val_acc, 'b', label='Validation acc')\n",
    "plt.title('Training and validation accuracy')\n",
    "plt.legend()\n",
    "\n",
    "plt.figure()\n",
    "\n",
    "plt.plot(epochs, loss, 'bo', label='Training loss')\n",
    "plt.plot(epochs, val_loss, 'b', label='Validation loss')\n",
    "plt.title('Training and validation loss')\n",
    "plt.legend()\n",
    "\n",
    "plt.show()"
   ]
  },
  {
   "cell_type": "markdown",
   "id": "737728bb",
   "metadata": {},
   "source": [
    "검증 정확도는 LSTM보다 낮지만 더 빠르게 계산됩니다."
   ]
  },
  {
   "cell_type": "markdown",
   "id": "2ab93bfa",
   "metadata": {},
   "source": [
    " "
   ]
  },
  {
   "cell_type": "markdown",
   "id": "c6871e51",
   "metadata": {},
   "source": [
    "### CNN과 RNN을 연결하여 긴 시퀀스를 처리하기"
   ]
  },
  {
   "cell_type": "markdown",
   "id": "d01d9091",
   "metadata": {},
   "source": [
    "1D ConvNet이 입력 패치를 **독립적**으로 처리하기 때문에 RNN과 달리 타임스텝의 순서에 민감하지 않습니다.\n",
    "* 장기간 패턴을 인식하기 위해 많은 합성곱 층과 풀링 층을 쌓을 수 있습니다\n",
    "* 상위 층은 원본 입력에서 긴 범위를 보게 될 것입니다\n",
    "* 이런 방법은 순서를 감지하기 부족합니다\n",
    "\n",
    "온도 예측 문제에서는 1D 컨브넷을 적용해서 이를 확인해보겠습니다. 이 문제는 순서를 감지해야 좋은 예츨을 만들어 낼 수 있습니다"
   ]
  },
  {
   "cell_type": "markdown",
   "id": "0d4fb17d",
   "metadata": {},
   "source": [
    "##### 온도 데이터에 1D ConvNet을 훈련하고 평가하기"
   ]
  },
  {
   "cell_type": "code",
   "execution_count": 5,
   "id": "7ca1c13d",
   "metadata": {},
   "outputs": [],
   "source": [
    "import os\n",
    "import numpy as np\n",
    "\n",
    "data_dir = \"./data/jena_climate/\"\n",
    "fname = os.path.join(data_dir, \"jena_climate_2009_2016.csv\")\n",
    "\n",
    "f = open(fname)\n",
    "data = f.read()\n",
    "f.close()\n",
    "\n",
    "lines = data.split(\"\\n\")\n",
    "header = lines[0].split(\",\")\n",
    "lines = lines[1:]\n",
    "\n",
    "float_data = np.zeros((len(lines), len(header) - 1))\n",
    "\n",
    "for i, line in enumerate(lines):\n",
    "    values = [float(x) for x in line.split(\",\")[1:]]\n",
    "    float_data[i,:] = values\n",
    "    \n",
    "mean = float_data[:200000].mean(axis = 0)\n",
    "float_data -= mean\n",
    "std = float_data[:200000].std(axis = 0)\n",
    "float_data /= std\n",
    "\n",
    "def generator(data, lookback, delay, min_index, max_index, shuffle = False, batch_size = 128, step = 6):\n",
    "    if max_index is None:\n",
    "        max_index = len(data) - delay - 1\n",
    "        \n",
    "    i = min_index + lookback\n",
    "    \n",
    "    while 1:\n",
    "        if shuffle:\n",
    "            rows = np.random.randint(min_index + lookback, max_index, size = batch_size)\n",
    "        \n",
    "        else:\n",
    "            if i + batch_size >= max_index:\n",
    "                i = min_index + lookback\n",
    "            rows = np.arange(i, min(i + batch_size, max_index))\n",
    "            i += len(rows)\n",
    "            \n",
    "        samples = np.zeros((len(rows), lookback // step, data.shape[-1]))\n",
    "        targets = np.zeros((len(rows)))\n",
    "        \n",
    "        for j, row in enumerate(rows):\n",
    "            indices = range(rows[j] - lookback, rows[j], step)\n",
    "            samples[j] = data[indices]\n",
    "            targets[j] = data[rows[j] + delay][1]\n",
    "        \n",
    "        yield samples, targets\n",
    "        \n",
    "lookback = 1440\n",
    "step = 6\n",
    "delay = 144\n",
    "batch_size = 128\n",
    "\n",
    "train_gen = generator(float_data,\n",
    "                      lookback = lookback,\n",
    "                      delay = delay,\n",
    "                      min_index = 0,\n",
    "                      max_index = 200000,\n",
    "                      shuffle = True,\n",
    "                      step = step,\n",
    "                      batch_size = batch_size)\n",
    "\n",
    "val_gen =  generator(float_data,\n",
    "                      lookback = lookback,\n",
    "                      delay = delay,\n",
    "                      min_index = 200001,\n",
    "                      max_index = 300000,\n",
    "                      #shuffle = True,\n",
    "                      step = step,\n",
    "                      batch_size = batch_size)\n",
    "\n",
    "test_gen =  generator(float_data,\n",
    "                      lookback = lookback,\n",
    "                      delay = delay,\n",
    "                      min_index = 300001,\n",
    "                      max_index = None,\n",
    "                      #shuffle = True,\n",
    "                      step = step,\n",
    "                      batch_size = batch_size)\n",
    "\n",
    "val_steps = (300000 - 200001 - lookback) // batch_size\n",
    "\n",
    "test_steps = (len(float_data) - 300001 - lookback) // batch_size"
   ]
  },
  {
   "cell_type": "code",
   "execution_count": 6,
   "id": "6f57c182",
   "metadata": {},
   "outputs": [
    {
     "name": "stderr",
     "output_type": "stream",
     "text": [
      "/home/jhhur/anaconda3/envs/TIL/lib/python3.8/site-packages/tensorflow/python/keras/engine/training.py:1844: UserWarning: `Model.fit_generator` is deprecated and will be removed in a future version. Please use `Model.fit`, which supports generators.\n",
      "  warnings.warn('`Model.fit_generator` is deprecated and '\n"
     ]
    },
    {
     "name": "stdout",
     "output_type": "stream",
     "text": [
      "Epoch 1/20\n",
      "500/500 [==============================] - 7s 13ms/step - loss: 0.4475 - val_loss: 0.4273\n",
      "Epoch 2/20\n",
      "500/500 [==============================] - 6s 13ms/step - loss: 0.3662 - val_loss: 0.4730\n",
      "Epoch 3/20\n",
      "500/500 [==============================] - 6s 12ms/step - loss: 0.3394 - val_loss: 0.4310\n",
      "Epoch 4/20\n",
      "500/500 [==============================] - 6s 12ms/step - loss: 0.3243 - val_loss: 0.4468\n",
      "Epoch 5/20\n",
      "500/500 [==============================] - 6s 12ms/step - loss: 0.3132 - val_loss: 0.4712\n",
      "Epoch 6/20\n",
      "500/500 [==============================] - 6s 12ms/step - loss: 0.3021 - val_loss: 0.4459\n",
      "Epoch 7/20\n",
      "500/500 [==============================] - 6s 12ms/step - loss: 0.2948 - val_loss: 0.4350\n",
      "Epoch 8/20\n",
      "500/500 [==============================] - 6s 12ms/step - loss: 0.2829 - val_loss: 0.4509\n",
      "Epoch 9/20\n",
      "500/500 [==============================] - 6s 12ms/step - loss: 0.2814 - val_loss: 0.4509\n",
      "Epoch 10/20\n",
      "500/500 [==============================] - 6s 13ms/step - loss: 0.2727 - val_loss: 0.4444\n",
      "Epoch 11/20\n",
      "500/500 [==============================] - 6s 12ms/step - loss: 0.2667 - val_loss: 0.4681\n",
      "Epoch 12/20\n",
      "500/500 [==============================] - 6s 12ms/step - loss: 0.2625 - val_loss: 0.4447\n",
      "Epoch 13/20\n",
      "500/500 [==============================] - 6s 12ms/step - loss: 0.2607 - val_loss: 0.4531\n",
      "Epoch 14/20\n",
      "500/500 [==============================] - 6s 12ms/step - loss: 0.2566 - val_loss: 0.4586\n",
      "Epoch 15/20\n",
      "500/500 [==============================] - 6s 12ms/step - loss: 0.2536 - val_loss: 0.4520\n",
      "Epoch 16/20\n",
      "500/500 [==============================] - 6s 12ms/step - loss: 0.2476 - val_loss: 0.4579\n",
      "Epoch 17/20\n",
      "500/500 [==============================] - 6s 12ms/step - loss: 0.2454 - val_loss: 0.4660\n",
      "Epoch 18/20\n",
      "500/500 [==============================] - 6s 12ms/step - loss: 0.2434 - val_loss: 0.4621\n",
      "Epoch 19/20\n",
      "500/500 [==============================] - 6s 12ms/step - loss: 0.2408 - val_loss: 0.4678\n",
      "Epoch 20/20\n",
      "500/500 [==============================] - 6s 12ms/step - loss: 0.2387 - val_loss: 0.4707\n"
     ]
    }
   ],
   "source": [
    "from keras.models import Sequential\n",
    "from keras import layers\n",
    "from keras.optimizers import RMSprop\n",
    "\n",
    "model = Sequential()\n",
    "model.add(layers.Conv1D(32, 5, activation = \"relu\", input_shape = (None, float_data.shape[-1])))\n",
    "model.add(layers.MaxPooling1D(3))\n",
    "model.add(layers.Conv1D(32, 5, activation = \"relu\"))\n",
    "model.add(layers.MaxPooling1D(3))\n",
    "model.add(layers.Conv1D(32, 5, activation = \"relu\"))\n",
    "model.add(layers.GlobalMaxPooling1D())\n",
    "model.add(layers.Dense(1))\n",
    "\n",
    "model.compile(optimizer = RMSprop(), loss = \"mae\")\n",
    "\n",
    "history = model.fit_generator(train_gen,\n",
    "                              steps_per_epoch = 500,\n",
    "                              epochs = 20,\n",
    "                              validation_data = val_gen,\n",
    "                              validation_steps = val_steps)"
   ]
  },
  {
   "cell_type": "code",
   "execution_count": 7,
   "id": "85eae57a",
   "metadata": {},
   "outputs": [
    {
     "data": {
      "image/png": "[encoded data removed]",
      "text/plain": [
       "<Figure size 432x288 with 1 Axes>"
      ]
     },
     "metadata": {
      "needs_background": "light"
     },
     "output_type": "display_data"
    }
   ],
   "source": [
    "loss = history.history['loss']\n",
    "val_loss = history.history['val_loss']\n",
    "\n",
    "epochs = range(1, len(loss) + 1)\n",
    "\n",
    "plt.figure()\n",
    "\n",
    "plt.plot(epochs, loss, 'bo', label='Training loss')\n",
    "plt.plot(epochs, val_loss, 'b', label='Validation loss')\n",
    "plt.title('Training and validation loss')\n",
    "plt.legend()\n",
    "\n",
    "plt.show()"
   ]
  },
  {
   "cell_type": "markdown",
   "id": "d16701c8",
   "metadata": {},
   "source": [
    "검증 MAE는 0.40대에 머물렀습니다. 작은 컨브넷을 사용해서 상식 수준의 기준점을 넘지 못했습니다.\n",
    "* 이는 컨브넷이 입력 시계열에 있는 패턴을 보고 이 패턴의 시간 축의 위치 - 시작인지 끝인지 등 - 을 고려하지 않았기 때문\n",
    "* 최근 데이터 포인트일수록 오래된 데이터 포인트와는 다르게 해석해야 하기 때문에 컨브넷이 의미 있는 결과를 만들지 못합니다. \n",
    "\n",
    "이런 컨브넷의 한계는 IMDB 데이터에서는 문제가 되지 않습니다.\n",
    "* 긍정 또는 부정적인 감성과 연관된 패턴의 중요성은 입력 시퀀스에 나타난 위치와 무관하기 때문\n",
    "\n",
    "컨브넷의 *속도와 경량함*을 RNN의 *순서 감지 능력*과 결합하는 한가지 전략은:\n",
    "* 1D 컨브넷을 RNN 이전에 *전처리 단계*로 사용하는 것입니다.\n",
    "* 수천개의 스텝을 가진 시퀀스같이 RNN으로 처리하기에는 현실적으로 너무 긴 시퀀스를 다룰때 도움됩니다\n",
    "* 컨브넷이 긴 입력 시퀀스를 더 짧은 고수준 특성의 시퀀스로 변환합니다\n",
    "\n",
    "<br></br>\n",
    "![](../images/6-4-convnetrnn.png)\n",
    "<br></br>"
   ]
  },
  {
   "cell_type": "markdown",
   "id": "d8768032",
   "metadata": {},
   "source": [
    "##### 고밀도 데이터 제너레이터로 예나 데이터넷 준비"
   ]
  },
  {
   "cell_type": "code",
   "execution_count": 8,
   "id": "15055985",
   "metadata": {},
   "outputs": [],
   "source": [
    "## 30분마다 1포인트\n",
    "step = 3\n",
    "lookback = 1440\n",
    "delay = 144\n",
    "\n",
    "train_gen = generator(float_data,\n",
    "                      lookback = lookback,\n",
    "                      delay = delay,\n",
    "                      min_index = 0,\n",
    "                      max_index = 200000,\n",
    "                      shuffle = True,\n",
    "                      step = step)\n",
    "\n",
    "train_gen = generator(float_data,\n",
    "                      lookback = lookback,\n",
    "                      delay = delay,\n",
    "                      min_index = 200001,\n",
    "                      max_index = 300000,\n",
    "                      step = step) \n",
    "\n",
    "train_gen = generator(float_data,\n",
    "                      lookback = lookback,\n",
    "                      delay = delay,\n",
    "                      min_index = 300001,\n",
    "                      max_index = None,\n",
    "                      step = step) \n",
    "\n",
    "val_steps = (300000 - 200001 - lookback) // 128\n",
    "\n",
    "test_steps = (len(float_data) - 300001 - lookback) // 128"
   ]
  },
  {
   "cell_type": "markdown",
   "id": "f3168e48",
   "metadata": {},
   "source": [
    "이 모델은 2개의 Conv1D 층 다음에 GRU층을 놓았습니다"
   ]
  },
  {
   "cell_type": "markdown",
   "id": "4c41c44f",
   "metadata": {},
   "source": [
    "##### 1D ConvNet과 GRU층을 연결한 모델"
   ]
  },
  {
   "cell_type": "code",
   "execution_count": 9,
   "id": "25b5a1c8",
   "metadata": {},
   "outputs": [
    {
     "name": "stdout",
     "output_type": "stream",
     "text": [
      "WARNING:tensorflow:Layer gru will not use cuDNN kernel since it doesn't meet the cuDNN kernel criteria. It will use generic GPU kernel as fallback when running on GPU\n",
      "Model: \"sequential_2\"\n",
      "_________________________________________________________________\n",
      "Layer (type)                 Output Shape              Param #   \n",
      "=================================================================\n",
      "conv1d_5 (Conv1D)            (None, None, 32)          2272      \n",
      "_________________________________________________________________\n",
      "max_pooling1d_3 (MaxPooling1 (None, None, 32)          0         \n",
      "_________________________________________________________________\n",
      "conv1d_6 (Conv1D)            (None, None, 32)          5152      \n",
      "_________________________________________________________________\n",
      "gru (GRU)                    (None, 32)                6336      \n",
      "_________________________________________________________________\n",
      "dense_2 (Dense)              (None, 1)                 33        \n",
      "=================================================================\n",
      "Total params: 13,793\n",
      "Trainable params: 13,793\n",
      "Non-trainable params: 0\n",
      "_________________________________________________________________\n",
      "Epoch 1/20\n"
     ]
    },
    {
     "name": "stderr",
     "output_type": "stream",
     "text": [
      "/home/jhhur/anaconda3/envs/TIL/lib/python3.8/site-packages/tensorflow/python/keras/engine/training.py:1844: UserWarning: `Model.fit_generator` is deprecated and will be removed in a future version. Please use `Model.fit`, which supports generators.\n",
      "  warnings.warn('`Model.fit_generator` is deprecated and '\n"
     ]
    },
    {
     "name": "stdout",
     "output_type": "stream",
     "text": [
      "500/500 [==============================] - 92s 181ms/step - loss: 0.3184 - val_loss: 0.7245\n",
      "Epoch 2/20\n",
      "500/500 [==============================] - 88s 176ms/step - loss: 0.3086 - val_loss: 0.8669\n",
      "Epoch 3/20\n",
      "500/500 [==============================] - 87s 174ms/step - loss: 0.2911 - val_loss: 0.7859\n",
      "Epoch 4/20\n",
      "500/500 [==============================] - 87s 174ms/step - loss: 0.2841 - val_loss: 0.9378\n",
      "Epoch 5/20\n",
      "500/500 [==============================] - 87s 173ms/step - loss: 0.3086 - val_loss: 0.9137\n",
      "Epoch 6/20\n",
      "500/500 [==============================] - 87s 174ms/step - loss: 0.2842 - val_loss: 0.8846\n",
      "Epoch 7/20\n",
      "500/500 [==============================] - 92s 185ms/step - loss: 0.3292 - val_loss: 1.1639\n",
      "Epoch 8/20\n",
      "500/500 [==============================] - 91s 183ms/step - loss: 0.2912 - val_loss: 1.0588\n",
      "Epoch 9/20\n",
      "500/500 [==============================] - 91s 183ms/step - loss: 0.3212 - val_loss: 1.1584\n",
      "Epoch 10/20\n",
      "500/500 [==============================] - 92s 184ms/step - loss: 0.2792 - val_loss: 1.3009\n",
      "Epoch 11/20\n",
      "500/500 [==============================] - 90s 179ms/step - loss: 0.2901 - val_loss: 0.8258\n",
      "Epoch 12/20\n",
      "500/500 [==============================] - 89s 178ms/step - loss: 0.3027 - val_loss: 0.8336\n",
      "Epoch 13/20\n",
      "500/500 [==============================] - 91s 181ms/step - loss: 0.2765 - val_loss: 0.6464\n",
      "Epoch 14/20\n",
      "500/500 [==============================] - 93s 185ms/step - loss: 0.2799 - val_loss: 0.6902\n",
      "Epoch 15/20\n",
      "500/500 [==============================] - 89s 179ms/step - loss: 0.2658 - val_loss: 0.7197\n",
      "Epoch 16/20\n",
      "500/500 [==============================] - 88s 175ms/step - loss: 0.2847 - val_loss: 0.8064\n",
      "Epoch 17/20\n",
      "500/500 [==============================] - 90s 180ms/step - loss: 0.2622 - val_loss: 0.8303\n",
      "Epoch 18/20\n",
      "500/500 [==============================] - 91s 182ms/step - loss: 0.2985 - val_loss: 0.6813\n",
      "Epoch 19/20\n",
      "500/500 [==============================] - 91s 182ms/step - loss: 0.2640 - val_loss: 0.7066\n",
      "Epoch 20/20\n",
      "500/500 [==============================] - 93s 186ms/step - loss: 0.3183 - val_loss: 0.9802\n"
     ]
    }
   ],
   "source": [
    "from keras.models import Sequential\n",
    "from keras import layers\n",
    "from keras.optimizers import RMSprop\n",
    "\n",
    "model = Sequential()\n",
    "model.add(layers.Conv1D(32, 5, activation = \"relu\",\n",
    "                        input_shape = (None, float_data.shape[-1])))\n",
    "model.add(layers.MaxPooling1D(3))\n",
    "model.add(layers.Conv1D(32, 5, activation = \"relu\"))\n",
    "model.add(layers.GRU(32, dropout = 0.1, recurrent_dropout = 0.5))\n",
    "model.add(layers.Dense(1))\n",
    "\n",
    "model.summary()\n",
    "\n",
    "model.compile(optimizer = RMSprop(), loss = \"mae\")\n",
    "\n",
    "history = model.fit_generator(train_gen,\n",
    "                              steps_per_epoch = 500,\n",
    "                              epochs = 20,\n",
    "                              validation_data = val_gen,\n",
    "                              validation_steps = val_steps)"
   ]
  },
  {
   "cell_type": "code",
   "execution_count": 10,
   "id": "2e7a6e66",
   "metadata": {},
   "outputs": [
    {
     "data": {
      "image/png": "[encoded data removed]",
      "text/plain": [
       "<Figure size 432x288 with 1 Axes>"
      ]
     },
     "metadata": {
      "needs_background": "light"
     },
     "output_type": "display_data"
    }
   ],
   "source": [
    "loss = history.history['loss']\n",
    "val_loss = history.history['val_loss']\n",
    "\n",
    "epochs = range(1, len(loss) + 1)\n",
    "\n",
    "plt.figure()\n",
    "\n",
    "plt.plot(epochs, loss, 'bo', label='Training loss')\n",
    "plt.plot(epochs, val_loss, 'b', label='Validation loss')\n",
    "plt.title('Training and validation loss')\n",
    "plt.legend()\n",
    "\n",
    "plt.show()"
   ]
  }
 ],
 "metadata": {
  "kernelspec": {
   "display_name": "Python 3",
   "language": "python",
   "name": "python3"
  },
  "language_info": {
   "codemirror_mode": {
    "name": "ipython",
    "version": 3
   },
   "file_extension": ".py",
   "mimetype": "text/x-python",
   "name": "python",
   "nbconvert_exporter": "python",
   "pygments_lexer": "ipython3",
   "version": "3.8.10"
  }
 },
 "nbformat": 4,
 "nbformat_minor": 5
}

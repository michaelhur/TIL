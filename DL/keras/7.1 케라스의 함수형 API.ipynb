{
 "cells": [
  {
   "cell_type": "markdown",
   "id": "81859189",
   "metadata": {},
   "source": [
    "지금까지는 **Sequential** 모델을 사용하여 만들었습니다.\n",
    "* 네트워크 입력과 출력이 하나라고 가정합니다\n",
    "* 이 모델은 층을 차례대로 쌓아 구성합니다\n",
    "\n",
    "<br></br>\n",
    "![](../images/7-1-sequential.png)\n",
    "<br></br>\n",
    "\n",
    "일부 네트워크는 *개별 입력이 여러개* 필요하거나 *출력이 여러개* 필요합니다. 층을 여러개로 쌓지 않고 층 사이를 연결하여 그래프처럼 만드는 네트워크도 있습니다."
   ]
  },
  {
   "cell_type": "code",
   "execution_count": null,
   "id": "e1d1d9b3",
   "metadata": {},
   "outputs": [],
   "source": []
  }
 ],
 "metadata": {
  "kernelspec": {
   "display_name": "Python 3",
   "language": "python",
   "name": "python3"
  },
  "language_info": {
   "codemirror_mode": {
    "name": "ipython",
    "version": 3
   },
   "file_extension": ".py",
   "mimetype": "text/x-python",
   "name": "python",
   "nbconvert_exporter": "python",
   "pygments_lexer": "ipython3",
   "version": "3.8.10"
  }
 },
 "nbformat": 4,
 "nbformat_minor": 5
}

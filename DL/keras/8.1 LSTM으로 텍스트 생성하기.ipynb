{
 "cells": [
  {
   "cell_type": "code",
   "execution_count": 1,
   "id": "fccac5af",
   "metadata": {},
   "outputs": [],
   "source": [
    "import keras\n",
    "import tensorflow as tf\n",
    "\n",
    "# Memory Pre-configuration\n",
    "config = tf.compat.v1.ConfigProto(\n",
    "    gpu_options=tf.compat.v1.GPUOptions(\n",
    "        per_process_gpu_memory_fraction=0.9,\n",
    "        allow_growth = True\n",
    "    )\n",
    "    # device_count = {'GPU': 1}\n",
    ")\n",
    "session = tf.compat.v1.Session(config=config)\n",
    "tf.compat.v1.keras.backend.set_session(session)"
   ]
  },
  {
   "cell_type": "markdown",
   "id": "04c98b80",
   "metadata": {},
   "source": [
    "이번 포스트에서는 순환 신경망으로 시퀀스 데이터를 생성하는 방법을 살펴보겠습니다."
   ]
  },
  {
   "cell_type": "markdown",
   "id": "5f5b4c3a",
   "metadata": {},
   "source": [
    "### 시퀀스 데이터를 어떻게 생성할까?"
   ]
  },
  {
   "cell_type": "markdown",
   "id": "24495a79",
   "metadata": {},
   "source": [
    "딥러닝에서 시퀀스 데이터를 생성하는 일반적인 방법은 이전 토큰을 입력으로 사용해서 시퀀스의 다음 1개 또는 몇개의 토큰을 예측하는 것입니다.\n",
    "* \"the cat is on ma\"이란 입력이 주어지면 다음 글자인 타깃 \"t\"을 예측하도록 네트워크를 훈련합니다\n",
    "* 텍스트 데이터를 다룰때 토큰은 보통 단어 또는 글자입니다\n",
    "* 이전 토큰들이 주어졌을때 다음 토큰의 확률을 모델링할 수 있는 네트워크를 **언어 모델 (Language Model)**이라고 부릅니다\n",
    "\n",
    "언어 모델을 훈련하고 나면 이 모델에서 샘플링 할 수 있습니다.\n",
    "* 새로운 시퀀스를 생성합니다\n",
    "* 초기 텍스트 문자열 (**조건 데이터 (conditioning data)**) 주입하고 새로운 글자나 단어를 생성합니다\n",
    "* 생성된 출력은 다시 입력 데이터로 추가됩니다\n",
    "* 이 과정을 여러번 반복합니다\n",
    "* 이런 반복을 통해 모델이 훈련한 데이터 구조가 반영된 임의의 길이를 가진 시퀀스를 생성할 수 있습니다\n",
    "\n",
    "이번 예제에서는 LSTM 층을 사용합니다\n",
    "* 텍스트 Corpus에서 N개의 글자로 이루어진 문자열을 추출하여 주입하고 N+1 번째 글자를 예측하도록 훈련\n",
    "* 모델의 출력은 출력 가능한 모든 글자에 해당하는 소프트맥스 값\n",
    "* 즉 모델의 출력은 다음 글자의 확률 분포\n",
    "\n",
    "이 LSTM을 **Character-level neural language model**이라고 부릅니다.\n",
    "\n",
    "<br></br>\n",
    "![](../images/8-1-languagemodel.png)\n",
    "<br></br>"
   ]
  },
  {
   "cell_type": "markdown",
   "id": "ef1d5320",
   "metadata": {},
   "source": [
    " "
   ]
  },
  {
   "cell_type": "markdown",
   "id": "ef7444af",
   "metadata": {},
   "source": [
    "### 샘플링 전략의 중요성"
   ]
  },
  {
   "cell_type": "markdown",
   "id": "f1e5ca77",
   "metadata": {},
   "source": [
    "텍스트를 생성할때 다음 글자를 선택하는 방법이 아주 중요합니다. \n",
    "* **Greedy Sampling**: 항상 가장 높은 확률을 가진 글자를 선택하는 방법\n",
    "    * 반복적이고 예상 가능한 문자열을 만들기 때문에 논리적인 언어처럼 보이지 않음\n",
    "* **Stochastic Sampling**: 다음 글자의 확률 분포에서 샘플링하는 과정에 무작위성을 주입하는 방법\n",
    "\n",
    "모델의 소프트맥스 출력은 확률적 샘플링에 사용하기 좋습니다.\n",
    "* 이따금 샘플링될 것같지 않은 글자를 샘플링\n",
    "* 훈련 데이터에는 없지만 실제 같은 새로운 단어를 만들어 재미있고 창의적으로 보이는 문장을 생성\n",
    "* 한가지 문제는 샘플랭 과정에서 무작위성의 양을 조절할 방법이 없음\n",
    "\n",
    "샘플링 과정에서 확률의 양을 조절하기 위해 **소프트맥스 온도 (softmax temperature)**라는 파라미터를 사용합니다\n",
    "* 이 파라미터는 샘플링에 사용되는 확률 분포의 엔트로피를 나타냄\n",
    "* temperature 갑이 주어지면 다음과 같이 가중치를 적용하여 원본 확률 분포에서 새로운 확률 분포를 계산"
   ]
  },
  {
   "cell_type": "markdown",
   "id": "9ade5474",
   "metadata": {},
   "source": [
    "##### 다른 온도 값을 사용하여 확률 분포의 가중치 바꾸기"
   ]
  },
  {
   "cell_type": "code",
   "execution_count": 2,
   "id": "a12c875a",
   "metadata": {},
   "outputs": [],
   "source": [
    "import numpy as np\n",
    "\n",
    "## original_distribution은 전체 합이 1인 1D 넘파이 배열\n",
    "def reweight_distribution(original_distribution, temperature = 0.5):\n",
    "    distribution = np.log(original_distribution) / temperature\n",
    "    distribution = np.exp(distribution)\n",
    "    \n",
    "    ## 원본 분포의 가중치를 변경하여 반환합니다\n",
    "    return distribution / np.sum(distribution)"
   ]
  },
  {
   "cell_type": "markdown",
   "id": "e4e9f276",
   "metadata": {},
   "source": [
    "<br></br>\n",
    "![](../images/8-1-temp.png)\n",
    "<br></br>\n",
    "\n",
    "낮은 온도는 무작위성이 낮기 때문에 예상할 수 있는 데이터를 생성합니다."
   ]
  },
  {
   "cell_type": "markdown",
   "id": "59cc4065",
   "metadata": {},
   "source": [
    " "
   ]
  },
  {
   "cell_type": "markdown",
   "id": "b6c53b32",
   "metadata": {},
   "source": [
    "### 글자 수준의 LSTM 텍스트 생성 모델 구현"
   ]
  },
  {
   "cell_type": "markdown",
   "id": "0d05c833",
   "metadata": {},
   "source": [
    "이번 예시에서는 19세기 후반 독일의 철학자 니체의 글을 사용하겠습니다."
   ]
  },
  {
   "cell_type": "markdown",
   "id": "00baa096",
   "metadata": {},
   "source": [
    " "
   ]
  },
  {
   "cell_type": "markdown",
   "id": "95746265",
   "metadata": {},
   "source": [
    "#### 데이터 전처리"
   ]
  },
  {
   "cell_type": "markdown",
   "id": "16687bae",
   "metadata": {},
   "source": [
    "먼저 말뭉치를 내려받아 소문자로 바꿉니다."
   ]
  },
  {
   "cell_type": "markdown",
   "id": "a0dd2f5d",
   "metadata": {},
   "source": [
    "##### 원본 데이터를 다운로드받아 파싱하기"
   ]
  },
  {
   "cell_type": "code",
   "execution_count": 3,
   "id": "8911c421",
   "metadata": {},
   "outputs": [
    {
     "name": "stdout",
     "output_type": "stream",
     "text": [
      "말뭉치 크기: 600893\n"
     ]
    }
   ],
   "source": [
    "import keras\n",
    "import numpy as np\n",
    "\n",
    "path = keras.utils.get_file(\"nietzsche.txt\",\n",
    "                            origin = \"https://s3.amazonaws.com/text-datasets/nietzsche.txt\")\n",
    "text = open(path).read().lower()\n",
    "print(\"말뭉치 크기:\", len(text))"
   ]
  },
  {
   "cell_type": "markdown",
   "id": "99d909fb",
   "metadata": {},
   "source": [
    "그 다음 maxlen 길이를 가진 시퀀스를 중복하여 추출합니다. \n",
    "* 추출한 시퀀스는 원-핫 인코딩으로 변환\n",
    "* 크기가 (sequences, maxlen, unique_characters)인 3D 넘파이 배열 x로 합침\n",
    "* 동시에 훈련 샘플에 상응하는 타깃을 담음 배열 y를 준비\n",
    "* 타깃은 추출된 시퀀스 다음에 오는 원-핫 인코딩된 글자"
   ]
  },
  {
   "cell_type": "markdown",
   "id": "e92fd752",
   "metadata": {},
   "source": [
    "##### 글자 시퀀스 벡터화하기"
   ]
  },
  {
   "cell_type": "code",
   "execution_count": 4,
   "id": "49ca17c3",
   "metadata": {},
   "outputs": [
    {
     "name": "stdout",
     "output_type": "stream",
     "text": [
      "시퀀스 개수: 200278\n",
      "고유한 글자: 57\n",
      "벡터화...\n"
     ]
    }
   ],
   "source": [
    "## 60개의 글자로 된 시퀀스를 추출\n",
    "maxlen = 60\n",
    "\n",
    "## 세 글자씩 건너뛰면서 새로운 시퀀스를 샘플링\n",
    "step = 3\n",
    "\n",
    "## 추출한 시퀀스를 담을 리스트\n",
    "sentences = []\n",
    "\n",
    "## 시퀀스 다음 글자를 담을 리스트\n",
    "next_chars = []\n",
    "\n",
    "for i in range(0, len(text) - maxlen, step):\n",
    "    sentences.append(text[i: i + maxlen])\n",
    "    next_chars.append(text[i + maxlen])\n",
    "    \n",
    "print(\"시퀀스 개수:\", len(sentences))\n",
    "\n",
    "## Corpus에서 고유한 글자를 담은 리스트\n",
    "chars = sorted(list(set(text)))\n",
    "\n",
    "print(\"고유한 글자:\", len(chars))\n",
    "\n",
    "char_indices = dict((char, chars.index(char)) for char in chars)\n",
    "\n",
    "print(\"벡터화...\")\n",
    "\n",
    "x = np.zeros((len(sentences), maxlen, len(chars)), dtype = np.bool)\n",
    "y = np.zeros((len(sentences), len(chars)), dtype = np.bool)\n",
    "\n",
    "for i, sentence in enumerate(sentences):\n",
    "    for t, char in enumerate(sentence):\n",
    "        x[i, t, char_indices[char]] = 1\n",
    "    y[i, char_indices[next_chars[i]]] = 1"
   ]
  },
  {
   "cell_type": "markdown",
   "id": "ccf4bf56",
   "metadata": {},
   "source": [
    " "
   ]
  },
  {
   "cell_type": "markdown",
   "id": "bb7644c7",
   "metadata": {},
   "source": [
    "#### 네트워크 구성"
   ]
  },
  {
   "cell_type": "markdown",
   "id": "7cd6421e",
   "metadata": {},
   "source": [
    "이 네트워크는 하나의 LSTM층과 그 뒤에 Dense 분류기가 뒤따릅니다.\n",
    "* 분류기는 가능한 모든 글자에 대한 소프트맥스 출력을 만듬"
   ]
  },
  {
   "cell_type": "markdown",
   "id": "7f822740",
   "metadata": {},
   "source": [
    "##### 다음 글자를 예측하기 위한 단일 LSTM 모델"
   ]
  },
  {
   "cell_type": "code",
   "execution_count": 5,
   "id": "d603d5db",
   "metadata": {},
   "outputs": [],
   "source": [
    "from keras import layers\n",
    "\n",
    "model = keras.models.Sequential()\n",
    "model.add(layers.LSTM(128, input_shape = (maxlen, len(chars))))\n",
    "model.add(layers.Dense(len(chars), activation = \"softmax\"))\n",
    "\n",
    "optimizer = keras.optimizers.RMSprop(lr = 0.01)\n",
    "model.compile(loss = \"categorical_crossentropy\", optimizer = optimizer)"
   ]
  },
  {
   "cell_type": "markdown",
   "id": "19e54169",
   "metadata": {},
   "source": [
    " "
   ]
  },
  {
   "cell_type": "markdown",
   "id": "2a1045ac",
   "metadata": {},
   "source": [
    "#### 언어 모델 훈련과 샘플링"
   ]
  },
  {
   "cell_type": "markdown",
   "id": "a3b1bfe5",
   "metadata": {},
   "source": [
    "훈련된 모델과 시드로 쓰일 간단한 텍스트가 주어지면 다음과 같이 반복하여 새로운 텍스트를 생성할 수 있습니다.\n",
    "\n",
    "1. 지금까지 생성된 텍스트를 주입하여 모델에서 다음 글자에 대한 확률 분포를 뽑습니다\n",
    "2. 특정 온도로 이 확률 분포의 가중치를 조정합니다\n",
    "3. 가중치가 조정된 분포에서 무작위로 새로운 글자를 샘플링합니다\n",
    "4. 새로운 글자를 생성된 텍스트의 끝에 추가합니다\n",
    "\n",
    "다음 코드는 모델에서 나온 원본 확률 분포의 가중치를 조정하고 새로운 글자의 인덱스를 추출합니다"
   ]
  },
  {
   "cell_type": "markdown",
   "id": "b933801a",
   "metadata": {},
   "source": [
    "##### 모델의 예측이 주어졌을때 새로운 글자를 샘플링하는 함수"
   ]
  },
  {
   "cell_type": "code",
   "execution_count": 6,
   "id": "2041ed04",
   "metadata": {},
   "outputs": [],
   "source": [
    "def sample(preds, temperature = 1.0):\n",
    "    preds = np.asarray(preds).astype('float64')\n",
    "    preds = np.log(preds) / temperature\n",
    "    exp_preds = np.exp(preds)\n",
    "    preds = exp_preds / np.sum(exp_preds)\n",
    "    \n",
    "    probas = np.random.multinomial(1, preds, 1)\n",
    "    \n",
    "    return np.argmax(probas)"
   ]
  },
  {
   "cell_type": "markdown",
   "id": "28acead3",
   "metadata": {},
   "source": [
    "마지막으로 다음 반복문은 반복적으로 훈련하고 텍스트를 생성합니다.\n",
    "* 에포크마다 학습이 끝난 후 여러가지 온도를 사용하여 텍스트를 생성합니다\n",
    "* 이렇게 하면 모델이 수렴하면서 생성된 텍스트를 어떻게 잔화하는지 볼 수 있습니다\n",
    "* 온도가 샘플링 전략에 미치는 영향을 보여줍니다"
   ]
  },
  {
   "cell_type": "markdown",
   "id": "5b0992d3",
   "metadata": {},
   "source": [
    "##### 텍스트 생성 루프"
   ]
  },
  {
   "cell_type": "code",
   "execution_count": 7,
   "id": "944579a0",
   "metadata": {},
   "outputs": [
    {
     "name": "stdout",
     "output_type": "stream",
     "text": [
      "에포크 1\n",
      "1565/1565 [==============================] - 8s 4ms/step - loss: 2.2831\n",
      "--- 시드 텍스트: ''the slowly ascending ranks and classes, in which,\n",
      "through fo'\n",
      "------- 온도: 0.2\n",
      "the slowly ascending ranks and classes, in which,\n",
      "through for the says and the same the sense and seess to sense of the same to the sense and sense of the sense of the sense and the sense of the sanstering to the says and all the sense of the sense of the same the same the sense of the sense and to the same and all the sense and the sense and the same the sense and a sone the sense of the sense of the same and the sense and seeps and to the sense and and t\n",
      "------- 온도: 0.5\n",
      "the slowly ascending ranks and classes, in which,\n",
      "through for ablouss, the self-casisince of the arsesseterition, a man selse of enduring as the propess be the seess and for the sense to the selses as the spare is the consequent to the sectual woold sense of the says of the save even of the self-resured of one more to have is self-as soul the sections of the steperation of self to sense to the so eartreness he seams.\n",
      "\n",
      "\n",
      "14\n",
      "\n",
      "=even a the selse of the pass of \n",
      "------- 온도: 1.0\n",
      "the slowly ascending ranks and classes, in which,\n",
      "through for them, sutfrection remanunating unligh an istect of\n",
      "every necessation, presencts, and takned to anseryacy evin which live andreatiof, a sticl nasurh hid ssell detrecense, thought\" what oo etemp of sight and he surbrisible, is \"is then econs of himselves\n",
      "grore\n",
      "philess, it s.\n",
      "but set sare what self agaking to unterience, so ponselves to geonedeiness of the cansonisy wonstious, higher soup-rangain! \n",
      "------- 온도: 1.2\n",
      "the slowly ascending ranks and classes, in which,\n",
      "through focebultial bestitinar\"ly to lalst phaless-pan agod?bivisuetions, alf\n",
      "sakincted of placuents--itlest deavated: aestrak, nequirt\n",
      "oneneress, a yably thened being save, and atogar-by frain\n",
      "in the esfablly and not propensipy), arol pposible trol actire for to philosowh\n",
      "ex consente and by salw wansatiman, muty arome\" oursoge\n",
      "respandent: e1, an apebles of caing,,\" ix\"liwifule, by asteepsq, his riselts of\n",
      "\n",
      "에포크 2\n",
      "1565/1565 [==============================] - 5s 3ms/step - loss: 1.6177\n",
      "--- 시드 텍스트: ''the slowly ascending ranks and classes, in which,\n",
      "through fo'\n",
      "------- 온도: 0.2\n",
      "the slowly ascending ranks and classes, in which,\n",
      "through for the same the same and the progress of the string the progress of the perhaps and the same and and the same the stand of the same and it is the same and such and the most and the servation of the most and moral and such and in the serve the and the same and the same and the most and one and the same and the subject that he would and and the serve that the progress of the great the same the and th\n",
      "------- 온도: 0.5\n",
      "the slowly ascending ranks and classes, in which,\n",
      "through for the restray that that it is the same that a philosophy and something and that be the same the him even present to a more man, and is the hearther deuting. a purture, that for the period and souls, the great the same and have any strangs for the serves has disconstrant the even the conditions of the been soum and interence the can the most destent the stands and faith and\n",
      "the problem an sout, and\n",
      "------- 온도: 1.0\n",
      "the slowly ascending ranks and classes, in which,\n",
      "through for steom--the paitabes succcate far to antixeate but the lood manking at feering and\n",
      "girding the ordestosa, the good manking that even the creep, sickperiak, not the man\"--but thit chrook.=-,minumathed these dest \"the hamper\": this once and only sympather, some something to thit\n",
      "prade that best not itself not givtly, in relanion.\n",
      "the efitical be know makest precisely moral hosewine, of \"neverate wh\n",
      "------- 온도: 1.2\n",
      "the slowly ascending ranks and classes, in which,\n",
      "through foe  witwow-sets indisinoal europes. slavidy, corfess\n",
      "mudity of philothur., but like callt an will the s itbodorian (wway the. and its ray for caus encausuarition to himself. it his etyet sole-this farting,h! or even-in what very oy the\n",
      "desim\n",
      "with himself and wrot., \"mustfne, if reeak\n",
      "also hours\" it we med ca ly; him not e=p--is even in the\n",
      "feades---phy a tandbainestkment.- ever him flit paroual\n",
      " ex\n",
      "에포크 3\n",
      "1565/1565 [==============================] - 5s 3ms/step - loss: 1.5265\n",
      "--- 시드 텍스트: ''the slowly ascending ranks and classes, in which,\n",
      "through fo'\n",
      "------- 온도: 0.2\n",
      "the slowly ascending ranks and classes, in which,\n",
      "through for the consequently the soul as the consequently the consequently and the self-desire as the same the self-content to the same soul as it is a sense of the sense and the same the man and consequently and act of the self-consequently and desire as a stand in the consequently and soul as the last and states of the self-desire and desire of the same the man and souls the desire and the consequently an\n",
      "------- 온도: 0.5\n",
      "the slowly ascending ranks and classes, in which,\n",
      "through for\n",
      "and when\n",
      "one is there may be to stand in the sense and in state and the deed and nature, that his supersion and it, in a not that we are not a instance, everything modest the stard one is artists of the most every something and more whole sole--is not an all learned formgit to a desire the same of thing be is the self-abores and does leaded as a self--it is itself of stronger the greatest, conce\n",
      "------- 온도: 1.0\n",
      "the slowly ascending ranks and classes, in which,\n",
      "through forthing\n",
      "meastgrolarious that not curies attentation newer mode may in account, whoser and fluseness. which, it decexpled\n",
      "do does net nevertheless uprimedy, i condution, also upilquie, mode\n",
      "susp.y\"zing\n",
      "himsolvent something may is come iancie. it for uponsiants\n",
      "candeviseles true costoms nork.\n",
      "upon obseovity of chumal, eefere already horade--according othes att (and bact towardly ordinaurdves, itself,\n",
      "------- 온도: 1.2\n",
      "the slowly ascending ranks and classes, in which,\n",
      "through forluld, is bell\n",
      "theies,\n",
      "\"still yeares aqe apture good bare immoted,\n",
      "for oncyest but orwnence.,\" deegliretier,\n",
      "apharce have to diligicaty mentantman complements,\n",
      "emotionable], exerdidved toobencapable taxtede=es roleoss---effect corvestanc! ago, ordinamaties of\n",
      "short,\n",
      "ubol\n",
      "bring achounture--amentity\n",
      "superioinist. tolather, i the both mreferre, ciefuvends the, circle inorericidgiedy, mainsompose seev\n",
      "에포크 4\n",
      "1565/1565 [==============================] - 5s 3ms/step - loss: 1.4787\n",
      "--- 시드 텍스트: ''the slowly ascending ranks and classes, in which,\n",
      "through fo'\n",
      "------- 온도: 0.2\n",
      "the slowly ascending ranks and classes, in which,\n",
      "through for the self the same that the sensual and the reality, he is a man and sublicate in the fact to the sense of the same the state and the discomental and the asce the discomentation of the state of the sense, the sensual to be a supercies of the most as the most man and the strongly and the sense of the promess and some and sensual and betrayted to say, and the same that the present to be really and \n",
      "------- 온도: 0.5\n",
      "the slowly ascending ranks and classes, in which,\n",
      "through for the bling as which he is the same that it also as the berapted as a supereased that the supposition to a sensual and wishes and the most it, in the spiritual to be and promises in the believe be strong and mind the entired and in the gradivation of the\n",
      "promitation to long with the world as now it as truis in the well which a consider with a share with our the ears of men to only the artimisation\n",
      "------- 온도: 1.0\n",
      "the slowly ascending ranks and classes, in which,\n",
      "through for it the future--begresh\n",
      "to every well\n",
      "of a temposious.\n",
      "\n",
      "an-bradtance in every dumbling to great--matter which the\n",
      "sensofered, for valuacy be fact anxiust at sose harrhs of runge, to the spiritusd \"moment envy\n",
      "frieness\n",
      "himself beensers. the sensatednesss, and if whichly\n",
      "in\n",
      "veryly and colocricy been oncting now determitance. acts now ble of live\n",
      "dishaper--nature-bevin, niturse-you to the womanjor a\n",
      "------- 온도: 1.2\n",
      "the slowly ascending ranks and classes, in which,\n",
      "through foreskintality). and the tereddech stre happiness, this rank.o as loas we dispicion be mibld\n",
      "folly; he at all developured, , very inw the opposer itually the by fact, moral suppossy ooduace moving in the own piowt, certain partbals.\n",
      "\n",
      "\n",
      "so\n",
      "the known;--the poweraborry which the sevet bind\n"
     ]
    },
    {
     "name": "stdout",
     "output_type": "stream",
     "text": [
      "us jubtafer to will acquiring chuirsion who were hegorrmied, on our decente thetever, their minally suchurjence of\n",
      "\n",
      "에포크 5\n",
      "1565/1565 [==============================] - 5s 3ms/step - loss: 1.4459\n",
      "--- 시드 텍스트: ''the slowly ascending ranks and classes, in which,\n",
      "through fo'\n",
      "------- 온도: 0.2\n",
      "the slowly ascending ranks and classes, in which,\n",
      "through for the same the most superion to the spirit is always them and soul of the spirit is the states of the spirit is the spirit is all the souls of the same of the states of the spirit is all the states of the spirit of the spirit of the states of the spirit who is the experience, which is the sublime to the spirit is always the state of the state of many the state of the spirit of the one is not one i\n",
      "------- 온도: 0.5\n",
      "the slowly ascending ranks and classes, in which,\n",
      "through fort of sublical\n",
      "actions, which we who the depposite and sense that the sense of all believe because, it is lives more part of the great stronger of the spervent of provew of state of the perion belief which is not inclaning to be most does not new upon the men such a belief and in it is ratic to the most precisional mankind because only the one is not three is sensess of the problems of deceive in \n",
      "------- 온도: 1.0\n",
      "the slowly ascending ranks and classes, in which,\n",
      "through found to them be not \n",
      "ill was from the easilicis arouss far\n",
      "trough,\n",
      "sesuaporated for that most its gives\n",
      "distors, because to robodiece is to pure accordance,\n",
      "\n",
      "    his bac? is ever light with all ?ye\n",
      "with egain conceptionful\n",
      "day \"chear--groaning of enserst, appearance aimruled, necessaring and thingen whom is always\n",
      "self also culture,\n",
      "reusing that thesiboled, nor instince out insente of it view\n",
      "acque\n",
      "------- 온도: 1.2\n",
      "the slowly ascending ranks and classes, in which,\n",
      "through form; as werit put\n",
      "h  seems eoutur.\n",
      "from decessation,\" and eastivile almost and fore exortalizings; while will forcis,\n",
      "i modern doess rayes sca\"wing which\n",
      "evilead paine. is abmocial prevainewnt iffered in the\n",
      "perbled, ongles, aut=sline affuidatipt.\n",
      "susunherital\n",
      "-corporagreasuroas of have\n",
      "upenonger talsitical opposing such\n",
      "helmen befugkiagaidly sote oppated--was parcitative\n",
      "squell, to the det rightra\n",
      "에포크 6\n",
      "1565/1565 [==============================] - 5s 3ms/step - loss: 1.4230\n",
      "--- 시드 텍스트: ''the slowly ascending ranks and classes, in which,\n",
      "through fo'\n",
      "------- 온도: 0.2\n",
      "the slowly ascending ranks and classes, in which,\n",
      "through former of the sense of the sense of the sense of the sense of the same that is not be so the sense of the sense of the soul than the sense of the sense of the faither and and so the same things of the senses of the same that it is a soul the sense of the delight of the same to language of the sense of the sense of the principle of the sense of the same than the same than the sense of the sense of th\n",
      "------- 온도: 0.5\n",
      "the slowly ascending ranks and classes, in which,\n",
      "through former of the place of the still distrination of so the thought and commands and are the let us the spirit which is his unreally does not never generating of strenger and former of courage and so still men which a soul than the same the delight.--wherever in the contention of the fact the\n",
      "faither are are in the same dingral way in the\n",
      "existence. the most reason, and than with the secrets more things\n",
      "------- 온도: 1.0\n",
      "the slowly ascending ranks and classes, in which,\n",
      "through forces, religion, so moves the regrang eveny subjent\n",
      "sempting as will supponion, for the divinens finers and\n",
      "fame accourling as lead farm of the most\n",
      "mere fore skembiled that is the are essential nies which leas one and nothian\n",
      "deceive--\"moral\"--one of equaut deels by means of rumaint--with his free scent of thingshing, and yet digfize onem.\n",
      "\n",
      "\n",
      "4\n",
      "\n",
      "=entire\n",
      "a gamauries as first to an opinion.\n",
      "\n",
      "utostene\n",
      "------- 온도: 1.2\n",
      "the slowly ascending ranks and classes, in which,\n",
      "through fort of it-iniscregansness, and undeily found things, fengainance of himself every inclofore--univerknoinful\n",
      "toughly windo from ringble\n",
      "hologo-syse that the deteryrymionauncesisrom by inactinect, under day will pohone siffition. when the\n",
      "fpelse of\n",
      "lookeno-satigat\n",
      "lovenhle),\n",
      "it not conduct homess without\n",
      "they, and\n",
      "dumpass worksthrows reus, be mo faither\n",
      "sawed, hifner antike once\n",
      "severings after umsti\n",
      "에포크 7\n",
      "1565/1565 [==============================] - 5s 4ms/step - loss: 1.4033\n",
      "--- 시드 텍스트: ''the slowly ascending ranks and classes, in which,\n",
      "through fo'\n",
      "------- 온도: 0.2\n",
      "the slowly ascending ranks and classes, in which,\n",
      "through for the contempt of the consequently person of the same the moral and superstition, and the superstition, and in the power and superstition, the power of the same the world and superstition of the contempt to the superstition, and in the superstition, and the consequently and person and all the way in the same and every superstition, and the belief the precisely and the precisely and all the world a\n",
      "------- 온도: 0.5\n",
      "the slowly ascending ranks and classes, in which,\n",
      "through for the look and personal the prounity and the concealed, with the most philosophers of the first to would not to be naturally and same to make one has to the free spirit has more accuse of the precise become reserver of the fact in the constrantician for the person of which the most period of the same and the more individually god, in liberated enclumably have to accustomical men of man is on the l\n",
      "------- 온도: 1.0\n",
      "the slowly ascending ranks and classes, in which,\n",
      "through foodr, what it palding, panace, their fought of moralfuteners and visile after a god. the whole goes of intellect to svelding of such a contentioned he is\n",
      "himseing or \"metimplanity--the thing etiries of\n",
      "men is\n",
      "nine's aver or busg, which is our palsese beha: they the very knowledge\n",
      "pate in this hope, a demands even of all stancking of his voles feelind; indiuptation, that and plicity of voluntionally\n",
      "------- 온도: 1.2\n",
      "the slowly ascending ranks and classes, in which,\n",
      "through foo, at the good williorsianel.\n",
      "upon it is well it:\n",
      "\"they, and withoun anous, reusove,\n",
      "soul,\n",
      "but the, nothed.\n",
      "\n",
      "agom-for\n",
      "soul of mecale yeaths is natrousness, to\n",
      "he is mo, the we twandtere? of these\n",
      "wemacl mose be it with kill\n",
      "of them pridernent- of stupin to\n",
      "what\n",
      "suchural demorupens of the embiture, smets prejudice ye views, the precossly, and in men path us every consedele for esmid, and inmos prar\n",
      "에포크 8\n",
      "1565/1565 [==============================] - 5s 3ms/step - loss: 1.3895\n",
      "--- 시드 텍스트: ''the slowly ascending ranks and classes, in which,\n",
      "through fo'\n",
      "------- 온도: 0.2\n",
      "the slowly ascending ranks and classes, in which,\n",
      "through for a sensition to be a superiority of the soul the superiority and allow the spirit is a perhaps of the same the same the states of the sensitician and depended to the same disposition it is the present of the spirit of the superion and allowed in the condition of the sense of the spirit is a thing of the spirit and allow the sense of the subject the still the spirit is a stand and the states of th\n",
      "------- 온도: 0.5\n",
      "the slowly ascending ranks and classes, in which,\n",
      "through for all the heop is a period of a prissing that even the domarting of some place and will it is ever and nonmer of the respect with any and dispreted to say that they condition is the best more by the same pains of the under the same disagray, in all simple them and revarieity of soul is because all some in the same and deceived, the primoud absolute still itredious for a sakethes of requirition of \n",
      "------- 온도: 1.0\n",
      "the slowly ascending ranks and classes, in which,\n",
      "through fold visisticatileted itublicy bad themselves, forsives--as so they were orgering ofnerare ever-does nates perhaps, he guilat the sants\n",
      "to betnered shatured to which\n",
      "is a transicks!\n",
      "\n",
      "\n",
      "14ogok:s!\"\n",
      "\n",
      "at of a philosoph. the believed perhaps possess his other strength of up at themselves et this best ins sing the condition. now society and forceomony and foregerate, hapeaboshed althus religious fore not e\n",
      "------- 온도: 1.2\n",
      "the slowly ascending ranks and classes, in which,\n",
      "through foun, and to any, line how to beto caste worse and opining, even and reurination. it.\n"
     ]
    },
    {
     "name": "stdout",
     "output_type": "stream",
     "text": [
      "i god was a reducth these most frament is weachid. it berupesh; perhaps recisivelus i also the motend with kypers or lits atthing instine for religion, was from\n",
      "the same of since--their tenvess.\n",
      "\n",
      "\n",
      "otwarn nationsy-por), it error, in peristors of the\n",
      "seifed we victfwerming asoral, views without theses only there the\n",
      "\n",
      "에포크 9\n",
      "1565/1565 [==============================] - 6s 4ms/step - loss: 1.3776\n",
      "--- 시드 텍스트: ''the slowly ascending ranks and classes, in which,\n",
      "through fo'\n",
      "------- 온도: 0.2\n",
      "the slowly ascending ranks and classes, in which,\n",
      "through former and superiority of the most desires of the spirit and soul the sense of the sense of the sense of the sense of the proper and the superstition of the most man should be one must be the sense of the self-proble will as a spirit also in the sense of the experience, and the fact of the sense of the sense of the sense of the most desires of the superstition of the sense of the spirit and strength\n",
      "------- 온도: 0.5\n",
      "the slowly ascending ranks and classes, in which,\n",
      "through formation is also of man species his to any will of historical fine and will the superioual falsion of the superity of the consequently and intellect (the superity of the mind it the contentation is distrustfulness of the man the will the sensations of such assumed to the expression of the superstitions of the fruit of the strong to a superstitious must be more intellectual of the self-content to ot\n",
      "------- 온도: 1.0\n",
      "the slowly ascending ranks and classes, in which,\n",
      "through found the down fundamental kind of\n",
      "unti: a philosopher of the most suititived\n",
      "among that sises and an operial winditness, the apperioably now had we: i and i\n",
      "sponses of the man immidpacate the superitity, thee conxity to\n",
      "mult the subjeded time thas one in\n",
      "the fresh of the eicepicless (wholengfowter to threshes, far this accurse of respectable torad of all child is type and ately, , against nothing m\n",
      "------- 온도: 1.2\n",
      "the slowly ascending ranks and classes, in which,\n",
      "through foud without here\n",
      "notless of means one o--might divinuous fine-grorming if gurply that frammed for\n",
      "forms to truth and joys\n",
      "not a had, the alsobary ardiw! so\n",
      "not to truth and indudinity,ger enty; sulpfuls\n",
      "ade wowart\"wnecalm. it is well.\n",
      "\n",
      "eventation,\n",
      "a ren fin and decritify, bity all the\n",
      "exturnderness, the\n",
      "dignilep by kind--pvinchequicogical refelience is dormable (uids, pessiatic\n",
      "most indradance of r\n"
     ]
    }
   ],
   "source": [
    "import random\n",
    "import sys\n",
    "\n",
    "random.seed(42)\n",
    "\n",
    "start_index = random.randint(0, len(text) - maxlen - 1)\n",
    "\n",
    "# for epoch in range(1, 60):\n",
    "for epoch in range(1, 10):    \n",
    "    \n",
    "    print(\"에포크\", epoch)\n",
    "    \n",
    "    ## 데이터에서 한번만 반복해서 모델을 학습합니다\n",
    "    model.fit(x, y, batch_size = 128, epochs = 1)\n",
    "    \n",
    "    ## 무작위로 시드 텍스트를 선택합니다\n",
    "    seed_text = text[start_index: start_index + maxlen]\n",
    "    print(\"--- 시드 텍스트: ''\" + seed_text + \"'\")\n",
    "    \n",
    "    ## 여러가지 샘플링 온도를 시도합니다\n",
    "    for temperature in [0.2, 0.5, 1.0, 1.2]:\n",
    "        print(\"------- 온도:\", temperature)\n",
    "        generated_text = seed_text\n",
    "        sys.stdout.write(generated_text)\n",
    "        \n",
    "        ## 시드 텍스트에서 시작해서 400개의 글자를 생성합니다\n",
    "        for i in range(400):\n",
    "            \n",
    "            ## 지금까지 생성된 글자를 원-핫 인코딩으로 바꿉니다\n",
    "            sampled = np.zeros((1, maxlen, len(chars)))\n",
    "            for t, char in enumerate(generated_text):\n",
    "                sampled[0, t, char_indices[char]] = 1.\n",
    "                \n",
    "            preds = model.predict(sampled, verbose = 0)[0]\n",
    "            next_index = sample(preds, temperature)\n",
    "            next_char = chars[next_index]\n",
    "            \n",
    "            generated_text += next_char\n",
    "            generated_text = generated_text[1:]\n",
    "            \n",
    "            sys.stdout.write(next_char)\n",
    "            sys.stdout.flush()\n",
    "        print()"
   ]
  },
  {
   "cell_type": "markdown",
   "id": "4b528f37",
   "metadata": {},
   "source": [
    "낮은 온도는 아주 반복적이고 예상되는 텍스트를 만듭니다. 하지만 국부적인 구조는 실제와 매우 같습니다. 특히 모든 단어가 실제 영어 단어입니다.\n",
    "\n",
    "높은 온도에서 생성된 텍스트는 창의적이기도 합니다. \"reprovial\" 같은 이따금 그럴싸해보이는 완전히 새로운 단어를 창조합니다."
   ]
  }
 ],
 "metadata": {
  "kernelspec": {
   "display_name": "Python 3",
   "language": "python",
   "name": "python3"
  },
  "language_info": {
   "codemirror_mode": {
    "name": "ipython",
    "version": 3
   },
   "file_extension": ".py",
   "mimetype": "text/x-python",
   "name": "python",
   "nbconvert_exporter": "python",
   "pygments_lexer": "ipython3",
   "version": "3.8.10"
  }
 },
 "nbformat": 4,
 "nbformat_minor": 5
}

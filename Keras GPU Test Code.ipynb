{
 "cells": [
  {
   "cell_type": "code",
   "execution_count": 1,
   "id": "f07ea0a3",
   "metadata": {},
   "outputs": [
    {
     "name": "stdout",
     "output_type": "stream",
     "text": [
      "Epoch 1/15\n",
      "480/480 [==============================] - 2s 2ms/step - loss: 0.7093 - accuracy: 0.7910 - val_loss: 0.1822 - val_accuracy: 0.9467\n",
      "Epoch 2/15\n",
      "480/480 [==============================] - 1s 1ms/step - loss: 0.1614 - accuracy: 0.9534 - val_loss: 0.1386 - val_accuracy: 0.9587\n",
      "Epoch 3/15\n",
      "480/480 [==============================] - 1s 1ms/step - loss: 0.1163 - accuracy: 0.9663 - val_loss: 0.1057 - val_accuracy: 0.9682\n",
      "Epoch 4/15\n",
      "480/480 [==============================] - 1s 1ms/step - loss: 0.0797 - accuracy: 0.9753 - val_loss: 0.0980 - val_accuracy: 0.9714\n",
      "Epoch 5/15\n",
      "480/480 [==============================] - 1s 1ms/step - loss: 0.0657 - accuracy: 0.9798 - val_loss: 0.0940 - val_accuracy: 0.9708\n",
      "Epoch 6/15\n",
      "480/480 [==============================] - 1s 1ms/step - loss: 0.0513 - accuracy: 0.9845 - val_loss: 0.0954 - val_accuracy: 0.9717\n",
      "Epoch 7/15\n",
      "480/480 [==============================] - 1s 1ms/step - loss: 0.0422 - accuracy: 0.9872 - val_loss: 0.0953 - val_accuracy: 0.9737\n",
      "Epoch 8/15\n",
      "480/480 [==============================] - 1s 1ms/step - loss: 0.0321 - accuracy: 0.9897 - val_loss: 0.0954 - val_accuracy: 0.9726\n",
      "Epoch 9/15\n",
      "480/480 [==============================] - 1s 1ms/step - loss: 0.0265 - accuracy: 0.9917 - val_loss: 0.0917 - val_accuracy: 0.9741\n",
      "Epoch 10/15\n",
      "480/480 [==============================] - 1s 1ms/step - loss: 0.0216 - accuracy: 0.9942 - val_loss: 0.0886 - val_accuracy: 0.9764\n",
      "Epoch 11/15\n",
      "480/480 [==============================] - 1s 1ms/step - loss: 0.0191 - accuracy: 0.9944 - val_loss: 0.1074 - val_accuracy: 0.9732\n",
      "Epoch 12/15\n",
      "480/480 [==============================] - 1s 1ms/step - loss: 0.0145 - accuracy: 0.9961 - val_loss: 0.0985 - val_accuracy: 0.9747\n",
      "Epoch 13/15\n",
      "480/480 [==============================] - 1s 1ms/step - loss: 0.0138 - accuracy: 0.9954 - val_loss: 0.1048 - val_accuracy: 0.9755\n",
      "Epoch 14/15\n",
      "480/480 [==============================] - 1s 1ms/step - loss: 0.0138 - accuracy: 0.9960 - val_loss: 0.1008 - val_accuracy: 0.9760\n",
      "Epoch 15/15\n",
      "480/480 [==============================] - 1s 1ms/step - loss: 0.0098 - accuracy: 0.9973 - val_loss: 0.1185 - val_accuracy: 0.9730\n",
      "100/100 [==============================] - 0s 912us/step - loss: 0.1099 - accuracy: 0.9725\n",
      "Test Loss and Accuracy -> [0.1099129170179367, 0.9725000262260437]\n"
     ]
    }
   ],
   "source": [
    "Nin = 784\n",
    "Nh_l = [100, 50]\n",
    "number_of_class = 10\n",
    "Nout = number_of_class\n",
    "\n",
    "# 분류 DNN 모델 구현 ########################\n",
    "import keras\n",
    "from keras import layers, models\n",
    "\n",
    "\n",
    "class DNN(models.Sequential):\n",
    "\tdef __init__(self, Nin, Nh_l, Nout):\n",
    "\t\tsuper().__init__()\n",
    "\t\t# 첫 번째 은닉층 : 784 in, 100 out & relu(sigmoid 사용시 역전파시 성능 저하)\n",
    "\t\tself.add(layers.Dense(Nh_l[0], activation='relu', input_shape=(Nin,), name='Hidden-1'))\n",
    "\t\t# 두 번쨰 은닉층 : 100 in, 50 out & relu\n",
    "\t\tself.add(layers.Dense(Nh_l[1], activation='relu', name='Hidden-2'))\n",
    "\t\t# softmax를 사용하여 출력 값들의 합이 1이 되도록 만들어 준다.\n",
    "\t\tself.add(layers.Dense(Nout, activation='softmax'))\n",
    "\t\t# 손실함수 : 교차 엔트로\n",
    "\t\tself.compile(loss='categorical_crossentropy',optimizer='adam',metrics=['accuracy'])\n",
    "\n",
    "\n",
    "# 데이터 입력\n",
    "from keras import datasets\n",
    "from keras.utils import np_utils\n",
    "\n",
    "(X_train, y_train), (X_test, y_test) = datasets.mnist.load_data()\n",
    "\n",
    "y_train = np_utils.to_categorical(y_train)\n",
    "y_test = np_utils.to_categorical(y_test)\n",
    "\n",
    "L, W, H = X_train.shape\n",
    "X_train = X_train.reshape(-1, W * H)\n",
    "X_test = X_test.reshape(-1, W * H)\n",
    "\n",
    "X_train = X_train / 255.0\n",
    "X_test = X_test / 255.0\n",
    "\n",
    "# DNN을 사용하여 학습을 한다.\n",
    "model = DNN(Nin, Nh_l, Nout)\n",
    "history = model.fit(X_train, y_train, epochs=15, batch_size=100, validation_split=0.2)\n",
    "performace_test = model.evaluate(X_test, y_test, batch_size=100)\n",
    "print('Test Loss and Accuracy ->', performace_test)"
   ]
  },
  {
   "cell_type": "code",
   "execution_count": null,
   "id": "858334d1",
   "metadata": {},
   "outputs": [],
   "source": []
  }
 ],
 "metadata": {
  "kernelspec": {
   "display_name": "Python 3",
   "language": "python",
   "name": "python3"
  },
  "language_info": {
   "codemirror_mode": {
    "name": "ipython",
    "version": 3
   },
   "file_extension": ".py",
   "mimetype": "text/x-python",
   "name": "python",
   "nbconvert_exporter": "python",
   "pygments_lexer": "ipython3",
   "version": "3.8.10"
  }
 },
 "nbformat": 4,
 "nbformat_minor": 5
}

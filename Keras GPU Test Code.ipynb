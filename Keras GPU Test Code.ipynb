{
 "cells": [
  {
   "cell_type": "code",
   "execution_count": 3,
   "id": "f07ea0a3",
   "metadata": {},
   "outputs": [
    {
     "ename": "ModuleNotFoundError",
     "evalue": "No module named 'keras'",
     "output_type": "error",
     "traceback": [
      "\u001b[0;31m---------------------------------------------------------------------------\u001b[0m",
      "\u001b[0;31mModuleNotFoundError\u001b[0m                       Traceback (most recent call last)",
      "\u001b[0;32m<ipython-input-3-b880362906bd>\u001b[0m in \u001b[0;36m<module>\u001b[0;34m\u001b[0m\n\u001b[1;32m      5\u001b[0m \u001b[0;34m\u001b[0m\u001b[0m\n\u001b[1;32m      6\u001b[0m \u001b[0;31m# 분류 DNN 모델 구현 ########################\u001b[0m\u001b[0;34m\u001b[0m\u001b[0;34m\u001b[0m\u001b[0;34m\u001b[0m\u001b[0m\n\u001b[0;32m----> 7\u001b[0;31m \u001b[0;32mimport\u001b[0m \u001b[0mkeras\u001b[0m\u001b[0;34m\u001b[0m\u001b[0;34m\u001b[0m\u001b[0m\n\u001b[0m\u001b[1;32m      8\u001b[0m \u001b[0;32mfrom\u001b[0m \u001b[0mkeras\u001b[0m \u001b[0;32mimport\u001b[0m \u001b[0mlayers\u001b[0m\u001b[0;34m,\u001b[0m \u001b[0mmodels\u001b[0m\u001b[0;34m\u001b[0m\u001b[0;34m\u001b[0m\u001b[0m\n\u001b[1;32m      9\u001b[0m \u001b[0;34m\u001b[0m\u001b[0m\n",
      "\u001b[0;31mModuleNotFoundError\u001b[0m: No module named 'keras'"
     ]
    }
   ],
   "source": [
    "Nin = 784\n",
    "Nh_l = [100, 50]\n",
    "number_of_class = 10\n",
    "Nout = number_of_class\n",
    "\n",
    "# 분류 DNN 모델 구현 ########################\n",
    "import keras\n",
    "from keras import layers, models\n",
    "\n",
    "\n",
    "class DNN(models.Sequential):\n",
    "\tdef __init__(self, Nin, Nh_l, Nout):\n",
    "\t\tsuper().__init__()\n",
    "\t\t# 첫 번째 은닉층 : 784 in, 100 out & relu(sigmoid 사용시 역전파시 성능 저하)\n",
    "\t\tself.add(layers.Dense(Nh_l[0], activation='relu', input_shape=(Nin,), name='Hidden-1'))\n",
    "\t\t# 두 번쨰 은닉층 : 100 in, 50 out & relu\n",
    "\t\tself.add(layers.Dense(Nh_l[1], activation='relu', name='Hidden-2'))\n",
    "\t\t# softmax를 사용하여 출력 값들의 합이 1이 되도록 만들어 준다.\n",
    "\t\tself.add(layers.Dense(Nout, activation='softmax'))\n",
    "\t\t# 손실함수 : 교차 엔트로\n",
    "\t\tself.compile(loss='categorical_crossentropy',optimizer='adam',metrics=['accuracy'])\n",
    "\n",
    "\n",
    "# 데이터 입력\n",
    "from keras import datasets\n",
    "from keras.utils import np_utils\n",
    "\n",
    "(X_train, y_train), (X_test, y_test) = datasets.mnist.load_data()\n",
    "\n",
    "y_train = np_utils.to_categorical(y_train)\n",
    "y_test = np_utils.to_categorical(y_test)\n",
    "\n",
    "L, W, H = X_train.shape\n",
    "X_train = X_train.reshape(-1, W * H)\n",
    "X_test = X_test.reshape(-1, W * H)\n",
    "\n",
    "X_train = X_train / 255.0\n",
    "X_test = X_test / 255.0\n",
    "\n",
    "# DNN을 사용하여 학습을 한다.\n",
    "model = DNN(Nin, Nh_l, Nout)\n",
    "history = model.fit(X_train, y_train, epochs=15, batch_size=100, validation_split=0.2)\n",
    "performace_test = model.evaluate(X_test, y_test, batch_size=100)\n",
    "print('Test Loss and Accuracy ->', performace_test)"
   ]
  },
  {
   "cell_type": "code",
   "execution_count": null,
   "id": "858334d1",
   "metadata": {},
   "outputs": [],
   "source": []
  }
 ],
 "metadata": {
  "kernelspec": {
   "display_name": "Python 3",
   "language": "python",
   "name": "python3"
  },
  "language_info": {
   "codemirror_mode": {
    "name": "ipython",
    "version": 3
   },
   "file_extension": ".py",
   "mimetype": "text/x-python",
   "name": "python",
   "nbconvert_exporter": "python",
   "pygments_lexer": "ipython3",
   "version": "3.8.10"
  }
 },
 "nbformat": 4,
 "nbformat_minor": 5
}

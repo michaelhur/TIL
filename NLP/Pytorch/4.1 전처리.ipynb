{
 "cells": [
  {
   "cell_type": "markdown",
   "id": "7cc63964",
   "metadata": {},
   "source": [
    "### 코퍼스"
   ]
  },
  {
   "cell_type": "markdown",
   "id": "95ac0489",
   "metadata": {},
   "source": [
    "\"말뭉치\"라고도 불리는 **$코퍼스^{corpus}$**는 보통 여러 단어들로 이루어진 문장입니다. 자연어 처리 분야의 머신러닝을 수행하려면 훈련 데이터가 필요한데, 보통 이런 다수의 문장으로 구성된 코퍼스가 필요합니다.\n",
    "\n",
    "한가지 언어로 구성된 코퍼스는 단일 $언어^{monolingual}$ 코퍼스라고 부르며, 2개의 언어로 구성된 코퍼스는 이중 $언어^{bilingual}$ 코퍼스라고 부릅니다. 이때, 다음과 같이 언어 간에 쌍으로 구성되는 코퍼스를 $병렬^{parallel}$ 코퍼스라고 부릅니다.\n",
    "\n",
    "<br></br>\n",
    "\n",
    "| 영문 | 한글 |\n",
    "|---|---|\n",
    "| I love to go to school. | 나는 학교에 가는 것을 좋아한다. |\n",
    "| I am a doctor | 나는 의사입니다. |\n",
    "\n",
    "<br></br>\n",
    "\n",
    "코퍼스가 많고 오류가 없을수록 자연어 처리 머신러닝 모델은 더 정교해지고 정확도가 높아집니다. 이번 포스트에서는 코퍼스를 수집하고 정제하여 효율성을 높이는 전처리 방법을 다루어 보겠습니다."
   ]
  },
  {
   "cell_type": "markdown",
   "id": "5e3024e4",
   "metadata": {},
   "source": [
    " "
   ]
  },
  {
   "cell_type": "markdown",
   "id": "4f4914bd",
   "metadata": {},
   "source": [
    "### 전처리 과정 개요"
   ]
  },
  {
   "cell_type": "markdown",
   "id": "59ae0342",
   "metadata": {},
   "source": [
    "자연어 처리 분야에서의 전처리 과정은 목적에 따라 약간씩 다르지만 대체로 다음과 같습니다. 이번 장에서는 이러한 과정을 다룹니다.\n",
    "\n",
    "1. 코퍼스 수집\n",
    "2. 정제\n",
    "3. 문장 단위 분절\n",
    "4. 분절\n",
    "5. 병렬 코퍼스 정렬\n",
    "6. 서브워드 분절\n",
    "\n",
    "<br></br>\n",
    "![](./images/4-1-Preprocessing.jpg)\n",
    "<br></br>"
   ]
  },
  {
   "cell_type": "markdown",
   "id": "bb1eabc4",
   "metadata": {},
   "source": [
    " "
   ]
  }
 ],
 "metadata": {
  "kernelspec": {
   "display_name": "Python 3",
   "language": "python",
   "name": "python3"
  },
  "language_info": {
   "codemirror_mode": {
    "name": "ipython",
    "version": 3
   },
   "file_extension": ".py",
   "mimetype": "text/x-python",
   "name": "python",
   "nbconvert_exporter": "python",
   "pygments_lexer": "ipython3",
   "version": "3.8.10"
  }
 },
 "nbformat": 4,
 "nbformat_minor": 5
}

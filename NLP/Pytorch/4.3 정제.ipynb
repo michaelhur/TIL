{
 "cells": [
  {
   "cell_type": "markdown",
   "id": "cc839b25",
   "metadata": {},
   "source": [
    "$정제^{normalization}$는 텍스트를 사용하기에 앞서 필수적인 과정입니다. 원하는 업무와 문제에 따라, 또는 응용 분야에 따라 필요한 정제의 수준이나 깊이가 다를 수 있습니다. \n",
    "* 음성 인식을 위한 언어 모델의 경우에는 사람의 음성을 그대로 받아 적어야 하므로 괄호 또는 별표와 같은 기호나 특수 문자들은 포함해서는 안됩니다\n",
    "* 전화번호나 이메일 주소, 신용카드 같은 민감한 정보는 제거하거나 변조해서 모델링해야 합니다\n",
    "\n",
    "각 경우에 따라 필요한 형태를 얻어내려면 효과적인 정제 방법을 사용해야합니다."
   ]
  },
  {
   "cell_type": "markdown",
   "id": "eaed8b6c",
   "metadata": {},
   "source": [
    " "
   ]
  },
  {
   "cell_type": "markdown",
   "id": "e8487345",
   "metadata": {},
   "source": [
    "### 전각 문자 제거"
   ]
  },
  {
   "cell_type": "markdown",
   "id": "d8080460",
   "metadata": {},
   "source": [
    "대부분의 중국어와 일본어 문서, 그리고 일부 한국어 문서의 숫자, 영자, 기호가 *전각 문자*일때가 있습니다. 이러한 경우 일반적으로 사용되는 *반각 문자*로 변환해주는 작업이 필요합니다.\n",
    "\n",
    "일반적으로 반각/ 전각 문자로 혼용되는 문자들은 다음과 같습니다.\n",
    "\n",
    "<br></br>\n",
    "![](./images/4-3-1-전각.jpg)\n",
    "<br></br>\n"
   ]
  },
  {
   "cell_type": "markdown",
   "id": "d95b7b9a",
   "metadata": {},
   "source": [
    " "
   ]
  },
  {
   "cell_type": "markdown",
   "id": "18ad989e",
   "metadata": {},
   "source": [
    "### 대소문자 통일"
   ]
  },
  {
   "cell_type": "markdown",
   "id": "a496e792",
   "metadata": {},
   "source": [
    "일부 영어 코퍼스에서는 약자 등에서의 대소문자 표현이 통일되지 않을때가 있습니다.\n",
    "\n",
    "<br></br>\n",
    "![](./images/4-3-2-capital.jpg)\n",
    "<br></br>\n",
    "\n",
    "이러한 다양한 표현의 일원화는 하나의 의미를 기지는 여러 단어를 하나의 형태로 통일해 $희소성^{sparsity}$을 줄이는 효과를 기대할 수 있습니다.\n",
    "\n",
    "하지만 딥러닝에서는 단어 임베딩을 통한 효율적인 표현이 가능해지면서 다양한 단어들을 비슷한 값의 벡터로 나타낼 수 있게되어 *대소문자 통일*과 같은 문제를 해결할 필요성이 줄어들었습니다."
   ]
  },
  {
   "cell_type": "markdown",
   "id": "e69eed0f",
   "metadata": {},
   "source": [
    " "
   ]
  },
  {
   "cell_type": "markdown",
   "id": "79535680",
   "metadata": {},
   "source": [
    "### 정규 표현식을 사용한 정제"
   ]
  },
  {
   "cell_type": "markdown",
   "id": "90b60bc6",
   "metadata": {},
   "source": [
    "크롤링을 통해 얻어낸 다량의 코퍼스는 보통 특수문자, 기호 등에 의해 노이즈가 섞일때가 많습니다. 또한 일정한 패턴을 지니는 경우도 있습니다. 이러한 노이즈를 효율적으로 감지하고 없애려면 인덱스의 사용은 필수입니다. **정규 표현식^{regular expression}**의 사용법을 살펴봅니다."
   ]
  },
  {
   "cell_type": "markdown",
   "id": "bb70c2ca",
   "metadata": {},
   "source": [
    "#### [ ] 사용"
   ]
  },
  {
   "cell_type": "markdown",
   "id": "5f6af9e0",
   "metadata": {},
   "source": [
    "다음 정규 표현식은 `2 or 3 or 4 or 5 or c or d or e`와 같은 의미를 가집니다.\n",
    "\n",
    "```\n",
    "[2345cde]\n",
    "```\n",
    "\n",
    "또는 다음과 같이 표현할 수도 있습니다\n",
    "\n",
    "```\n",
    "(2|3|4|5|c|d|e)\n",
    "```\n",
    "\n",
    "\n",
    "<br></br>\n",
    "![](./images/4-3-3-regex.jpg)\n",
    "<br></br>"
   ]
  },
  {
   "cell_type": "markdown",
   "id": "476dd5cb",
   "metadata": {},
   "source": [
    " "
   ]
  },
  {
   "cell_type": "markdown",
   "id": "ab0507e0",
   "metadata": {},
   "source": [
    "#### - 사용"
   ]
  },
  {
   "cell_type": "markdown",
   "id": "2f44c5ad",
   "metadata": {},
   "source": [
    "앞의 정규 표현식에서 연속된 숫자 또는 알파벳을 전부 적는 것은 매우 **비효율적**이였습니다. 이때 **-**를 사용하여 연속된 숫자 또는 알파벳을 표현할 수 있습니다. 다음 정규 표현식은 앞에서 봤던 정규 표현식과 같은 표현입니다\n",
    "\n",
    "```\n",
    "[2-5c-e]\n",
    "```\n",
    "\n",
    "<br></br>\n",
    "![](./images/4-3-3-regex2.jpg)\n",
    "<br></br>\n",
    "\n"
   ]
  },
  {
   "cell_type": "markdown",
   "id": "1683944b",
   "metadata": {},
   "source": [
    " "
   ]
  },
  {
   "cell_type": "markdown",
   "id": "541537aa",
   "metadata": {},
   "source": [
    "#### ^ 사용"
   ]
  },
  {
   "cell_type": "markdown",
   "id": "be475efe",
   "metadata": {},
   "source": [
    "**Not**을 기호 **^**를 써서 표현할 수 있습니다. 다음 정규 표현식은 2부터 5까지, 그리고 c부터 e까지를 제외한 한 글자를 의미합니다.\n",
    "\n",
    "```\n",
    "[^2-5c-e]\n",
    "```\n",
    "\n",
    "<br></br>\n",
    "![](./images/4-3-3-regex3.jpg)\n",
    "<br></br>"
   ]
  },
  {
   "cell_type": "markdown",
   "id": "391fc7b3",
   "metadata": {},
   "source": [
    " "
   ]
  },
  {
   "cell_type": "markdown",
   "id": "a9f1a5bb",
   "metadata": {},
   "source": [
    "#### () 사용"
   ]
  },
  {
   "cell_type": "markdown",
   "id": "1f5a97bc",
   "metadata": {},
   "source": [
    "괄호를 이용해서 그룹을 만들 수 있습니다.\n",
    "\n",
    "```\n",
    "(x)(yz)\n",
    "```\n",
    "\n",
    "<br></br>\n",
    "![](./images/4-3-3-regex4.jpg)\n",
    "<br></br>"
   ]
  },
  {
   "cell_type": "markdown",
   "id": "53a7ba09",
   "metadata": {},
   "source": [
    " "
   ]
  },
  {
   "cell_type": "markdown",
   "id": "10cc0285",
   "metadata": {},
   "source": [
    "#### | 사용"
   ]
  },
  {
   "cell_type": "markdown",
   "id": "467af5a0",
   "metadata": {},
   "source": [
    "**또는** 에 해당하는 or을 의미합니다.\n",
    "\n",
    "```\n",
    "(x|y)\n",
    "```\n",
    "\n",
    "<br></br>\n",
    "![](./images/4-3-3-regex5.jpg)\n",
    "<br></br>"
   ]
  },
  {
   "cell_type": "markdown",
   "id": "f7e35026",
   "metadata": {},
   "source": [
    " "
   ]
  },
  {
   "cell_type": "markdown",
   "id": "314337a1",
   "metadata": {},
   "source": [
    "#### ?, *, + 사용"
   ]
  },
  {
   "cell_type": "markdown",
   "id": "cf8429e5",
   "metadata": {},
   "source": [
    "앞의 수식하는 부분이 나타나지 않거나 **한번**만 나타날 때는 **?**를 사용합니다\n",
    "\n",
    "```\n",
    "x?\n",
    "```\n",
    "\n",
    "<br></br>\n",
    "![](./images/4-3-3-regex6.jpg)\n",
    "<br></br>\n",
    "\n",
    "앞의 수식하는 부분이 **한번 이상** 나타날 경우에는 \\+를 사용합니다\n",
    "\n",
    "```\n",
    "x+\n",
    "```\n",
    "\n",
    "<br></br>\n",
    "![](./images/4-3-3-regex7.jpg)\n",
    "<br></br>\n",
    "\n",
    "앞의 수식하느 부분이 나타나지 않거나 여러번 나타날 경우 \\*를 사용합니다\n",
    "\n",
    "```\n",
    "x*\n",
    "```\n",
    "\n",
    "<br></br>\n",
    "![](./images/4-3-3-regex8.jpg)\n",
    "<br></br>"
   ]
  },
  {
   "cell_type": "markdown",
   "id": "ff7335a5",
   "metadata": {},
   "source": [
    " "
   ]
  },
  {
   "cell_type": "markdown",
   "id": "6b2dae0c",
   "metadata": {},
   "source": [
    "#### {n}, {n,}, {n,m} 사용"
   ]
  },
  {
   "cell_type": "markdown",
   "id": "45de7d48",
   "metadata": {},
   "source": [
    "앞에 살펴본 **반복 여부**에 대한 정규 표현식도 유용하지만, 정확하게 반복 횟수의 범위를 알고 있다면 다음 방법을 사용하는 것이 좋습니다.\n",
    "\n",
    "```\n",
    "x{n}\n",
    "```\n",
    "\n",
    "예를 들어 n = 10일때 10번 반복한다면 다음과 같이 표현할 수 있습니다.\n",
    "\n",
    "<br></br>\n",
    "![](./images/4-3-3-regex9.jpg)\n",
    "<br></br>\n",
    "\n",
    "n = 10일때 10번 이상 반복됨을 표현하는 식은 다음과 같습니다\n",
    "\n",
    "```\n",
    "x{n,}\n",
    "```\n",
    "\n",
    "<br></br>\n",
    "![](./images/4-3-3-regex10.jpg)\n",
    "<br></br>\n",
    "\n",
    "n = 10, m = 15라고 가정했을때 10번에서 15번 사이를 반복한다면 다음과 같이 표현합니다\n",
    "\n",
    "<br></br>\n",
    "![](./images/4-3-3-regex11.jpg)\n",
    "<br></br>"
   ]
  },
  {
   "cell_type": "markdown",
   "id": "96374030",
   "metadata": {},
   "source": [
    " "
   ]
  },
  {
   "cell_type": "markdown",
   "id": "f6379bd8",
   "metadata": {},
   "source": [
    "#### . 사용"
   ]
  },
  {
   "cell_type": "markdown",
   "id": "c2ad0f92",
   "metadata": {},
   "source": [
    "**\".\"**은 매우 강력한 표현입니다. 그 어떤 글자도 \".\"에 포함될 수 있습니다. 그만큼 유의해서 사용해야 합니다.\n",
    "\n",
    "```\n",
    ".\n",
    "```\n",
    "\n",
    "<br></br>\n",
    "![](./images/4-3-3-regex12.jpg)\n",
    "<br></br>"
   ]
  },
  {
   "cell_type": "markdown",
   "id": "db998a22",
   "metadata": {},
   "source": [
    " "
   ]
  },
  {
   "cell_type": "markdown",
   "id": "a11954a3",
   "metadata": {},
   "source": [
    "#### ^와 $ 사용"
   ]
  },
  {
   "cell_type": "markdown",
   "id": "3bbad90d",
   "metadata": {},
   "source": [
    "[ ] 사이에 포함되지 않은 **\"^\"**은 라인의 시작을 의미하며 \"$\"은 라인의 종료를 의미합니다.\n",
    "\n",
    "```\n",
    "^x$\n",
    "```\n",
    "\n",
    "<br></br>\n",
    "![](./images/4-3-3-regex13.jpg)\n",
    "<br></br>"
   ]
  },
  {
   "cell_type": "markdown",
   "id": "26d22ab6",
   "metadata": {},
   "source": [
    " "
   ]
  },
  {
   "cell_type": "markdown",
   "id": "cca3be07",
   "metadata": {},
   "source": [
    "#### 지정 문자 사용"
   ]
  },
  {
   "cell_type": "markdown",
   "id": "64aedce1",
   "metadata": {},
   "source": [
    "이외에도 지정 문자를 사용하여 비슷한 유형의 글자들을 표현할 수 있습니다.\n",
    "\n",
    "<br></br>\n",
    "![](./images/4-3-3-regex14.jpg)\n",
    "<br></br>"
   ]
  },
  {
   "cell_type": "markdown",
   "id": "2226c5dc",
   "metadata": {},
   "source": [
    " "
   ]
  },
  {
   "cell_type": "markdown",
   "id": "8c74f641",
   "metadata": {},
   "source": [
    "#### 예제"
   ]
  },
  {
   "cell_type": "markdown",
   "id": "03cbd1e2",
   "metadata": {},
   "source": [
    "실제 예를 살펴보겠습니다. 문서의 마지막 줄에 전화번호등의 개인 정보가 포함된 문서를 데이터셋으로 사용하려 합니다. 이때 해당 개인 정보를 제외하고 사용하고자 합니다\n",
    "\n",
    "<br></br>\n",
    "![](./images/4-3-3-example.jpg)\n",
    "<br></br>\n",
    "\n",
    "무턱대고 마지막 줄을 지우자니, 마지막 줄에 전화번호 정보가 없는 경우도 많기 때문에 선택적으로 지워야 합니다. 데이테의 마지막 줄은 다음과 같은 규칙을 따릅니다.\n",
    "\n",
    "* 이름이 전화번호 앞에 나올 수도 있다.\n",
    "* 이름 뒤에는 콜론(:)이 나올 수도 있다.\n",
    "* 콜론 앞/뒤로는 탭을 포함한 공백이 다수 존재할 수 있다.\n",
    "* 전화번호는 국가번호를 포함할 수도 있다.\n",
    "* 국가번호는 최대 3자리이다.\n",
    "* 국가번호 앞에는 \"+\"가 붙을 수도 있다.\n",
    "* 전화번호 사이에는 \"-\"가 들어갈 수도 있다.\n",
    "* 전화번호는 빈칸 없이 표현된다.\n",
    "* 전화번호 맨 앞과 지역번호의 다음에는 괄호가 들어갈 수도 있다\n",
    "* 괄호는 한쪽만 나올 수 있다.\n",
    "* 지역번호 자리의 맨 처음에 나오는 0은 빠질 수도 있다. 즉 2자리가 될 수도 있다.\n",
    "* 지역번호 다음 버호 그룹은 3에서 4자리 숫자이다.\n",
    "* 마지막은 항상 4자리 숫자이다.\n",
    "\n",
    "앞의 규칙은 아래의 정규 표현식으로 표현 가능합니다.\n",
    "\n",
    "```\n",
    "([\\w]+\\S *:?\\S*)?\\(?\\+?([0-9]{1,3})?\\-?[0-9]{2,3}(\\)l\\-)?[0-9]{3,4}\\-?[0-9]{4}\n",
    "```\n",
    "\n",
    "이 수식을 그림으로 표현하자면 다음과 같습니다\n",
    "\n",
    "<br></br>\n",
    "![](./images/4-3-3-regex15.jpg)\n",
    "<br></br>"
   ]
  },
  {
   "cell_type": "markdown",
   "id": "ccf68a0b",
   "metadata": {},
   "source": [
    " "
   ]
  },
  {
   "cell_type": "markdown",
   "id": "b8f33737",
   "metadata": {},
   "source": [
    "#### 파이썬에서 정규 표현식 사용"
   ]
  },
  {
   "cell_type": "markdown",
   "id": "450885fb",
   "metadata": {},
   "source": [
    "파이썬에서도 정규 표현식을 사용하여 작업을 수행할 수 있습니다. 원하는 패턴을 포함한 문자열을 찾아내거나, 문자열 내에서 원하는 부분을 치환할 때 유용합니다."
   ]
  },
  {
   "cell_type": "code",
   "execution_count": 1,
   "id": "429c8a24",
   "metadata": {},
   "outputs": [
    {
     "data": {
      "text/plain": [
       "'CONTENT jiu 02)1234-5678'"
      ]
     },
     "execution_count": 1,
     "metadata": {},
     "output_type": "execute_result"
    }
   ],
   "source": [
    "import re\n",
    "regex = r\"([\\w]+\\S *:?\\S*)?\\(?\\+?([0-9]{1,3})?\\-?[0-9]{2,3}(\\)l\\-)?[0-9]{3,4}\\-?[0-9]{4}\"\n",
    "\n",
    "x = \"Ki: +82-10-1234-5678\"\n",
    "re.sub(regex, \"REMOVED\", x)\n",
    "\n",
    "x = \"CONTENT jiu 02)1234-5678\"\n",
    "re.sub(regex, \"REMOVED\", x)"
   ]
  },
  {
   "cell_type": "markdown",
   "id": "d4ca1b31",
   "metadata": {},
   "source": [
    "  "
   ]
  },
  {
   "cell_type": "markdown",
   "id": "cedac54f",
   "metadata": {},
   "source": [
    "#### 치환자 사용"
   ]
  },
  {
   "cell_type": "markdown",
   "id": "d9b3d821",
   "metadata": {},
   "source": [
    "이제까지 다룬 정규 표현식만으로도 많은 문제를 해결할 수 있지만, 아직 2% 부족합니다. 예를 들면:\n",
    "\n",
    "`문제: 알파벳 사이에 있는 숫자를 제거하시오.`\n",
    "\n",
    "```\n",
    "abcdefg\n",
    "12345\n",
    "ab12\n",
    "a1bc2d\n",
    "12ab\n",
    "a1b\n",
    "1ab\n",
    "a1\n",
    "1a\n",
    "hijklmnop\n",
    "```\n",
    "\n",
    "만약 그냥 [0-9]+으로 숫자를 찾아서 없애면, 두번째 줄의 숫자만 있는 경우와 숫자가 가장자리에 있는 경우도 사라지게 됩니다. 이 경우 **치환자**를 사용합니다.\n",
    "\n",
    "<br></br>\n",
    "![](./images/4-3-3-regex16.jpg)\n",
    "<br></br>\n",
    "\n",
    "괄호로 묶인 부분은 그룹으로 지정되고, 바뀔 문자열 내에서 역슬래시와 함께 숫자를 이용해 마치 변수명처럼 가르킬수 있습니다. 예를 들면 다음과 같이 구현할 수 있습니다."
   ]
  },
  {
   "cell_type": "code",
   "execution_count": 2,
   "id": "a1d6f0f9",
   "metadata": {},
   "outputs": [
    {
     "name": "stdout",
     "output_type": "stream",
     "text": [
      "abcdefg \n",
      "12345\n",
      "ab12\n",
      "a1bc2d\n",
      "12ab\n",
      "a1b\n",
      "1ab\n",
      "a1\n",
      "1a\n",
      "hijklmnop\n"
     ]
    }
   ],
   "source": [
    "import re\n",
    "\n",
    "x = \"\"\"abcdefg \n",
    "12345\n",
    "ab12\n",
    "a1bc2d\n",
    "12ab\n",
    "a1b\n",
    "1ab\n",
    "a1\n",
    "1a\n",
    "hijklmnop\"\"\"\n",
    "\n",
    "regex = r\"([a-z])[0-9]+([a-z])\"\n",
    "to = r\"\\1\\2\"\n",
    "\n",
    "y = \"\\n\".join([re.sub(regex, to, x_i) for x_i in x.split(\"\\n\")])\n",
    "\n",
    "print(x)"
   ]
  }
 ],
 "metadata": {
  "kernelspec": {
   "display_name": "Python 3",
   "language": "python",
   "name": "python3"
  },
  "language_info": {
   "codemirror_mode": {
    "name": "ipython",
    "version": 3
   },
   "file_extension": ".py",
   "mimetype": "text/x-python",
   "name": "python",
   "nbconvert_exporter": "python",
   "pygments_lexer": "ipython3",
   "version": "3.8.10"
  }
 },
 "nbformat": 4,
 "nbformat_minor": 5
}

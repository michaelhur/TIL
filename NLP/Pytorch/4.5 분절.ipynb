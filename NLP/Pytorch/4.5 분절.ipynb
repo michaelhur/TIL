{
 "cells": [
  {
   "cell_type": "markdown",
   "id": "7a1b2c16",
   "metadata": {},
   "source": [
    "우리가 풀고자 하는 문제에 따라 형태소 분석 도는 단순한 분절을 통해 정규화를 수행합니다. 특히 **띄어쓰기**에 관해 살펴보겠습니다.\n",
    "\n",
    "한국와 비슷한 문화권인 일본어와 중국어의 경우에는 **띄어쓰기**가 없습니다. 그런데 한국어의 경우에도 아직 관련 표준화 과정이 충분하지 않아 띄어쓰기가 중구난방인 경우가 많다고 합니다. 특히 한국어는 띄어쓰기가 문장의 의미 해석에 큰 영향을 끼치지 않으므로 이런 현상은 더 가중됩니다. 즉 띄어쓰기가 이미 되어있더라도 제각각인 경우가 많기때문에 **정규화**를 해주는 의미도 다시 한번 표준화된 띄어쓰기를 **적용하는 과정**이 필요 합니다. 또한 **교착어**로써 접사를 어근에서 분리해주는 역할도 하므로 희소성 문제를 해소하기도 합니다.\n",
    "\n",
    "일본어나 중국어는 애초에 모든 문장이 같은 띄어쓰기 형태 - 띄어쓰기가 없는 형태 - 를 하고 있지만, 적절한 언어 모 델 구성을 위하여 띄어쓰기가 필요합니다. 다만, 중국어의 경우에는 문자단위로 문장을 실체 처리하더라도 크게 문제없습니다.\n",
    "\n",
    "영어의 경우에는 기본적으로 띄어쓰기가 있고, 대부분의 경우 규칙을 매우 잘 따르고 있습니다. 다만 언어 모델을 더 용이하게 사용할 수 있도록 일부 처리를 더해주면 좋습니다.\n",
    "\n",
    "각 언어별 주요 프로그램을 정리하면 다음과 같습니다.\n",
    "\n",
    "<br></br>\n",
    "![](./images/4-4-1-preprocess.jpg)\n",
    "<br></br>"
   ]
  },
  {
   "cell_type": "markdown",
   "id": "b9a89d5a",
   "metadata": {},
   "source": [
    " "
   ]
  },
  {
   "cell_type": "markdown",
   "id": "ddb2d1c0",
   "metadata": {},
   "source": [
    "### 한국어 분절"
   ]
  },
  {
   "cell_type": "markdown",
   "id": "9aa1c8eb",
   "metadata": {},
   "source": [
    "#### Mecab"
   ]
  },
  {
   "cell_type": "markdown",
   "id": "bd288ef2",
   "metadata": {},
   "source": [
    "한국어 분절에 가장 많이 사용되는 프로그램은 **Mecab**입니다. 원래 Mecab은 일본어 형태소 분석용 오픈소스로 개발되었지만, 이를 한국어 형태소 분석기에 성공적으로 적용시켜 널리 사용되고 있습니다.\n",
    "\n",
    "다음과 같이 설치할 수 있습니다\n",
    "\n",
    "<br></br>\n",
    "\n",
    "```bash\n",
    "sudo apt-get install curl\n",
    "bash <(curl -s https://raw.githubusercontent.com/konlpy/konlpy/master/scripts/mecab.sh)\n",
    "```\n",
    "<br></br>\n",
    "\n",
    "정상적으로 설치된 Mecab의 경우 KoNLPy에서 불러 사용할 수 있습니다.\n",
    "\n",
    "또는 다음과 같이 bash상에서 mecab 명령어를 통해서 직접 실행할 수 있으면 standard input/ output을 사용하여 분절을 수행할 수 있습니다.\n",
    "\n",
    "<br></br>\n",
    "```bash\n",
    "echo \"안녕하세요, 반갑습니다!\" | mecab\n",
    "안녕 NNG,*,T,안녕,*,*,*,*\n",
    "하 XSV,*,F,하,*,*,*,*\n",
    "세요 ER+EF,*,F,세요,Inflect,EP,EF,시/EP/*+어요/EF/*\n",
    ", SC,*,*,*,*,*,*,*\n",
    "반갑 VA,*,T,반갑,*,*,*,*\n",
    "습니다 EF,*,F,습니다,*,*,*,*\n",
    "! SF,*,*,*,*,*,*,*\n",
    "EOS\n",
    "```\n",
    "<br></br>\n",
    "\n",
    "단순히 띄어쓰기만 적용하고 싶을 경우에는 `-O wakati` 옵션을 사용하여 실행하면 됩니다.\n",
    "\n",
    "<br></br>\n",
    "```bash\n",
    "echo \"안녕하세요, 반갑습니다!\" | mecab -O wakati\n",
    "안녕 하 세요 , 반갑 습니다 !\n",
    "```\n",
    "<br></br>\n",
    "\n",
    "이와 같이 기본적으로 어근과 접사를 분리하는 역할을 수행하여 나아가 잘못된 띄어쓰기에 대해서도 올바르게 교정해주는 역할을 합니다."
   ]
  },
  {
   "cell_type": "markdown",
   "id": "72054f54",
   "metadata": {},
   "source": [
    " "
   ]
  },
  {
   "cell_type": "markdown",
   "id": "e210e892",
   "metadata": {},
   "source": [
    "#### KoNLPy"
   ]
  },
  {
   "cell_type": "markdown",
   "id": "e569eb0d",
   "metadata": {},
   "source": [
    "KoNLPy는 여러 한국어 형태소 분석기들을 모아놓은 랩핑 라이브러리를 제공합니다. 이름에서 알 수 있듯 파이썬으로 구성된 라이브러리를 제공하므로 시스템 연동 및 구성이 용이할 수 있습니다."
   ]
  },
  {
   "cell_type": "markdown",
   "id": "312a5d5d",
   "metadata": {},
   "source": [
    " "
   ]
  },
  {
   "cell_type": "markdown",
   "id": "be2c8523",
   "metadata": {},
   "source": [
    "### 영어 분절"
   ]
  },
  {
   "cell_type": "markdown",
   "id": "38363af4",
   "metadata": {},
   "source": [
    "#### Moses"
   ]
  },
  {
   "cell_type": "markdown",
   "id": "f777e265",
   "metadata": {},
   "source": [
    "영어의 경우 앞에서 언급했듯 기본적인 띄어쓰기가 잘 통일되어 있는 편이므로, 띄어쓰기 자체에 대한 큰 정규화 이슈는 없습니다. 다만 $쉼표^{comma}$, $마침표^{period}$, $인용부호^{quotation}$ 등을 띄어주어야 합니다. Moses에서 제공하는 분절 기능을 통해 이런 처리를 수행합니다.\n",
    "\n",
    "NLTK의 이전 버전 (3.2.5)에서는 Moses를 포함했으므로 분절 기능을 제공했습니다. 이후 버전의 NLTK에서는 제공하지 않으니 `sacremoses`라는 패키지를 사용하여야 합니다.\n",
    "\n",
    "<br></br>\n",
    "```bash\n",
    "pip install nltk==3.2.5\n",
    "```\n",
    "<br></br>\n",
    "\n",
    "다음은 NLTK를 사용한 파이썬 스크립트 예제입니다.\n",
    "\n",
    "<br></br>\n",
    "```\n",
    "Natural Language Processing is one of biggest streams in artificial intelligence, and it becomes  very popular after seq2seq's invention.\n",
    "```\n",
    "<br></br>\n",
    "\n",
    "여기에 다음 코드를 적용해보겠습니다.\n",
    "\n",
    "<br></br>\n",
    "```python\n",
    "from nltk.tokenize.moses import MosesTokenizer\n",
    "import sys, fileinput\n",
    "\n",
    "t = MosesTokenizer()\n",
    "\n",
    "if __name__ == \"__main__\":\n",
    "    for line in fileinput.input():\n",
    "        if line.strip() != \"\":\n",
    "            tokens = t.tokenize(line.strip(). escape = False)\n",
    "            \n",
    "            sys.stdout.write(\" \".join(tokens) + \"\\n\")\n",
    "            \n",
    "        else:\n",
    "            sys.stdout.write(\"\\n\")\n",
    "```\n",
    "<br></br>\n",
    "\n",
    "적용 후 결과는 다음과 같습니다.\n",
    "\n",
    "<br></br>\n",
    "```\n",
    "Natural Language Processing is one of biggest streams in artificial intelligence , and it becomes very popular after seq2seq 's invention .\n",
    "```"
   ]
  },
  {
   "cell_type": "markdown",
   "id": "8c601580",
   "metadata": {},
   "source": [
    " "
   ]
  }
 ],
 "metadata": {
  "kernelspec": {
   "display_name": "Python 3",
   "language": "python",
   "name": "python3"
  },
  "language_info": {
   "codemirror_mode": {
    "name": "ipython",
    "version": 3
   },
   "file_extension": ".py",
   "mimetype": "text/x-python",
   "name": "python",
   "nbconvert_exporter": "python",
   "pygments_lexer": "ipython3",
   "version": "3.8.10"
  }
 },
 "nbformat": 4,
 "nbformat_minor": 5
}

{
 "cells": [
  {
   "cell_type": "markdown",
   "id": "101f8fca",
   "metadata": {},
   "source": [
    "대부분의 병렬 코퍼스들은 여러 문장 단위로 정렬됩니다. 영자 신문에서 크롤링한 영문 뉴스 기사는 한글 뉴스 기사에 매핑되지만 문서와 문서 단위의 맵핑일뿐 문장대 문장에 관한 정렬은 이루어져 있지 않습니다. 이런 경우에는 각각의 문장에 대해 정렬해주어야 합니다. 그 과정에서 일부 불필요한 문장들을 걸러내야 하고, 문장 간 정렬이 잘 맞지 않는 경우 정렬을 재정비하거나 아예 걸러내야 합니다. 이러한 과정을 지금부터 살펴봅니다."
   ]
  },
  {
   "cell_type": "markdown",
   "id": "330bbdde",
   "metadata": {},
   "source": [
    "### 병렬 코퍼스 제작 프로세스 개요"
   ]
  },
  {
   "cell_type": "markdown",
   "id": "9e22dac5",
   "metadata": {},
   "source": [
    "$정렬^{alignment}$를 수행하기 위한 전체 과정을 요약하면 아래와 같습니다.\n",
    "\n",
    "1. 소스 언어 (source language)와 타깃 언어 (target language) 사이의 단어 사전을 준비합니다.\n",
    "2. 만약 준비된 단어 사전이 없다면 다음 작업을 수행합니다. 만약 이미 단어 사전을 갖고 있다면 7번으로 건너뜁니다.\n",
    "3. 각 언어에 대해서 코퍼스를 수집 및 정제합니다.\n",
    "4. 각 언어에 대해서 단어 임베딩 벡터를 구합니다.\n",
    "5. **MUSE**를 통해 단어 레벨 번역기를 훈련합니다.\n",
    "6. 훈련된 단어 레벨 번역기를 통해 두 단어 사이의 단어 사전을 생성합니다.\n",
    "7. 만들어진 단어 사전을 넣어 **Champollion**을 통해 기존에 수집된 다중 언어 코퍼스를 정렬합니다.\n",
    "8. 각 언어에 대해서 단어 사전을 적용하기 위해 알맞은 수준의 분절을 수행합니다.\n",
    "9. 각 언어에 대해서 정제를 수행합니다.\n",
    "10. **Champollion**을 사용하여 병렬 코퍼스를 생성합니다."
   ]
  },
  {
   "cell_type": "markdown",
   "id": "69e70c44",
   "metadata": {},
   "source": [
    " "
   ]
  },
  {
   "cell_type": "markdown",
   "id": "28a6f5f7",
   "metadata": {},
   "source": [
    "### 사전 생성"
   ]
  },
  {
   "cell_type": "markdown",
   "id": "36ca8ad5",
   "metadata": {},
   "source": [
    "기존에 단어 사전을 구축해 두었다면 그것을 이용하면 되지만 단어 사전을 구축하는 일 또한 비용이 들기 떄문에 일반적으로는 쉽지 않습니다. 이때 단어 사전을 자동으로 구축할 수 있습니다.\n",
    "\n",
    "페이스북의 **MUSE**는 병렬 코러스가 없는 사오항에서 사전을 구축하는 방법과 코드를 제공합니다. 각 단일 언어 코퍼스를 통해 구축한 언어별 단어 임베딩 벡터에 대해 다른 언어의 임베딩 벡터와 맵핑시켜 단어 간 번역을 수행할 수 있습니다. 이는 각 언어별 코퍼스가 많을수록 임베딩 벡터가 많을수록 더욱 정확하게 수행됩니다. MUSE는 병렬 코퍼스가 없는 상황에서도 수행할 수 있기 때문에 **$비지도학습^{unsupervised learning}$**이라고 할 수 있습니다.\n",
    "\n",
    "다음은 실제로 MUSE를 통한 비지도학습을 사용하여 얻은 결과물로, 꽤 정확한 단어 간 번역을 볼 수 있습니다.\n",
    "\n",
    "<br></br>\n",
    "```\n",
    "stories <> 이야기\n",
    "stories <> 소설\n",
    "contact <> 연락\n",
    "contact <> 연락처\n",
    "contact <> 접촉\n",
    "green <> 녹색\n",
    "dark <> 어두운\n",
    "dark <> 어둠\n",
    "dark <> 짙\n",
    "song <> 노래\n",
    "song <> 곡\n",
    "song <> 음악\n",
    "salt <> 소금\n",
    "```\n",
    "<br></br>\n",
    "\n",
    "이렇게 구성한 사전은 CTK의 입력으로 사용되며, CTK는 이 사전을 바탕으로 병렬 코퍼스의 문장 정렬을 수행합니다. **<>**를 $구분 문자^{delimiter}$로 사용하며 한 라인에 소스 언어의 단어와 타깃 언어의 단어를 표현합니다."
   ]
  },
  {
   "cell_type": "markdown",
   "id": "d51781d3",
   "metadata": {},
   "source": [
    " "
   ]
  },
  {
   "cell_type": "markdown",
   "id": "4e3be98f",
   "metadata": {},
   "source": [
    "### CTK를 활용한 정렬"
   ]
  },
  {
   "cell_type": "markdown",
   "id": "85ab3482",
   "metadata": {},
   "source": [
    "**$CTK^{Champollion Toolkit}$**은 이중 언어 코퍼스의 문장 정렬을 수행하는 오픈 소스입니다. $펄^{Perl}$을 사용하여 구현되었습니다.\n",
    "\n",
    "**기존에 구축된 단어 사전**을 이용하거나, 앞에서와 같이 **자동으로 구축한 단어 사전**을 참고하여 CTK는 문장 정렬을 수행합니다. 여러 라인으로 구성된 언어별 문서에 대해 문장 정렬한 결과의 예제는 다음과 같습니다.\n",
    "\n",
    "<br></br>\n",
    "```\n",
    "omitted <=> 1\n",
    "omitted <=> 2\n",
    "omitted <=> 3\n",
    "1 <=> 4\n",
    "2 <=> 5\n",
    "3 <=> 6\n",
    "4,5 <=> 7\n",
    "6 <=> 8\n",
    "7 <=> 9\n",
    "8 <=> 10\n",
    "9 <=> omitted\n",
    "```\n",
    "<br></br>\n",
    "\n",
    "결과를 해석해보겠습니다. 타깃 언어의 1, 2, 3번째 문장은 짝을 찾지 못하고 버려졌고, 소스 언어의 1, 2, 3번째 문장은 각각 타깃 언어의 4, 5, 6번째 문장과 맵핑된 것을 알 수 있습니다. 또한 소스 언어의 4, 5번째 두 문장은 타깃 언어의 7번 문장에 동시에 맵핑된 것을 알 수 있습니다.\n",
    "\n",
    "이와 같이 어떤 문장들은 버려지기도 하고, $일대일^{one-to-one}$ 맵핑이 이루어지기도 하며, $일대다^{one-to-many}$, $다대일^{many-to-one}$ 맵핑이 이루어지기도 합니다."
   ]
  },
  {
   "cell_type": "markdown",
   "id": "acb322fa",
   "metadata": {},
   "source": [
    "```python\n",
    "import sys, argparse, os\n",
    "\n",
    "CTK_ROOT = \"\"\n",
    "BIN = CTK_ROOT + \"/bin/champollion\"\n",
    "CMD = \"%s -c %f -d %s %s %s %s\"\n",
    "OMIT = \"omitted\"\n",
    "DIR_PATH = \"./tmp/\"\n",
    "INTERMEDIATE_FN = DIR_PATH + \"tmp.txt\"\n",
    "\n",
    "def read_alignment(fn):\n",
    "    \n",
    "    aligns = []\n",
    "    \n",
    "    f = open(fn, \"r\")\n",
    "    \n",
    "    for line in f:\n",
    "        if line.strip() != \"\":\n",
    "            srcs, tgts = line.strip().split(\" <=> \")\n",
    "            \n",
    "            if srcs == OMIT:\n",
    "                srcs = []\n",
    "                \n",
    "            else:\n",
    "                srcs = list(map(int, srcs.split(\",\")))\n",
    "                \n",
    "            \n",
    "            if tgts == OMIT:\n",
    "                tgts = []\n",
    "                \n",
    "            else:\n",
    "                tgts = list(map(int,tgts.split(\",\")))\n",
    "                \n",
    "                \n",
    "            aligns += [(srcs,tgts)]\n",
    "            \n",
    "    f.close()\n",
    "    \n",
    "    return aligns\n",
    "\n",
    "\n",
    "def get_aligned_corpus(src_fn, tgt_fn, aligns):\n",
    "    f_src = open(src_fn, \"r\")\n",
    "    f_tgt = open(tgt_fn, \"r\")\n",
    "    \n",
    "    for align in aligns:\n",
    "        srcs, tgts = align\n",
    "        \n",
    "        src_buf, tgf_buf = [], []\n",
    "        \n",
    "        for src in srcs:\n",
    "            src_buf += [f_src.readline().strip()]\n",
    "            \n",
    "        for tgt in tgts:\n",
    "            tgt_buf += [f_tgt.readline().strip()]\n",
    "            \n",
    "        if len(src_buf) > 0 and len(tgt_buf) > 0:\n",
    "            sys.stdout.write(\"%s\\t%s\\n\") % (\" \".join(src_buf), \" \".join(tgt_buf))\n",
    "    \n",
    "    f_src.close()\n",
    "    f_tgt.close()\n",
    "    \n",
    "    \n",
    "def parse_argument():\n",
    "    p = argparse.ArgumentParser()\n",
    "    \n",
    "    p.add_argument(\"--src\", required = True)\n",
    "    p.add_argument(\"--tgt\", required = True)\n",
    "    p.add_argument(\"--src_ref\", default = None)\n",
    "    p.add_argument(\"--tgt_ref\", default = None)\n",
    "    p.add_argument(\"--dict\", required = True)\n",
    "    p.add_argument(\"--ratio\", type = float, default = 1.1966)\n",
    "    \n",
    "    config = p.parse_args()\n",
    "    \n",
    "    return config\n",
    "\n",
    "\n",
    "if __name__== \"__main__\":\n",
    "    if not os.path.exists(DIR_PATH):\n",
    "        os.mkdir(DIR_PATH)\n",
    "        \n",
    "    config = parse_argument()\n",
    "    \n",
    "    if config.src_ref is None:\n",
    "        config.src_ref = config.src\n",
    "        \n",
    "    if config.tgt_ref is None:\n",
    "        config.tgt_reft = config.tgt\n",
    "        \n",
    "    cmd = CMD % (BIN, config.ratio, config.dict, config.src_ref, config.tgt_ref, INTERMEDIATE_FN)\n",
    "    os.system(cmd)\n",
    "    \n",
    "    aligns = read_alignment(INTERMEDIATE_FN)\n",
    "    get_aligned_corpus(config.src, config.tgt, aligns)\n",
    "```   "
   ]
  },
  {
   "cell_type": "markdown",
   "id": "414a72be",
   "metadata": {},
   "source": [
    "특기할 점은 **ratio** 파라미터의 역할입니다. 이 파라미터는 실제 champollion의 *-c* 옵션으로 매핑되어 사용됩니다.\n",
    "\n",
    "```bash\n",
    "$ ./champollion\n",
    "usage ./champollion [hdscn] <X token file> <Y token file> <alignment file>\n",
    "\n",
    "-h        : this (help) message\n",
    "-d dictf  : use dictf as the translation dictionary\n",
    "-s xstop  : use words in file xstop as X stop words\n",
    "-c n      : number of Y chars for each X char\n",
    "-n        : disallow 1-3, 3-1, 1-4, 4-1 alignments\n",
    "(faster, lower performance)\n",
    "```\n",
    "<br></br>\n",
    "즉 소스 언어의 캐릭터당 타깃 언어의 캐릭터 비율을 의미합니다. 이를 기반으로 champollion은 문장 내 모든 단어에 대해 번역 단어를 모르더라도 문장을 정렬할 수 있습니다."
   ]
  }
 ],
 "metadata": {
  "kernelspec": {
   "display_name": "Python 3",
   "language": "python",
   "name": "python3"
  },
  "language_info": {
   "codemirror_mode": {
    "name": "ipython",
    "version": 3
   },
   "file_extension": ".py",
   "mimetype": "text/x-python",
   "name": "python",
   "nbconvert_exporter": "python",
   "pygments_lexer": "ipython3",
   "version": "3.8.10"
  }
 },
 "nbformat": 4,
 "nbformat_minor": 5
}

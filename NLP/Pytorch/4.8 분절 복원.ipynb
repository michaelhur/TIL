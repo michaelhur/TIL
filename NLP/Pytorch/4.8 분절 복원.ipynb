{
 "cells": [
  {
   "cell_type": "markdown",
   "id": "7b590c71",
   "metadata": {},
   "source": [
    "다음은 전처리 과정에서 분절을 수행하고, 다시 $분절 복원^{detokenization}$하는 과정을 설명한 것입니다.\n",
    "\n",
    "다음과 같은 영어 원문이 주어졌다고 가정합니다\n",
    "\n",
    "<br></br>\n",
    "```\n",
    "Natural Language Processing is one of biggest streams in artificial intelligence, and it becomes very popular after seq2seq's invention.\n",
    "```\n",
    "<br></br>\n",
    "\n",
    "언어별 분절기 모듈 (ex. NLTK)을 통해 분절을 수행하고, 기존 띄어쓰기와 새롭게 분절기에 의해 만들어진 공백을 구분하기 위해 특수 문자 **\"__\"**를 원래 공백 위치에 삽입합니다. 다만 이 \"__\"문자는 기존의 _와 다른 문자로 특수 기호 입니다.\n",
    "\n",
    "<br></br>\n",
    "```\n",
    "__Natural __Language __Processing __is __one __of __biggest __streams __in __artificial __intelligence , __and __it __becomes __very __popular __after __seq2seq 's __invention .\n",
    "```\n",
    "<br></br>\n",
    "\n",
    "여기에 서브워드 단위 분절을 수행하며 이전 과정까지의 공백과 서브워드 단위 분절로 인한 공백을 구분하기 위해 특수 문자 \"__\"를 삽입합니다.\n",
    "\n",
    "<br></br>\n",
    "```\n",
    "____Natural ____Language ____Processing ____is ____one ____of ____biggest ____streams ____in ____artificial ____intelligence __, ____and ____it ____becomes ____very ____popular ____after ____se q 2 se q __'s ____invention __.\n",
    "```\n",
    "<br></br>\n",
    "\n",
    "이렇게 전처리 과정이 종료되었습니다. 이런 형태의 분절된 문장을 자연어 처리 모델에 훈련시키면 독같은 형태로 분절된 문장을 생성해낼 것입니다. 그럼 이 문장을 분절 복원하여 사람이 읽기 좋은 형태로 만들어 주어야 합니다.\n",
    "\n",
    "먼저 공백을 제거합니다.\n",
    "\n",
    "<br></br>\n",
    "```\n",
    "____Natural____Language____Processing____is____one____of____biggest____streams____in____artificial____intelligence__,____and____it____becomes____very____popular____after____seq2seq__'s____invention__.\n",
    "```\n",
    "<br></br>\n",
    "\n",
    "그리고 특수 문자 \"__\"가 2개 동시에 잇는 문자열 \"____\"을 공백으로 치환합니다. 그럼 한개짜리 \"__\"만 남습니다.\n",
    "\n",
    "<br></br>\n",
    "```\n",
    "Natural Language Processing is one of biggest streams in artificial intelligence__, and it becomes very popular after seq2seq__'s invention__.\n",
    "```\n",
    "<br></br>\n",
    "\n",
    "마지막 남은 특수 문자 \"__\"를 제거합니다. 그럼 문장 복원이 완성됩니다.\n",
    "\n",
    "<br></br>\n",
    "```\n",
    "Natural Language Processing is one of biggest streams in artificial intelligence, and it becomes very popular after seq2seq's invention.\n",
    "```\n",
    "<br></br>"
   ]
  },
  {
   "cell_type": "markdown",
   "id": "45571e6e",
   "metadata": {},
   "source": [
    " "
   ]
  },
  {
   "cell_type": "markdown",
   "id": "ce32b2ec",
   "metadata": {},
   "source": [
    "### 분절 후처리"
   ]
  },
  {
   "cell_type": "markdown",
   "id": "11454542",
   "metadata": {},
   "source": [
    "분절 이후에는 특수 문자를 분절 과정에서 새롭게 생긴 공백 다음에 삽입해야 합니다. 다음은 기존 공백과 전처리 단계에서 생성된 공백을 서로 구분하기 위한 특수 문자 \"__\"를 사입하는 파이썬 스크립트 예제입니다.\n",
    "\n",
    "<br></br>\n",
    "```python\n",
    "import sys\n",
    "\n",
    "STR = \"__\"\n",
    "\n",
    "if __name__ == \"__main__\":\n",
    "    ref_fn = sys.argv[1]\n",
    "    \n",
    "    f = open(ref_fn, \"r\")\n",
    "    \n",
    "    for ref in f:\n",
    "        ref_tokens = ref.strip().split(\" \")\n",
    "        input_line = sys.stdin.readline().strip()\n",
    "\n",
    "        if input_line != \"\":\n",
    "            tokens = input_line.split(\" \")\n",
    "\n",
    "            idx = 0\n",
    "            buf = []\n",
    "\n",
    "            # We assum that stdin has more tokens than reference input\n",
    "            for ref_token in ref_tokens:\n",
    "                tmp_buf = []\n",
    "\n",
    "                while idx < len(tokens):\n",
    "                    if tokens[idx].strip() == \"\":\n",
    "                        idx += 1\n",
    "                        continue\n",
    "\n",
    "                    tmp_buf += [tokens[idx]]\n",
    "                    idx += 1\n",
    "\n",
    "                    if \"\".join(tmp_buf) == ref_token:\n",
    "                        break\n",
    "\n",
    "                if len(tmp_buf) > 0:\n",
    "                    buf += [STR + tmp_buf[0].strip()] + tmp_buf[1:]\n",
    "\n",
    "            sys.stdout.write(\" \".join(buf) + \"\\n\")\n",
    "\n",
    "        else:\n",
    "            sys.stdout.write(\"\\n\")\n",
    "\n",
    "    f.close()\n",
    "```\n",
    "<br></br>\n",
    "\n",
    "이 스크립트의 사용 방법은 다음과 같습니다.\n",
    "\n",
    "<br></br>\n",
    "```bash\n",
    "cat [before filename] | python tokenizer.py | python post_tokenize.py [before filename]\n",
    "```\n",
    "<br></br>"
   ]
  },
  {
   "cell_type": "markdown",
   "id": "c9f01338",
   "metadata": {},
   "source": [
    " "
   ]
  },
  {
   "cell_type": "markdown",
   "id": "9c1a5acc",
   "metadata": {},
   "source": [
    "### 분절 복원 예제"
   ]
  },
  {
   "cell_type": "markdown",
   "id": "a16d074b",
   "metadata": {},
   "source": [
    "앞서 설명한 분절 복원을 `sed` 명령어를 통해 수행할 경우의 예제입니다.\n",
    "\n",
    "<br></br>\n",
    "```bash\n",
    "sed \"s/ //g\" | sed \"s/ __/ /g\" | sed \"s/ _//g\" | sed \"s/%\\s//g\"\n",
    "```\n",
    "<br></br>\n",
    "\n",
    "또는 다음의 파이썬 스크립트 예제처럼 처리할 수도 있습니다.\n",
    "\n",
    "<br></br>\n",
    "```python\n",
    "import sys\n",
    "\n",
    "if __name__ == \"__main__\":\n",
    "    for line in sys.stdin:\n",
    "        if line.strip() != \"\":\n",
    "            if \"__\" in line:\n",
    "                line = line.strip().replace(\" \", \"\").replace(\"__\", \" \").replace(\"_\", \"\").strip()\n",
    "                \n",
    "            else:\n",
    "                line = line.strip().replace(\" \", \"\").replace(\"_\", \" \").strip()\n",
    "                \n",
    "            sys.stdout.write(line + \"\\n\")\n",
    "            \n",
    "        else:\n",
    "            sys.stdout.write(\"\\n\")\n",
    "\n",
    "```\n",
    "<br></br>\n"
   ]
  },
  {
   "cell_type": "markdown",
   "id": "36b7af37",
   "metadata": {},
   "source": [
    " "
   ]
  }
 ],
 "metadata": {
  "kernelspec": {
   "display_name": "Python 3",
   "language": "python",
   "name": "python3"
  },
  "language_info": {
   "codemirror_mode": {
    "name": "ipython",
    "version": 3
   },
   "file_extension": ".py",
   "mimetype": "text/x-python",
   "name": "python",
   "nbconvert_exporter": "python",
   "pygments_lexer": "ipython3",
   "version": "3.8.10"
  }
 },
 "nbformat": 4,
 "nbformat_minor": 5
}

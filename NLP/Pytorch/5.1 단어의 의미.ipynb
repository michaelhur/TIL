{
 "cells": [
  {
   "cell_type": "markdown",
   "id": "2edf3dda",
   "metadata": {},
   "source": [
    "자연어 처리 분야에서 가장 근간이 되면서도 가장 어려운 문제인 **$단어의 의미^{word sense}$**와 의미의 **유사성**, **모호성**에 대해 다루어보겠습니다.\n",
    "\n",
    "단어는 겉으로 보이는 형태 내에 의미를 갖습니다. 하나의 형태에 여러 의미가 있기도 하고, 다른 형태의 단어들이 서로 같은 의미를 공유하기도 합니다. 게다가 사람의 언어는 효율성을 추구하도록 진화했기에 **모호성**이 굉장히 두드러집니다. 이처럼 언어의 가장 ㄱ본을 이루는 단어의 모호성 문젠ㄴ 컴퓨터가 "
   ]
  }
 ],
 "metadata": {
  "kernelspec": {
   "display_name": "Python 3",
   "language": "python",
   "name": "python3"
  },
  "language_info": {
   "codemirror_mode": {
    "name": "ipython",
    "version": 3
   },
   "file_extension": ".py",
   "mimetype": "text/x-python",
   "name": "python",
   "nbconvert_exporter": "python",
   "pygments_lexer": "ipython3",
   "version": "3.8.10"
  }
 },
 "nbformat": 4,
 "nbformat_minor": 5
}

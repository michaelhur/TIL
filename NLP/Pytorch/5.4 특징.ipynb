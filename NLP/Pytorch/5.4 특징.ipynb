{
 "cells": [
  {
   "cell_type": "markdown",
   "id": "7412f529",
   "metadata": {},
   "source": [
    "원핫 벡터를 통해 단어를 표현하면 많은 문제가 발생합니다. 원핫 벡터의 표현 방식이 효과적이지 않기 때문입니다. 그럼 효과적인 표현 방식이란 무엇일까요?\n",
    "\n",
    "효과적으로 정보를 추출하고 배우려면 어떤 대상의 **$특징^{feature}$**을 잘 표현해야 합니다. 각 특징은 수치로 표현되며, 최대한 많은 샘플을 설명할 수 있어야 합니다. 즉 샘플들은 수치가 서로 다른 공통된 특징을 가집니다. 또한 특징으로 표 현된 샘플들은 최대한 다양하게 표현되는게 좋습니다.\n",
    "\n",
    "<br></br>\n",
    "![](./images/5-4-1-feature.jpg)\n",
    "<br></br>\n",
    "\n",
    "예를 들어 손글자 숫자 인식 데이터셋인 MNIST의 특징을 생각해보겠습니다.\n",
    "\n",
    "1. 굵기\n",
    "2. 기울기\n",
    "3. 각 위치 별 직선, 곡선 여부\n",
    "\n",
    "<br></br>\n",
    "\n",
    "물론 이외에도 다양한 특징들이 존재할수 있습니다. 하지만 앞서 설명한 특징만으로도 충분히 많은 다양한 샘플을 잘 설명할 수 있습니다. 그에 따라 각 샘플들의 특징들마다 수치를 가지게 될 것입니다. 이런 특징별 수치들을 모아 벡터로 표현한 것을 **$특징 벡터^{feature vector}$**라고 합니다."
   ]
  },
  {
   "cell_type": "markdown",
   "id": "9c02c752",
   "metadata": {},
   "source": [
    " "
   ]
  },
  {
   "cell_type": "markdown",
   "id": "a79c8104",
   "metadata": {},
   "source": [
    "### 단어의 특징 벡터 구성을 위한 가정"
   ]
  },
  {
   "cell_type": "markdown",
   "id": "ff57edb9",
   "metadata": {},
   "source": [
    "자연어 처리에서 단어의 특징 벡터는 어떻게 구성하는 것이 좋을까요?\n",
    "\n",
    "1. 의미가 비슷한 단어라면 쓰임새가 비슷할 것\n",
    "2. 쓰임새가 비슷하므로, 비슷한 문장안에서 비슷한 역할로 사용될 것\n",
    "3. 따라서 함께 나타나는 단어들이 유사할 것"
   ]
  }
 ],
 "metadata": {
  "kernelspec": {
   "display_name": "Python 3",
   "language": "python",
   "name": "python3"
  },
  "language_info": {
   "codemirror_mode": {
    "name": "ipython",
    "version": 3
   },
   "file_extension": ".py",
   "mimetype": "text/x-python",
   "name": "python",
   "nbconvert_exporter": "python",
   "pygments_lexer": "ipython3",
   "version": "3.8.10"
  }
 },
 "nbformat": 4,
 "nbformat_minor": 5
}

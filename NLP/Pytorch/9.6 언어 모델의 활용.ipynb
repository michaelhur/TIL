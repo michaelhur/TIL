{
 "cells": [
  {
   "cell_type": "markdown",
   "id": "ccb5a1be",
   "metadata": {},
   "source": [
    "언어 모델 자체를 단독으로 사용하는 경우는 매우 드뭅니다. 하지만 자연어 생성의 가장 기본이라고 할 수 있는 만큼 언어 모델은 중요합니다. 자연어 생성은 현재 딥러닝을 활용한 자연어 처리 분야에서 가장 큰 연구 주제입니다. 기계번역에서부터 챗봇까지 모둔 자연어 생성의 영역에 포함된다고 할 수 있습니다. 이러한 자연어 생성의 기본 초석이 되는 것이 바로 언어 모델이므로, 그 자체의 활용도는 상대적으로 떨어질지언정 중요성과 역할은 부인할 수 없습니다."
   ]
  },
  {
   "cell_type": "markdown",
   "id": "60e75084",
   "metadata": {},
   "source": [
    " "
   ]
  },
  {
   "cell_type": "markdown",
   "id": "9b2f85c2",
   "metadata": {},
   "source": [
    "### 음성 인식"
   ]
  },
  {
   "cell_type": "markdown",
   "id": "29d78a12",
   "metadata": {},
   "source": [
    "음성 인식 시스템을 구성할때 언어 모델은 중요하게 쓰입니다. \n",
    "\n",
    "실제 사람의 경우에도 말을 들을때 언어 모델이 매우 중요하게 작용합니다. 어떤 단어를 발음하는지 명확하게 알아듣지 못하더라도 머릿속에 저장된 언어 모델을 이용하여 알아듣기 때문입니다. 예를 들어 대화중에 갑자기 쌩둥맞은 주제로 전환되면 보통은 단언에 알아듣지 못합니다. 컴퓨터의 경우에도 음소별 분류의 성능은 이미 사람보다 뛰어납니다. 다만 사람과 달리 주변 문맥 정보를 활용할 수 있는 능력이 없으므로 음성 인식률이 떨어지는 경우가 많습니다. 이때 좋은 언어 모델을 학습하여 사용함으로써, 음성 인식의 정확도를 더 높일 수 있습니다.\n",
    "\n",
    "다음은 음성 인식 시스템의 수식을 개략적으로 나타나는 것입니다. 음성 신호 X가 주어졌을때 확률을 최대로 하는 문장 $\\hat{Y}$를 구하는 것이 목표입니다.\n",
    "\n",
    "<br></br>\n",
    "$$\n",
    "\\hat{Y} = argmax_{y \\in Y} P(Y|X) = argmax_{y \\in Y} \\frac{P(X|Y)P(Y)}{P(X)} \\\\\n",
    "\\text{where X is an audio signal and Y is a word sequence.}\n",
    "$$\n",
    "<br></br>\n",
    "\n",
    "그럼 베이즈 정리에 의해서 수식이 전개됩니다.\n",
    "\n",
    "<br></br>\n",
    "$$\n",
    "argmax_{Y \\in Y} \\frac{P(X|Y)P(Y)}{P(X)} = argmax_{Y \\in Y} P(X|Y)P(Y)\n",
    "$$\n",
    "<br></br>\n",
    "\n",
    "여기서 P(X|Y)가 음향 모델을 의미하고 P(Y)는 언어 모델을 의미합니다. 즉, P(Y)는 문장의 확률을 의미하며, P(X|Y)는 문장이 주어졌을대 해당 음향 시그널이 나타날 확률입니다.\n",
    "\n",
    "이처럼 언어 모델은 음향 모델과 결합하여 문맥 정보에 기반해 다음 단어를 예측하도록 함으로써 음성 인식의 성능을 높이는 매우 중요한 역할을 담당합니다."
   ]
  },
  {
   "cell_type": "markdown",
   "id": "0b73c9bb",
   "metadata": {},
   "source": [
    " "
   ]
  },
  {
   "cell_type": "markdown",
   "id": "534103cb",
   "metadata": {},
   "source": [
    "### 기계번역"
   ]
  },
  {
   "cell_type": "markdown",
   "id": "93afd6a2",
   "metadata": {},
   "source": [
    "번역 시스템을 구성할때도 언어 모델은 중요한 역할을 합니다. 신경망 기계 번역 (NMT)의 경우에도 마찬가지로 언어 모델이 매우 중요한 역할을 차지합니다."
   ]
  },
  {
   "cell_type": "markdown",
   "id": "52b0449d",
   "metadata": {},
   "source": [
    " "
   ]
  },
  {
   "cell_type": "markdown",
   "id": "7332c736",
   "metadata": {},
   "source": [
    "### OCR"
   ]
  },
  {
   "cell_type": "markdown",
   "id": "6ab6399b",
   "metadata": {},
   "source": [
    "OCR 시스템을 만들때도 언어 모델이 사용됩니다. 사진에서 추출하여 글자를 인식할때 각 글자^{character}간의 확률을 정의하면 훨씬 더 높은 성능을 얻어낼 수 있습니다. 따라서 OCR에서도 언어 모델의 도움을 받아 글자나 글씨를 인식합니다."
   ]
  },
  {
   "cell_type": "markdown",
   "id": "051993d3",
   "metadata": {},
   "source": [
    " "
   ]
  },
  {
   "cell_type": "markdown",
   "id": "73059f79",
   "metadata": {},
   "source": [
    "### 기타 자연어 생성 문제"
   ]
  },
  {
   "cell_type": "markdown",
   "id": "d0b234cd",
   "metadata": {},
   "source": [
    "음성 인식이나 기계번역, 문자 인식 역시 주어진 정보를 바탕으로 문장을 생성해내는 자연어 생성에 속한다고 볼 수 있습니다. 이외에도 자연어 생성 문제를 적용할 수 있는 영역은 매우 많습니다. 머신러닝의 결과물로써 문장을 만들어내는 작업은 모두 자연어 생성 문제의 범주에 속한다고 볼 수 있습니다.\n",
    "\n",
    "예를 들어, 주어진 정보를 바탕으로 뉴스 기사를 쓸 수도 있고, 주어진 뉴스 기사를 요약하여 제목을 생성할 수도 있습니다. 또한 사용자의 응답에 따라 대답을 생성해내는 챗봇을 생각해볼 수 있습니다."
   ]
  },
  {
   "cell_type": "markdown",
   "id": "1b1d1b86",
   "metadata": {},
   "source": [
    " "
   ]
  }
 ],
 "metadata": {
  "kernelspec": {
   "display_name": "Python 3",
   "language": "python",
   "name": "python3"
  },
  "language_info": {
   "codemirror_mode": {
    "name": "ipython",
    "version": 3
   },
   "file_extension": ".py",
   "mimetype": "text/x-python",
   "name": "python",
   "nbconvert_exporter": "python",
   "pygments_lexer": "ipython3",
   "version": "3.8.10"
  }
 },
 "nbformat": 4,
 "nbformat_minor": 5
}

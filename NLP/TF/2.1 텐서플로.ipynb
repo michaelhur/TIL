{
 "cells": [
  {
   "cell_type": "markdown",
   "id": "09102828",
   "metadata": {},
   "source": [
    "Tensorflow는 다음과 같은 특징이 있다\n",
    "* Data flow graph를 통한 풍부한 표현력\n",
    "* 아이디어 테스트에서 서비스 단계까지 이용 가능\n",
    "* 계산 구조와 목표 함수만 정의하면 자동으로 미분 계산 처리\n",
    "* 유연성과 확장성\n",
    "\n",
    "여기서 **텐서 (Tensor)**는 N차원 매트릭스를 의미함\n",
    "\n",
    "그래프의 **노드 (Node)**는 수치 연산 *(operation)*, 변수 *(variable)*, 상수 *(constant)*를 나타내고 **에지 (edge)**는 노드 사이를 이동하는 다차원 데이터 배열을 나타낸다."
   ]
  },
  {
   "cell_type": "markdown",
   "id": "934c0a88",
   "metadata": {},
   "source": [
    "#### tf.keras.layers"
   ]
  },
  {
   "cell_type": "markdown",
   "id": "4a399154",
   "metadata": {},
   "source": []
  }
 ],
 "metadata": {
  "kernelspec": {
   "display_name": "Python 3",
   "language": "python",
   "name": "python3"
  },
  "language_info": {
   "codemirror_mode": {
    "name": "ipython",
    "version": 3
   },
   "file_extension": ".py",
   "mimetype": "text/x-python",
   "name": "python",
   "nbconvert_exporter": "python",
   "pygments_lexer": "ipython3",
   "version": "3.8.10"
  }
 },
 "nbformat": 4,
 "nbformat_minor": 5
}

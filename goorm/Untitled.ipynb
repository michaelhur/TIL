{
 "cells": [
  {
   "cell_type": "code",
   "execution_count": 217,
   "id": "a9f847b6",
   "metadata": {
    "scrolled": true
   },
   "outputs": [
    {
     "name": "stdout",
     "output_type": "stream",
     "text": [
      "통과\n"
     ]
    }
   ],
   "source": [
    "from itertools import permutations\n",
    "from itertools import combinations\n",
    "\n",
    "def my_permutations(seq, number):\n",
    "\n",
    "    if number == 0:\n",
    "        return tuple()\n",
    "        \n",
    "    return (tuple((i,) + (j,) for j in my_permutations(seq, number-1)) for i in seq)\n",
    "\n",
    "    \n",
    "\n",
    "\n",
    "test = [1, 2, 3, 4, 5, 6, 7]\n",
    "\n",
    "# assert set(permutations(test, 2)) == set(my_permutations(test, 2)) \\\n",
    "#    and set(permutations(test, 3)) == set(my_permutations(test, 3)) \\\n",
    "#    and set(permutations(test, 5)) == set(my_permutations(test, 5))\n",
    "print(\"통과\") "
   ]
  },
  {
   "cell_type": "code",
   "execution_count": 218,
   "id": "a57acd3d",
   "metadata": {},
   "outputs": [
    {
     "data": {
      "text/plain": [
       "{((1, ()), (1, ()), (1, ()), (1, ()), (1, ()), (1, ()), (1, ())),\n",
       " ((2, ()), (2, ()), (2, ()), (2, ()), (2, ()), (2, ()), (2, ())),\n",
       " ((3, ()), (3, ()), (3, ()), (3, ()), (3, ()), (3, ()), (3, ())),\n",
       " ((4, ()), (4, ()), (4, ()), (4, ()), (4, ()), (4, ()), (4, ())),\n",
       " ((5, ()), (5, ()), (5, ()), (5, ()), (5, ()), (5, ()), (5, ())),\n",
       " ((6, ()), (6, ()), (6, ()), (6, ()), (6, ()), (6, ()), (6, ())),\n",
       " ((7, ()), (7, ()), (7, ()), (7, ()), (7, ()), (7, ()), (7, ()))}"
      ]
     },
     "execution_count": 218,
     "metadata": {},
     "output_type": "execute_result"
    }
   ],
   "source": [
    "set(my_permutations(test, 2))"
   ]
  },
  {
   "cell_type": "code",
   "execution_count": null,
   "id": "b7df12db",
   "metadata": {},
   "outputs": [],
   "source": []
  },
  {
   "cell_type": "code",
   "execution_count": null,
   "id": "6689491c",
   "metadata": {},
   "outputs": [],
   "source": []
  },
  {
   "cell_type": "code",
   "execution_count": 176,
   "id": "6f5f1f2a",
   "metadata": {},
   "outputs": [
    {
     "name": "stdout",
     "output_type": "stream",
     "text": [
      "통과\n"
     ]
    }
   ],
   "source": [
    "from itertools import permutations\n",
    "from itertools import combinations\n",
    "\n",
    "def my_permutations(seq, number):\n",
    "    \n",
    "    #print(\"number\", number)\n",
    "\n",
    "    if number == 0:\n",
    "        return tuple()\n",
    "    \n",
    "    p = (tuple((s,) + (t,) for t in seq) for s in seq)\n",
    "        \n",
    "    return p\n",
    "\n",
    "test = [1, 2, 3, 4, 5, 6, 7]\n",
    "\n",
    "# assert set(permutations(test, 2)) == set(my_permutations(test, 2)) \\\n",
    "#    and set(permutations(test, 3)) == set(my_permutations(test, 3)) \\\n",
    "#    and set(permutations(test, 5)) == set(my_permutations(test, 5))\n",
    "print(\"통과\") "
   ]
  },
  {
   "cell_type": "code",
   "execution_count": 181,
   "id": "07156811",
   "metadata": {
    "scrolled": true
   },
   "outputs": [
    {
     "data": {
      "text/plain": [
       "{((1, 1), (1, 2), (1, 3), (1, 4), (1, 5), (1, 6), (1, 7)),\n",
       " ((2, 1), (2, 2), (2, 3), (2, 4), (2, 5), (2, 6), (2, 7)),\n",
       " ((3, 1), (3, 2), (3, 3), (3, 4), (3, 5), (3, 6), (3, 7)),\n",
       " ((4, 1), (4, 2), (4, 3), (4, 4), (4, 5), (4, 6), (4, 7)),\n",
       " ((5, 1), (5, 2), (5, 3), (5, 4), (5, 5), (5, 6), (5, 7)),\n",
       " ((6, 1), (6, 2), (6, 3), (6, 4), (6, 5), (6, 6), (6, 7)),\n",
       " ((7, 1), (7, 2), (7, 3), (7, 4), (7, 5), (7, 6), (7, 7))}"
      ]
     },
     "execution_count": 181,
     "metadata": {},
     "output_type": "execute_result"
    }
   ],
   "source": [
    "set(my_permutations(test, 2))"
   ]
  },
  {
   "cell_type": "code",
   "execution_count": 145,
   "id": "85cde5c2",
   "metadata": {},
   "outputs": [
    {
     "data": {
      "text/plain": [
       "{(1,\n",
       "  (2, (3,), (4,), (5,), (6,), (7,)),\n",
       "  (3, (2,), (4,), (5,), (6,), (7,)),\n",
       "  (4, (2,), (3,), (5,), (6,), (7,)),\n",
       "  (5, (2,), (3,), (4,), (6,), (7,)),\n",
       "  (6, (2,), (3,), (4,), (5,), (7,)),\n",
       "  (7, (2,), (3,), (4,), (5,), (6,))),\n",
       " (2,\n",
       "  (1, (3,), (4,), (5,), (6,), (7,)),\n",
       "  (3, (1,), (4,), (5,), (6,), (7,)),\n",
       "  (4, (1,), (3,), (5,), (6,), (7,)),\n",
       "  (5, (1,), (3,), (4,), (6,), (7,)),\n",
       "  (6, (1,), (3,), (4,), (5,), (7,)),\n",
       "  (7, (1,), (3,), (4,), (5,), (6,))),\n",
       " (3,\n",
       "  (1, (2,), (4,), (5,), (6,), (7,)),\n",
       "  (2, (1,), (4,), (5,), (6,), (7,)),\n",
       "  (4, (1,), (2,), (5,), (6,), (7,)),\n",
       "  (5, (1,), (2,), (4,), (6,), (7,)),\n",
       "  (6, (1,), (2,), (4,), (5,), (7,)),\n",
       "  (7, (1,), (2,), (4,), (5,), (6,))),\n",
       " (4,\n",
       "  (1, (2,), (3,), (5,), (6,), (7,)),\n",
       "  (2, (1,), (3,), (5,), (6,), (7,)),\n",
       "  (3, (1,), (2,), (5,), (6,), (7,)),\n",
       "  (5, (1,), (2,), (3,), (6,), (7,)),\n",
       "  (6, (1,), (2,), (3,), (5,), (7,)),\n",
       "  (7, (1,), (2,), (3,), (5,), (6,))),\n",
       " (5,\n",
       "  (1, (2,), (3,), (4,), (6,), (7,)),\n",
       "  (2, (1,), (3,), (4,), (6,), (7,)),\n",
       "  (3, (1,), (2,), (4,), (6,), (7,)),\n",
       "  (4, (1,), (2,), (3,), (6,), (7,)),\n",
       "  (6, (1,), (2,), (3,), (4,), (7,)),\n",
       "  (7, (1,), (2,), (3,), (4,), (6,))),\n",
       " (6,\n",
       "  (1, (2,), (3,), (4,), (5,), (7,)),\n",
       "  (2, (1,), (3,), (4,), (5,), (7,)),\n",
       "  (3, (1,), (2,), (4,), (5,), (7,)),\n",
       "  (4, (1,), (2,), (3,), (5,), (7,)),\n",
       "  (5, (1,), (2,), (3,), (4,), (7,)),\n",
       "  (7, (1,), (2,), (3,), (4,), (5,))),\n",
       " (7,\n",
       "  (1, (2,), (3,), (4,), (5,), (6,)),\n",
       "  (2, (1,), (3,), (4,), (5,), (6,)),\n",
       "  (3, (1,), (2,), (4,), (5,), (6,)),\n",
       "  (4, (1,), (2,), (3,), (5,), (6,)),\n",
       "  (5, (1,), (2,), (3,), (4,), (6,)),\n",
       "  (6, (1,), (2,), (3,), (4,), (5,)))}"
      ]
     },
     "execution_count": 145,
     "metadata": {},
     "output_type": "execute_result"
    }
   ],
   "source": [
    "from itertools import permutations\n",
    "from itertools import combinations\n",
    "\n",
    "def my_permutations(seq, number):\n",
    "    \n",
    "    #print(\"number\", number)\n",
    "\n",
    "    if number == 0:\n",
    "        return tuple()\n",
    "    \n",
    "    for i in range(len(seq)):\n",
    "        s = seq[i]\n",
    "        new_seq = seq[:i] + seq[i+1:]\n",
    "        yield (s,) + tuple(my_permutations(new_seq, number - 1))\n",
    "                \n",
    "test = [1, 2, 3, 4, 5, 6, 7]\n",
    "\n",
    "# assert set(permutations(test, 2)) == set(my_permutations(test, 2)) \\\n",
    "#    and set(permutations(test, 3)) == set(my_permutations(test, 3)) \\\n",
    "#    and set(permutations(test, 5)) == set(my_permutations(test, 5))\n",
    "set(my_permutations(test, 3))"
   ]
  },
  {
   "cell_type": "code",
   "execution_count": 277,
   "id": "992f95c4",
   "metadata": {},
   "outputs": [
    {
     "data": {
      "text/plain": [
       "{(1,\n",
       "  (2, (3,), (4,), (5,), (6,), (7,)),\n",
       "  (3, (2,), (4,), (5,), (6,), (7,)),\n",
       "  (4, (2,), (3,), (5,), (6,), (7,)),\n",
       "  (5, (2,), (3,), (4,), (6,), (7,)),\n",
       "  (6, (2,), (3,), (4,), (5,), (7,)),\n",
       "  (7, (2,), (3,), (4,), (5,), (6,))),\n",
       " (2,\n",
       "  (1, (3,), (4,), (5,), (6,), (7,)),\n",
       "  (3, (1,), (4,), (5,), (6,), (7,)),\n",
       "  (4, (1,), (3,), (5,), (6,), (7,)),\n",
       "  (5, (1,), (3,), (4,), (6,), (7,)),\n",
       "  (6, (1,), (3,), (4,), (5,), (7,)),\n",
       "  (7, (1,), (3,), (4,), (5,), (6,))),\n",
       " (3,\n",
       "  (1, (2,), (4,), (5,), (6,), (7,)),\n",
       "  (2, (1,), (4,), (5,), (6,), (7,)),\n",
       "  (4, (1,), (2,), (5,), (6,), (7,)),\n",
       "  (5, (1,), (2,), (4,), (6,), (7,)),\n",
       "  (6, (1,), (2,), (4,), (5,), (7,)),\n",
       "  (7, (1,), (2,), (4,), (5,), (6,))),\n",
       " (4,\n",
       "  (1, (2,), (3,), (5,), (6,), (7,)),\n",
       "  (2, (1,), (3,), (5,), (6,), (7,)),\n",
       "  (3, (1,), (2,), (5,), (6,), (7,)),\n",
       "  (5, (1,), (2,), (3,), (6,), (7,)),\n",
       "  (6, (1,), (2,), (3,), (5,), (7,)),\n",
       "  (7, (1,), (2,), (3,), (5,), (6,))),\n",
       " (5,\n",
       "  (1, (2,), (3,), (4,), (6,), (7,)),\n",
       "  (2, (1,), (3,), (4,), (6,), (7,)),\n",
       "  (3, (1,), (2,), (4,), (6,), (7,)),\n",
       "  (4, (1,), (2,), (3,), (6,), (7,)),\n",
       "  (6, (1,), (2,), (3,), (4,), (7,)),\n",
       "  (7, (1,), (2,), (3,), (4,), (6,))),\n",
       " (6,\n",
       "  (1, (2,), (3,), (4,), (5,), (7,)),\n",
       "  (2, (1,), (3,), (4,), (5,), (7,)),\n",
       "  (3, (1,), (2,), (4,), (5,), (7,)),\n",
       "  (4, (1,), (2,), (3,), (5,), (7,)),\n",
       "  (5, (1,), (2,), (3,), (4,), (7,)),\n",
       "  (7, (1,), (2,), (3,), (4,), (5,))),\n",
       " (7,\n",
       "  (1, (2,), (3,), (4,), (5,), (6,)),\n",
       "  (2, (1,), (3,), (4,), (5,), (6,)),\n",
       "  (3, (1,), (2,), (4,), (5,), (6,)),\n",
       "  (4, (1,), (2,), (3,), (5,), (6,)),\n",
       "  (5, (1,), (2,), (3,), (4,), (6,)),\n",
       "  (6, (1,), (2,), (3,), (4,), (5,)))}"
      ]
     },
     "execution_count": 277,
     "metadata": {},
     "output_type": "execute_result"
    }
   ],
   "source": [
    "set(my_permutations(test, 3))"
   ]
  },
  {
   "cell_type": "code",
   "execution_count": 99,
   "id": "46c123ac",
   "metadata": {},
   "outputs": [
    {
     "data": {
      "text/plain": [
       "{(1, (2,), (3,), (4,), (5,), (6,), (7,)),\n",
       " (2, (1,), (3,), (4,), (5,), (6,), (7,)),\n",
       " (3, (1,), (2,), (4,), (5,), (6,), (7,)),\n",
       " (4, (1,), (2,), (3,), (5,), (6,), (7,)),\n",
       " (5, (1,), (2,), (3,), (4,), (6,), (7,)),\n",
       " (6, (1,), (2,), (3,), (4,), (5,), (7,)),\n",
       " (7, (1,), (2,), (3,), (4,), (5,), (6,))}"
      ]
     },
     "execution_count": 99,
     "metadata": {},
     "output_type": "execute_result"
    }
   ],
   "source": [
    "from itertools import permutations\n",
    "from itertools import combinations\n",
    "\n",
    "def my_permutations(seq, number):\n",
    "    \n",
    "    #print(\"number\", number)\n",
    "\n",
    "    if number == 0:\n",
    "        return tuple()  \n",
    "    \n",
    "    for i in range(len(seq)):\n",
    "        s = seq[i]\n",
    "        new_seq = seq[:i] + seq[i+1:]\n",
    "        yield (s,) + tuple(my_permutations(new_seq, number - 1))\n",
    "                \n",
    "test = [1, 2, 3, 4, 5, 6, 7]\n",
    "\n",
    "set(my_permutations(test, 2))\n"
   ]
  },
  {
   "cell_type": "code",
   "execution_count": 150,
   "id": "34c77195",
   "metadata": {},
   "outputs": [
    {
     "data": {
      "text/plain": [
       "{(((2,), (3,), 1), ((1,), (3,), 2), ((1,), (2,), 3), 4),\n",
       " (((2,), (4,), 1), ((1,), (4,), 2), ((1,), (2,), 4), 3),\n",
       " (((3,), (4,), 1), ((1,), (4,), 3), ((1,), (3,), 4), 2),\n",
       " (((3,), (4,), 2), ((2,), (4,), 3), ((2,), (3,), 4), 1)}"
      ]
     },
     "execution_count": 150,
     "metadata": {},
     "output_type": "execute_result"
    }
   ],
   "source": [
    "from itertools import permutations\n",
    "from itertools import combinations\n",
    "\n",
    "def my_permutations(seq, number):\n",
    "    \n",
    "    #print(\"number\", number)\n",
    "\n",
    "    if number == 0:\n",
    "        return tuple()  \n",
    "    \n",
    "    for i in range(len(seq)):\n",
    "        s = seq[i]\n",
    "        new_seq = seq[:i] + seq[i+1:]\n",
    "        yield tuple(my_permutations(new_seq, number - 1)) + (s,)\n",
    "\n",
    "test = [1, 2, 3, 4]\n",
    "\n",
    "set(my_permutations(test, 3))\n"
   ]
  },
  {
   "cell_type": "code",
   "execution_count": 152,
   "id": "acc2f636",
   "metadata": {},
   "outputs": [
    {
     "data": {
      "text/plain": [
       "{((((3,), 2), ((2,), 3), 1),\n",
       "  (((3,), 1), ((1,), 3), 2),\n",
       "  (((2,), 1), ((1,), 2), 3),\n",
       "  4),\n",
       " ((((4,), 2), ((2,), 4), 1),\n",
       "  (((4,), 1), ((1,), 4), 2),\n",
       "  (((2,), 1), ((1,), 2), 4),\n",
       "  3),\n",
       " ((((4,), 3), ((3,), 4), 1),\n",
       "  (((4,), 1), ((1,), 4), 3),\n",
       "  (((3,), 1), ((1,), 3), 4),\n",
       "  2),\n",
       " ((((4,), 3), ((3,), 4), 2),\n",
       "  (((4,), 2), ((2,), 4), 3),\n",
       "  (((3,), 2), ((2,), 3), 4),\n",
       "  1)}"
      ]
     },
     "execution_count": 152,
     "metadata": {},
     "output_type": "execute_result"
    }
   ],
   "source": [
    "from itertools import permutations\n",
    "from itertools import combinations\n",
    "\n",
    "def my_permutations(seq, number):\n",
    "    \n",
    "    #print(\"number\", number)\n",
    "\n",
    "    if number == 0:\n",
    "        return tuple()  \n",
    "    \n",
    "    for i in range(len(seq)):\n",
    "        s = seq[i]\n",
    "        new_seq = seq[:i] + seq[i+1:]\n",
    "        #yield sum(tuple(my_permutations(new_seq, number - 1)),()) + (s,)\n",
    "        yield tuple(my_permutations(new_seq, number - 1)) + (s,)\n",
    "\n",
    "                \n",
    "test = [1, 2, 3, 4]\n",
    "\n",
    "set(my_permutations(test, 4))\n"
   ]
  },
  {
   "cell_type": "code",
   "execution_count": 46,
   "id": "d5e0934d",
   "metadata": {},
   "outputs": [
    {
     "data": {
      "text/plain": [
       "4"
      ]
     },
     "execution_count": 46,
     "metadata": {},
     "output_type": "execute_result"
    }
   ],
   "source": [
    "len(set(my_permutations(test, 3)))"
   ]
  },
  {
   "cell_type": "code",
   "execution_count": 47,
   "id": "1b6265b9",
   "metadata": {},
   "outputs": [
    {
     "data": {
      "text/plain": [
       "24"
      ]
     },
     "execution_count": 47,
     "metadata": {},
     "output_type": "execute_result"
    }
   ],
   "source": [
    "len(set(permutations(test, 3)))"
   ]
  },
  {
   "cell_type": "code",
   "execution_count": null,
   "id": "3e50a17e",
   "metadata": {},
   "outputs": [],
   "source": []
  },
  {
   "cell_type": "code",
   "execution_count": 519,
   "id": "605f4adc",
   "metadata": {},
   "outputs": [],
   "source": [
    "a = (2, (3,), (4,), (5,), (6,), (7,))"
   ]
  },
  {
   "cell_type": "code",
   "execution_count": 520,
   "id": "1f951f02",
   "metadata": {},
   "outputs": [
    {
     "data": {
      "text/plain": [
       "((2, 3), (2, 4), (2, 5), (2, 6), (2, 7))"
      ]
     },
     "execution_count": 520,
     "metadata": {},
     "output_type": "execute_result"
    }
   ],
   "source": []
  },
  {
   "cell_type": "code",
   "execution_count": 516,
   "id": "35d9835c",
   "metadata": {},
   "outputs": [
    {
     "data": {
      "text/plain": [
       "(9, 10)"
      ]
     },
     "execution_count": 516,
     "metadata": {},
     "output_type": "execute_result"
    }
   ],
   "source": [
    "(9,) + tuple((10,))"
   ]
  },
  {
   "cell_type": "code",
   "execution_count": 522,
   "id": "11300302",
   "metadata": {},
   "outputs": [
    {
     "data": {
      "text/plain": [
       "(2, 10)"
      ]
     },
     "execution_count": 522,
     "metadata": {},
     "output_type": "execute_result"
    }
   ],
   "source": [
    "(2,) + tuple((10,))"
   ]
  },
  {
   "cell_type": "code",
   "execution_count": 27,
   "id": "b9a24228",
   "metadata": {},
   "outputs": [
    {
     "data": {
      "text/plain": [
       "[(1, 2, 3), (1, 3, 2), (2, 1, 3), (2, 3, 1), (3, 1, 2), (3, 2, 1)]"
      ]
     },
     "execution_count": 27,
     "metadata": {},
     "output_type": "execute_result"
    }
   ],
   "source": [
    "def permutations2(iterable, r=None):\n",
    "    # permutations('ABCD', 2) --> AB AC AD BA BC BD CA CB CD DA DB DC\n",
    "    # permutations(range(3)) --> 012 021 102 120 201 210\n",
    "    pool = tuple(iterable)\n",
    "    n = len(pool)\n",
    "    r = n if r is None else r\n",
    "    if r > n:\n",
    "        r = n\n",
    "    indices = list(range(n))\n",
    "    cycles = list(range(n, n-r, -1))\n",
    "    yield tuple(pool[i] for i in indices[:r])\n",
    "    while n:\n",
    "        for i in reversed(range(r)):\n",
    "            cycles[i] -= 1\n",
    "            if cycles[i] == 0:\n",
    "                indices[i:] = indices[i+1:] + indices[i:i+1]\n",
    "                cycles[i] = n - i\n",
    "            else:\n",
    "                j = cycles[i]\n",
    "                indices[i], indices[-j] = indices[-j], indices[i]\n",
    "                yield tuple(pool[i] for i in indices[:r])\n",
    "                break\n",
    "        else:\n",
    "            return\n",
    "        \n",
    "list(permutations2([1, 2, 3], 3))"
   ]
  },
  {
   "cell_type": "code",
   "execution_count": 128,
   "id": "a537b565",
   "metadata": {},
   "outputs": [
    {
     "ename": "NameError",
     "evalue": "name 'number' is not defined",
     "output_type": "error",
     "traceback": [
      "\u001b[0;31m---------------------------------------------------------------------------\u001b[0m",
      "\u001b[0;31mNameError\u001b[0m                                 Traceback (most recent call last)",
      "\u001b[0;32m<ipython-input-128-b07dfbd1c6b6>\u001b[0m in \u001b[0;36m<module>\u001b[0;34m\u001b[0m\n\u001b[1;32m     38\u001b[0m \u001b[0mtest\u001b[0m \u001b[0;34m=\u001b[0m \u001b[0;34m[\u001b[0m\u001b[0;36m1\u001b[0m\u001b[0;34m,\u001b[0m \u001b[0;36m2\u001b[0m\u001b[0;34m,\u001b[0m \u001b[0;36m3\u001b[0m\u001b[0;34m,\u001b[0m \u001b[0;36m4\u001b[0m\u001b[0;34m]\u001b[0m\u001b[0;34m\u001b[0m\u001b[0;34m\u001b[0m\u001b[0m\n\u001b[1;32m     39\u001b[0m \u001b[0;34m\u001b[0m\u001b[0m\n\u001b[0;32m---> 40\u001b[0;31m \u001b[0mpermutation3\u001b[0m\u001b[0;34m(\u001b[0m\u001b[0mtest\u001b[0m\u001b[0;34m)\u001b[0m\u001b[0;34m\u001b[0m\u001b[0;34m\u001b[0m\u001b[0m\n\u001b[0m",
      "\u001b[0;32m<ipython-input-128-b07dfbd1c6b6>\u001b[0m in \u001b[0;36mpermutation3\u001b[0;34m(seq)\u001b[0m\n\u001b[1;32m     29\u001b[0m        \u001b[0;31m# element\u001b[0m\u001b[0;34m\u001b[0m\u001b[0;34m\u001b[0m\u001b[0;34m\u001b[0m\u001b[0m\n\u001b[1;32m     30\u001b[0m \u001b[0;34m\u001b[0m\u001b[0m\n\u001b[0;32m---> 31\u001b[0;31m         \u001b[0;32mfor\u001b[0m \u001b[0mp\u001b[0m \u001b[0;32min\u001b[0m \u001b[0mpermutation3\u001b[0m\u001b[0;34m(\u001b[0m\u001b[0mremLst\u001b[0m\u001b[0;34m)\u001b[0m\u001b[0;34m:\u001b[0m\u001b[0;34m\u001b[0m\u001b[0;34m\u001b[0m\u001b[0m\n\u001b[0m\u001b[1;32m     32\u001b[0m \u001b[0;34m\u001b[0m\u001b[0m\n\u001b[1;32m     33\u001b[0m \u001b[0;34m\u001b[0m\u001b[0m\n",
      "\u001b[0;32m<ipython-input-128-b07dfbd1c6b6>\u001b[0m in \u001b[0;36mpermutation3\u001b[0;34m(seq)\u001b[0m\n\u001b[1;32m     29\u001b[0m        \u001b[0;31m# element\u001b[0m\u001b[0;34m\u001b[0m\u001b[0;34m\u001b[0m\u001b[0;34m\u001b[0m\u001b[0m\n\u001b[1;32m     30\u001b[0m \u001b[0;34m\u001b[0m\u001b[0m\n\u001b[0;32m---> 31\u001b[0;31m         \u001b[0;32mfor\u001b[0m \u001b[0mp\u001b[0m \u001b[0;32min\u001b[0m \u001b[0mpermutation3\u001b[0m\u001b[0;34m(\u001b[0m\u001b[0mremLst\u001b[0m\u001b[0;34m)\u001b[0m\u001b[0;34m:\u001b[0m\u001b[0;34m\u001b[0m\u001b[0;34m\u001b[0m\u001b[0m\n\u001b[0m\u001b[1;32m     32\u001b[0m \u001b[0;34m\u001b[0m\u001b[0m\n\u001b[1;32m     33\u001b[0m \u001b[0;34m\u001b[0m\u001b[0m\n",
      "\u001b[0;32m<ipython-input-128-b07dfbd1c6b6>\u001b[0m in \u001b[0;36mpermutation3\u001b[0;34m(seq)\u001b[0m\n\u001b[1;32m     34\u001b[0m             \u001b[0ml\u001b[0m\u001b[0;34m.\u001b[0m\u001b[0mappend\u001b[0m\u001b[0;34m(\u001b[0m\u001b[0;34m[\u001b[0m\u001b[0mm\u001b[0m\u001b[0;34m]\u001b[0m \u001b[0;34m+\u001b[0m \u001b[0mp\u001b[0m\u001b[0;34m)\u001b[0m\u001b[0;34m\u001b[0m\u001b[0;34m\u001b[0m\u001b[0m\n\u001b[1;32m     35\u001b[0m \u001b[0;34m\u001b[0m\u001b[0m\n\u001b[0;32m---> 36\u001b[0;31m     \u001b[0;32mreturn\u001b[0m \u001b[0mset\u001b[0m\u001b[0;34m(\u001b[0m\u001b[0mi\u001b[0m\u001b[0;34m[\u001b[0m\u001b[0;34m:\u001b[0m\u001b[0mnumber\u001b[0m\u001b[0;34m]\u001b[0m \u001b[0;32mfor\u001b[0m \u001b[0mi\u001b[0m \u001b[0;32min\u001b[0m \u001b[0ml\u001b[0m\u001b[0;34m)\u001b[0m\u001b[0;34m\u001b[0m\u001b[0;34m\u001b[0m\u001b[0m\n\u001b[0m\u001b[1;32m     37\u001b[0m \u001b[0;34m\u001b[0m\u001b[0m\n\u001b[1;32m     38\u001b[0m \u001b[0mtest\u001b[0m \u001b[0;34m=\u001b[0m \u001b[0;34m[\u001b[0m\u001b[0;36m1\u001b[0m\u001b[0;34m,\u001b[0m \u001b[0;36m2\u001b[0m\u001b[0;34m,\u001b[0m \u001b[0;36m3\u001b[0m\u001b[0;34m,\u001b[0m \u001b[0;36m4\u001b[0m\u001b[0;34m]\u001b[0m\u001b[0;34m\u001b[0m\u001b[0;34m\u001b[0m\u001b[0m\n",
      "\u001b[0;32m<ipython-input-128-b07dfbd1c6b6>\u001b[0m in \u001b[0;36m<genexpr>\u001b[0;34m(.0)\u001b[0m\n\u001b[1;32m     34\u001b[0m             \u001b[0ml\u001b[0m\u001b[0;34m.\u001b[0m\u001b[0mappend\u001b[0m\u001b[0;34m(\u001b[0m\u001b[0;34m[\u001b[0m\u001b[0mm\u001b[0m\u001b[0;34m]\u001b[0m \u001b[0;34m+\u001b[0m \u001b[0mp\u001b[0m\u001b[0;34m)\u001b[0m\u001b[0;34m\u001b[0m\u001b[0;34m\u001b[0m\u001b[0m\n\u001b[1;32m     35\u001b[0m \u001b[0;34m\u001b[0m\u001b[0m\n\u001b[0;32m---> 36\u001b[0;31m     \u001b[0;32mreturn\u001b[0m \u001b[0mset\u001b[0m\u001b[0;34m(\u001b[0m\u001b[0mi\u001b[0m\u001b[0;34m[\u001b[0m\u001b[0;34m:\u001b[0m\u001b[0mnumber\u001b[0m\u001b[0;34m]\u001b[0m \u001b[0;32mfor\u001b[0m \u001b[0mi\u001b[0m \u001b[0;32min\u001b[0m \u001b[0ml\u001b[0m\u001b[0;34m)\u001b[0m\u001b[0;34m\u001b[0m\u001b[0;34m\u001b[0m\u001b[0m\n\u001b[0m\u001b[1;32m     37\u001b[0m \u001b[0;34m\u001b[0m\u001b[0m\n\u001b[1;32m     38\u001b[0m \u001b[0mtest\u001b[0m \u001b[0;34m=\u001b[0m \u001b[0;34m[\u001b[0m\u001b[0;36m1\u001b[0m\u001b[0;34m,\u001b[0m \u001b[0;36m2\u001b[0m\u001b[0;34m,\u001b[0m \u001b[0;36m3\u001b[0m\u001b[0;34m,\u001b[0m \u001b[0;36m4\u001b[0m\u001b[0;34m]\u001b[0m\u001b[0;34m\u001b[0m\u001b[0;34m\u001b[0m\u001b[0m\n",
      "\u001b[0;31mNameError\u001b[0m: name 'number' is not defined"
     ]
    }
   ],
   "source": [
    "# Python function to print permutations of a given list\n",
    "\n",
    "def permutation3(seq):\n",
    "\n",
    "    if len(seq) == 0:\n",
    "\n",
    "        return []\n",
    "\n",
    "\n",
    "    if len(seq) == 1:\n",
    "\n",
    "        return [seq]\n",
    "\n",
    "    l = [] # empty list that will store current permutation\n",
    "\n",
    "\n",
    "    for i in range(len(seq)):\n",
    "\n",
    "        m = seq[i]\n",
    "\n",
    "       # Extract lst[i] or m from the list.  remLst is\n",
    "\n",
    "       # remaining list\n",
    "\n",
    "        remLst = seq[:i] + seq[i+1:]\n",
    "\n",
    "       # Generating all permutations where m is first\n",
    "\n",
    "       # element\n",
    "\n",
    "        for p in permutation3(remLst):\n",
    "            \n",
    "\n",
    "            l.append([m] + p)\n",
    "\n",
    "    return set(i[:number] for i in l)\n",
    "\n",
    "test = [1, 2, 3, 4]\n",
    "\n",
    "permutation3(test)"
   ]
  },
  {
   "cell_type": "code",
   "execution_count": 211,
   "id": "f88c571b",
   "metadata": {},
   "outputs": [
    {
     "data": {
      "text/plain": [
       "[[1, 2, 3, 4],\n",
       " [1, 2, 4, 3],\n",
       " [1, 3, 2, 4],\n",
       " [1, 3, 4, 2],\n",
       " [1, 4, 2, 3],\n",
       " [1, 4, 3, 2],\n",
       " [2, 1, 3, 4],\n",
       " [2, 1, 4, 3],\n",
       " [2, 3, 1, 4],\n",
       " [2, 3, 4, 1],\n",
       " [2, 4, 1, 3],\n",
       " [2, 4, 3, 1],\n",
       " [3, 1, 2, 4],\n",
       " [3, 1, 4, 2],\n",
       " [3, 2, 1, 4],\n",
       " [3, 2, 4, 1],\n",
       " [3, 4, 1, 2],\n",
       " [3, 4, 2, 1],\n",
       " [4, 1, 2, 3],\n",
       " [4, 1, 3, 2],\n",
       " [4, 2, 1, 3],\n",
       " [4, 2, 3, 1],\n",
       " [4, 3, 1, 2],\n",
       " [4, 3, 2, 1]]"
      ]
     },
     "execution_count": 211,
     "metadata": {},
     "output_type": "execute_result"
    }
   ],
   "source": [
    "# Python function to print permutations of a given list\n",
    "\n",
    "def permutation3(seq, number):\n",
    "\n",
    "    if len(seq) == 0:\n",
    "\n",
    "        return []\n",
    "\n",
    "\n",
    "    if len(seq) == 1:\n",
    "\n",
    "        return [seq]\n",
    "\n",
    "    l = [] # empty list that will store current permutation\n",
    "\n",
    "\n",
    "    for i in range(len(seq)):\n",
    "\n",
    "        m = seq[i]\n",
    "\n",
    "       # Extract lst[i] or m from the list.  remLst is\n",
    "\n",
    "       # remaining list\n",
    "\n",
    "        remLst = seq[:i] + seq[i+1:]\n",
    "\n",
    "       # Generating all permutations where m is first\n",
    "\n",
    "       # element\n",
    "\n",
    "        for p in permutation3(remLst, number):\n",
    "            \n",
    "\n",
    "            l.append([m] + p)\n",
    "\n",
    "    \n",
    "    return [i[:number] for i in l]\n",
    "\n",
    "test = [1, 2, 3, 4]\n",
    "\n",
    "permutation3(test, 5)"
   ]
  },
  {
   "cell_type": "code",
   "execution_count": null,
   "id": "2e8f3d19",
   "metadata": {},
   "outputs": [],
   "source": []
  },
  {
   "cell_type": "code",
   "execution_count": null,
   "id": "11b9e09f",
   "metadata": {},
   "outputs": [],
   "source": []
  },
  {
   "cell_type": "code",
   "execution_count": 198,
   "id": "d465d41a",
   "metadata": {},
   "outputs": [
    {
     "data": {
      "text/plain": [
       "{(1, 2, 3),\n",
       " (1, 2, 4),\n",
       " (1, 3, 2),\n",
       " (1, 3, 4),\n",
       " (1, 4, 2),\n",
       " (1, 4, 3),\n",
       " (2, 1, 3),\n",
       " (2, 1, 4),\n",
       " (2, 3, 1),\n",
       " (2, 3, 4),\n",
       " (2, 4, 1),\n",
       " (2, 4, 3),\n",
       " (3, 1, 2),\n",
       " (3, 1, 4),\n",
       " (3, 2, 1),\n",
       " (3, 2, 4),\n",
       " (3, 4, 1),\n",
       " (3, 4, 2),\n",
       " (4, 1, 2),\n",
       " (4, 1, 3),\n",
       " (4, 2, 1),\n",
       " (4, 2, 3),\n",
       " (4, 3, 1),\n",
       " (4, 3, 2)}"
      ]
     },
     "execution_count": 198,
     "metadata": {},
     "output_type": "execute_result"
    }
   ],
   "source": [
    "# Python function to print permutations of a given list\n",
    "\n",
    "def my_permutations(seq, number):\n",
    "\n",
    "    if len(seq) == 0:\n",
    "        return tuple()\n",
    "\n",
    "    if len(seq) == 1:\n",
    "        return (seq,)\n",
    "\n",
    "    l = [] \n",
    "\n",
    "    for i in range(len(seq)):\n",
    "\n",
    "        m = seq[i]\n",
    "        remLst = seq[:i] + seq[i+1:]\n",
    "\n",
    "        for p in my_permutations(remLst, number-1):\n",
    "            l.append((m,) + tuple(p))\n",
    "\n",
    "    return [i[:number] for i in l]\n",
    "\n",
    "test = [1, 2, 3, 4]\n",
    "\n",
    "set(my_permutations(test, 3))"
   ]
  },
  {
   "cell_type": "code",
   "execution_count": null,
   "id": "0ae76317",
   "metadata": {},
   "outputs": [],
   "source": []
  },
  {
   "cell_type": "code",
   "execution_count": null,
   "id": "e727b784",
   "metadata": {},
   "outputs": [],
   "source": []
  },
  {
   "cell_type": "code",
   "execution_count": 215,
   "id": "d65645ee",
   "metadata": {},
   "outputs": [],
   "source": [
    "def my_combinations(seq, number):\n",
    "\n",
    "    if len(seq) == 0:\n",
    "        return tuple()\n",
    "\n",
    "    if len(seq) == 1:\n",
    "        return (seq,)\n",
    "\n",
    "    l = [] \n",
    "\n",
    "    for i in range(len(seq)):\n",
    "\n",
    "        m = seq[i]\n",
    "        remLst = seq[:i] + seq[i+1:]\n",
    "\n",
    "        for p in my_combinations(remLst, number-1):\n",
    "            l.append((m,) + tuple(p))\n",
    "\n",
    "    return [tuple(set(i[:number])) for i in l]\n",
    "\n",
    "test = [1, 2, 3, 4]"
   ]
  },
  {
   "cell_type": "code",
   "execution_count": 214,
   "id": "c6d7f6ba",
   "metadata": {},
   "outputs": [
    {
     "data": {
      "text/plain": [
       "(1, 2, 3)"
      ]
     },
     "execution_count": 214,
     "metadata": {},
     "output_type": "execute_result"
    }
   ],
   "source": [
    "tuple(set([1,2,3]))"
   ]
  },
  {
   "cell_type": "code",
   "execution_count": 1,
   "id": "2b5a4455",
   "metadata": {},
   "outputs": [
    {
     "name": "stdout",
     "output_type": "stream",
     "text": [
      "통과\n"
     ]
    }
   ],
   "source": [
    "def my_combinations(seq, number):\n",
    "\n",
    "    if len(seq) == 0:\n",
    "        return tuple()\n",
    "\n",
    "    if len(seq) == 1:\n",
    "        return (seq,)\n",
    "\n",
    "    l = [] \n",
    "\n",
    "    for i in range(len(seq)):\n",
    "\n",
    "        m = seq[i]\n",
    "        remLst = seq[:i] + seq[i+1:]\n",
    "\n",
    "        for p in my_combinations(remLst, number-1):\n",
    "            l.append((m,) + tuple(p))\n",
    "\n",
    "    return list(set([tuple(set(i[:number])) for i in l]))\n",
    "\n",
    "from itertools import combinations\n",
    "test = [1, 2, 3, 4]\n",
    "\n",
    "assert set(combinations(test, 2)) == set(my_combinations(test, 2)) \\\n",
    "   and set(combinations(test, 3)) == set(my_combinations(test, 3))\n",
    "print(\"통과\") "
   ]
  },
  {
   "cell_type": "code",
   "execution_count": 5,
   "id": "f0a33606",
   "metadata": {},
   "outputs": [
    {
     "ename": "AssertionError",
     "evalue": "",
     "output_type": "error",
     "traceback": [
      "\u001b[0;31m---------------------------------------------------------------------------\u001b[0m",
      "\u001b[0;31mAssertionError\u001b[0m                            Traceback (most recent call last)",
      "\u001b[0;32m<ipython-input-5-e8eb16c9aea8>\u001b[0m in \u001b[0;36m<module>\u001b[0;34m\u001b[0m\n\u001b[1;32m     22\u001b[0m \u001b[0mtest\u001b[0m \u001b[0;34m=\u001b[0m \u001b[0;34m[\u001b[0m\u001b[0;36m1\u001b[0m\u001b[0;34m,\u001b[0m \u001b[0;36m2\u001b[0m\u001b[0;34m,\u001b[0m \u001b[0;36m3\u001b[0m\u001b[0;34m,\u001b[0m \u001b[0;36m4\u001b[0m\u001b[0;34m]\u001b[0m\u001b[0;34m\u001b[0m\u001b[0;34m\u001b[0m\u001b[0m\n\u001b[1;32m     23\u001b[0m \u001b[0;34m\u001b[0m\u001b[0m\n\u001b[0;32m---> 24\u001b[0;31m \u001b[0;32massert\u001b[0m \u001b[0mset\u001b[0m\u001b[0;34m(\u001b[0m\u001b[0mcombinations\u001b[0m\u001b[0;34m(\u001b[0m\u001b[0mtest\u001b[0m\u001b[0;34m,\u001b[0m \u001b[0;36m2\u001b[0m\u001b[0;34m)\u001b[0m\u001b[0;34m)\u001b[0m \u001b[0;34m==\u001b[0m \u001b[0mset\u001b[0m\u001b[0;34m(\u001b[0m\u001b[0mmy_combinations\u001b[0m\u001b[0;34m(\u001b[0m\u001b[0mtest\u001b[0m\u001b[0;34m,\u001b[0m \u001b[0;36m2\u001b[0m\u001b[0;34m)\u001b[0m\u001b[0;34m)\u001b[0m\u001b[0;31m \u001b[0m\u001b[0;31m\\\u001b[0m\u001b[0;34m\u001b[0m\u001b[0;34m\u001b[0m\u001b[0m\n\u001b[0m\u001b[1;32m     25\u001b[0m    \u001b[0;32mand\u001b[0m \u001b[0mset\u001b[0m\u001b[0;34m(\u001b[0m\u001b[0mcombinations\u001b[0m\u001b[0;34m(\u001b[0m\u001b[0mtest\u001b[0m\u001b[0;34m,\u001b[0m \u001b[0;36m3\u001b[0m\u001b[0;34m)\u001b[0m\u001b[0;34m)\u001b[0m \u001b[0;34m==\u001b[0m \u001b[0mset\u001b[0m\u001b[0;34m(\u001b[0m\u001b[0mmy_combinations\u001b[0m\u001b[0;34m(\u001b[0m\u001b[0mtest\u001b[0m\u001b[0;34m,\u001b[0m \u001b[0;36m3\u001b[0m\u001b[0;34m)\u001b[0m\u001b[0;34m)\u001b[0m\u001b[0;34m\u001b[0m\u001b[0;34m\u001b[0m\u001b[0m\n\u001b[1;32m     26\u001b[0m \u001b[0mprint\u001b[0m\u001b[0;34m(\u001b[0m\u001b[0;34m\"통과\"\u001b[0m\u001b[0;34m)\u001b[0m\u001b[0;34m\u001b[0m\u001b[0;34m\u001b[0m\u001b[0m\n",
      "\u001b[0;31mAssertionError\u001b[0m: "
     ]
    }
   ],
   "source": [
    "def my_combinations(seq, number):\n",
    "\n",
    "    if len(seq) == 0:\n",
    "        return tuple()\n",
    "\n",
    "    if len(seq) == 1:\n",
    "        return (seq,)\n",
    "\n",
    "    l = [] \n",
    "\n",
    "    for i in range(len(seq)):\n",
    "\n",
    "        m = seq[i]\n",
    "        remLst = seq[:i] + seq[i+1:]\n",
    "\n",
    "        for p in my_combinations(remLst, number-1):\n",
    "            l.append(tuple(set((m,) + tuple(p))))\n",
    "\n",
    "    return list(set([i[:number] for i in l]))\n",
    "\n",
    "from itertools import combinations\n",
    "test = [1, 2, 3, 4]\n",
    "\n",
    "assert set(combinations(test, 2)) == set(my_combinations(test, 2)) \\\n",
    "   and set(combinations(test, 3)) == set(my_combinations(test, 3))\n",
    "print(\"통과\") "
   ]
  },
  {
   "cell_type": "code",
   "execution_count": 9,
   "id": "9baae86d",
   "metadata": {},
   "outputs": [
    {
     "data": {
      "text/plain": [
       "True"
      ]
     },
     "execution_count": 9,
     "metadata": {},
     "output_type": "execute_result"
    }
   ],
   "source": [
    "set(combinations(test, 2)) == set(my_combinations(test, 2)) "
   ]
  },
  {
   "cell_type": "code",
   "execution_count": 10,
   "id": "2d407adf",
   "metadata": {},
   "outputs": [
    {
     "data": {
      "text/plain": [
       "{(1, 2, 3), (1, 2, 4), (1, 3, 4), (2, 3, 4)}"
      ]
     },
     "execution_count": 10,
     "metadata": {},
     "output_type": "execute_result"
    }
   ],
   "source": [
    " set(combinations(test, 3))"
   ]
  },
  {
   "cell_type": "code",
   "execution_count": 11,
   "id": "7b82a4ef",
   "metadata": {},
   "outputs": [
    {
     "data": {
      "text/plain": [
       "{(1, 2, 3), (1, 2, 4), (1, 3, 4)}"
      ]
     },
     "execution_count": 11,
     "metadata": {},
     "output_type": "execute_result"
    }
   ],
   "source": [
    "set(my_combinations(test, 3))"
   ]
  },
  {
   "cell_type": "code",
   "execution_count": 201,
   "id": "221047f4",
   "metadata": {},
   "outputs": [],
   "source": [
    "test2 = [1,1,1,2,2,2,3,3,3]"
   ]
  },
  {
   "cell_type": "code",
   "execution_count": 202,
   "id": "31683def",
   "metadata": {},
   "outputs": [
    {
     "data": {
      "text/plain": [
       "{(1, 1, 1),\n",
       " (1, 1, 2),\n",
       " (1, 1, 3),\n",
       " (1, 2, 2),\n",
       " (1, 2, 3),\n",
       " (1, 3, 3),\n",
       " (2, 2, 2),\n",
       " (2, 2, 3),\n",
       " (2, 3, 3),\n",
       " (3, 3, 3)}"
      ]
     },
     "execution_count": 202,
     "metadata": {},
     "output_type": "execute_result"
    }
   ],
   "source": [
    "set(combinations(test2, 3))"
   ]
  },
  {
   "cell_type": "code",
   "execution_count": null,
   "id": "c7ebedb8",
   "metadata": {},
   "outputs": [],
   "source": []
  }
 ],
 "metadata": {
  "kernelspec": {
   "display_name": "Python 3",
   "language": "python",
   "name": "python3"
  },
  "language_info": {
   "codemirror_mode": {
    "name": "ipython",
    "version": 3
   },
   "file_extension": ".py",
   "mimetype": "text/x-python",
   "name": "python",
   "nbconvert_exporter": "python",
   "pygments_lexer": "ipython3",
   "version": "3.8.10"
  }
 },
 "nbformat": 4,
 "nbformat_minor": 5
}

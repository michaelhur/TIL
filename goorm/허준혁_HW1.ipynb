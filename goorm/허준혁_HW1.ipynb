{
  "nbformat": 4,
  "nbformat_minor": 0,
  "metadata": {
    "orig_nbformat": 4,
    "language_info": {
      "name": "python",
      "version": "3.7.7",
      "mimetype": "text/x-python",
      "codemirror_mode": {
        "name": "ipython",
        "version": 3
      },
      "pygments_lexer": "ipython3",
      "nbconvert_exporter": "python",
      "file_extension": ".py"
    },
    "kernelspec": {
      "name": "python3",
      "display_name": "Python 3.7.7 64-bit ('NLPassn': conda)"
    },
    "interpreter": {
      "hash": "ade55d4c86be7d50874b83e4277b883dd708f548765dc318ed8eee76ae3e5626"
    },
    "colab": {
      "name": "HW1. Python 내장함수와 알고리즘 구현.ipynb",
      "provenance": [],
      "collapsed_sections": []
    }
  },
  "cells": [
    {
      "cell_type": "markdown",
      "metadata": {
        "id": "lh1cyX2mj_4V"
      },
      "source": [
        "# 과제 1. 나만의 python & 알고리즘 함수 만들기\n",
        "## 1. 파이썬 내장함수 만들기\n",
        "Python에는 사용자의 편의를 위해서 여러가지 함수를 내장하고 있다. 다음 사진이 python 내장함수의 목록을 보여준다.\n",
        "\n",
        "<p align=\"center\"><img src=\"https://wikidocs.net/images/page/14598/2-1.png\" width=\"600px\"></p>\n",
        "\n",
        "자세한 내용은 [링크](https://docs.python.org/ko/3/library/functions.html)에서 확인해 볼 수 있으며, 문서 안에서 몇 가지 예시를 제시하고 있다. 다음은 python 공식 문서에서 제시하는 `all` 함수의 예시를 `my_all` 함수로 재작성한 예시이다."
      ]
    },
    {
      "cell_type": "code",
      "metadata": {
        "id": "KtICkC5sj_4X",
        "colab": {
          "base_uri": "https://localhost:8080/"
        },
        "outputId": "cdcab401-f7b7-4aa1-a428-911804998724"
      },
      "source": [
        "def my_all(iterable):\n",
        "    for element in iterable:\n",
        "        if not element:\n",
        "            return False\n",
        "    return True\n",
        "\n",
        "test1 = [True, 7 == 4, 3 > 7, False]\n",
        "test2 = [3 < 5, 10 == 10, True, 'something']\n",
        "\n",
        "# Assert 문은 이하의 식의 참인지 검사합니다.\n",
        "assert all(test1) == my_all(test1) == False\n",
        "assert all(test2) == my_all(test2) == True\n",
        "\n",
        "print(\"통과\")"
      ],
      "execution_count": 1,
      "outputs": [
        {
          "output_type": "stream",
          "text": [
            "통과\n"
          ],
          "name": "stdout"
        }
      ]
    },
    {
      "cell_type": "markdown",
      "metadata": {
        "id": "Z6GUKRRQj_4Z"
      },
      "source": [
        "아래의 함수들은 자주 사용되는 내장 함수들의 목록이다. 위의 코드 예시와 같이 몇 가지 함수들을 다른 함수를 쓰지 않고 따라 만들어보자. \\\n",
        "(단, 편의를 위해 엄격하게 만들지 않고 test를 통과할 정도만 작성하여도 무방하다.)"
      ]
    },
    {
      "cell_type": "markdown",
      "metadata": {
        "id": "UrC-IOlfj_4Z"
      },
      "source": [
        "### 1-1. abs"
      ]
    },
    {
      "cell_type": "code",
      "metadata": {
        "id": "RCpeIZx8j_4a",
        "colab": {
          "base_uri": "https://localhost:8080/"
        },
        "outputId": "e203446c-c0d9-4d3c-bb18-9725e015632c"
      },
      "source": [
        "def my_abs(number):\n",
        "    if number > 0:\n",
        "        return number\n",
        "    \n",
        "    return -number\n",
        "\n",
        "test1 = 1.7\n",
        "test2 = -8\n",
        "assert abs(test1) == my_abs(test1)\n",
        "assert abs(test2) == my_abs(test2)\n",
        "print(\"통과\")"
      ],
      "execution_count": 2,
      "outputs": [
        {
          "output_type": "stream",
          "text": [
            "통과\n"
          ],
          "name": "stdout"
        }
      ]
    },
    {
      "cell_type": "markdown",
      "metadata": {
        "id": "sBqLryIxj_4a"
      },
      "source": [
        "### 1-2. round"
      ]
    },
    {
      "cell_type": "code",
      "metadata": {
        "id": "xaEfCMwmj_4a",
        "colab": {
          "base_uri": "https://localhost:8080/"
        },
        "outputId": "a59c3012-fb7c-4699-d870-324b5ef606c8"
      },
      "source": [
        "def my_round(number, ndgits=None):\n",
        "    \n",
        "    if ndgits is None:\n",
        "        ndgits = 0\n",
        "    \n",
        "    m = str(int(number * 10**(ndgits+1)))\n",
        "    r = int(m[-1])\n",
        "    l = int(m[-2])\n",
        "\n",
        "    if r > 5:\n",
        "        l += 1\n",
        "\n",
        "    if r == 5:\n",
        "        if l % 2 == 1:\n",
        "            l += 1\n",
        "            \n",
        "    e = m[:-2]\n",
        "    \n",
        "    rounded = int(e + str(l)) / 10**(ndgits)\n",
        "    \n",
        "    return rounded\n",
        "\n",
        "\n",
        "test = 1.74789\n",
        "assert round(test) == my_round(test)\n",
        "assert round(test, 3) == my_round(test, 3)\n",
        "assert round(-test, 2) == my_round(-test, 2)\n",
        "print(\"통과\")"
      ],
      "execution_count": 3,
      "outputs": [
        {
          "output_type": "stream",
          "text": [
            "통과\n"
          ],
          "name": "stdout"
        }
      ]
    },
    {
      "cell_type": "markdown",
      "metadata": {
        "id": "PTJk84oPj_4b"
      },
      "source": [
        "### 1-3. any"
      ]
    },
    {
      "cell_type": "code",
      "metadata": {
        "id": "bnBMZp3qj_4b",
        "colab": {
          "base_uri": "https://localhost:8080/"
        },
        "outputId": "7afb7c24-9ac4-451d-9f99-fd6223dd6f0b"
      },
      "source": [
        "def my_any(iterable):\n",
        "    for element in iterable:\n",
        "        if element:\n",
        "            return True\n",
        "    return False\n",
        "\n",
        "test1 = [True, 7 == 4, 'Something', False]\n",
        "test2 = [3 > 5, 10 != 10, False, '', None]\n",
        "assert any(test1) == my_any(test1)\n",
        "assert any(test2) == my_any(test2)\n",
        "print(\"통과\")"
      ],
      "execution_count": 4,
      "outputs": [
        {
          "output_type": "stream",
          "text": [
            "통과\n"
          ],
          "name": "stdout"
        }
      ]
    },
    {
      "cell_type": "markdown",
      "metadata": {
        "id": "r1a2t34Sj_4b"
      },
      "source": [
        "### 1-4. enumerate"
      ]
    },
    {
      "cell_type": "code",
      "metadata": {
        "id": "Eb3wJhDJj_4c",
        "colab": {
          "base_uri": "https://localhost:8080/"
        },
        "outputId": "24798ca4-3454-444d-b7ea-80cb1e1ed6f6"
      },
      "source": [
        "def my_enumerate(sequence, start=0):\n",
        "    return ((start + i, sequence[i]) for i in range(len(sequence)))\n",
        "\n",
        "test1 = [60, 50, 20, 10]\n",
        "test2 = [True, None, 'test']\n",
        "assert list(enumerate(test1)) == list(my_enumerate(test1))\n",
        "assert list(enumerate(test2, 12)) == list(my_enumerate(test2, 12))\n",
        "print(\"통과\")"
      ],
      "execution_count": 5,
      "outputs": [
        {
          "output_type": "stream",
          "text": [
            "통과\n"
          ],
          "name": "stdout"
        }
      ]
    },
    {
      "cell_type": "markdown",
      "metadata": {
        "id": "6GhbhgNsj_4c"
      },
      "source": [
        "### 1-5. max & min"
      ]
    },
    {
      "cell_type": "code",
      "metadata": {
        "id": "CPb7b92Fj_4c",
        "colab": {
          "base_uri": "https://localhost:8080/"
        },
        "outputId": "885109b1-1c8a-407c-8e00-2c018dbd670d"
      },
      "source": [
        "def my_max(*args):\n",
        "\n",
        "    if len(args) == 1:\n",
        "        if isinstance(args, int) or isinstance(args, float):\n",
        "            return args\n",
        "        \n",
        "        else:\n",
        "            args = args[0]\n",
        "            \n",
        "    m = args[0]\n",
        "    \n",
        "    for element in args[1:]:\n",
        "        if element > m:\n",
        "            m = element\n",
        "\n",
        "    return m\n",
        "    \n",
        "def my_min(*args):\n",
        "\n",
        "    if len(args) == 1:\n",
        "        if isinstance(args, int) or isinstance(args, float):\n",
        "            return args\n",
        "        \n",
        "        else:\n",
        "            args = args[0]\n",
        "            \n",
        "    m = args[0]\n",
        "    \n",
        "    for element in args[1:]:\n",
        "        if element < m:\n",
        "            m = element\n",
        "\n",
        "    return m\n",
        "\n",
        "test = [7, 4, 2, 6, 8]\n",
        "assert max(test) == my_max(test) and min(test) == my_min(test)\n",
        "assert max(7, 4, 2, 5) == my_max(7, 4, 2, 5) and min(7, 4, 2, 5) == my_min(7, 4, 2, 5)\n",
        "print(\"통과\")"
      ],
      "execution_count": 6,
      "outputs": [
        {
          "output_type": "stream",
          "text": [
            "통과\n"
          ],
          "name": "stdout"
        }
      ]
    },
    {
      "cell_type": "markdown",
      "metadata": {
        "id": "LYJx5t63j_4c"
      },
      "source": [
        "### 1-6. range\n",
        "실제론 함수가 아니지만 함수 같이 만들어보자."
      ]
    },
    {
      "cell_type": "code",
      "metadata": {
        "id": "z5liW1V-j_4d",
        "colab": {
          "base_uri": "https://localhost:8080/"
        },
        "outputId": "8dde0d3b-32c1-45a1-9cb6-32460a15b61b"
      },
      "source": [
        "def my_range(*args):\n",
        "    assert 0 < len(args) <= 3\n",
        "    \n",
        "    if len(args) == 1:\n",
        "        first = 0\n",
        "        last = args[0]-1\n",
        "        steps = 1\n",
        "        \n",
        "    elif len(args) == 2:\n",
        "        first = args[0]\n",
        "        last = args[-1]-1\n",
        "        steps = 1\n",
        "        \n",
        "    elif len(args) == 3:\n",
        "        first = args[0]\n",
        "        last = args[1]-1\n",
        "        steps = args[-1]\n",
        "        \n",
        "    r = []\n",
        "    \n",
        "    if steps > 0:\n",
        "        while first <= last:\n",
        "            r.append(first)\n",
        "            first += steps\n",
        "    \n",
        "    else:\n",
        "        while first >= last:\n",
        "            r.append(first)\n",
        "            first += steps\n",
        "    \n",
        "    return (i for i in r)\n",
        "\n",
        "assert list(range(10)) == list(my_range(10))\n",
        "assert list(range(3, 10)) == list(my_range(3, 10))\n",
        "assert list(range(3, 10, 2)) == list(my_range(3, 10, 2))\n",
        "print(\"통과\")"
      ],
      "execution_count": 7,
      "outputs": [
        {
          "output_type": "stream",
          "text": [
            "통과\n"
          ],
          "name": "stdout"
        }
      ]
    },
    {
      "cell_type": "markdown",
      "metadata": {
        "id": "Ki0TIFGij_4d"
      },
      "source": [
        "### 1-7. reversed"
      ]
    },
    {
      "cell_type": "code",
      "metadata": {
        "id": "omq-iRJsj_4d",
        "colab": {
          "base_uri": "https://localhost:8080/"
        },
        "outputId": "56b15b72-8dbe-41c1-ea0c-58ac4164ae57"
      },
      "source": [
        "def my_reversed(seq):\n",
        "    return seq[::-1]\n",
        "\n",
        "test = [7, 4, 2, 6, 8]\n",
        "assert list(reversed(test)) == list(my_reversed(test))\n",
        "print(\"통과\")"
      ],
      "execution_count": 8,
      "outputs": [
        {
          "output_type": "stream",
          "text": [
            "통과\n"
          ],
          "name": "stdout"
        }
      ]
    },
    {
      "cell_type": "markdown",
      "metadata": {
        "id": "EO1bxjI2j_4d"
      },
      "source": [
        "### 1-8. filter"
      ]
    },
    {
      "cell_type": "code",
      "metadata": {
        "id": "TN6rpi9bj_4d",
        "colab": {
          "base_uri": "https://localhost:8080/"
        },
        "outputId": "d941faaa-f714-4198-8013-1f42bfb30f0f"
      },
      "source": [
        "def my_filter(function, iterable):\n",
        "    return (i for i in iterable if function(i))\n",
        "\n",
        "def test_function(number):\n",
        "    return number > 5\n",
        "\n",
        "test = [1, 7, 5, 2, 9, 11]\n",
        "\n",
        "# 역슬래시 \"\\\"를 이용하면 평가식을 다음 줄로 나눌 수 있다.\n",
        "assert list(filter(test_function, test)) == list(my_filter(test_function, test)) \\\n",
        "    == list(filter(lambda x: x > 5, test))\n",
        "print(\"통과\")"
      ],
      "execution_count": 9,
      "outputs": [
        {
          "output_type": "stream",
          "text": [
            "통과\n"
          ],
          "name": "stdout"
        }
      ]
    },
    {
      "cell_type": "markdown",
      "metadata": {
        "id": "TFRcIgaej_4e"
      },
      "source": [
        "### 1-9. sum"
      ]
    },
    {
      "cell_type": "code",
      "metadata": {
        "id": "OBMnyE-Jj_4e",
        "colab": {
          "base_uri": "https://localhost:8080/"
        },
        "outputId": "fee0ce47-0409-4b43-e4bb-540116c6269e"
      },
      "source": [
        "def my_sum(iterable, start=0):\n",
        "    s = start\n",
        "    for i in iterable:\n",
        "        s += i\n",
        "\n",
        "    return s\n",
        "\n",
        "test = [7, 4, 2, 6, 8]\n",
        "assert sum(test) == my_sum(test)\n",
        "assert sum(range(10)) == my_sum(my_range(10))\n",
        "assert sum(filter(lambda x: x % 2, range(1, 20, 3))) \\\n",
        "    == my_sum(my_filter(lambda x: x % 2, my_range(1, 20, 3)))\n",
        "print(\"통과\")"
      ],
      "execution_count": 10,
      "outputs": [
        {
          "output_type": "stream",
          "text": [
            "통과\n"
          ],
          "name": "stdout"
        }
      ]
    },
    {
      "cell_type": "markdown",
      "metadata": {
        "id": "ECrWOlnjj_4e"
      },
      "source": [
        "### 1-10. zip"
      ]
    },
    {
      "cell_type": "code",
      "metadata": {
        "id": "TFQnbWW1j_4e",
        "colab": {
          "base_uri": "https://localhost:8080/"
        },
        "outputId": "85d72743-7c34-47dd-ca22-3970b03a229a"
      },
      "source": [
        "def my_zip(*iterables):\n",
        "    iter_len = [len(i) for i in iterables]\n",
        "    min_len = min(iter_len)\n",
        "\n",
        "    return (tuple(i[k] for i in iterables) for k in range(min_len))\n",
        "\n",
        "test1 = (1, 2, 3)\n",
        "test2 = (10, 2, 30)\n",
        "assert list(zip(test1, test2)) == list(my_zip(test1, test2))\n",
        "\n",
        "test3 = [(10, 20, 30, 40), (55, 22, 66, 70), (False, True, True, False)]\n",
        "assert list(zip(*test3)) == list(my_zip(*test3))\n",
        "print(\"통과\")"
      ],
      "execution_count": 11,
      "outputs": [
        {
          "output_type": "stream",
          "text": [
            "통과\n"
          ],
          "name": "stdout"
        }
      ]
    },
    {
      "cell_type": "markdown",
      "metadata": {
        "id": "Gm9742vej_4e"
      },
      "source": [
        "### 1-11. sorted\n",
        "정렬 알고리즘은 어떠한 것을 써도 무방하다.\n",
        "쉬운 정렬 알고리즘으로 일반적으로 [삽입정렬](https://ko.wikipedia.org/wiki/%EC%82%BD%EC%9E%85_%EC%A0%95%EB%A0%AC), [선택정렬](https://ko.wikipedia.org/wiki/%EC%84%A0%ED%83%9D_%EC%A0%95%EB%A0%AC), 그리고 [버블정렬](https://ko.wikipedia.org/wiki/%EA%B1%B0%ED%92%88_%EC%A0%95%EB%A0%AC)을 꼽는다."
      ]
    },
    {
      "cell_type": "code",
      "metadata": {
        "id": "h3fKPQodj_4f",
        "colab": {
          "base_uri": "https://localhost:8080/"
        },
        "outputId": "68a44854-5efc-43af-b91d-7f6bfcb842cd"
      },
      "source": [
        "def my_sorted(iterable, key=None, reverse=False):\n",
        "\n",
        "    if reverse:\n",
        "        for j in range(1, len(iterable)):\n",
        "            for i in range(len(iterable)-1):\n",
        "\n",
        "                if key:\n",
        "                    if key(iterable[j]) > key(iterable[i][key]):\n",
        "                        iterable[i], iterable[j] = iterable[j], iterable[i]\n",
        "\n",
        "                else:\n",
        "                    if iterable[j] > iterable[i]:\n",
        "                        iterable[i], iterable[j] = iterable[j], iterable[i]\n",
        "\n",
        "    else:\n",
        "        for j in range(1, len(iterable)):\n",
        "            for i in range(len(iterable)-1):\n",
        "\n",
        "                if key:\n",
        "                    if key(iterable[j]) < key(iterable[i]):\n",
        "                        iterable[i], iterable[j] = iterable[j], iterable[i]\n",
        "\n",
        "                else:\n",
        "                    if iterable[j] < iterable[i]:\n",
        "                        iterable[i], iterable[j] = iterable[j], iterable[i]\n",
        "\n",
        "    return iterable\n",
        "    \n",
        "test1 = [7, 4, 2, 6, 8]\n",
        "assert sorted(test1) == my_sorted(test1)\n",
        "test2 = [(1, 2), (6, 2), (5, 3), (10, 5)]\n",
        "assert sorted(test2) == my_sorted(test2) \\\n",
        "   and sorted(test2, reverse=True) == my_sorted(test2, reverse=True) \\\n",
        "   and sorted(test2, key=lambda x: x[1]) == my_sorted(test2, key=lambda x: x[1])\n",
        "print(\"통과\")"
      ],
      "execution_count": 12,
      "outputs": [
        {
          "output_type": "stream",
          "text": [
            "통과\n"
          ],
          "name": "stdout"
        }
      ]
    },
    {
      "cell_type": "markdown",
      "metadata": {
        "id": "FgiQdO2Gj_4f"
      },
      "source": [
        "## 2. 알고리즘 함수 만들기\n",
        "몇 가지 간단한 알고리즘 함수를 만들어보자.\n",
        "\n",
        "### 2-1. 피보나치 수열 만들기\n",
        "숫자 $N$가 주어졌을때,다피보나치 길이 $N$의 피보나치 수열을 생성하는 함수를 작성해보자. 시작은 1부터다."
      ]
    },
    {
      "cell_type": "code",
      "metadata": {
        "id": "SathO3raj_4f",
        "colab": {
          "base_uri": "https://localhost:8080/"
        },
        "outputId": "f7bc670f-cf93-439b-bd23-2c9878640d2d"
      },
      "source": [
        "def fibonacci(number):\n",
        "    \n",
        "    if number == 1:\n",
        "        return [1]\n",
        "\n",
        "    if number == 2:\n",
        "        return [1, 1]\n",
        "\n",
        "    f = [1, 1]\n",
        "\n",
        "    while len(f) < number:\n",
        "        f_n = f[-1] + f[-2]\n",
        "        f.append(f_n)\n",
        "\n",
        "    return f\n",
        "\n",
        "assert list(fibonacci(10)) == [1, 1, 2, 3, 5, 8, 13, 21, 34, 55]\n",
        "assert sum(fibonacci(5)) == 12\n",
        "print(\"통과\") "
      ],
      "execution_count": 13,
      "outputs": [
        {
          "output_type": "stream",
          "text": [
            "통과\n"
          ],
          "name": "stdout"
        }
      ]
    },
    {
      "cell_type": "markdown",
      "metadata": {
        "id": "qbdm9l5pj_4f"
      },
      "source": [
        "### 2-2. 순열 만들기\n",
        "수열 $S$가 주어졌을때 그 안에서 $N$를 뽑아 순열을 만드는 함수를 작성해보자. 순서는 상관없다. \\\n",
        "(힌트: 재귀 함수를 써보자)"
      ]
    },
    {
      "cell_type": "code",
      "metadata": {
        "id": "r9qXLBcXj_4f",
        "colab": {
          "base_uri": "https://localhost:8080/"
        },
        "outputId": "80d01c9e-6ff9-4b44-cd19-ff7c7a70a41b"
      },
      "source": [
        "def my_permutations(seq, number):\n",
        "\n",
        "    if len(seq) == 0:\n",
        "        return tuple()\n",
        "\n",
        "    if len(seq) == 1:\n",
        "        return (seq,)\n",
        "\n",
        "    l = [] \n",
        "\n",
        "    for i in range(len(seq)):\n",
        "\n",
        "        m = seq[i]\n",
        "        remLst = seq[:i] + seq[i+1:]\n",
        "\n",
        "        for p in my_permutations(remLst, number-1):\n",
        "            l.append((m,) + tuple(p))\n",
        "\n",
        "    return [i[:number] for i in l]\n",
        "\n",
        "from itertools import permutations\n",
        "test = [1, 2, 3, 4]\n",
        "\n",
        "assert set(permutations(test, 2)) == set(my_permutations(test, 2)) \\\n",
        "   and set(permutations(test, 3)) == set(my_permutations(test, 3))\n",
        "print(\"통과\") "
      ],
      "execution_count": 14,
      "outputs": [
        {
          "output_type": "stream",
          "text": [
            "통과\n"
          ],
          "name": "stdout"
        }
      ]
    },
    {
      "cell_type": "markdown",
      "metadata": {
        "id": "laEqDZNsj_4g"
      },
      "source": [
        "### 2-3. 조합 만들기\n",
        "수열 $S$가 주어졌을때 그 안에서 $N$를 뽑아 조합을 만드는 함수를 작성해보자. 순서는 상관없다. \\\n",
        "(힌트: 재귀 함수를 써보자)"
      ]
    },
    {
      "cell_type": "code",
      "metadata": {
        "id": "CJer6T7Nj_4g",
        "colab": {
          "base_uri": "https://localhost:8080/"
        },
        "outputId": "8962d95b-e893-4f33-d748-6b9003f9eaef"
      },
      "source": [
        "def my_combinations(seq, number):\n",
        "\n",
        "    if len(seq) == 0:\n",
        "        return tuple()\n",
        "\n",
        "    if len(seq) == 1:\n",
        "        return (seq,)\n",
        "\n",
        "    l = [] \n",
        "\n",
        "    for i in range(len(seq)):\n",
        "\n",
        "        m = seq[i]\n",
        "        remLst = seq[:i] + seq[i+1:]\n",
        "\n",
        "        for p in my_combinations(remLst, number-1):\n",
        "            l.append((m,) + tuple(p))\n",
        "\n",
        "    return list(set([tuple(set(i[:number])) for i in l]))\n",
        "\n",
        "from itertools import combinations\n",
        "test = [1, 2, 3, 4]\n",
        "\n",
        "assert set(combinations(test, 2)) == set(my_combinations(test, 2)) \\\n",
        "   and set(combinations(test, 3)) == set(my_combinations(test, 3))\n",
        "print(\"통과\") "
      ],
      "execution_count": 15,
      "outputs": [
        {
          "output_type": "stream",
          "text": [
            "통과\n"
          ],
          "name": "stdout"
        }
      ]
    }
  ]
}